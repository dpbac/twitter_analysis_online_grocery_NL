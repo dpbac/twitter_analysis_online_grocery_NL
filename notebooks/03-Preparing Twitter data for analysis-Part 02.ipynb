{
 "cells": [
  {
   "cell_type": "markdown",
   "metadata": {
    "toc": true
   },
   "source": [
    "<h1>Table of Contents<span class=\"tocSkip\"></span></h1>\n",
    "<div class=\"toc\"><ul class=\"toc-item\"><li><span><a href=\"#Introduction\" data-toc-modified-id=\"Introduction-1\"><span class=\"toc-item-num\">1&nbsp;&nbsp;</span>Introduction</a></span></li><li><span><a href=\"#Load-Packages\" data-toc-modified-id=\"Load-Packages-2\"><span class=\"toc-item-num\">2&nbsp;&nbsp;</span>Load Packages</a></span></li><li><span><a href=\"#User-Timeline-Tweet-Data\" data-toc-modified-id=\"User-Timeline-Tweet-Data-3\"><span class=\"toc-item-num\">3&nbsp;&nbsp;</span>User Timeline Tweet Data</a></span><ul class=\"toc-item\"><li><span><a href=\"#Load-User-Timeline-Data\" data-toc-modified-id=\"Load-User-Timeline-Data-3.1\"><span class=\"toc-item-num\">3.1&nbsp;&nbsp;</span>Load User Timeline Data</a></span></li><li><span><a href=\"#Pre-processing\" data-toc-modified-id=\"Pre-processing-3.2\"><span class=\"toc-item-num\">3.2&nbsp;&nbsp;</span>Pre-processing</a></span><ul class=\"toc-item\"><li><span><a href=\"#@albertheijn\" data-toc-modified-id=\"@albertheijn-3.2.1\"><span class=\"toc-item-num\">3.2.1&nbsp;&nbsp;</span>@albertheijn</a></span></li><li><span><a href=\"#@JumboSupermarkten\" data-toc-modified-id=\"@JumboSupermarkten-3.2.2\"><span class=\"toc-item-num\">3.2.2&nbsp;&nbsp;</span>@JumboSupermarkten</a></span></li><li><span><a href=\"#@picnic\" data-toc-modified-id=\"@picnic-3.2.3\"><span class=\"toc-item-num\">3.2.3&nbsp;&nbsp;</span>@picnic</a></span></li></ul></li><li><span><a href=\"#Selecting-features\" data-toc-modified-id=\"Selecting-features-3.3\"><span class=\"toc-item-num\">3.3&nbsp;&nbsp;</span>Selecting features</a></span></li><li><span><a href=\"#Concatenating-Data-within-period-March-30th-and-June-24th\" data-toc-modified-id=\"Concatenating-Data-within-period-March-30th-and-June-24th-3.4\"><span class=\"toc-item-num\">3.4&nbsp;&nbsp;</span>Concatenating Data within period March 30th and June 24th</a></span><ul class=\"toc-item\"><li><span><a href=\"#Cleaning-hashtags-and-source-info\" data-toc-modified-id=\"Cleaning-hashtags-and-source-info-3.4.1\"><span class=\"toc-item-num\">3.4.1&nbsp;&nbsp;</span>Cleaning hashtags and source info</a></span></li></ul></li><li><span><a href=\"#Analysing-Language-of-all-Tweets\" data-toc-modified-id=\"Analysing-Language-of-all-Tweets-3.5\"><span class=\"toc-item-num\">3.5&nbsp;&nbsp;</span>Analysing Language of all Tweets</a></span></li><li><span><a href=\"#Cleaning-Tweets\" data-toc-modified-id=\"Cleaning-Tweets-3.6\"><span class=\"toc-item-num\">3.6&nbsp;&nbsp;</span>Cleaning Tweets</a></span></li></ul></li><li><span><a href=\"#Calculating-Sentiment\" data-toc-modified-id=\"Calculating-Sentiment-4\"><span class=\"toc-item-num\">4&nbsp;&nbsp;</span>Calculating Sentiment</a></span></li></ul></div>"
   ]
  },
  {
   "cell_type": "markdown",
   "metadata": {},
   "source": [
    "# Introduction\n",
    "\n",
    "We continue here with some cleaning and data manipulation in order to have the data ready for our analysis.\n",
    "\n",
    "In this notebook we will:\n",
    "\n",
    "1. **[Load data](#Load-User-Timeline-Data)**\n",
    "2. **[Select interesting features for our analysis](#Pre-processing)**\n",
    "3. **[Concatenate data](#Concatenating-Data-within-period-March-30th-and-June-24th)**\n",
    "4. **[Perform analysis over languages present in our data and decide how to deal with it](#Analysing-Language-of-all-Tweets)**\n",
    "5. **[Clean text for sentiment analysis](#Cleaning-Tweets)**\n",
    "6. **[Create features that measure sentiment](#Calculating-Sentiment)**"
   ]
  },
  {
   "cell_type": "markdown",
   "metadata": {},
   "source": [
    "# Load Packages"
   ]
  },
  {
   "cell_type": "code",
   "execution_count": 1,
   "metadata": {},
   "outputs": [],
   "source": [
    "import pandas as pd\n",
    "import numpy as np\n",
    "import matplotlib.pyplot as plt\n",
    "import seaborn as sns\n",
    "import datetime\n",
    "import time\n",
    "import ast \n",
    "import lxml.html\n",
    "import re\n",
    "import unicodedata\n",
    "from bs4 import BeautifulSoup\n",
    "import string\n",
    "import unicodedata\n",
    "from unidecode import unidecode\n",
    "from bs4 import BeautifulSoup\n",
    "from html import unescape\n",
    "import spacy # fast NLP\n",
    "# import spacy module for Dutch language\n",
    "nlp_nl = spacy.load('nl_core_news_sm')\n",
    "from textblob import TextBlob\n",
    "from textblob_nl import PatternAnalyzer\n",
    "    \n",
    "\n",
    "\n",
    "TodaysDate = time.strftime(\"%Y-%m-%d\")"
   ]
  },
  {
   "cell_type": "markdown",
   "metadata": {},
   "source": [
    "# User Timeline Tweet Data\n",
    "\n",
    "In this section we handle Tweets collected from @albertijn, @JumboSupermarkt, and @picnic in the period that goes from `March 30th, 2020` until `June 24th, 2020`.\n",
    "\n",
    "## Load User Timeline Data"
   ]
  },
  {
   "cell_type": "code",
   "execution_count": 2,
   "metadata": {},
   "outputs": [],
   "source": [
    "# loading the combined data of AH (retrieved 16/06 and 24/06) \n",
    "\n",
    "df_ah = pd.read_csv(\"../data/processed/AH_concat_16_and_24_June_2020-06-26.csv\")\n",
    "\n",
    "# loading the most recent data\n",
    "\n",
    "df_jumbo = pd.read_csv(\"../data/tweets/JumboSupermarkt_2020-06-24-17-08.csv\")\n",
    "\n",
    "df_picnic = pd.read_csv(\"../data/tweets/picnic_2020-06-24-17-06.csv\")"
   ]
  },
  {
   "cell_type": "markdown",
   "metadata": {},
   "source": [
    "## Pre-processing \n",
    "\n",
    "This includes basically setting data from @JumboSupermarketen and @picnic in the same timeline as @ah and select interesting features for our analysis."
   ]
  },
  {
   "cell_type": "markdown",
   "metadata": {},
   "source": [
    "### @albertheijn"
   ]
  },
  {
   "cell_type": "code",
   "execution_count": 3,
   "metadata": {
    "scrolled": false
   },
   "outputs": [
    {
     "data": {
      "text/html": [
       "<div>\n",
       "<style scoped>\n",
       "    .dataframe tbody tr th:only-of-type {\n",
       "        vertical-align: middle;\n",
       "    }\n",
       "\n",
       "    .dataframe tbody tr th {\n",
       "        vertical-align: top;\n",
       "    }\n",
       "\n",
       "    .dataframe thead th {\n",
       "        text-align: right;\n",
       "    }\n",
       "</style>\n",
       "<table border=\"1\" class=\"dataframe\">\n",
       "  <thead>\n",
       "    <tr style=\"text-align: right;\">\n",
       "      <th></th>\n",
       "      <th>mined_at</th>\n",
       "      <th>screen_name</th>\n",
       "      <th>tweet_id</th>\n",
       "      <th>tweet_id_str</th>\n",
       "      <th>created_at</th>\n",
       "      <th>year</th>\n",
       "      <th>month</th>\n",
       "      <th>day</th>\n",
       "      <th>day_of_week</th>\n",
       "      <th>hour</th>\n",
       "      <th>...</th>\n",
       "      <th>retweet_count</th>\n",
       "      <th>source</th>\n",
       "      <th>text</th>\n",
       "      <th>language</th>\n",
       "      <th>favorite_count</th>\n",
       "      <th>hashtags</th>\n",
       "      <th>urls</th>\n",
       "      <th>user_favourites_count</th>\n",
       "      <th>followers_count</th>\n",
       "      <th>friends_count</th>\n",
       "    </tr>\n",
       "  </thead>\n",
       "  <tbody>\n",
       "    <tr>\n",
       "      <th>0</th>\n",
       "      <td>2020-06-16 21:58:04.280117</td>\n",
       "      <td>albertheijn</td>\n",
       "      <td>1244535843135672326</td>\n",
       "      <td>1244535843135672326</td>\n",
       "      <td>2020-03-30 08:04:02+00:00</td>\n",
       "      <td>2020</td>\n",
       "      <td>3</td>\n",
       "      <td>30</td>\n",
       "      <td>0</td>\n",
       "      <td>8</td>\n",
       "      <td>...</td>\n",
       "      <td>0</td>\n",
       "      <td>&lt;a href=\"https://www.tracebuzz.com\" rel=\"nofol...</td>\n",
       "      <td>@derots Voorraad is er genoeg, het is voor ons...</td>\n",
       "      <td>nl</td>\n",
       "      <td>NaN</td>\n",
       "      <td>NaN</td>\n",
       "      <td>NaN</td>\n",
       "      <td>NaN</td>\n",
       "      <td>NaN</td>\n",
       "      <td>NaN</td>\n",
       "    </tr>\n",
       "    <tr>\n",
       "      <th>1</th>\n",
       "      <td>2020-06-16 21:58:04.280117</td>\n",
       "      <td>albertheijn</td>\n",
       "      <td>1244538454890987523</td>\n",
       "      <td>1244538454890987523</td>\n",
       "      <td>2020-03-30 08:14:24+00:00</td>\n",
       "      <td>2020</td>\n",
       "      <td>3</td>\n",
       "      <td>30</td>\n",
       "      <td>0</td>\n",
       "      <td>8</td>\n",
       "      <td>...</td>\n",
       "      <td>0</td>\n",
       "      <td>&lt;a href=\"https://www.tracebuzz.com\" rel=\"nofol...</td>\n",
       "      <td>@MoniquevDBurgh We doen er alles aan om zoveel...</td>\n",
       "      <td>nl</td>\n",
       "      <td>NaN</td>\n",
       "      <td>NaN</td>\n",
       "      <td>NaN</td>\n",
       "      <td>NaN</td>\n",
       "      <td>NaN</td>\n",
       "      <td>NaN</td>\n",
       "    </tr>\n",
       "  </tbody>\n",
       "</table>\n",
       "<p>2 rows × 21 columns</p>\n",
       "</div>"
      ],
      "text/plain": [
       "                     mined_at  screen_name             tweet_id  \\\n",
       "0  2020-06-16 21:58:04.280117  albertheijn  1244535843135672326   \n",
       "1  2020-06-16 21:58:04.280117  albertheijn  1244538454890987523   \n",
       "\n",
       "          tweet_id_str                 created_at  year  month  day  \\\n",
       "0  1244535843135672326  2020-03-30 08:04:02+00:00  2020      3   30   \n",
       "1  1244538454890987523  2020-03-30 08:14:24+00:00  2020      3   30   \n",
       "\n",
       "   day_of_week  hour  ...  retweet_count  \\\n",
       "0            0     8  ...              0   \n",
       "1            0     8  ...              0   \n",
       "\n",
       "                                              source  \\\n",
       "0  <a href=\"https://www.tracebuzz.com\" rel=\"nofol...   \n",
       "1  <a href=\"https://www.tracebuzz.com\" rel=\"nofol...   \n",
       "\n",
       "                                                text language favorite_count  \\\n",
       "0  @derots Voorraad is er genoeg, het is voor ons...       nl            NaN   \n",
       "1  @MoniquevDBurgh We doen er alles aan om zoveel...       nl            NaN   \n",
       "\n",
       "   hashtags urls user_favourites_count  followers_count  friends_count  \n",
       "0       NaN  NaN                   NaN              NaN            NaN  \n",
       "1       NaN  NaN                   NaN              NaN            NaN  \n",
       "\n",
       "[2 rows x 21 columns]"
      ]
     },
     "execution_count": 3,
     "metadata": {},
     "output_type": "execute_result"
    }
   ],
   "source": [
    "df_ah.head(2)"
   ]
  },
  {
   "cell_type": "code",
   "execution_count": 4,
   "metadata": {},
   "outputs": [
    {
     "data": {
      "text/html": [
       "<div>\n",
       "<style scoped>\n",
       "    .dataframe tbody tr th:only-of-type {\n",
       "        vertical-align: middle;\n",
       "    }\n",
       "\n",
       "    .dataframe tbody tr th {\n",
       "        vertical-align: top;\n",
       "    }\n",
       "\n",
       "    .dataframe thead th {\n",
       "        text-align: right;\n",
       "    }\n",
       "</style>\n",
       "<table border=\"1\" class=\"dataframe\">\n",
       "  <thead>\n",
       "    <tr style=\"text-align: right;\">\n",
       "      <th></th>\n",
       "      <th>mined_at</th>\n",
       "      <th>screen_name</th>\n",
       "      <th>tweet_id</th>\n",
       "      <th>tweet_id_str</th>\n",
       "      <th>created_at</th>\n",
       "      <th>year</th>\n",
       "      <th>month</th>\n",
       "      <th>day</th>\n",
       "      <th>day_of_week</th>\n",
       "      <th>hour</th>\n",
       "      <th>...</th>\n",
       "      <th>retweet_count</th>\n",
       "      <th>source</th>\n",
       "      <th>text</th>\n",
       "      <th>language</th>\n",
       "      <th>favorite_count</th>\n",
       "      <th>hashtags</th>\n",
       "      <th>urls</th>\n",
       "      <th>user_favourites_count</th>\n",
       "      <th>followers_count</th>\n",
       "      <th>friends_count</th>\n",
       "    </tr>\n",
       "  </thead>\n",
       "  <tbody>\n",
       "    <tr>\n",
       "      <th>3480</th>\n",
       "      <td>2020-06-24 17:10:38.375439</td>\n",
       "      <td>albertheijn</td>\n",
       "      <td>1275800040687239170</td>\n",
       "      <td>1275800040687239170</td>\n",
       "      <td>2020-06-24 14:36:47+00:00</td>\n",
       "      <td>2020</td>\n",
       "      <td>6</td>\n",
       "      <td>24</td>\n",
       "      <td>2</td>\n",
       "      <td>14</td>\n",
       "      <td>...</td>\n",
       "      <td>0</td>\n",
       "      <td>&lt;a href=\"https://www.tracebuzz.com\" rel=\"nofol...</td>\n",
       "      <td>@marzman95 Hi! Je kan deze zegels combineren. ...</td>\n",
       "      <td>nl</td>\n",
       "      <td>NaN</td>\n",
       "      <td>[]</td>\n",
       "      <td>[]</td>\n",
       "      <td>580.0</td>\n",
       "      <td>45540.0</td>\n",
       "      <td>6.0</td>\n",
       "    </tr>\n",
       "    <tr>\n",
       "      <th>3481</th>\n",
       "      <td>2020-06-24 17:10:38.375439</td>\n",
       "      <td>albertheijn</td>\n",
       "      <td>1275807617395372034</td>\n",
       "      <td>1275807617395372034</td>\n",
       "      <td>2020-06-24 15:06:54+00:00</td>\n",
       "      <td>2020</td>\n",
       "      <td>6</td>\n",
       "      <td>24</td>\n",
       "      <td>2</td>\n",
       "      <td>15</td>\n",
       "      <td>...</td>\n",
       "      <td>0</td>\n",
       "      <td>&lt;a href=\"https://www.tracebuzz.com\" rel=\"nofol...</td>\n",
       "      <td>@Tiezzymeister Hi, ik heb even voor je gekeken...</td>\n",
       "      <td>nl</td>\n",
       "      <td>NaN</td>\n",
       "      <td>[]</td>\n",
       "      <td>[]</td>\n",
       "      <td>580.0</td>\n",
       "      <td>45540.0</td>\n",
       "      <td>6.0</td>\n",
       "    </tr>\n",
       "  </tbody>\n",
       "</table>\n",
       "<p>2 rows × 21 columns</p>\n",
       "</div>"
      ],
      "text/plain": [
       "                        mined_at  screen_name             tweet_id  \\\n",
       "3480  2020-06-24 17:10:38.375439  albertheijn  1275800040687239170   \n",
       "3481  2020-06-24 17:10:38.375439  albertheijn  1275807617395372034   \n",
       "\n",
       "             tweet_id_str                 created_at  year  month  day  \\\n",
       "3480  1275800040687239170  2020-06-24 14:36:47+00:00  2020      6   24   \n",
       "3481  1275807617395372034  2020-06-24 15:06:54+00:00  2020      6   24   \n",
       "\n",
       "      day_of_week  hour  ...  retweet_count  \\\n",
       "3480            2    14  ...              0   \n",
       "3481            2    15  ...              0   \n",
       "\n",
       "                                                 source  \\\n",
       "3480  <a href=\"https://www.tracebuzz.com\" rel=\"nofol...   \n",
       "3481  <a href=\"https://www.tracebuzz.com\" rel=\"nofol...   \n",
       "\n",
       "                                                   text language  \\\n",
       "3480  @marzman95 Hi! Je kan deze zegels combineren. ...       nl   \n",
       "3481  @Tiezzymeister Hi, ik heb even voor je gekeken...       nl   \n",
       "\n",
       "     favorite_count  hashtags urls user_favourites_count  followers_count  \\\n",
       "3480            NaN        []   []                 580.0          45540.0   \n",
       "3481            NaN        []   []                 580.0          45540.0   \n",
       "\n",
       "      friends_count  \n",
       "3480            6.0  \n",
       "3481            6.0  \n",
       "\n",
       "[2 rows x 21 columns]"
      ]
     },
     "execution_count": 4,
     "metadata": {},
     "output_type": "execute_result"
    }
   ],
   "source": [
    "df_ah.tail(2)"
   ]
  },
  {
   "cell_type": "code",
   "execution_count": 5,
   "metadata": {},
   "outputs": [
    {
     "name": "stdout",
     "output_type": "stream",
     "text": [
      "<class 'pandas.core.frame.DataFrame'>\n",
      "RangeIndex: 3482 entries, 0 to 3481\n",
      "Data columns (total 21 columns):\n",
      " #   Column                 Non-Null Count  Dtype  \n",
      "---  ------                 --------------  -----  \n",
      " 0   mined_at               3482 non-null   object \n",
      " 1   screen_name            3482 non-null   object \n",
      " 2   tweet_id               3482 non-null   int64  \n",
      " 3   tweet_id_str           3482 non-null   int64  \n",
      " 4   created_at             3482 non-null   object \n",
      " 5   year                   3482 non-null   int64  \n",
      " 6   month                  3482 non-null   int64  \n",
      " 7   day                    3482 non-null   int64  \n",
      " 8   day_of_week            3482 non-null   int64  \n",
      " 9   hour                   3482 non-null   int64  \n",
      " 10  minute                 3482 non-null   int64  \n",
      " 11  retweet_count          3482 non-null   int64  \n",
      " 12  source                 3482 non-null   object \n",
      " 13  text                   3482 non-null   object \n",
      " 14  language               3482 non-null   object \n",
      " 15  favorite_count         26 non-null     float64\n",
      " 16  hashtags               3227 non-null   object \n",
      " 17  urls                   3227 non-null   object \n",
      " 18  user_favourites_count  3227 non-null   float64\n",
      " 19  followers_count        3227 non-null   float64\n",
      " 20  friends_count          3227 non-null   float64\n",
      "dtypes: float64(4), int64(9), object(8)\n",
      "memory usage: 571.4+ KB\n"
     ]
    }
   ],
   "source": [
    "df_ah.info()"
   ]
  },
  {
   "cell_type": "markdown",
   "metadata": {},
   "source": [
    "### @JumboSupermarkten"
   ]
  },
  {
   "cell_type": "code",
   "execution_count": 6,
   "metadata": {
    "scrolled": true
   },
   "outputs": [
    {
     "data": {
      "text/html": [
       "<div>\n",
       "<style scoped>\n",
       "    .dataframe tbody tr th:only-of-type {\n",
       "        vertical-align: middle;\n",
       "    }\n",
       "\n",
       "    .dataframe tbody tr th {\n",
       "        vertical-align: top;\n",
       "    }\n",
       "\n",
       "    .dataframe thead th {\n",
       "        text-align: right;\n",
       "    }\n",
       "</style>\n",
       "<table border=\"1\" class=\"dataframe\">\n",
       "  <thead>\n",
       "    <tr style=\"text-align: right;\">\n",
       "      <th></th>\n",
       "      <th>mined_at</th>\n",
       "      <th>created_at</th>\n",
       "      <th>year</th>\n",
       "      <th>month</th>\n",
       "      <th>day</th>\n",
       "      <th>day_of_week</th>\n",
       "      <th>hour</th>\n",
       "      <th>minute</th>\n",
       "      <th>screen_name</th>\n",
       "      <th>tweet_id</th>\n",
       "      <th>...</th>\n",
       "      <th>retweet_count</th>\n",
       "      <th>favorite_count</th>\n",
       "      <th>source</th>\n",
       "      <th>hashtags</th>\n",
       "      <th>urls</th>\n",
       "      <th>language</th>\n",
       "      <th>user_favourites_count</th>\n",
       "      <th>followers_count</th>\n",
       "      <th>friends_count</th>\n",
       "      <th>text</th>\n",
       "    </tr>\n",
       "  </thead>\n",
       "  <tbody>\n",
       "    <tr>\n",
       "      <th>0</th>\n",
       "      <td>2020-06-24 17:08:19.104773</td>\n",
       "      <td>2020-03-10 07:06:47+00:00</td>\n",
       "      <td>2020</td>\n",
       "      <td>3</td>\n",
       "      <td>10</td>\n",
       "      <td>1</td>\n",
       "      <td>7</td>\n",
       "      <td>6</td>\n",
       "      <td>JumboSupermarkt</td>\n",
       "      <td>1237273680134144000</td>\n",
       "      <td>...</td>\n",
       "      <td>0</td>\n",
       "      <td>NaN</td>\n",
       "      <td>&lt;a href=\"http://www.salesforce.com\" rel=\"nofol...</td>\n",
       "      <td>[]</td>\n",
       "      <td>[]</td>\n",
       "      <td>nl</td>\n",
       "      <td>3767</td>\n",
       "      <td>16208</td>\n",
       "      <td>1710</td>\n",
       "      <td>@liefsliss Hallo,dank je wel voor je oplettend...</td>\n",
       "    </tr>\n",
       "    <tr>\n",
       "      <th>1</th>\n",
       "      <td>2020-06-24 17:08:19.104773</td>\n",
       "      <td>2020-03-10 07:07:30+00:00</td>\n",
       "      <td>2020</td>\n",
       "      <td>3</td>\n",
       "      <td>10</td>\n",
       "      <td>1</td>\n",
       "      <td>7</td>\n",
       "      <td>7</td>\n",
       "      <td>JumboSupermarkt</td>\n",
       "      <td>1237273859163926529</td>\n",
       "      <td>...</td>\n",
       "      <td>0</td>\n",
       "      <td>NaN</td>\n",
       "      <td>&lt;a href=\"http://www.salesforce.com\" rel=\"nofol...</td>\n",
       "      <td>[]</td>\n",
       "      <td>[]</td>\n",
       "      <td>nl</td>\n",
       "      <td>3767</td>\n",
       "      <td>16208</td>\n",
       "      <td>1710</td>\n",
       "      <td>@brtlvrs Je kunt niet sparen op actieproducten...</td>\n",
       "    </tr>\n",
       "  </tbody>\n",
       "</table>\n",
       "<p>2 rows × 21 columns</p>\n",
       "</div>"
      ],
      "text/plain": [
       "                     mined_at                 created_at  year  month  day  \\\n",
       "0  2020-06-24 17:08:19.104773  2020-03-10 07:06:47+00:00  2020      3   10   \n",
       "1  2020-06-24 17:08:19.104773  2020-03-10 07:07:30+00:00  2020      3   10   \n",
       "\n",
       "   day_of_week  hour  minute      screen_name             tweet_id  ...  \\\n",
       "0            1     7       6  JumboSupermarkt  1237273680134144000  ...   \n",
       "1            1     7       7  JumboSupermarkt  1237273859163926529  ...   \n",
       "\n",
       "   retweet_count  favorite_count  \\\n",
       "0              0             NaN   \n",
       "1              0             NaN   \n",
       "\n",
       "                                              source hashtags urls language  \\\n",
       "0  <a href=\"http://www.salesforce.com\" rel=\"nofol...       []   []       nl   \n",
       "1  <a href=\"http://www.salesforce.com\" rel=\"nofol...       []   []       nl   \n",
       "\n",
       "  user_favourites_count  followers_count  friends_count  \\\n",
       "0                  3767            16208           1710   \n",
       "1                  3767            16208           1710   \n",
       "\n",
       "                                                text  \n",
       "0  @liefsliss Hallo,dank je wel voor je oplettend...  \n",
       "1  @brtlvrs Je kunt niet sparen op actieproducten...  \n",
       "\n",
       "[2 rows x 21 columns]"
      ]
     },
     "execution_count": 6,
     "metadata": {},
     "output_type": "execute_result"
    }
   ],
   "source": [
    "df_jumbo.head(2)"
   ]
  },
  {
   "cell_type": "code",
   "execution_count": 7,
   "metadata": {},
   "outputs": [
    {
     "data": {
      "text/html": [
       "<div>\n",
       "<style scoped>\n",
       "    .dataframe tbody tr th:only-of-type {\n",
       "        vertical-align: middle;\n",
       "    }\n",
       "\n",
       "    .dataframe tbody tr th {\n",
       "        vertical-align: top;\n",
       "    }\n",
       "\n",
       "    .dataframe thead th {\n",
       "        text-align: right;\n",
       "    }\n",
       "</style>\n",
       "<table border=\"1\" class=\"dataframe\">\n",
       "  <thead>\n",
       "    <tr style=\"text-align: right;\">\n",
       "      <th></th>\n",
       "      <th>mined_at</th>\n",
       "      <th>created_at</th>\n",
       "      <th>year</th>\n",
       "      <th>month</th>\n",
       "      <th>day</th>\n",
       "      <th>day_of_week</th>\n",
       "      <th>hour</th>\n",
       "      <th>minute</th>\n",
       "      <th>screen_name</th>\n",
       "      <th>tweet_id</th>\n",
       "      <th>...</th>\n",
       "      <th>retweet_count</th>\n",
       "      <th>favorite_count</th>\n",
       "      <th>source</th>\n",
       "      <th>hashtags</th>\n",
       "      <th>urls</th>\n",
       "      <th>language</th>\n",
       "      <th>user_favourites_count</th>\n",
       "      <th>followers_count</th>\n",
       "      <th>friends_count</th>\n",
       "      <th>text</th>\n",
       "    </tr>\n",
       "  </thead>\n",
       "  <tbody>\n",
       "    <tr>\n",
       "      <th>3236</th>\n",
       "      <td>2020-06-24 17:08:14.385115</td>\n",
       "      <td>2020-06-24 13:04:43+00:00</td>\n",
       "      <td>2020</td>\n",
       "      <td>6</td>\n",
       "      <td>24</td>\n",
       "      <td>2</td>\n",
       "      <td>13</td>\n",
       "      <td>4</td>\n",
       "      <td>JumboSupermarkt</td>\n",
       "      <td>1275776871951728640</td>\n",
       "      <td>...</td>\n",
       "      <td>0</td>\n",
       "      <td>NaN</td>\n",
       "      <td>&lt;a href=\"https://mobile.twitter.com\" rel=\"nofo...</td>\n",
       "      <td>[{'text': 'hallojumbo'}]</td>\n",
       "      <td>[{'expanded_url': 'https://nieuws.jumbo.com/pe...</td>\n",
       "      <td>nl</td>\n",
       "      <td>3767</td>\n",
       "      <td>16208</td>\n",
       "      <td>1710</td>\n",
       "      <td>Jumbo België opent vierde winkel in Vlaanderen...</td>\n",
       "    </tr>\n",
       "    <tr>\n",
       "      <th>3237</th>\n",
       "      <td>2020-06-24 17:08:14.385115</td>\n",
       "      <td>2020-06-24 13:56:42+00:00</td>\n",
       "      <td>2020</td>\n",
       "      <td>6</td>\n",
       "      <td>24</td>\n",
       "      <td>2</td>\n",
       "      <td>13</td>\n",
       "      <td>56</td>\n",
       "      <td>JumboSupermarkt</td>\n",
       "      <td>1275789954862514177</td>\n",
       "      <td>...</td>\n",
       "      <td>0</td>\n",
       "      <td>NaN</td>\n",
       "      <td>&lt;a href=\"https://mobile.twitter.com\" rel=\"nofo...</td>\n",
       "      <td>[]</td>\n",
       "      <td>[]</td>\n",
       "      <td>nl</td>\n",
       "      <td>3767</td>\n",
       "      <td>16208</td>\n",
       "      <td>1710</td>\n",
       "      <td>@jaantje75 Hallo, we zien dat je bericht er tu...</td>\n",
       "    </tr>\n",
       "  </tbody>\n",
       "</table>\n",
       "<p>2 rows × 21 columns</p>\n",
       "</div>"
      ],
      "text/plain": [
       "                        mined_at                 created_at  year  month  day  \\\n",
       "3236  2020-06-24 17:08:14.385115  2020-06-24 13:04:43+00:00  2020      6   24   \n",
       "3237  2020-06-24 17:08:14.385115  2020-06-24 13:56:42+00:00  2020      6   24   \n",
       "\n",
       "      day_of_week  hour  minute      screen_name             tweet_id  ...  \\\n",
       "3236            2    13       4  JumboSupermarkt  1275776871951728640  ...   \n",
       "3237            2    13      56  JumboSupermarkt  1275789954862514177  ...   \n",
       "\n",
       "      retweet_count  favorite_count  \\\n",
       "3236              0             NaN   \n",
       "3237              0             NaN   \n",
       "\n",
       "                                                 source  \\\n",
       "3236  <a href=\"https://mobile.twitter.com\" rel=\"nofo...   \n",
       "3237  <a href=\"https://mobile.twitter.com\" rel=\"nofo...   \n",
       "\n",
       "                      hashtags  \\\n",
       "3236  [{'text': 'hallojumbo'}]   \n",
       "3237                        []   \n",
       "\n",
       "                                                   urls language  \\\n",
       "3236  [{'expanded_url': 'https://nieuws.jumbo.com/pe...       nl   \n",
       "3237                                                 []       nl   \n",
       "\n",
       "     user_favourites_count  followers_count  friends_count  \\\n",
       "3236                  3767            16208           1710   \n",
       "3237                  3767            16208           1710   \n",
       "\n",
       "                                                   text  \n",
       "3236  Jumbo België opent vierde winkel in Vlaanderen...  \n",
       "3237  @jaantje75 Hallo, we zien dat je bericht er tu...  \n",
       "\n",
       "[2 rows x 21 columns]"
      ]
     },
     "execution_count": 7,
     "metadata": {},
     "output_type": "execute_result"
    }
   ],
   "source": [
    "df_jumbo.tail(2)"
   ]
  },
  {
   "cell_type": "code",
   "execution_count": 8,
   "metadata": {},
   "outputs": [
    {
     "name": "stdout",
     "output_type": "stream",
     "text": [
      "<class 'pandas.core.frame.DataFrame'>\n",
      "RangeIndex: 3238 entries, 0 to 3237\n",
      "Data columns (total 21 columns):\n",
      " #   Column                 Non-Null Count  Dtype  \n",
      "---  ------                 --------------  -----  \n",
      " 0   mined_at               3238 non-null   object \n",
      " 1   created_at             3238 non-null   object \n",
      " 2   year                   3238 non-null   int64  \n",
      " 3   month                  3238 non-null   int64  \n",
      " 4   day                    3238 non-null   int64  \n",
      " 5   day_of_week            3238 non-null   int64  \n",
      " 6   hour                   3238 non-null   int64  \n",
      " 7   minute                 3238 non-null   int64  \n",
      " 8   screen_name            3238 non-null   object \n",
      " 9   tweet_id               3238 non-null   int64  \n",
      " 10  tweet_id_str           3238 non-null   int64  \n",
      " 11  retweet_count          3238 non-null   int64  \n",
      " 12  favorite_count         15 non-null     float64\n",
      " 13  source                 3238 non-null   object \n",
      " 14  hashtags               3238 non-null   object \n",
      " 15  urls                   3238 non-null   object \n",
      " 16  language               3238 non-null   object \n",
      " 17  user_favourites_count  3238 non-null   int64  \n",
      " 18  followers_count        3238 non-null   int64  \n",
      " 19  friends_count          3238 non-null   int64  \n",
      " 20  text                   3238 non-null   object \n",
      "dtypes: float64(1), int64(12), object(8)\n",
      "memory usage: 531.4+ KB\n"
     ]
    }
   ],
   "source": [
    "df_jumbo.info()"
   ]
  },
  {
   "cell_type": "markdown",
   "metadata": {},
   "source": [
    "### @picnic"
   ]
  },
  {
   "cell_type": "code",
   "execution_count": 9,
   "metadata": {
    "scrolled": true
   },
   "outputs": [
    {
     "data": {
      "text/html": [
       "<div>\n",
       "<style scoped>\n",
       "    .dataframe tbody tr th:only-of-type {\n",
       "        vertical-align: middle;\n",
       "    }\n",
       "\n",
       "    .dataframe tbody tr th {\n",
       "        vertical-align: top;\n",
       "    }\n",
       "\n",
       "    .dataframe thead th {\n",
       "        text-align: right;\n",
       "    }\n",
       "</style>\n",
       "<table border=\"1\" class=\"dataframe\">\n",
       "  <thead>\n",
       "    <tr style=\"text-align: right;\">\n",
       "      <th></th>\n",
       "      <th>mined_at</th>\n",
       "      <th>created_at</th>\n",
       "      <th>year</th>\n",
       "      <th>month</th>\n",
       "      <th>day</th>\n",
       "      <th>day_of_week</th>\n",
       "      <th>hour</th>\n",
       "      <th>minute</th>\n",
       "      <th>screen_name</th>\n",
       "      <th>tweet_id</th>\n",
       "      <th>...</th>\n",
       "      <th>retweet_count</th>\n",
       "      <th>favorite_count</th>\n",
       "      <th>source</th>\n",
       "      <th>hashtags</th>\n",
       "      <th>urls</th>\n",
       "      <th>language</th>\n",
       "      <th>user_favourites_count</th>\n",
       "      <th>followers_count</th>\n",
       "      <th>friends_count</th>\n",
       "      <th>text</th>\n",
       "    </tr>\n",
       "  </thead>\n",
       "  <tbody>\n",
       "    <tr>\n",
       "      <th>0</th>\n",
       "      <td>2020-06-24 17:06:50.798338</td>\n",
       "      <td>2018-12-07 15:06:19+00:00</td>\n",
       "      <td>2018</td>\n",
       "      <td>12</td>\n",
       "      <td>7</td>\n",
       "      <td>4</td>\n",
       "      <td>15</td>\n",
       "      <td>6</td>\n",
       "      <td>picnic</td>\n",
       "      <td>1071058330003623936</td>\n",
       "      <td>...</td>\n",
       "      <td>0</td>\n",
       "      <td>NaN</td>\n",
       "      <td>&lt;a href=\"http://twitter.com\" rel=\"nofollow\"&gt;Tw...</td>\n",
       "      <td>[]</td>\n",
       "      <td>[]</td>\n",
       "      <td>nl</td>\n",
       "      <td>3885</td>\n",
       "      <td>4842</td>\n",
       "      <td>5</td>\n",
       "      <td>@MiriamKrooswijk Spannend Miriam! Laat ons eve...</td>\n",
       "    </tr>\n",
       "    <tr>\n",
       "      <th>1</th>\n",
       "      <td>2020-06-24 17:06:50.798338</td>\n",
       "      <td>2018-12-07 15:24:06+00:00</td>\n",
       "      <td>2018</td>\n",
       "      <td>12</td>\n",
       "      <td>7</td>\n",
       "      <td>4</td>\n",
       "      <td>15</td>\n",
       "      <td>24</td>\n",
       "      <td>picnic</td>\n",
       "      <td>1071062804998877184</td>\n",
       "      <td>...</td>\n",
       "      <td>0</td>\n",
       "      <td>NaN</td>\n",
       "      <td>&lt;a href=\"http://twitter.com\" rel=\"nofollow\"&gt;Tw...</td>\n",
       "      <td>[]</td>\n",
       "      <td>[]</td>\n",
       "      <td>nl</td>\n",
       "      <td>3885</td>\n",
       "      <td>4842</td>\n",
       "      <td>5</td>\n",
       "      <td>@MiriamKrooswijk Dat is balen zeg Miriam. Wij ...</td>\n",
       "    </tr>\n",
       "  </tbody>\n",
       "</table>\n",
       "<p>2 rows × 21 columns</p>\n",
       "</div>"
      ],
      "text/plain": [
       "                     mined_at                 created_at  year  month  day  \\\n",
       "0  2020-06-24 17:06:50.798338  2018-12-07 15:06:19+00:00  2018     12    7   \n",
       "1  2020-06-24 17:06:50.798338  2018-12-07 15:24:06+00:00  2018     12    7   \n",
       "\n",
       "   day_of_week  hour  minute screen_name             tweet_id  ...  \\\n",
       "0            4    15       6      picnic  1071058330003623936  ...   \n",
       "1            4    15      24      picnic  1071062804998877184  ...   \n",
       "\n",
       "   retweet_count  favorite_count  \\\n",
       "0              0             NaN   \n",
       "1              0             NaN   \n",
       "\n",
       "                                              source hashtags urls language  \\\n",
       "0  <a href=\"http://twitter.com\" rel=\"nofollow\">Tw...       []   []       nl   \n",
       "1  <a href=\"http://twitter.com\" rel=\"nofollow\">Tw...       []   []       nl   \n",
       "\n",
       "  user_favourites_count  followers_count  friends_count  \\\n",
       "0                  3885             4842              5   \n",
       "1                  3885             4842              5   \n",
       "\n",
       "                                                text  \n",
       "0  @MiriamKrooswijk Spannend Miriam! Laat ons eve...  \n",
       "1  @MiriamKrooswijk Dat is balen zeg Miriam. Wij ...  \n",
       "\n",
       "[2 rows x 21 columns]"
      ]
     },
     "execution_count": 9,
     "metadata": {},
     "output_type": "execute_result"
    }
   ],
   "source": [
    "df_picnic.head(2)"
   ]
  },
  {
   "cell_type": "code",
   "execution_count": 10,
   "metadata": {},
   "outputs": [
    {
     "data": {
      "text/html": [
       "<div>\n",
       "<style scoped>\n",
       "    .dataframe tbody tr th:only-of-type {\n",
       "        vertical-align: middle;\n",
       "    }\n",
       "\n",
       "    .dataframe tbody tr th {\n",
       "        vertical-align: top;\n",
       "    }\n",
       "\n",
       "    .dataframe thead th {\n",
       "        text-align: right;\n",
       "    }\n",
       "</style>\n",
       "<table border=\"1\" class=\"dataframe\">\n",
       "  <thead>\n",
       "    <tr style=\"text-align: right;\">\n",
       "      <th></th>\n",
       "      <th>mined_at</th>\n",
       "      <th>created_at</th>\n",
       "      <th>year</th>\n",
       "      <th>month</th>\n",
       "      <th>day</th>\n",
       "      <th>day_of_week</th>\n",
       "      <th>hour</th>\n",
       "      <th>minute</th>\n",
       "      <th>screen_name</th>\n",
       "      <th>tweet_id</th>\n",
       "      <th>...</th>\n",
       "      <th>retweet_count</th>\n",
       "      <th>favorite_count</th>\n",
       "      <th>source</th>\n",
       "      <th>hashtags</th>\n",
       "      <th>urls</th>\n",
       "      <th>language</th>\n",
       "      <th>user_favourites_count</th>\n",
       "      <th>followers_count</th>\n",
       "      <th>friends_count</th>\n",
       "      <th>text</th>\n",
       "    </tr>\n",
       "  </thead>\n",
       "  <tbody>\n",
       "    <tr>\n",
       "      <th>3227</th>\n",
       "      <td>2020-06-24 17:06:45.034704</td>\n",
       "      <td>2020-06-24 08:12:09+00:00</td>\n",
       "      <td>2020</td>\n",
       "      <td>6</td>\n",
       "      <td>24</td>\n",
       "      <td>2</td>\n",
       "      <td>8</td>\n",
       "      <td>12</td>\n",
       "      <td>picnic</td>\n",
       "      <td>1275703244707319808</td>\n",
       "      <td>...</td>\n",
       "      <td>0</td>\n",
       "      <td>NaN</td>\n",
       "      <td>&lt;a href=\"https://mobile.twitter.com\" rel=\"nofo...</td>\n",
       "      <td>[]</td>\n",
       "      <td>[]</td>\n",
       "      <td>nl</td>\n",
       "      <td>3885</td>\n",
       "      <td>4842</td>\n",
       "      <td>5</td>\n",
       "      <td>@Wouter_Kamp Door de coronacrisis stond de wac...</td>\n",
       "    </tr>\n",
       "    <tr>\n",
       "      <th>3228</th>\n",
       "      <td>2020-06-24 17:06:45.034704</td>\n",
       "      <td>2020-06-24 14:34:45+00:00</td>\n",
       "      <td>2020</td>\n",
       "      <td>6</td>\n",
       "      <td>24</td>\n",
       "      <td>2</td>\n",
       "      <td>14</td>\n",
       "      <td>34</td>\n",
       "      <td>picnic</td>\n",
       "      <td>1275799526717247493</td>\n",
       "      <td>...</td>\n",
       "      <td>0</td>\n",
       "      <td>NaN</td>\n",
       "      <td>&lt;a href=\"https://mobile.twitter.com\" rel=\"nofo...</td>\n",
       "      <td>[]</td>\n",
       "      <td>[]</td>\n",
       "      <td>nl</td>\n",
       "      <td>3885</td>\n",
       "      <td>4842</td>\n",
       "      <td>5</td>\n",
       "      <td>@RuudVeHa Ik stuur je even een privébericht zo...</td>\n",
       "    </tr>\n",
       "  </tbody>\n",
       "</table>\n",
       "<p>2 rows × 21 columns</p>\n",
       "</div>"
      ],
      "text/plain": [
       "                        mined_at                 created_at  year  month  day  \\\n",
       "3227  2020-06-24 17:06:45.034704  2020-06-24 08:12:09+00:00  2020      6   24   \n",
       "3228  2020-06-24 17:06:45.034704  2020-06-24 14:34:45+00:00  2020      6   24   \n",
       "\n",
       "      day_of_week  hour  minute screen_name             tweet_id  ...  \\\n",
       "3227            2     8      12      picnic  1275703244707319808  ...   \n",
       "3228            2    14      34      picnic  1275799526717247493  ...   \n",
       "\n",
       "      retweet_count  favorite_count  \\\n",
       "3227              0             NaN   \n",
       "3228              0             NaN   \n",
       "\n",
       "                                                 source hashtags urls  \\\n",
       "3227  <a href=\"https://mobile.twitter.com\" rel=\"nofo...       []   []   \n",
       "3228  <a href=\"https://mobile.twitter.com\" rel=\"nofo...       []   []   \n",
       "\n",
       "     language user_favourites_count  followers_count  friends_count  \\\n",
       "3227       nl                  3885             4842              5   \n",
       "3228       nl                  3885             4842              5   \n",
       "\n",
       "                                                   text  \n",
       "3227  @Wouter_Kamp Door de coronacrisis stond de wac...  \n",
       "3228  @RuudVeHa Ik stuur je even een privébericht zo...  \n",
       "\n",
       "[2 rows x 21 columns]"
      ]
     },
     "execution_count": 10,
     "metadata": {},
     "output_type": "execute_result"
    }
   ],
   "source": [
    "df_picnic.tail(2)"
   ]
  },
  {
   "cell_type": "code",
   "execution_count": 11,
   "metadata": {},
   "outputs": [
    {
     "name": "stdout",
     "output_type": "stream",
     "text": [
      "<class 'pandas.core.frame.DataFrame'>\n",
      "RangeIndex: 3229 entries, 0 to 3228\n",
      "Data columns (total 21 columns):\n",
      " #   Column                 Non-Null Count  Dtype  \n",
      "---  ------                 --------------  -----  \n",
      " 0   mined_at               3229 non-null   object \n",
      " 1   created_at             3229 non-null   object \n",
      " 2   year                   3229 non-null   int64  \n",
      " 3   month                  3229 non-null   int64  \n",
      " 4   day                    3229 non-null   int64  \n",
      " 5   day_of_week            3229 non-null   int64  \n",
      " 6   hour                   3229 non-null   int64  \n",
      " 7   minute                 3229 non-null   int64  \n",
      " 8   screen_name            3229 non-null   object \n",
      " 9   tweet_id               3229 non-null   int64  \n",
      " 10  tweet_id_str           3229 non-null   int64  \n",
      " 11  retweet_count          3229 non-null   int64  \n",
      " 12  favorite_count         49 non-null     float64\n",
      " 13  source                 3229 non-null   object \n",
      " 14  hashtags               3229 non-null   object \n",
      " 15  urls                   3229 non-null   object \n",
      " 16  language               3229 non-null   object \n",
      " 17  user_favourites_count  3229 non-null   int64  \n",
      " 18  followers_count        3229 non-null   int64  \n",
      " 19  friends_count          3229 non-null   int64  \n",
      " 20  text                   3229 non-null   object \n",
      "dtypes: float64(1), int64(12), object(8)\n",
      "memory usage: 529.9+ KB\n"
     ]
    }
   ],
   "source": [
    "df_picnic.info()"
   ]
  },
  {
   "cell_type": "markdown",
   "metadata": {},
   "source": [
    "## Selecting features"
   ]
  },
  {
   "cell_type": "markdown",
   "metadata": {},
   "source": [
    "A quick look reveals that everything seems fine. We need now to put all three datasets in the same time period and keep the selected columns. \n",
    "\n",
    "From the 20 features we selected for our analysis:\n",
    "\n",
    "1. `created_at`: The screen name, handle, or alias that this user identifies themselves with. screen_names are unique but subject to change.\n",
    "2. `screen_name`:  account’s Twitter handle (e.g. @albertijn without @)\n",
    "3. `user_favourites_count`: The number of Tweets this user has liked in the account’s lifetime\n",
    "5. `followers_count`: The number of followers this account currently has.\n",
    "6. `friends_count`: The number of users this account is following (AKA their “followings”)\n",
    "7. `retweet_count`: number of times the tweet was retweeted\n",
    "8. `hashtags`: the hashtags (e.g. \"#space\" appears as \"space\") included in the tweet\n",
    "9. `source`: from what platform/app the tweet was posted\n",
    "10. `language`: language used in the Tweet\n",
    "11. `text`:the text included in the tweet      \n",
    "\n",
    "Some of the definitions were taken from [here](https://developer.twitter.com/en/docs/tweets/data-dictionary/overview/user-object).\n",
    "\n",
    "`favorite_count` could be interesting but most of the time we don't have the information so I didn't include it."
   ]
  },
  {
   "cell_type": "code",
   "execution_count": 12,
   "metadata": {},
   "outputs": [],
   "source": [
    "selected_features = ['created_at','screen_name', 'user_favourites_count', 'followers_count',\n",
    "       'friends_count', 'retweet_count', 'hashtags', 'source','language','text']"
   ]
  },
  {
   "cell_type": "code",
   "execution_count": 13,
   "metadata": {},
   "outputs": [],
   "source": [
    "# transforming 'create_at' in datetime type\n",
    "\n",
    "df_ah['created_at'] = pd.to_datetime(df_ah['created_at'], infer_datetime_format=True)\n",
    "df_jumbo['created_at'] = pd.to_datetime(df_jumbo['created_at'], infer_datetime_format=True)\n",
    "df_picnic['created_at'] = pd.to_datetime(df_picnic['created_at'], infer_datetime_format=True)\n",
    "\n",
    "# selecting features\n",
    "\n",
    "df_ah = df_ah[selected_features]\n",
    "df_jumbo = df_jumbo[selected_features]\n",
    "df_picnic = df_picnic[selected_features]"
   ]
  },
  {
   "cell_type": "code",
   "execution_count": 14,
   "metadata": {},
   "outputs": [
    {
     "data": {
      "text/plain": [
       "Timestamp('2020-03-30 08:04:02+0000', tz='UTC')"
      ]
     },
     "execution_count": 14,
     "metadata": {},
     "output_type": "execute_result"
    }
   ],
   "source": [
    "# min date to all data\n",
    "min_date = min(df_ah['created_at'])\n",
    "min_date"
   ]
  },
  {
   "cell_type": "markdown",
   "metadata": {},
   "source": [
    "## Concatenating Data within period March 30th and June 24th"
   ]
  },
  {
   "cell_type": "code",
   "execution_count": 15,
   "metadata": {},
   "outputs": [
    {
     "data": {
      "text/html": [
       "<div>\n",
       "<style scoped>\n",
       "    .dataframe tbody tr th:only-of-type {\n",
       "        vertical-align: middle;\n",
       "    }\n",
       "\n",
       "    .dataframe tbody tr th {\n",
       "        vertical-align: top;\n",
       "    }\n",
       "\n",
       "    .dataframe thead th {\n",
       "        text-align: right;\n",
       "    }\n",
       "</style>\n",
       "<table border=\"1\" class=\"dataframe\">\n",
       "  <thead>\n",
       "    <tr style=\"text-align: right;\">\n",
       "      <th></th>\n",
       "      <th>screen_name</th>\n",
       "      <th>user_favourites_count</th>\n",
       "      <th>followers_count</th>\n",
       "      <th>friends_count</th>\n",
       "      <th>retweet_count</th>\n",
       "      <th>hashtags</th>\n",
       "      <th>source</th>\n",
       "      <th>language</th>\n",
       "      <th>text</th>\n",
       "    </tr>\n",
       "    <tr>\n",
       "      <th>created_at</th>\n",
       "      <th></th>\n",
       "      <th></th>\n",
       "      <th></th>\n",
       "      <th></th>\n",
       "      <th></th>\n",
       "      <th></th>\n",
       "      <th></th>\n",
       "      <th></th>\n",
       "      <th></th>\n",
       "    </tr>\n",
       "  </thead>\n",
       "  <tbody>\n",
       "    <tr>\n",
       "      <th>2020-03-30 08:04:02+00:00</th>\n",
       "      <td>albertheijn</td>\n",
       "      <td>NaN</td>\n",
       "      <td>NaN</td>\n",
       "      <td>NaN</td>\n",
       "      <td>0</td>\n",
       "      <td>NaN</td>\n",
       "      <td>&lt;a href=\"https://www.tracebuzz.com\" rel=\"nofol...</td>\n",
       "      <td>nl</td>\n",
       "      <td>@derots Voorraad is er genoeg, het is voor ons...</td>\n",
       "    </tr>\n",
       "    <tr>\n",
       "      <th>2020-03-30 08:14:24+00:00</th>\n",
       "      <td>albertheijn</td>\n",
       "      <td>NaN</td>\n",
       "      <td>NaN</td>\n",
       "      <td>NaN</td>\n",
       "      <td>0</td>\n",
       "      <td>NaN</td>\n",
       "      <td>&lt;a href=\"https://www.tracebuzz.com\" rel=\"nofol...</td>\n",
       "      <td>nl</td>\n",
       "      <td>@MoniquevDBurgh We doen er alles aan om zoveel...</td>\n",
       "    </tr>\n",
       "    <tr>\n",
       "      <th>2020-03-30 08:23:12+00:00</th>\n",
       "      <td>albertheijn</td>\n",
       "      <td>NaN</td>\n",
       "      <td>NaN</td>\n",
       "      <td>NaN</td>\n",
       "      <td>0</td>\n",
       "      <td>NaN</td>\n",
       "      <td>&lt;a href=\"https://www.tracebuzz.com\" rel=\"nofol...</td>\n",
       "      <td>nl</td>\n",
       "      <td>@AnnekeVisser15 Klopt! De Persoonlijke Bonus w...</td>\n",
       "    </tr>\n",
       "    <tr>\n",
       "      <th>2020-03-30 08:26:12+00:00</th>\n",
       "      <td>albertheijn</td>\n",
       "      <td>NaN</td>\n",
       "      <td>NaN</td>\n",
       "      <td>NaN</td>\n",
       "      <td>0</td>\n",
       "      <td>NaN</td>\n",
       "      <td>&lt;a href=\"https://www.tracebuzz.com\" rel=\"nofol...</td>\n",
       "      <td>nl</td>\n",
       "      <td>@waltervantiel    We kopen groenten en fruit z...</td>\n",
       "    </tr>\n",
       "    <tr>\n",
       "      <th>2020-03-30 08:30:44+00:00</th>\n",
       "      <td>albertheijn</td>\n",
       "      <td>NaN</td>\n",
       "      <td>NaN</td>\n",
       "      <td>NaN</td>\n",
       "      <td>0</td>\n",
       "      <td>NaN</td>\n",
       "      <td>&lt;a href=\"https://www.tracebuzz.com\" rel=\"nofol...</td>\n",
       "      <td>nl</td>\n",
       "      <td>@bbstring Je kunt ons het beste een privéberic...</td>\n",
       "    </tr>\n",
       "  </tbody>\n",
       "</table>\n",
       "</div>"
      ],
      "text/plain": [
       "                           screen_name  user_favourites_count  \\\n",
       "created_at                                                      \n",
       "2020-03-30 08:04:02+00:00  albertheijn                    NaN   \n",
       "2020-03-30 08:14:24+00:00  albertheijn                    NaN   \n",
       "2020-03-30 08:23:12+00:00  albertheijn                    NaN   \n",
       "2020-03-30 08:26:12+00:00  albertheijn                    NaN   \n",
       "2020-03-30 08:30:44+00:00  albertheijn                    NaN   \n",
       "\n",
       "                           followers_count  friends_count  retweet_count  \\\n",
       "created_at                                                                 \n",
       "2020-03-30 08:04:02+00:00              NaN            NaN              0   \n",
       "2020-03-30 08:14:24+00:00              NaN            NaN              0   \n",
       "2020-03-30 08:23:12+00:00              NaN            NaN              0   \n",
       "2020-03-30 08:26:12+00:00              NaN            NaN              0   \n",
       "2020-03-30 08:30:44+00:00              NaN            NaN              0   \n",
       "\n",
       "                          hashtags  \\\n",
       "created_at                           \n",
       "2020-03-30 08:04:02+00:00      NaN   \n",
       "2020-03-30 08:14:24+00:00      NaN   \n",
       "2020-03-30 08:23:12+00:00      NaN   \n",
       "2020-03-30 08:26:12+00:00      NaN   \n",
       "2020-03-30 08:30:44+00:00      NaN   \n",
       "\n",
       "                                                                      source  \\\n",
       "created_at                                                                     \n",
       "2020-03-30 08:04:02+00:00  <a href=\"https://www.tracebuzz.com\" rel=\"nofol...   \n",
       "2020-03-30 08:14:24+00:00  <a href=\"https://www.tracebuzz.com\" rel=\"nofol...   \n",
       "2020-03-30 08:23:12+00:00  <a href=\"https://www.tracebuzz.com\" rel=\"nofol...   \n",
       "2020-03-30 08:26:12+00:00  <a href=\"https://www.tracebuzz.com\" rel=\"nofol...   \n",
       "2020-03-30 08:30:44+00:00  <a href=\"https://www.tracebuzz.com\" rel=\"nofol...   \n",
       "\n",
       "                          language  \\\n",
       "created_at                           \n",
       "2020-03-30 08:04:02+00:00       nl   \n",
       "2020-03-30 08:14:24+00:00       nl   \n",
       "2020-03-30 08:23:12+00:00       nl   \n",
       "2020-03-30 08:26:12+00:00       nl   \n",
       "2020-03-30 08:30:44+00:00       nl   \n",
       "\n",
       "                                                                        text  \n",
       "created_at                                                                    \n",
       "2020-03-30 08:04:02+00:00  @derots Voorraad is er genoeg, het is voor ons...  \n",
       "2020-03-30 08:14:24+00:00  @MoniquevDBurgh We doen er alles aan om zoveel...  \n",
       "2020-03-30 08:23:12+00:00  @AnnekeVisser15 Klopt! De Persoonlijke Bonus w...  \n",
       "2020-03-30 08:26:12+00:00  @waltervantiel    We kopen groenten en fruit z...  \n",
       "2020-03-30 08:30:44+00:00  @bbstring Je kunt ons het beste een privéberic...  "
      ]
     },
     "execution_count": 15,
     "metadata": {},
     "output_type": "execute_result"
    }
   ],
   "source": [
    "df_concat = pd.concat([df_picnic[df_picnic['created_at']>=min_date],df_jumbo[df_jumbo['created_at']>=min_date], df_ah])\n",
    "\n",
    "df_concat.sort_values(by=\"created_at\",inplace = True)\n",
    "\n",
    "# setting created_at as index\n",
    "df_concat.set_index('created_at', inplace=True)\n",
    "\n",
    "df_concat.head()"
   ]
  },
  {
   "cell_type": "code",
   "execution_count": 16,
   "metadata": {},
   "outputs": [
    {
     "name": "stdout",
     "output_type": "stream",
     "text": [
      "<class 'pandas.core.frame.DataFrame'>\n",
      "DatetimeIndex: 6239 entries, 2020-03-30 08:04:02+00:00 to 2020-06-24 15:06:54+00:00\n",
      "Data columns (total 9 columns):\n",
      " #   Column                 Non-Null Count  Dtype  \n",
      "---  ------                 --------------  -----  \n",
      " 0   screen_name            6239 non-null   object \n",
      " 1   user_favourites_count  5984 non-null   float64\n",
      " 2   followers_count        5984 non-null   float64\n",
      " 3   friends_count          5984 non-null   float64\n",
      " 4   retweet_count          6239 non-null   int64  \n",
      " 5   hashtags               5984 non-null   object \n",
      " 6   source                 6239 non-null   object \n",
      " 7   language               6239 non-null   object \n",
      " 8   text                   6239 non-null   object \n",
      "dtypes: float64(3), int64(1), object(5)\n",
      "memory usage: 487.4+ KB\n"
     ]
    }
   ],
   "source": [
    "df_concat.info()"
   ]
  },
  {
   "cell_type": "markdown",
   "metadata": {},
   "source": [
    "### Cleaning hashtags and source info"
   ]
  },
  {
   "cell_type": "code",
   "execution_count": 17,
   "metadata": {
    "scrolled": false
   },
   "outputs": [
    {
     "data": {
      "text/plain": [
       "[]                                                            5976\n",
       "[{'text': 'IkKipditniet'}]                                       1\n",
       "[{'text': 'albertheijn'}, {'text': 'gezondeten'}]                1\n",
       "[{'text': 'thuiswerken'}]                                        1\n",
       "[{'text': 'hallojumbo'}]                                         1\n",
       "[{'text': 'hallojumbo'}, {'text': 'zozorgenwevoorelkaar'}]       1\n",
       "[{'text': 'Beedeals'}, {'text': 'wereldbijendag'}]               1\n",
       "[{'text': 'Ahhaaaa'}]                                            1\n",
       "[{'text': 'datishetlekkerevanalbertheijn'}]                      1\n",
       "Name: hashtags, dtype: int64"
      ]
     },
     "execution_count": 17,
     "metadata": {},
     "output_type": "execute_result"
    }
   ],
   "source": [
    "df_concat.hashtags.value_counts()"
   ]
  },
  {
   "cell_type": "code",
   "execution_count": 18,
   "metadata": {},
   "outputs": [
    {
     "data": {
      "text/plain": [
       "<a href=\"https://www.tracebuzz.com\" rel=\"nofollow\">Tracebuzz</a>                       3000\n",
       "<a href=\"http://www.salesforce.com\" rel=\"nofollow\">Salesforce - Social Studio</a>      2171\n",
       "<a href=\"https://mobile.twitter.com\" rel=\"nofollow\">Twitter Web App</a>                 943\n",
       "<a href=\"http://www.zendesk.com\" rel=\"nofollow\">Zendesk</a>                             112\n",
       "<a href=\"https://about.twitter.com/products/tweetdeck\" rel=\"nofollow\">TweetDeck</a>      13\n",
       "Name: source, dtype: int64"
      ]
     },
     "execution_count": 18,
     "metadata": {},
     "output_type": "execute_result"
    }
   ],
   "source": [
    "df_concat.source.value_counts()"
   ]
  },
  {
   "cell_type": "markdown",
   "metadata": {},
   "source": [
    "As we can see `source` and `hashtag` need some cleaning to improve readability."
   ]
  },
  {
   "cell_type": "code",
   "execution_count": 19,
   "metadata": {},
   "outputs": [],
   "source": [
    "def clean_hashtags(hashtags):\n",
    "    \"\"\"\n",
    "    Turns data with any number of hashtags like this - \"[{'text': 'thuiswerken'}]\" - to a list like this -\n",
    "    ['thuiswerken']\n",
    "    \"\"\"\n",
    "    \n",
    "    cleaned = []\n",
    "    \n",
    "    # there are some na hashtags seem as 'float' that are not accepted by 'literal_eval'\n",
    "    if type(hashtags) == str:\n",
    "        \n",
    "        # hashtags originaly are of type string in my dataframe, I need it to be list for my solution to work\n",
    "        hashtags = ast.literal_eval(hashtags) \n",
    "    \n",
    "        if len(hashtags) >= 1:\n",
    "            for i in range(len(hashtags)):\n",
    "                cleaned.append(hashtags[i]['text'])\n",
    "        \n",
    "    return ', '.join(cleaned)\n",
    "\n",
    "def clean_source(source):\n",
    "    \"\"\"\n",
    "    Extracts the source from something like '<a href=\"https://www.tracebuzz.com\" rel=\"nofollow\">Tracebuzz</a>', i.e.,\n",
    "    returns Tracebuzz\n",
    "    \"\"\"\n",
    "    raw = lxml.html.document_fromstring(source)\n",
    "    return raw.cssselect('body')[0].text_content()\n"
   ]
  },
  {
   "cell_type": "code",
   "execution_count": 20,
   "metadata": {},
   "outputs": [
    {
     "data": {
      "text/plain": [
       "\"[{'text': 'albertheijn'}, {'text': 'gezondeten'}]\""
      ]
     },
     "execution_count": 20,
     "metadata": {},
     "output_type": "execute_result"
    }
   ],
   "source": [
    "hashtags = df_concat[(df_concat['hashtags']!='[]') & (df_concat['hashtags'].notnull())].iloc[2]['hashtags']\n",
    "hashtags"
   ]
  },
  {
   "cell_type": "code",
   "execution_count": 21,
   "metadata": {
    "scrolled": true
   },
   "outputs": [
    {
     "data": {
      "text/plain": [
       "'albertheijn, gezondeten'"
      ]
     },
     "execution_count": 21,
     "metadata": {},
     "output_type": "execute_result"
    }
   ],
   "source": [
    "clean_hashtags(hashtags)"
   ]
  },
  {
   "cell_type": "code",
   "execution_count": 22,
   "metadata": {},
   "outputs": [
    {
     "data": {
      "text/plain": [
       "'<a href=\"https://mobile.twitter.com\" rel=\"nofollow\">Twitter Web App</a>'"
      ]
     },
     "execution_count": 22,
     "metadata": {},
     "output_type": "execute_result"
    }
   ],
   "source": [
    "source = df_concat[(df_concat['hashtags']!='[]') & (df_concat['hashtags'].notnull())].iloc[2]['source']\n",
    "source"
   ]
  },
  {
   "cell_type": "code",
   "execution_count": 23,
   "metadata": {},
   "outputs": [
    {
     "data": {
      "text/plain": [
       "'Twitter Web App'"
      ]
     },
     "execution_count": 23,
     "metadata": {},
     "output_type": "execute_result"
    }
   ],
   "source": [
    "clean_source(source)"
   ]
  },
  {
   "cell_type": "code",
   "execution_count": 24,
   "metadata": {},
   "outputs": [],
   "source": [
    "# cleaning all hashtags and source\n",
    "\n",
    "df_concat['hashtags'] = df_concat['hashtags'].apply(clean_hashtags)\n",
    "df_concat['source'] = df_concat['source'].apply(clean_source)"
   ]
  },
  {
   "cell_type": "code",
   "execution_count": 25,
   "metadata": {},
   "outputs": [
    {
     "data": {
      "text/plain": [
       "                                    6231\n",
       "hallojumbo, zozorgenwevoorelkaar       1\n",
       "hallojumbo                             1\n",
       "datishetlekkerevanalbertheijn          1\n",
       "Ahhaaaa                                1\n",
       "albertheijn, gezondeten                1\n",
       "Beedeals, wereldbijendag               1\n",
       "thuiswerken                            1\n",
       "IkKipditniet                           1\n",
       "Name: hashtags, dtype: int64"
      ]
     },
     "execution_count": 25,
     "metadata": {},
     "output_type": "execute_result"
    }
   ],
   "source": [
    "df_concat['hashtags'].value_counts()"
   ]
  },
  {
   "cell_type": "code",
   "execution_count": 26,
   "metadata": {},
   "outputs": [],
   "source": [
    "# save data before eliminating languages\n",
    "\n",
    "df_concat.to_csv(\"../data/processed/tweets_300320_240620_selected_features_all_languages_\"+TodaysDate+\".csv\", index = False)"
   ]
  },
  {
   "cell_type": "markdown",
   "metadata": {},
   "source": [
    "## Analysing Language of all Tweets"
   ]
  },
  {
   "cell_type": "code",
   "execution_count": 27,
   "metadata": {
    "scrolled": false
   },
   "outputs": [
    {
     "data": {
      "text/plain": [
       "<matplotlib.legend.Legend at 0x246220a6d68>"
      ]
     },
     "execution_count": 27,
     "metadata": {},
     "output_type": "execute_result"
    },
    {
     "data": {
      "image/png": "[encoded data removed]",
      "text/plain": [
       "<Figure size 576x432 with 1 Axes>"
      ]
     },
     "metadata": {
      "needs_background": "light"
     },
     "output_type": "display_data"
    }
   ],
   "source": [
    "plt.figure(figsize=(8,6))\n",
    "plt.title(\" Number of Tweets per language per supermarket\")\n",
    "sns.countplot(data = df_concat, x='language', hue = 'screen_name')\n",
    "plt.legend(loc = 'lower right')"
   ]
  },
  {
   "cell_type": "code",
   "execution_count": 28,
   "metadata": {},
   "outputs": [
    {
     "data": {
      "text/plain": [
       "screen_name      language\n",
       "JumboSupermarkt  nl          0.968925\n",
       "                 en          0.020285\n",
       "                 und         0.007769\n",
       "                 in          0.001726\n",
       "                 de          0.000863\n",
       "                 da          0.000432\n",
       "albertheijn      nl          0.969558\n",
       "                 en          0.021827\n",
       "                 und         0.001723\n",
       "                 fr          0.001436\n",
       "                 tr          0.001149\n",
       "                 et          0.000862\n",
       "                 da          0.000574\n",
       "                 in          0.000574\n",
       "                 cy          0.000287\n",
       "                 de          0.000287\n",
       "                 es          0.000287\n",
       "                 fi          0.000287\n",
       "                 ht          0.000287\n",
       "                 is          0.000287\n",
       "                 pl          0.000287\n",
       "                 sv          0.000287\n",
       "picnic           nl          0.938636\n",
       "                 und         0.040909\n",
       "                 en          0.015909\n",
       "                 es          0.002273\n",
       "                 sv          0.002273\n",
       "Name: language, dtype: float64"
      ]
     },
     "execution_count": 28,
     "metadata": {},
     "output_type": "execute_result"
    }
   ],
   "source": [
    "# percentage of each language per supermarkt tweets\n",
    "df_concat.groupby('screen_name')['language'].value_counts(normalize=True)"
   ]
  },
  {
   "cell_type": "markdown",
   "metadata": {},
   "source": [
    "As we can see `Dutch` appears in more than 93% of the tweets (@JumboSupermarkt = 96.89%, @albertheijn = 96.95%, and @picnic = 93.86%). Therefore we will drop the tweets which are in another language."
   ]
  },
  {
   "cell_type": "code",
   "execution_count": 29,
   "metadata": {},
   "outputs": [],
   "source": [
    "df_concat = df_concat[df_concat['language'] == 'nl']"
   ]
  },
  {
   "cell_type": "code",
   "execution_count": 30,
   "metadata": {},
   "outputs": [
    {
     "name": "stdout",
     "output_type": "stream",
     "text": [
      "<class 'pandas.core.frame.DataFrame'>\n",
      "DatetimeIndex: 6034 entries, 2020-03-30 08:04:02+00:00 to 2020-06-24 15:06:54+00:00\n",
      "Data columns (total 9 columns):\n",
      " #   Column                 Non-Null Count  Dtype  \n",
      "---  ------                 --------------  -----  \n",
      " 0   screen_name            6034 non-null   object \n",
      " 1   user_favourites_count  5780 non-null   float64\n",
      " 2   followers_count        5780 non-null   float64\n",
      " 3   friends_count          5780 non-null   float64\n",
      " 4   retweet_count          6034 non-null   int64  \n",
      " 5   hashtags               6034 non-null   object \n",
      " 6   source                 6034 non-null   object \n",
      " 7   language               6034 non-null   object \n",
      " 8   text                   6034 non-null   object \n",
      "dtypes: float64(3), int64(1), object(5)\n",
      "memory usage: 471.4+ KB\n"
     ]
    }
   ],
   "source": [
    "df_concat.info()"
   ]
  },
  {
   "cell_type": "code",
   "execution_count": 31,
   "metadata": {},
   "outputs": [
    {
     "data": {
      "text/plain": [
       "nl    6034\n",
       "Name: language, dtype: int64"
      ]
     },
     "execution_count": 31,
     "metadata": {},
     "output_type": "execute_result"
    }
   ],
   "source": [
    "df_concat['language'].value_counts()"
   ]
  },
  {
   "cell_type": "markdown",
   "metadata": {},
   "source": [
    "## Cleaning Tweets\n",
    "\n",
    "Because more than 93% of the Tweets are in Dutch we needed to find NLP tools to work with this language.\n",
    "\n",
    "After some research our tools will be:\n",
    "\n",
    "* [`Spacy`](https://spacy.io/) more specifically a model for [Dutch](https://spacy.io/models/nl): `nl_core_news_sm`\n",
    "\n",
    "* [`textblob-nl`](https://github.com/gvisniuc/textblob-nl) that is based on [TextBlob](https://textblob.readthedocs.io/en/dev/index.html).\n",
    "\n",
    "My first idea was to use [`VADER`](https://github.com/cjhutto/vaderSentiment). which is ideal for social media. However, it does not support other languages than English directly. It is necessary to translate to other English and then apply VADER. As we saw previously, translation can be a bit trick when considering texts like Tweets. Therefore, I believe `textblob-nl` would be a more suitable option in this situation."
   ]
  },
  {
   "cell_type": "code",
   "execution_count": 32,
   "metadata": {},
   "outputs": [
    {
     "name": "stderr",
     "output_type": "stream",
     "text": [
      "C:\\ProgramData\\Anaconda3\\lib\\site-packages\\ipykernel_launcher.py:1: FutureWarning: Passing a negative integer is deprecated in version 1.0 and will not be supported in future version. Instead, use None to not limit the column width.\n",
      "  \"\"\"Entry point for launching an IPython kernel.\n"
     ]
    },
    {
     "data": {
      "text/html": [
       "<div>\n",
       "<style scoped>\n",
       "    .dataframe tbody tr th:only-of-type {\n",
       "        vertical-align: middle;\n",
       "    }\n",
       "\n",
       "    .dataframe tbody tr th {\n",
       "        vertical-align: top;\n",
       "    }\n",
       "\n",
       "    .dataframe thead th {\n",
       "        text-align: right;\n",
       "    }\n",
       "</style>\n",
       "<table border=\"1\" class=\"dataframe\">\n",
       "  <thead>\n",
       "    <tr style=\"text-align: right;\">\n",
       "      <th></th>\n",
       "      <th>text</th>\n",
       "    </tr>\n",
       "    <tr>\n",
       "      <th>created_at</th>\n",
       "      <th></th>\n",
       "    </tr>\n",
       "  </thead>\n",
       "  <tbody>\n",
       "    <tr>\n",
       "      <th>2020-03-30 08:04:02+00:00</th>\n",
       "      <td>@derots Voorraad is er genoeg, het is voor ons echter een logistieke uitdaging om alles op het juiste moment op de juiste plek te hebben. Hier werken we dag en nacht en met man en macht aan om voor elkaar te krijgen. Sorry dat dit alsnog een leeg schap opleverd. ^Job</td>\n",
       "    </tr>\n",
       "    <tr>\n",
       "      <th>2020-03-30 08:14:24+00:00</th>\n",
       "      <td>@MoniquevDBurgh We doen er alles aan om zoveel mogelijk bezorg- en afhaalmomenten vrij te krijgen. Het kan zijn dat een bezorgmoment al vol zit al vorens je deze kunt inzien. Klanten met een Bezorgbundel kunnen namelijk een week verder inplannen. ^Job</td>\n",
       "    </tr>\n",
       "    <tr>\n",
       "      <th>2020-03-30 08:23:12+00:00</th>\n",
       "      <td>@AnnekeVisser15 Klopt! De Persoonlijke Bonus wordt tijdelijk niet meer gegeven. Wij  geven nu in onze operatie en de winkels prioriteit aan het beschikbaar maken van producten voor de dagelijkse boodschappen. ^Job</td>\n",
       "    </tr>\n",
       "    <tr>\n",
       "      <th>2020-03-30 08:26:12+00:00</th>\n",
       "      <td>@waltervantiel    We kopen groenten en fruit zo dichtbij als mogelijk en zo ver weg als noodzakelijk. Vooral in de zomer halen we producten uit eigen land. In de winter zijn er minder producten beschikbaar en halen we bijvoorbeeld de aardbeien / druiven uit het buitenland. ^Job</td>\n",
       "    </tr>\n",
       "    <tr>\n",
       "      <th>2020-03-30 08:30:44+00:00</th>\n",
       "      <td>@bbstring Je kunt ons het beste een privébericht sturen als je een vraag hebt (Twitter, Facebook, Whatsapp). De bezorgmomenten voor de komende 2 weken zijn bijna overal inderdaad volgeboekt.. We rijden met maximale inzet, sorry dat ik je niet beter kan berichten! ^Job</td>\n",
       "    </tr>\n",
       "    <tr>\n",
       "      <th>...</th>\n",
       "      <td>...</td>\n",
       "    </tr>\n",
       "    <tr>\n",
       "      <th>2020-04-01 17:17:19+00:00</th>\n",
       "      <td>@JannyVeer Hallo Janny, oei dat is vervelend. Het kan zijn dat dit product tijdelijk niet op voorraad was. We vullen dit natuurlijk zo snel mogelijk weer bij. Sorry voor het ongemak! ^LH</td>\n",
       "    </tr>\n",
       "    <tr>\n",
       "      <th>2020-04-01 17:20:36+00:00</th>\n",
       "      <td>@ac_lynch Hallo Anna, jakkie! We raden je aan even terug te gaan naar de winkel. Onze collega's lossen het dan netjes met je op. Sorry hiervoor. ^LH</td>\n",
       "    </tr>\n",
       "    <tr>\n",
       "      <th>2020-04-01 17:22:26+00:00</th>\n",
       "      <td>@wvandenbrand Hallo Wilma, vervelend dat het niet lukt! Zou je ons een privéberichtje kunnen sturen met je bestelnummer en de code? Dan kijken we even met je mee. ^LH</td>\n",
       "    </tr>\n",
       "    <tr>\n",
       "      <th>2020-04-01 17:24:10+00:00</th>\n",
       "      <td>@fiennesgray Hallo Danique, we raden je aan eventjes te bellen naar het filiaal waar je gesolliciteerd hebt. Onze collega's hebben het erg druk op het moment, wellicht hebben ze het over het hoofd gezien. ^LH</td>\n",
       "    </tr>\n",
       "    <tr>\n",
       "      <th>2020-04-01 17:30:51+00:00</th>\n",
       "      <td>@PTopperjan Hallo Jan, je kunt alleen flessen inleveren van merken die wij verkopen. 😁^LH</td>\n",
       "    </tr>\n",
       "  </tbody>\n",
       "</table>\n",
       "<p>200 rows × 1 columns</p>\n",
       "</div>"
      ],
      "text/plain": [
       "                                                                                                                                                                                                                                                                                                             text\n",
       "created_at                                                                                                                                                                                                                                                                                                       \n",
       "2020-03-30 08:04:02+00:00  @derots Voorraad is er genoeg, het is voor ons echter een logistieke uitdaging om alles op het juiste moment op de juiste plek te hebben. Hier werken we dag en nacht en met man en macht aan om voor elkaar te krijgen. Sorry dat dit alsnog een leeg schap opleverd. ^Job           \n",
       "2020-03-30 08:14:24+00:00  @MoniquevDBurgh We doen er alles aan om zoveel mogelijk bezorg- en afhaalmomenten vrij te krijgen. Het kan zijn dat een bezorgmoment al vol zit al vorens je deze kunt inzien. Klanten met een Bezorgbundel kunnen namelijk een week verder inplannen. ^Job                           \n",
       "2020-03-30 08:23:12+00:00  @AnnekeVisser15 Klopt! De Persoonlijke Bonus wordt tijdelijk niet meer gegeven. Wij  geven nu in onze operatie en de winkels prioriteit aan het beschikbaar maken van producten voor de dagelijkse boodschappen. ^Job                                                                 \n",
       "2020-03-30 08:26:12+00:00  @waltervantiel    We kopen groenten en fruit zo dichtbij als mogelijk en zo ver weg als noodzakelijk. Vooral in de zomer halen we producten uit eigen land. In de winter zijn er minder producten beschikbaar en halen we bijvoorbeeld de aardbeien / druiven uit het buitenland. ^Job\n",
       "2020-03-30 08:30:44+00:00  @bbstring Je kunt ons het beste een privébericht sturen als je een vraag hebt (Twitter, Facebook, Whatsapp). De bezorgmomenten voor de komende 2 weken zijn bijna overal inderdaad volgeboekt.. We rijden met maximale inzet, sorry dat ik je niet beter kan berichten! ^Job          \n",
       "...                                                                                                                                                                                                                                                                                                           ...\n",
       "2020-04-01 17:17:19+00:00  @JannyVeer Hallo Janny, oei dat is vervelend. Het kan zijn dat dit product tijdelijk niet op voorraad was. We vullen dit natuurlijk zo snel mogelijk weer bij. Sorry voor het ongemak! ^LH                                                                                            \n",
       "2020-04-01 17:20:36+00:00  @ac_lynch Hallo Anna, jakkie! We raden je aan even terug te gaan naar de winkel. Onze collega's lossen het dan netjes met je op. Sorry hiervoor. ^LH                                                                                                                                  \n",
       "2020-04-01 17:22:26+00:00  @wvandenbrand Hallo Wilma, vervelend dat het niet lukt! Zou je ons een privéberichtje kunnen sturen met je bestelnummer en de code? Dan kijken we even met je mee. ^LH                                                                                                                \n",
       "2020-04-01 17:24:10+00:00  @fiennesgray Hallo Danique, we raden je aan eventjes te bellen naar het filiaal waar je gesolliciteerd hebt. Onze collega's hebben het erg druk op het moment, wellicht hebben ze het over het hoofd gezien. ^LH                                                                      \n",
       "2020-04-01 17:30:51+00:00  @PTopperjan Hallo Jan, je kunt alleen flessen inleveren van merken die wij verkopen. 😁^LH                                                                                                                                                                                             \n",
       "\n",
       "[200 rows x 1 columns]"
      ]
     },
     "execution_count": 32,
     "metadata": {},
     "output_type": "execute_result"
    }
   ],
   "source": [
    "pd.set_option('display.max_colwidth', -1)\n",
    "df_concat[['text']][:200]"
   ]
  },
  {
   "cell_type": "markdown",
   "metadata": {},
   "source": [
    "Before cleaning our Tweets let's see what the model for Dutch from `Spacy` can do for us."
   ]
  },
  {
   "cell_type": "code",
   "execution_count": 33,
   "metadata": {},
   "outputs": [],
   "source": [
    "# Dutch stop words from Spacy\n",
    "spacy_stopwords = spacy.lang.nl.stop_words.STOP_WORDS"
   ]
  },
  {
   "cell_type": "code",
   "execution_count": 34,
   "metadata": {},
   "outputs": [
    {
     "name": "stdout",
     "output_type": "stream",
     "text": [
      "Number of stop words: 343\n",
      "First ten stop words: ['bepaald', 'behalve', 'allebei', 'beiden', 'gewoon', 'gehad', 'welk', 'binnenin', 'hen', 'ikzelf']\n"
     ]
    }
   ],
   "source": [
    "print('Number of stop words: %d' % len(spacy_stopwords))\n",
    "print('First ten stop words: %s' % list(spacy_stopwords)[:10])"
   ]
  },
  {
   "cell_type": "markdown",
   "metadata": {},
   "source": [
    "Tokenizing and removing stop words using Spacy."
   ]
  },
  {
   "cell_type": "code",
   "execution_count": 35,
   "metadata": {},
   "outputs": [
    {
     "data": {
      "text/plain": [
       "'@derots Voorraad is er genoeg, het is voor ons echter een logistieke uitdaging om alles op het juiste moment op de juiste plek te hebben. Hier werken we dag en nacht en met man en macht aan om voor elkaar te krijgen. Sorry dat dit alsnog een leeg schap opleverd. ^Job'"
      ]
     },
     "execution_count": 35,
     "metadata": {},
     "output_type": "execute_result"
    }
   ],
   "source": [
    "text01 = df_concat.loc['2020-03-30 08:04:02+00:00']['text']\n",
    "text01"
   ]
  },
  {
   "cell_type": "code",
   "execution_count": 36,
   "metadata": {},
   "outputs": [
    {
     "name": "stdout",
     "output_type": "stream",
     "text": [
      "Original text:\n",
      "@derots Voorraad is er genoeg, het is voor ons echter een logistieke uitdaging om alles op het juiste moment op de juiste plek te hebben. Hier werken we dag en nacht en met man en macht aan om voor elkaar te krijgen. Sorry dat dit alsnog een leeg schap opleverd. ^Job\n",
      "\n",
      "After removing stop words:\n",
      "@derots Voorraad genoeg , logistieke uitdaging juiste moment juiste plek . werken dag nacht man macht elkaar krijgen . Sorry alsnog leeg schap opleverd . ^Job\n"
     ]
    }
   ],
   "source": [
    "doc = nlp_nl(text01)\n",
    "tokens = [token.text for token in doc if not token.is_stop]\n",
    "print('Original text:\\n{}\\n'.format(text01))\n",
    "print(\"After removing stop words:\\n{}\".format(' '.join(tokens)))"
   ]
  },
  {
   "cell_type": "markdown",
   "metadata": {},
   "source": [
    "To calculate the sentiment some cleaning is necessary, e.g., citations (@) and emoticons ('😁') need to be removed. Stop words I'll not remove to avoid eliminating words like `niet` that can influence the sentiment score."
   ]
  },
  {
   "cell_type": "code",
   "execution_count": 37,
   "metadata": {},
   "outputs": [],
   "source": [
    "#HappyEmoticons\n",
    "emoticons_happy = set([\n",
    "    ':-)', ':)', ';)', ':o)', ':]', ':3', ':c)', ':>', '=]', '8)', '=)', ':}',\n",
    "    ':^)', ':-D', ':D', '8-D', '8D', 'x-D', 'xD', 'X-D', 'XD', '=-D', '=D',\n",
    "    '=-3', '=3', ':-))', \":'-)\", \":')\", ':*', ':^*', '>:P', ':-P', ':P', 'X-P',\n",
    "    'x-p', 'xp', 'XP', ':-p', ':p', '=p', ':-b', ':b', '>:)', '>;)', '>:-)',\n",
    "    '<3'\n",
    "    ])\n",
    "\n",
    "\n",
    "# Sad Emoticons\n",
    "emoticons_sad = set([\n",
    "    ':L', ':-/', '>:/', ':S', '>:[', ':@', ':-(', ':[', ':-||', '=L', ':<',\n",
    "    ':-[', ':-<', '=\\\\', '=/', '>:(', ':(', '>.<', \":'-(\", \":'(\", ':\\\\', ':-c',\n",
    "    ':c', ':{', '>:\\\\', ';('\n",
    "    ])\n",
    "\n",
    "#Emoji patterns\n",
    "emoji_pattern = re.compile(\"[\"\n",
    "         u\"\\U0001F600-\\U0001F64F\"  # emoticons\n",
    "         u\"\\U0001F300-\\U0001F5FF\"  # symbols & pictographs\n",
    "         u\"\\U0001F680-\\U0001F6FF\"  # transport & map symbols\n",
    "         u\"\\U0001F1E0-\\U0001F1FF\"  # flags (iOS)\n",
    "         u\"\\U00002702-\\U000027B0\"\n",
    "         u\"\\U000024C2-\\U0001F251\"\n",
    "         \"]+\", flags=re.UNICODE)\n",
    "\n",
    "#combine sad and happy emoticons\n",
    "emoticons = emoticons_happy.union(emoticons_sad)\n"
   ]
  },
  {
   "cell_type": "code",
   "execution_count": 38,
   "metadata": {},
   "outputs": [
    {
     "name": "stdout",
     "output_type": "stream",
     "text": [
      "@PTopperjan Hallo Jan, je kunt alleen flessen inleveren van merken die wij verkopen. 😁^LH\n",
      "@PTopperjan Hallo Jan, je kunt alleen flessen inleveren van merken die wij verkopen. ^LH\n"
     ]
    }
   ],
   "source": [
    "text02 = df_concat.loc['2020-04-01 17:30:51+00:00']['text']\n",
    "print(text02)\n",
    "#remove emojis from tweet\n",
    "print(emoji_pattern.sub(r'', text02))"
   ]
  },
  {
   "cell_type": "code",
   "execution_count": 39,
   "metadata": {},
   "outputs": [],
   "source": [
    "# create cleaning function\n",
    "\n",
    "def strip_links(text):\n",
    "    \"\"\" Remove all the https's from the text \"\"\"\n",
    "    return re.sub(\"(?P<url>https?://[^\\s]+)\", '', text)\n",
    "\n",
    "def strip_char(text):\n",
    "    \"\"\" Remove all the retweets and hastags \"\"\" \n",
    "    \n",
    "    return re.sub(\"[#@].+?(?= |$)\", '', text).strip()\n",
    "\n",
    "def remove_html_tags(text):\n",
    "    soup = BeautifulSoup(unescape(text), 'lxml')\n",
    "    return soup.text\n",
    "\n",
    "def remove_accented_chars(text):\n",
    "    \"\"\" remove accents\"\"\"\n",
    "    return unicodedata.normalize('NFKD', text).encode('ascii', 'ignore').decode('utf-8', 'ignore')\n",
    "\n",
    "def removebrackets(text):\n",
    "    \"\"\" remove brackets \"\"\"\n",
    "    return re.sub('[\\(\\[].*?[\\)\\]]', ' ', text)\n",
    "\n",
    "def remove_special_chars(text, remove_digits=False):\n",
    "    pattern = r'[^a-zA-Z0-9\\s]' if not remove_digits else r'[^a-zA-Z\\s]'\n",
    "    return re.sub(pattern, '', text)\n",
    "\n",
    "def remove_emojis(text):\n",
    "    \"\"\" remove emojis from tweet \"\"\"\n",
    "    \n",
    "    return emoji_pattern.sub(r'', text)\n",
    "\n",
    "def remove_punctuation_and_emoticons(text):\n",
    "    \"\"\" remove emoticons and punctuation\"\"\"\n",
    "    clean_text = []\n",
    "    \n",
    "    doc = nlp_nl(text)\n",
    "    \n",
    "    for token in doc:\n",
    "        if token.text not in emoticons and token.text not in string.punctuation:\n",
    "            clean_text.append(token.text)\n",
    "            \n",
    "    return ' '.join(clean_text)\n",
    "\n",
    "\n",
    "def clean_text(text):\n",
    "    \"\"\" clean text using functions above\"\"\"\n",
    "    \n",
    "    cleaned_text = remove_html_tags(text)\n",
    "    cleaned_text = remove_emojis(cleaned_text)\n",
    "    cleaned_text = remove_punctuation_and_emoticons(cleaned_text)\n",
    "    cleaned_text = strip_links(text)\n",
    "    cleaned_text = strip_char(cleaned_text)\n",
    "    cleaned_text = remove_accented_chars(cleaned_text)\n",
    "    cleaned_text = removebrackets(cleaned_text)\n",
    "    cleaned_text = remove_special_chars(cleaned_text)\n",
    "    \n",
    "    # lowercase\n",
    "    cleaned_text = cleaned_text.lower()\n",
    "    \n",
    "    return cleaned_text\n",
    "\n",
    "\n",
    "# when necessary to remove stop words\n",
    "\n",
    "def remove_stop_words(text):\n",
    "    \"\"\" remove stop words\"\"\"\n",
    "    \n",
    "    doc = nlp_nl(text)\n",
    "    tokens = [token.text for token in doc if not token.is_stop]\n",
    "    \n",
    "    return ' '.join(tokens)\n",
    "\n"
   ]
  },
  {
   "cell_type": "code",
   "execution_count": 40,
   "metadata": {
    "scrolled": true
   },
   "outputs": [
    {
     "name": "stdout",
     "output_type": "stream",
     "text": [
      "Before cleaning:\n",
      "@wvandenbrand Hallo Wilma, vervelend dat het niet lukt! Zou je ons een privéberichtje kunnen sturen met je bestelnummer en de code? Dan kijken we even met je mee. ^LH\n",
      "\n",
      "After cleaning:\n",
      "hallo wilma vervelend dat het niet lukt zou je ons een priveberichtje kunnen sturen met je bestelnummer en de code dan kijken we even met je mee lh\n",
      "\n"
     ]
    }
   ],
   "source": [
    "text03 = df_concat.loc['2020-04-01 17:22:26+00:00']['text']\n",
    "print(\"Before cleaning:\\n{}\\n\".format(text03))\n",
    "print(\"After cleaning:\\n{}\\n\".format(clean_text(text03)))"
   ]
  },
  {
   "cell_type": "markdown",
   "metadata": {},
   "source": [
    "It seems to work as we expect so let's apply to all Tweets and save in a new feature `cleaned_text`."
   ]
  },
  {
   "cell_type": "code",
   "execution_count": 41,
   "metadata": {},
   "outputs": [],
   "source": [
    "df_concat['cleaned_text'] = df_concat['text'].apply(clean_text)"
   ]
  },
  {
   "cell_type": "code",
   "execution_count": 42,
   "metadata": {
    "scrolled": true
   },
   "outputs": [
    {
     "data": {
      "text/html": [
       "<div>\n",
       "<style scoped>\n",
       "    .dataframe tbody tr th:only-of-type {\n",
       "        vertical-align: middle;\n",
       "    }\n",
       "\n",
       "    .dataframe tbody tr th {\n",
       "        vertical-align: top;\n",
       "    }\n",
       "\n",
       "    .dataframe thead th {\n",
       "        text-align: right;\n",
       "    }\n",
       "</style>\n",
       "<table border=\"1\" class=\"dataframe\">\n",
       "  <thead>\n",
       "    <tr style=\"text-align: right;\">\n",
       "      <th></th>\n",
       "      <th>text</th>\n",
       "      <th>cleaned_text</th>\n",
       "    </tr>\n",
       "    <tr>\n",
       "      <th>created_at</th>\n",
       "      <th></th>\n",
       "      <th></th>\n",
       "    </tr>\n",
       "  </thead>\n",
       "  <tbody>\n",
       "    <tr>\n",
       "      <th>2020-03-30 08:04:02+00:00</th>\n",
       "      <td>@derots Voorraad is er genoeg, het is voor ons echter een logistieke uitdaging om alles op het juiste moment op de juiste plek te hebben. Hier werken we dag en nacht en met man en macht aan om voor elkaar te krijgen. Sorry dat dit alsnog een leeg schap opleverd. ^Job</td>\n",
       "      <td>voorraad is er genoeg het is voor ons echter een logistieke uitdaging om alles op het juiste moment op de juiste plek te hebben hier werken we dag en nacht en met man en macht aan om voor elkaar te krijgen sorry dat dit alsnog een leeg schap opleverd job</td>\n",
       "    </tr>\n",
       "    <tr>\n",
       "      <th>2020-03-30 08:14:24+00:00</th>\n",
       "      <td>@MoniquevDBurgh We doen er alles aan om zoveel mogelijk bezorg- en afhaalmomenten vrij te krijgen. Het kan zijn dat een bezorgmoment al vol zit al vorens je deze kunt inzien. Klanten met een Bezorgbundel kunnen namelijk een week verder inplannen. ^Job</td>\n",
       "      <td>we doen er alles aan om zoveel mogelijk bezorg en afhaalmomenten vrij te krijgen het kan zijn dat een bezorgmoment al vol zit al vorens je deze kunt inzien klanten met een bezorgbundel kunnen namelijk een week verder inplannen job</td>\n",
       "    </tr>\n",
       "    <tr>\n",
       "      <th>2020-03-30 08:23:12+00:00</th>\n",
       "      <td>@AnnekeVisser15 Klopt! De Persoonlijke Bonus wordt tijdelijk niet meer gegeven. Wij  geven nu in onze operatie en de winkels prioriteit aan het beschikbaar maken van producten voor de dagelijkse boodschappen. ^Job</td>\n",
       "      <td>klopt de persoonlijke bonus wordt tijdelijk niet meer gegeven wij  geven nu in onze operatie en de winkels prioriteit aan het beschikbaar maken van producten voor de dagelijkse boodschappen job</td>\n",
       "    </tr>\n",
       "    <tr>\n",
       "      <th>2020-03-30 08:26:12+00:00</th>\n",
       "      <td>@waltervantiel    We kopen groenten en fruit zo dichtbij als mogelijk en zo ver weg als noodzakelijk. Vooral in de zomer halen we producten uit eigen land. In de winter zijn er minder producten beschikbaar en halen we bijvoorbeeld de aardbeien / druiven uit het buitenland. ^Job</td>\n",
       "      <td>we kopen groenten en fruit zo dichtbij als mogelijk en zo ver weg als noodzakelijk vooral in de zomer halen we producten uit eigen land in de winter zijn er minder producten beschikbaar en halen we bijvoorbeeld de aardbeien  druiven uit het buitenland job</td>\n",
       "    </tr>\n",
       "    <tr>\n",
       "      <th>2020-03-30 08:30:44+00:00</th>\n",
       "      <td>@bbstring Je kunt ons het beste een privébericht sturen als je een vraag hebt (Twitter, Facebook, Whatsapp). De bezorgmomenten voor de komende 2 weken zijn bijna overal inderdaad volgeboekt.. We rijden met maximale inzet, sorry dat ik je niet beter kan berichten! ^Job</td>\n",
       "      <td>je kunt ons het beste een privebericht sturen als je een vraag hebt   de bezorgmomenten voor de komende 2 weken zijn bijna overal inderdaad volgeboekt we rijden met maximale inzet sorry dat ik je niet beter kan berichten job</td>\n",
       "    </tr>\n",
       "    <tr>\n",
       "      <th>2020-03-30 09:13:01+00:00</th>\n",
       "      <td>@De_Neliz Het is inderdaad drukker dan normaal! Iedere ochtend om 9:00 komen de beschikbare bezorg momenten online. Hopelijk kun je er morgen ochtend eentje bemachtigen. ^Victor</td>\n",
       "      <td>het is inderdaad drukker dan normaal iedere ochtend om 900 komen de beschikbare bezorg momenten online hopelijk kun je er morgen ochtend eentje bemachtigen victor</td>\n",
       "    </tr>\n",
       "    <tr>\n",
       "      <th>2020-03-30 09:33:40+00:00</th>\n",
       "      <td>@Bryan65165100 Werkze, collega!💙 #wedoenhetsamen ^Job</td>\n",
       "      <td>werkze collega  job</td>\n",
       "    </tr>\n",
       "    <tr>\n",
       "      <th>2020-03-30 09:44:36+00:00</th>\n",
       "      <td>@xelysemelissa Helaas kun je geen bestelling wijzigen, sorry. Het is alleen mogelijk om de bestelling te annuleren en opnieuw te plaatsen (mits er nog plek is). ^Victor</td>\n",
       "      <td>helaas kun je geen bestelling wijzigen sorry het is alleen mogelijk om de bestelling te annuleren en opnieuw te plaatsen   victor</td>\n",
       "    </tr>\n",
       "    <tr>\n",
       "      <th>2020-03-30 09:56:44+00:00</th>\n",
       "      <td>@AladindaA Hi! Ohh jeetje 🙊 Ik kan helaas niet zeggen of je het nog gewoon kunt eten, voor de zekerheid toch niet doen! Kun je ons een DM sturen en vertellen waar je dit prouduct hebt gekocht samen met een foto van de achterkant? Dan gaan wij op zoek naar een oplossing! ^Hilal</td>\n",
       "      <td>hi ohh jeetje  ik kan helaas niet zeggen of je het nog gewoon kunt eten voor de zekerheid toch niet doen kun je ons een dm sturen en vertellen waar je dit prouduct hebt gekocht samen met een foto van de achterkant dan gaan wij op zoek naar een oplossing hilal</td>\n",
       "    </tr>\n",
       "    <tr>\n",
       "      <th>2020-03-30 10:08:21+00:00</th>\n",
       "      <td>@kyyayaya Helaas niet, de bezorger zet de boodschappen in deze tijden namelijk bij je voordeur, regelt de betaling en rijdt vervolgens weer verder. Normaliter is dit geen probleem! ^Job</td>\n",
       "      <td>helaas niet de bezorger zet de boodschappen in deze tijden namelijk bij je voordeur regelt de betaling en rijdt vervolgens weer verder normaliter is dit geen probleem job</td>\n",
       "    </tr>\n",
       "    <tr>\n",
       "      <th>2020-03-30 10:14:51+00:00</th>\n",
       "      <td>@lindadenbraber Hi Linda, als klantenservice nemen we deze vragen niet in behandeling. Ik adviseer je contact op te nemen met de winkelmanager of de personeelsfunctionaris van de regio. De namen van de personeelsfunctionarissen en telefoonnummers zijn bekend in de winkel. ^Mike</td>\n",
       "      <td>hi linda als klantenservice nemen we deze vragen niet in behandeling ik adviseer je contact op te nemen met de winkelmanager of de personeelsfunctionaris van de regio de namen van de personeelsfunctionarissen en telefoonnummers zijn bekend in de winkel mike</td>\n",
       "    </tr>\n",
       "    <tr>\n",
       "      <th>2020-03-30 10:47:33+00:00</th>\n",
       "      <td>@infoweetjes Er is geen vast moment. Houd de app dus goed in de gaten! ^Robin</td>\n",
       "      <td>er is geen vast moment houd de app dus goed in de gaten robin</td>\n",
       "    </tr>\n",
       "    <tr>\n",
       "      <th>2020-03-30 10:51:46+00:00</th>\n",
       "      <td>@LaurensPeijs Dank voor je idee! Maar nee, dit is niet mogelijk. We doen ons best iedereen te voorzien van boodschappen. Maar het is voor ons een hele drukkte tijd.  ^Robin</td>\n",
       "      <td>dank voor je idee maar nee dit is niet mogelijk we doen ons best iedereen te voorzien van boodschappen maar het is voor ons een hele drukkte tijd  robin</td>\n",
       "    </tr>\n",
       "    <tr>\n",
       "      <th>2020-03-30 10:57:22+00:00</th>\n",
       "      <td>@dennisvankommer  Suuuuper lief van ze! 💙 ^Robin</td>\n",
       "      <td>suuuuper lief van ze  robin</td>\n",
       "    </tr>\n",
       "    <tr>\n",
       "      <th>2020-03-30 11:00:03+00:00</th>\n",
       "      <td>@haesebroeck  Hoi! We vragen iedereen, wanneer dat mogelijk is, alleen te komen winkelen. Geen overbodige bezoekjes dus. Mocht het niet anders kunnen is dit zeker mogelijk, wel met een eigen winkelkar. ^Robin</td>\n",
       "      <td>hoi we vragen iedereen wanneer dat mogelijk is alleen te komen winkelen geen overbodige bezoekjes dus mocht het niet anders kunnen is dit zeker mogelijk wel met een eigen winkelkar robin</td>\n",
       "    </tr>\n",
       "  </tbody>\n",
       "</table>\n",
       "</div>"
      ],
      "text/plain": [
       "                                                                                                                                                                                                                                                                                                             text  \\\n",
       "created_at                                                                                                                                                                                                                                                                                                          \n",
       "2020-03-30 08:04:02+00:00  @derots Voorraad is er genoeg, het is voor ons echter een logistieke uitdaging om alles op het juiste moment op de juiste plek te hebben. Hier werken we dag en nacht en met man en macht aan om voor elkaar te krijgen. Sorry dat dit alsnog een leeg schap opleverd. ^Job              \n",
       "2020-03-30 08:14:24+00:00  @MoniquevDBurgh We doen er alles aan om zoveel mogelijk bezorg- en afhaalmomenten vrij te krijgen. Het kan zijn dat een bezorgmoment al vol zit al vorens je deze kunt inzien. Klanten met een Bezorgbundel kunnen namelijk een week verder inplannen. ^Job                              \n",
       "2020-03-30 08:23:12+00:00  @AnnekeVisser15 Klopt! De Persoonlijke Bonus wordt tijdelijk niet meer gegeven. Wij  geven nu in onze operatie en de winkels prioriteit aan het beschikbaar maken van producten voor de dagelijkse boodschappen. ^Job                                                                    \n",
       "2020-03-30 08:26:12+00:00  @waltervantiel    We kopen groenten en fruit zo dichtbij als mogelijk en zo ver weg als noodzakelijk. Vooral in de zomer halen we producten uit eigen land. In de winter zijn er minder producten beschikbaar en halen we bijvoorbeeld de aardbeien / druiven uit het buitenland. ^Job   \n",
       "2020-03-30 08:30:44+00:00  @bbstring Je kunt ons het beste een privébericht sturen als je een vraag hebt (Twitter, Facebook, Whatsapp). De bezorgmomenten voor de komende 2 weken zijn bijna overal inderdaad volgeboekt.. We rijden met maximale inzet, sorry dat ik je niet beter kan berichten! ^Job             \n",
       "2020-03-30 09:13:01+00:00  @De_Neliz Het is inderdaad drukker dan normaal! Iedere ochtend om 9:00 komen de beschikbare bezorg momenten online. Hopelijk kun je er morgen ochtend eentje bemachtigen. ^Victor                                                                                                        \n",
       "2020-03-30 09:33:40+00:00  @Bryan65165100 Werkze, collega!💙 #wedoenhetsamen ^Job                                                                                                                                                                                                                                    \n",
       "2020-03-30 09:44:36+00:00  @xelysemelissa Helaas kun je geen bestelling wijzigen, sorry. Het is alleen mogelijk om de bestelling te annuleren en opnieuw te plaatsen (mits er nog plek is). ^Victor                                                                                                                 \n",
       "2020-03-30 09:56:44+00:00  @AladindaA Hi! Ohh jeetje 🙊 Ik kan helaas niet zeggen of je het nog gewoon kunt eten, voor de zekerheid toch niet doen! Kun je ons een DM sturen en vertellen waar je dit prouduct hebt gekocht samen met een foto van de achterkant? Dan gaan wij op zoek naar een oplossing! ^Hilal    \n",
       "2020-03-30 10:08:21+00:00  @kyyayaya Helaas niet, de bezorger zet de boodschappen in deze tijden namelijk bij je voordeur, regelt de betaling en rijdt vervolgens weer verder. Normaliter is dit geen probleem! ^Job                                                                                                \n",
       "2020-03-30 10:14:51+00:00  @lindadenbraber Hi Linda, als klantenservice nemen we deze vragen niet in behandeling. Ik adviseer je contact op te nemen met de winkelmanager of de personeelsfunctionaris van de regio. De namen van de personeelsfunctionarissen en telefoonnummers zijn bekend in de winkel. ^Mike   \n",
       "2020-03-30 10:47:33+00:00  @infoweetjes Er is geen vast moment. Houd de app dus goed in de gaten! ^Robin                                                                                                                                                                                                            \n",
       "2020-03-30 10:51:46+00:00  @LaurensPeijs Dank voor je idee! Maar nee, dit is niet mogelijk. We doen ons best iedereen te voorzien van boodschappen. Maar het is voor ons een hele drukkte tijd.  ^Robin                                                                                                             \n",
       "2020-03-30 10:57:22+00:00  @dennisvankommer  Suuuuper lief van ze! 💙 ^Robin                                                                                                                                                                                                                                         \n",
       "2020-03-30 11:00:03+00:00  @haesebroeck  Hoi! We vragen iedereen, wanneer dat mogelijk is, alleen te komen winkelen. Geen overbodige bezoekjes dus. Mocht het niet anders kunnen is dit zeker mogelijk, wel met een eigen winkelkar. ^Robin                                                                         \n",
       "\n",
       "                                                                                                                                                                                                                                                                                  cleaned_text  \n",
       "created_at                                                                                                                                                                                                                                                                                      \n",
       "2020-03-30 08:04:02+00:00  voorraad is er genoeg het is voor ons echter een logistieke uitdaging om alles op het juiste moment op de juiste plek te hebben hier werken we dag en nacht en met man en macht aan om voor elkaar te krijgen sorry dat dit alsnog een leeg schap opleverd job       \n",
       "2020-03-30 08:14:24+00:00  we doen er alles aan om zoveel mogelijk bezorg en afhaalmomenten vrij te krijgen het kan zijn dat een bezorgmoment al vol zit al vorens je deze kunt inzien klanten met een bezorgbundel kunnen namelijk een week verder inplannen job                               \n",
       "2020-03-30 08:23:12+00:00  klopt de persoonlijke bonus wordt tijdelijk niet meer gegeven wij  geven nu in onze operatie en de winkels prioriteit aan het beschikbaar maken van producten voor de dagelijkse boodschappen job                                                                    \n",
       "2020-03-30 08:26:12+00:00  we kopen groenten en fruit zo dichtbij als mogelijk en zo ver weg als noodzakelijk vooral in de zomer halen we producten uit eigen land in de winter zijn er minder producten beschikbaar en halen we bijvoorbeeld de aardbeien  druiven uit het buitenland job      \n",
       "2020-03-30 08:30:44+00:00  je kunt ons het beste een privebericht sturen als je een vraag hebt   de bezorgmomenten voor de komende 2 weken zijn bijna overal inderdaad volgeboekt we rijden met maximale inzet sorry dat ik je niet beter kan berichten job                                     \n",
       "2020-03-30 09:13:01+00:00  het is inderdaad drukker dan normaal iedere ochtend om 900 komen de beschikbare bezorg momenten online hopelijk kun je er morgen ochtend eentje bemachtigen victor                                                                                                   \n",
       "2020-03-30 09:33:40+00:00  werkze collega  job                                                                                                                                                                                                                                                  \n",
       "2020-03-30 09:44:36+00:00  helaas kun je geen bestelling wijzigen sorry het is alleen mogelijk om de bestelling te annuleren en opnieuw te plaatsen   victor                                                                                                                                    \n",
       "2020-03-30 09:56:44+00:00  hi ohh jeetje  ik kan helaas niet zeggen of je het nog gewoon kunt eten voor de zekerheid toch niet doen kun je ons een dm sturen en vertellen waar je dit prouduct hebt gekocht samen met een foto van de achterkant dan gaan wij op zoek naar een oplossing hilal  \n",
       "2020-03-30 10:08:21+00:00  helaas niet de bezorger zet de boodschappen in deze tijden namelijk bij je voordeur regelt de betaling en rijdt vervolgens weer verder normaliter is dit geen probleem job                                                                                           \n",
       "2020-03-30 10:14:51+00:00  hi linda als klantenservice nemen we deze vragen niet in behandeling ik adviseer je contact op te nemen met de winkelmanager of de personeelsfunctionaris van de regio de namen van de personeelsfunctionarissen en telefoonnummers zijn bekend in de winkel mike    \n",
       "2020-03-30 10:47:33+00:00  er is geen vast moment houd de app dus goed in de gaten robin                                                                                                                                                                                                        \n",
       "2020-03-30 10:51:46+00:00  dank voor je idee maar nee dit is niet mogelijk we doen ons best iedereen te voorzien van boodschappen maar het is voor ons een hele drukkte tijd  robin                                                                                                             \n",
       "2020-03-30 10:57:22+00:00  suuuuper lief van ze  robin                                                                                                                                                                                                                                          \n",
       "2020-03-30 11:00:03+00:00  hoi we vragen iedereen wanneer dat mogelijk is alleen te komen winkelen geen overbodige bezoekjes dus mocht het niet anders kunnen is dit zeker mogelijk wel met een eigen winkelkar robin                                                                           "
      ]
     },
     "execution_count": 42,
     "metadata": {},
     "output_type": "execute_result"
    }
   ],
   "source": [
    "df_concat[['text','cleaned_text']].head(15)"
   ]
  },
  {
   "cell_type": "markdown",
   "metadata": {},
   "source": [
    "In the case of analyzing frequency of words and building Word Cloud is usually more interesting to remove stop words so I'll add a column with cleaned tweets without stop words."
   ]
  },
  {
   "cell_type": "code",
   "execution_count": 43,
   "metadata": {
    "scrolled": false
   },
   "outputs": [],
   "source": [
    "df_concat['cleaned_text_without_stop'] = df_concat['cleaned_text'].apply(remove_stop_words)"
   ]
  },
  {
   "cell_type": "code",
   "execution_count": 44,
   "metadata": {},
   "outputs": [
    {
     "data": {
      "text/html": [
       "<div>\n",
       "<style scoped>\n",
       "    .dataframe tbody tr th:only-of-type {\n",
       "        vertical-align: middle;\n",
       "    }\n",
       "\n",
       "    .dataframe tbody tr th {\n",
       "        vertical-align: top;\n",
       "    }\n",
       "\n",
       "    .dataframe thead th {\n",
       "        text-align: right;\n",
       "    }\n",
       "</style>\n",
       "<table border=\"1\" class=\"dataframe\">\n",
       "  <thead>\n",
       "    <tr style=\"text-align: right;\">\n",
       "      <th></th>\n",
       "      <th>text</th>\n",
       "      <th>cleaned_text</th>\n",
       "      <th>cleaned_text_without_stop</th>\n",
       "    </tr>\n",
       "    <tr>\n",
       "      <th>created_at</th>\n",
       "      <th></th>\n",
       "      <th></th>\n",
       "      <th></th>\n",
       "    </tr>\n",
       "  </thead>\n",
       "  <tbody>\n",
       "    <tr>\n",
       "      <th>2020-03-30 08:04:02+00:00</th>\n",
       "      <td>@derots Voorraad is er genoeg, het is voor ons echter een logistieke uitdaging om alles op het juiste moment op de juiste plek te hebben. Hier werken we dag en nacht en met man en macht aan om voor elkaar te krijgen. Sorry dat dit alsnog een leeg schap opleverd. ^Job</td>\n",
       "      <td>voorraad is er genoeg het is voor ons echter een logistieke uitdaging om alles op het juiste moment op de juiste plek te hebben hier werken we dag en nacht en met man en macht aan om voor elkaar te krijgen sorry dat dit alsnog een leeg schap opleverd job</td>\n",
       "      <td>voorraad genoeg logistieke uitdaging juiste moment juiste plek werken dag nacht man macht elkaar krijgen sorry alsnog leeg schap opleverd job</td>\n",
       "    </tr>\n",
       "    <tr>\n",
       "      <th>2020-03-30 08:14:24+00:00</th>\n",
       "      <td>@MoniquevDBurgh We doen er alles aan om zoveel mogelijk bezorg- en afhaalmomenten vrij te krijgen. Het kan zijn dat een bezorgmoment al vol zit al vorens je deze kunt inzien. Klanten met een Bezorgbundel kunnen namelijk een week verder inplannen. ^Job</td>\n",
       "      <td>we doen er alles aan om zoveel mogelijk bezorg en afhaalmomenten vrij te krijgen het kan zijn dat een bezorgmoment al vol zit al vorens je deze kunt inzien klanten met een bezorgbundel kunnen namelijk een week verder inplannen job</td>\n",
       "      <td>bezorg afhaalmomenten krijgen bezorgmoment vol zit vorens inzien klanten bezorgbundel namelijk week inplannen job</td>\n",
       "    </tr>\n",
       "    <tr>\n",
       "      <th>2020-03-30 08:23:12+00:00</th>\n",
       "      <td>@AnnekeVisser15 Klopt! De Persoonlijke Bonus wordt tijdelijk niet meer gegeven. Wij  geven nu in onze operatie en de winkels prioriteit aan het beschikbaar maken van producten voor de dagelijkse boodschappen. ^Job</td>\n",
       "      <td>klopt de persoonlijke bonus wordt tijdelijk niet meer gegeven wij  geven nu in onze operatie en de winkels prioriteit aan het beschikbaar maken van producten voor de dagelijkse boodschappen job</td>\n",
       "      <td>klopt persoonlijke bonus tijdelijk   operatie winkels prioriteit beschikbaar maken producten dagelijkse boodschappen job</td>\n",
       "    </tr>\n",
       "    <tr>\n",
       "      <th>2020-03-30 08:26:12+00:00</th>\n",
       "      <td>@waltervantiel    We kopen groenten en fruit zo dichtbij als mogelijk en zo ver weg als noodzakelijk. Vooral in de zomer halen we producten uit eigen land. In de winter zijn er minder producten beschikbaar en halen we bijvoorbeeld de aardbeien / druiven uit het buitenland. ^Job</td>\n",
       "      <td>we kopen groenten en fruit zo dichtbij als mogelijk en zo ver weg als noodzakelijk vooral in de zomer halen we producten uit eigen land in de winter zijn er minder producten beschikbaar en halen we bijvoorbeeld de aardbeien  druiven uit het buitenland job</td>\n",
       "      <td>kopen groenten fruit dichtbij ver noodzakelijk zomer halen producten land winter producten beschikbaar halen aardbeien   druiven buitenland job</td>\n",
       "    </tr>\n",
       "    <tr>\n",
       "      <th>2020-03-30 08:30:44+00:00</th>\n",
       "      <td>@bbstring Je kunt ons het beste een privébericht sturen als je een vraag hebt (Twitter, Facebook, Whatsapp). De bezorgmomenten voor de komende 2 weken zijn bijna overal inderdaad volgeboekt.. We rijden met maximale inzet, sorry dat ik je niet beter kan berichten! ^Job</td>\n",
       "      <td>je kunt ons het beste een privebericht sturen als je een vraag hebt   de bezorgmomenten voor de komende 2 weken zijn bijna overal inderdaad volgeboekt we rijden met maximale inzet sorry dat ik je niet beter kan berichten job</td>\n",
       "      <td>beste privebericht sturen vraag    bezorgmomenten komende 2 weken overal inderdaad volgeboekt rijden maximale inzet sorry berichten job</td>\n",
       "    </tr>\n",
       "    <tr>\n",
       "      <th>2020-03-30 09:13:01+00:00</th>\n",
       "      <td>@De_Neliz Het is inderdaad drukker dan normaal! Iedere ochtend om 9:00 komen de beschikbare bezorg momenten online. Hopelijk kun je er morgen ochtend eentje bemachtigen. ^Victor</td>\n",
       "      <td>het is inderdaad drukker dan normaal iedere ochtend om 900 komen de beschikbare bezorg momenten online hopelijk kun je er morgen ochtend eentje bemachtigen victor</td>\n",
       "      <td>inderdaad drukker normaal iedere ochtend 900 komen beschikbare bezorg momenten online hopelijk kun morgen ochtend eentje bemachtigen victor</td>\n",
       "    </tr>\n",
       "    <tr>\n",
       "      <th>2020-03-30 09:33:40+00:00</th>\n",
       "      <td>@Bryan65165100 Werkze, collega!💙 #wedoenhetsamen ^Job</td>\n",
       "      <td>werkze collega  job</td>\n",
       "      <td>werkze collega   job</td>\n",
       "    </tr>\n",
       "    <tr>\n",
       "      <th>2020-03-30 09:44:36+00:00</th>\n",
       "      <td>@xelysemelissa Helaas kun je geen bestelling wijzigen, sorry. Het is alleen mogelijk om de bestelling te annuleren en opnieuw te plaatsen (mits er nog plek is). ^Victor</td>\n",
       "      <td>helaas kun je geen bestelling wijzigen sorry het is alleen mogelijk om de bestelling te annuleren en opnieuw te plaatsen   victor</td>\n",
       "      <td>helaas kun bestelling wijzigen sorry bestelling annuleren plaatsen    victor</td>\n",
       "    </tr>\n",
       "    <tr>\n",
       "      <th>2020-03-30 09:56:44+00:00</th>\n",
       "      <td>@AladindaA Hi! Ohh jeetje 🙊 Ik kan helaas niet zeggen of je het nog gewoon kunt eten, voor de zekerheid toch niet doen! Kun je ons een DM sturen en vertellen waar je dit prouduct hebt gekocht samen met een foto van de achterkant? Dan gaan wij op zoek naar een oplossing! ^Hilal</td>\n",
       "      <td>hi ohh jeetje  ik kan helaas niet zeggen of je het nog gewoon kunt eten voor de zekerheid toch niet doen kun je ons een dm sturen en vertellen waar je dit prouduct hebt gekocht samen met een foto van de achterkant dan gaan wij op zoek naar een oplossing hilal</td>\n",
       "      <td>hi ohh jeetje   helaas zeggen eten zekerheid kun dm sturen vertellen prouduct gekocht samen foto achterkant gaan zoek oplossing hilal</td>\n",
       "    </tr>\n",
       "    <tr>\n",
       "      <th>2020-03-30 10:08:21+00:00</th>\n",
       "      <td>@kyyayaya Helaas niet, de bezorger zet de boodschappen in deze tijden namelijk bij je voordeur, regelt de betaling en rijdt vervolgens weer verder. Normaliter is dit geen probleem! ^Job</td>\n",
       "      <td>helaas niet de bezorger zet de boodschappen in deze tijden namelijk bij je voordeur regelt de betaling en rijdt vervolgens weer verder normaliter is dit geen probleem job</td>\n",
       "      <td>helaas bezorger zet boodschappen tijden namelijk voordeur regelt betaling rijdt normaliter probleem job</td>\n",
       "    </tr>\n",
       "    <tr>\n",
       "      <th>2020-03-30 10:14:51+00:00</th>\n",
       "      <td>@lindadenbraber Hi Linda, als klantenservice nemen we deze vragen niet in behandeling. Ik adviseer je contact op te nemen met de winkelmanager of de personeelsfunctionaris van de regio. De namen van de personeelsfunctionarissen en telefoonnummers zijn bekend in de winkel. ^Mike</td>\n",
       "      <td>hi linda als klantenservice nemen we deze vragen niet in behandeling ik adviseer je contact op te nemen met de winkelmanager of de personeelsfunctionaris van de regio de namen van de personeelsfunctionarissen en telefoonnummers zijn bekend in de winkel mike</td>\n",
       "      <td>hi linda klantenservice nemen vragen behandeling adviseer contact nemen winkelmanager personeelsfunctionaris regio namen personeelsfunctionarissen telefoonnummers bekend winkel mike</td>\n",
       "    </tr>\n",
       "    <tr>\n",
       "      <th>2020-03-30 10:47:33+00:00</th>\n",
       "      <td>@infoweetjes Er is geen vast moment. Houd de app dus goed in de gaten! ^Robin</td>\n",
       "      <td>er is geen vast moment houd de app dus goed in de gaten robin</td>\n",
       "      <td>vast moment houd app goed gaten robin</td>\n",
       "    </tr>\n",
       "    <tr>\n",
       "      <th>2020-03-30 10:51:46+00:00</th>\n",
       "      <td>@LaurensPeijs Dank voor je idee! Maar nee, dit is niet mogelijk. We doen ons best iedereen te voorzien van boodschappen. Maar het is voor ons een hele drukkte tijd.  ^Robin</td>\n",
       "      <td>dank voor je idee maar nee dit is niet mogelijk we doen ons best iedereen te voorzien van boodschappen maar het is voor ons een hele drukkte tijd  robin</td>\n",
       "      <td>dank idee nee best iedereen voorzien boodschappen drukkte tijd   robin</td>\n",
       "    </tr>\n",
       "    <tr>\n",
       "      <th>2020-03-30 10:57:22+00:00</th>\n",
       "      <td>@dennisvankommer  Suuuuper lief van ze! 💙 ^Robin</td>\n",
       "      <td>suuuuper lief van ze  robin</td>\n",
       "      <td>suuuuper lief   robin</td>\n",
       "    </tr>\n",
       "    <tr>\n",
       "      <th>2020-03-30 11:00:03+00:00</th>\n",
       "      <td>@haesebroeck  Hoi! We vragen iedereen, wanneer dat mogelijk is, alleen te komen winkelen. Geen overbodige bezoekjes dus. Mocht het niet anders kunnen is dit zeker mogelijk, wel met een eigen winkelkar. ^Robin</td>\n",
       "      <td>hoi we vragen iedereen wanneer dat mogelijk is alleen te komen winkelen geen overbodige bezoekjes dus mocht het niet anders kunnen is dit zeker mogelijk wel met een eigen winkelkar robin</td>\n",
       "      <td>hoi vragen iedereen komen winkelen overbodige bezoekjes winkelkar robin</td>\n",
       "    </tr>\n",
       "  </tbody>\n",
       "</table>\n",
       "</div>"
      ],
      "text/plain": [
       "                                                                                                                                                                                                                                                                                                             text  \\\n",
       "created_at                                                                                                                                                                                                                                                                                                          \n",
       "2020-03-30 08:04:02+00:00  @derots Voorraad is er genoeg, het is voor ons echter een logistieke uitdaging om alles op het juiste moment op de juiste plek te hebben. Hier werken we dag en nacht en met man en macht aan om voor elkaar te krijgen. Sorry dat dit alsnog een leeg schap opleverd. ^Job              \n",
       "2020-03-30 08:14:24+00:00  @MoniquevDBurgh We doen er alles aan om zoveel mogelijk bezorg- en afhaalmomenten vrij te krijgen. Het kan zijn dat een bezorgmoment al vol zit al vorens je deze kunt inzien. Klanten met een Bezorgbundel kunnen namelijk een week verder inplannen. ^Job                              \n",
       "2020-03-30 08:23:12+00:00  @AnnekeVisser15 Klopt! De Persoonlijke Bonus wordt tijdelijk niet meer gegeven. Wij  geven nu in onze operatie en de winkels prioriteit aan het beschikbaar maken van producten voor de dagelijkse boodschappen. ^Job                                                                    \n",
       "2020-03-30 08:26:12+00:00  @waltervantiel    We kopen groenten en fruit zo dichtbij als mogelijk en zo ver weg als noodzakelijk. Vooral in de zomer halen we producten uit eigen land. In de winter zijn er minder producten beschikbaar en halen we bijvoorbeeld de aardbeien / druiven uit het buitenland. ^Job   \n",
       "2020-03-30 08:30:44+00:00  @bbstring Je kunt ons het beste een privébericht sturen als je een vraag hebt (Twitter, Facebook, Whatsapp). De bezorgmomenten voor de komende 2 weken zijn bijna overal inderdaad volgeboekt.. We rijden met maximale inzet, sorry dat ik je niet beter kan berichten! ^Job             \n",
       "2020-03-30 09:13:01+00:00  @De_Neliz Het is inderdaad drukker dan normaal! Iedere ochtend om 9:00 komen de beschikbare bezorg momenten online. Hopelijk kun je er morgen ochtend eentje bemachtigen. ^Victor                                                                                                        \n",
       "2020-03-30 09:33:40+00:00  @Bryan65165100 Werkze, collega!💙 #wedoenhetsamen ^Job                                                                                                                                                                                                                                    \n",
       "2020-03-30 09:44:36+00:00  @xelysemelissa Helaas kun je geen bestelling wijzigen, sorry. Het is alleen mogelijk om de bestelling te annuleren en opnieuw te plaatsen (mits er nog plek is). ^Victor                                                                                                                 \n",
       "2020-03-30 09:56:44+00:00  @AladindaA Hi! Ohh jeetje 🙊 Ik kan helaas niet zeggen of je het nog gewoon kunt eten, voor de zekerheid toch niet doen! Kun je ons een DM sturen en vertellen waar je dit prouduct hebt gekocht samen met een foto van de achterkant? Dan gaan wij op zoek naar een oplossing! ^Hilal    \n",
       "2020-03-30 10:08:21+00:00  @kyyayaya Helaas niet, de bezorger zet de boodschappen in deze tijden namelijk bij je voordeur, regelt de betaling en rijdt vervolgens weer verder. Normaliter is dit geen probleem! ^Job                                                                                                \n",
       "2020-03-30 10:14:51+00:00  @lindadenbraber Hi Linda, als klantenservice nemen we deze vragen niet in behandeling. Ik adviseer je contact op te nemen met de winkelmanager of de personeelsfunctionaris van de regio. De namen van de personeelsfunctionarissen en telefoonnummers zijn bekend in de winkel. ^Mike   \n",
       "2020-03-30 10:47:33+00:00  @infoweetjes Er is geen vast moment. Houd de app dus goed in de gaten! ^Robin                                                                                                                                                                                                            \n",
       "2020-03-30 10:51:46+00:00  @LaurensPeijs Dank voor je idee! Maar nee, dit is niet mogelijk. We doen ons best iedereen te voorzien van boodschappen. Maar het is voor ons een hele drukkte tijd.  ^Robin                                                                                                             \n",
       "2020-03-30 10:57:22+00:00  @dennisvankommer  Suuuuper lief van ze! 💙 ^Robin                                                                                                                                                                                                                                         \n",
       "2020-03-30 11:00:03+00:00  @haesebroeck  Hoi! We vragen iedereen, wanneer dat mogelijk is, alleen te komen winkelen. Geen overbodige bezoekjes dus. Mocht het niet anders kunnen is dit zeker mogelijk, wel met een eigen winkelkar. ^Robin                                                                         \n",
       "\n",
       "                                                                                                                                                                                                                                                                                  cleaned_text  \\\n",
       "created_at                                                                                                                                                                                                                                                                                       \n",
       "2020-03-30 08:04:02+00:00  voorraad is er genoeg het is voor ons echter een logistieke uitdaging om alles op het juiste moment op de juiste plek te hebben hier werken we dag en nacht en met man en macht aan om voor elkaar te krijgen sorry dat dit alsnog een leeg schap opleverd job        \n",
       "2020-03-30 08:14:24+00:00  we doen er alles aan om zoveel mogelijk bezorg en afhaalmomenten vrij te krijgen het kan zijn dat een bezorgmoment al vol zit al vorens je deze kunt inzien klanten met een bezorgbundel kunnen namelijk een week verder inplannen job                                \n",
       "2020-03-30 08:23:12+00:00  klopt de persoonlijke bonus wordt tijdelijk niet meer gegeven wij  geven nu in onze operatie en de winkels prioriteit aan het beschikbaar maken van producten voor de dagelijkse boodschappen job                                                                     \n",
       "2020-03-30 08:26:12+00:00  we kopen groenten en fruit zo dichtbij als mogelijk en zo ver weg als noodzakelijk vooral in de zomer halen we producten uit eigen land in de winter zijn er minder producten beschikbaar en halen we bijvoorbeeld de aardbeien  druiven uit het buitenland job       \n",
       "2020-03-30 08:30:44+00:00  je kunt ons het beste een privebericht sturen als je een vraag hebt   de bezorgmomenten voor de komende 2 weken zijn bijna overal inderdaad volgeboekt we rijden met maximale inzet sorry dat ik je niet beter kan berichten job                                      \n",
       "2020-03-30 09:13:01+00:00  het is inderdaad drukker dan normaal iedere ochtend om 900 komen de beschikbare bezorg momenten online hopelijk kun je er morgen ochtend eentje bemachtigen victor                                                                                                    \n",
       "2020-03-30 09:33:40+00:00  werkze collega  job                                                                                                                                                                                                                                                   \n",
       "2020-03-30 09:44:36+00:00  helaas kun je geen bestelling wijzigen sorry het is alleen mogelijk om de bestelling te annuleren en opnieuw te plaatsen   victor                                                                                                                                     \n",
       "2020-03-30 09:56:44+00:00  hi ohh jeetje  ik kan helaas niet zeggen of je het nog gewoon kunt eten voor de zekerheid toch niet doen kun je ons een dm sturen en vertellen waar je dit prouduct hebt gekocht samen met een foto van de achterkant dan gaan wij op zoek naar een oplossing hilal   \n",
       "2020-03-30 10:08:21+00:00  helaas niet de bezorger zet de boodschappen in deze tijden namelijk bij je voordeur regelt de betaling en rijdt vervolgens weer verder normaliter is dit geen probleem job                                                                                            \n",
       "2020-03-30 10:14:51+00:00  hi linda als klantenservice nemen we deze vragen niet in behandeling ik adviseer je contact op te nemen met de winkelmanager of de personeelsfunctionaris van de regio de namen van de personeelsfunctionarissen en telefoonnummers zijn bekend in de winkel mike     \n",
       "2020-03-30 10:47:33+00:00  er is geen vast moment houd de app dus goed in de gaten robin                                                                                                                                                                                                         \n",
       "2020-03-30 10:51:46+00:00  dank voor je idee maar nee dit is niet mogelijk we doen ons best iedereen te voorzien van boodschappen maar het is voor ons een hele drukkte tijd  robin                                                                                                              \n",
       "2020-03-30 10:57:22+00:00  suuuuper lief van ze  robin                                                                                                                                                                                                                                           \n",
       "2020-03-30 11:00:03+00:00  hoi we vragen iedereen wanneer dat mogelijk is alleen te komen winkelen geen overbodige bezoekjes dus mocht het niet anders kunnen is dit zeker mogelijk wel met een eigen winkelkar robin                                                                            \n",
       "\n",
       "                                                                                                                                                                                       cleaned_text_without_stop  \n",
       "created_at                                                                                                                                                                                                        \n",
       "2020-03-30 08:04:02+00:00  voorraad genoeg logistieke uitdaging juiste moment juiste plek werken dag nacht man macht elkaar krijgen sorry alsnog leeg schap opleverd job                                          \n",
       "2020-03-30 08:14:24+00:00  bezorg afhaalmomenten krijgen bezorgmoment vol zit vorens inzien klanten bezorgbundel namelijk week inplannen job                                                                      \n",
       "2020-03-30 08:23:12+00:00  klopt persoonlijke bonus tijdelijk   operatie winkels prioriteit beschikbaar maken producten dagelijkse boodschappen job                                                               \n",
       "2020-03-30 08:26:12+00:00  kopen groenten fruit dichtbij ver noodzakelijk zomer halen producten land winter producten beschikbaar halen aardbeien   druiven buitenland job                                        \n",
       "2020-03-30 08:30:44+00:00  beste privebericht sturen vraag    bezorgmomenten komende 2 weken overal inderdaad volgeboekt rijden maximale inzet sorry berichten job                                                \n",
       "2020-03-30 09:13:01+00:00  inderdaad drukker normaal iedere ochtend 900 komen beschikbare bezorg momenten online hopelijk kun morgen ochtend eentje bemachtigen victor                                            \n",
       "2020-03-30 09:33:40+00:00  werkze collega   job                                                                                                                                                                   \n",
       "2020-03-30 09:44:36+00:00  helaas kun bestelling wijzigen sorry bestelling annuleren plaatsen    victor                                                                                                           \n",
       "2020-03-30 09:56:44+00:00  hi ohh jeetje   helaas zeggen eten zekerheid kun dm sturen vertellen prouduct gekocht samen foto achterkant gaan zoek oplossing hilal                                                  \n",
       "2020-03-30 10:08:21+00:00  helaas bezorger zet boodschappen tijden namelijk voordeur regelt betaling rijdt normaliter probleem job                                                                                \n",
       "2020-03-30 10:14:51+00:00  hi linda klantenservice nemen vragen behandeling adviseer contact nemen winkelmanager personeelsfunctionaris regio namen personeelsfunctionarissen telefoonnummers bekend winkel mike  \n",
       "2020-03-30 10:47:33+00:00  vast moment houd app goed gaten robin                                                                                                                                                  \n",
       "2020-03-30 10:51:46+00:00  dank idee nee best iedereen voorzien boodschappen drukkte tijd   robin                                                                                                                 \n",
       "2020-03-30 10:57:22+00:00  suuuuper lief   robin                                                                                                                                                                  \n",
       "2020-03-30 11:00:03+00:00  hoi vragen iedereen komen winkelen overbodige bezoekjes winkelkar robin                                                                                                                "
      ]
     },
     "execution_count": 44,
     "metadata": {},
     "output_type": "execute_result"
    }
   ],
   "source": [
    "df_concat[['text','cleaned_text','cleaned_text_without_stop']].head(15)"
   ]
  },
  {
   "cell_type": "code",
   "execution_count": 45,
   "metadata": {},
   "outputs": [],
   "source": [
    "# save result in csv\n",
    "\n",
    "df_concat.to_csv(\"../data/processed/tweets_300320_240620_selected_features_cleaned_\"+TodaysDate+\".csv\")"
   ]
  },
  {
   "cell_type": "markdown",
   "metadata": {},
   "source": [
    "# Calculating Sentiment\n",
    "\n",
    "Now is time to complete our data for analysis. We will use `textblob-nl` to calculate `sentiment` of each Tweet that was already cleaned. \n",
    "\n",
    "First, a little example of the use of `textblob-nl`:"
   ]
  },
  {
   "cell_type": "code",
   "execution_count": 46,
   "metadata": {},
   "outputs": [
    {
     "data": {
      "text/plain": [
       "(-0.1, 0.4)"
      ]
     },
     "execution_count": 46,
     "metadata": {},
     "output_type": "execute_result"
    }
   ],
   "source": [
    "from textblob import TextBlob\n",
    "from textblob_nl import PatternTagger, PatternAnalyzer\n",
    "text = u\"De kat wil wel vis eten maar geen poot nat maken.\"\n",
    "blob = TextBlob(text, analyzer=PatternAnalyzer())\n",
    "blob.sentiment"
   ]
  },
  {
   "cell_type": "markdown",
   "metadata": {},
   "source": [
    "The 1st element of the tuple is the `polarity` of the text while the 2nd element is the `subjectivity` of the text.\n",
    "\n",
    "The `polarity` score is a float within the range [-1.0, 1.0]. The `subjectivity` is a float within the range [0.0, 1.0] where 0.0 is very objective and 1.0 is very subjective."
   ]
  },
  {
   "cell_type": "code",
   "execution_count": 47,
   "metadata": {},
   "outputs": [],
   "source": [
    "def calculate_sentiment(text):\n",
    "    \"\"\" Calculate sentiment, i.e., polarity and subjectivity scores of a text \"\"\"\n",
    "    \n",
    "    blob = TextBlob(text, analyzer=PatternAnalyzer())\n",
    "    \n",
    "    polarity = blob.sentiment[0]\n",
    "    subjectivity = blob.sentiment[1]\n",
    "    \n",
    "    return round(polarity,2), round(subjectivity,2)\n",
    "\n",
    "def classify_sentiment(polarity_score):\n",
    "    \"\"\" Classify sentiment in positive, negative, or neutral based on polarity score \"\"\"\n",
    "    \n",
    "    if polarity_score > 0.00:\n",
    "        sentiment = 'positive'\n",
    "    elif polarity_score < 0.00:\n",
    "        sentiment = 'negative'\n",
    "    else:\n",
    "        sentiment = 'neutral'\n",
    "        \n",
    "    return sentiment"
   ]
  },
  {
   "cell_type": "code",
   "execution_count": 48,
   "metadata": {},
   "outputs": [],
   "source": [
    "df_concat['polarity'] = df_concat['text'].apply(lambda x: calculate_sentiment(x)[0])\n",
    "\n",
    "df_concat['sentiment'] = df_concat['polarity'].apply(classify_sentiment)"
   ]
  },
  {
   "cell_type": "code",
   "execution_count": 49,
   "metadata": {},
   "outputs": [
    {
     "data": {
      "text/html": [
       "<div>\n",
       "<style scoped>\n",
       "    .dataframe tbody tr th:only-of-type {\n",
       "        vertical-align: middle;\n",
       "    }\n",
       "\n",
       "    .dataframe tbody tr th {\n",
       "        vertical-align: top;\n",
       "    }\n",
       "\n",
       "    .dataframe thead th {\n",
       "        text-align: right;\n",
       "    }\n",
       "</style>\n",
       "<table border=\"1\" class=\"dataframe\">\n",
       "  <thead>\n",
       "    <tr style=\"text-align: right;\">\n",
       "      <th></th>\n",
       "      <th>text</th>\n",
       "      <th>cleaned_text</th>\n",
       "      <th>polarity</th>\n",
       "      <th>sentiment</th>\n",
       "    </tr>\n",
       "    <tr>\n",
       "      <th>created_at</th>\n",
       "      <th></th>\n",
       "      <th></th>\n",
       "      <th></th>\n",
       "      <th></th>\n",
       "    </tr>\n",
       "  </thead>\n",
       "  <tbody>\n",
       "    <tr>\n",
       "      <th>2020-03-30 08:04:02+00:00</th>\n",
       "      <td>@derots Voorraad is er genoeg, het is voor ons echter een logistieke uitdaging om alles op het juiste moment op de juiste plek te hebben. Hier werken we dag en nacht en met man en macht aan om voor elkaar te krijgen. Sorry dat dit alsnog een leeg schap opleverd. ^Job</td>\n",
       "      <td>voorraad is er genoeg het is voor ons echter een logistieke uitdaging om alles op het juiste moment op de juiste plek te hebben hier werken we dag en nacht en met man en macht aan om voor elkaar te krijgen sorry dat dit alsnog een leeg schap opleverd job</td>\n",
       "      <td>0.16</td>\n",
       "      <td>positive</td>\n",
       "    </tr>\n",
       "    <tr>\n",
       "      <th>2020-03-30 08:14:24+00:00</th>\n",
       "      <td>@MoniquevDBurgh We doen er alles aan om zoveel mogelijk bezorg- en afhaalmomenten vrij te krijgen. Het kan zijn dat een bezorgmoment al vol zit al vorens je deze kunt inzien. Klanten met een Bezorgbundel kunnen namelijk een week verder inplannen. ^Job</td>\n",
       "      <td>we doen er alles aan om zoveel mogelijk bezorg en afhaalmomenten vrij te krijgen het kan zijn dat een bezorgmoment al vol zit al vorens je deze kunt inzien klanten met een bezorgbundel kunnen namelijk een week verder inplannen job</td>\n",
       "      <td>0.22</td>\n",
       "      <td>positive</td>\n",
       "    </tr>\n",
       "    <tr>\n",
       "      <th>2020-03-30 08:23:12+00:00</th>\n",
       "      <td>@AnnekeVisser15 Klopt! De Persoonlijke Bonus wordt tijdelijk niet meer gegeven. Wij  geven nu in onze operatie en de winkels prioriteit aan het beschikbaar maken van producten voor de dagelijkse boodschappen. ^Job</td>\n",
       "      <td>klopt de persoonlijke bonus wordt tijdelijk niet meer gegeven wij  geven nu in onze operatie en de winkels prioriteit aan het beschikbaar maken van producten voor de dagelijkse boodschappen job</td>\n",
       "      <td>0.12</td>\n",
       "      <td>positive</td>\n",
       "    </tr>\n",
       "    <tr>\n",
       "      <th>2020-03-30 08:26:12+00:00</th>\n",
       "      <td>@waltervantiel    We kopen groenten en fruit zo dichtbij als mogelijk en zo ver weg als noodzakelijk. Vooral in de zomer halen we producten uit eigen land. In de winter zijn er minder producten beschikbaar en halen we bijvoorbeeld de aardbeien / druiven uit het buitenland. ^Job</td>\n",
       "      <td>we kopen groenten en fruit zo dichtbij als mogelijk en zo ver weg als noodzakelijk vooral in de zomer halen we producten uit eigen land in de winter zijn er minder producten beschikbaar en halen we bijvoorbeeld de aardbeien  druiven uit het buitenland job</td>\n",
       "      <td>0.13</td>\n",
       "      <td>positive</td>\n",
       "    </tr>\n",
       "    <tr>\n",
       "      <th>2020-03-30 08:30:44+00:00</th>\n",
       "      <td>@bbstring Je kunt ons het beste een privébericht sturen als je een vraag hebt (Twitter, Facebook, Whatsapp). De bezorgmomenten voor de komende 2 weken zijn bijna overal inderdaad volgeboekt.. We rijden met maximale inzet, sorry dat ik je niet beter kan berichten! ^Job</td>\n",
       "      <td>je kunt ons het beste een privebericht sturen als je een vraag hebt   de bezorgmomenten voor de komende 2 weken zijn bijna overal inderdaad volgeboekt we rijden met maximale inzet sorry dat ik je niet beter kan berichten job</td>\n",
       "      <td>0.21</td>\n",
       "      <td>positive</td>\n",
       "    </tr>\n",
       "    <tr>\n",
       "      <th>...</th>\n",
       "      <td>...</td>\n",
       "      <td>...</td>\n",
       "      <td>...</td>\n",
       "      <td>...</td>\n",
       "    </tr>\n",
       "    <tr>\n",
       "      <th>2020-06-24 13:56:42+00:00</th>\n",
       "      <td>@jaantje75 Hallo, we zien dat je bericht er tussendoor is gegaan. Sorry hiervoor! Als je bij je Jumbo Extra's app en de Jumbo boodschappen app hetzelfde e-mailadres gebruikt, worden deze automatisch gekoppeld. Zonnige dag gewenst! ^EK</td>\n",
       "      <td>hallo we zien dat je bericht er tussendoor is gegaan sorry hiervoor als je bij je jumbo extras app en de jumbo boodschappen app hetzelfde emailadres gebruikt worden deze automatisch gekoppeld zonnige dag gewenst ek</td>\n",
       "      <td>0.30</td>\n",
       "      <td>positive</td>\n",
       "    </tr>\n",
       "    <tr>\n",
       "      <th>2020-06-24 14:32:41+00:00</th>\n",
       "      <td>@zomaareendame Oh jee! Dat kan bij mij. Als je ons een privéberichtje stuurt pak ik het daar verder op 💙 ^Yasmine</td>\n",
       "      <td>oh jee dat kan bij mij als je ons een priveberichtje stuurt pak ik het daar verder op  yasmine</td>\n",
       "      <td>0.00</td>\n",
       "      <td>neutral</td>\n",
       "    </tr>\n",
       "    <tr>\n",
       "      <th>2020-06-24 14:34:45+00:00</th>\n",
       "      <td>@RuudVeHa Ik stuur je even een privébericht zodat ik je hier meer over kan vertellen Ruud! ^Mylène</td>\n",
       "      <td>ik stuur je even een privebericht zodat ik je hier meer over kan vertellen ruud mylene</td>\n",
       "      <td>0.00</td>\n",
       "      <td>neutral</td>\n",
       "    </tr>\n",
       "    <tr>\n",
       "      <th>2020-06-24 14:36:47+00:00</th>\n",
       "      <td>@marzman95 Hi! Je kan deze zegels combineren. In de winkel kunnen jouw fysieke Koopzegels omgezet worden naar digitale Koopzegels. Dit kan bij de servicebalie. Volle Koopzegel boekjes kunnen niet worden omgezet naar digitale Koopzegels, hier zit namelijk al €3,- premie op.^Liza</td>\n",
       "      <td>hi je kan deze zegels combineren in de winkel kunnen jouw fysieke koopzegels omgezet worden naar digitale koopzegels dit kan bij de servicebalie volle koopzegel boekjes kunnen niet worden omgezet naar digitale koopzegels hier zit namelijk al 3 premie opliza</td>\n",
       "      <td>0.08</td>\n",
       "      <td>positive</td>\n",
       "    </tr>\n",
       "    <tr>\n",
       "      <th>2020-06-24 15:06:54+00:00</th>\n",
       "      <td>@Tiezzymeister Hi, ik heb even voor je gekeken! De enige korting die ik kan vinden is 10% korting vanaf 6 stuks voor de Jillz Raspberry, die normaal €3.25 kost 😅 Hopelijk heb je er iets aan, nog een fijne avond! 🍀^Henok</td>\n",
       "      <td>hi ik heb even voor je gekeken de enige korting die ik kan vinden is 10 korting vanaf 6 stuks voor de jillz raspberry die normaal 325 kost  hopelijk heb je er iets aan nog een fijne avond henok</td>\n",
       "      <td>0.38</td>\n",
       "      <td>positive</td>\n",
       "    </tr>\n",
       "  </tbody>\n",
       "</table>\n",
       "<p>6034 rows × 4 columns</p>\n",
       "</div>"
      ],
      "text/plain": [
       "                                                                                                                                                                                                                                                                                                             text  \\\n",
       "created_at                                                                                                                                                                                                                                                                                                          \n",
       "2020-03-30 08:04:02+00:00  @derots Voorraad is er genoeg, het is voor ons echter een logistieke uitdaging om alles op het juiste moment op de juiste plek te hebben. Hier werken we dag en nacht en met man en macht aan om voor elkaar te krijgen. Sorry dat dit alsnog een leeg schap opleverd. ^Job              \n",
       "2020-03-30 08:14:24+00:00  @MoniquevDBurgh We doen er alles aan om zoveel mogelijk bezorg- en afhaalmomenten vrij te krijgen. Het kan zijn dat een bezorgmoment al vol zit al vorens je deze kunt inzien. Klanten met een Bezorgbundel kunnen namelijk een week verder inplannen. ^Job                              \n",
       "2020-03-30 08:23:12+00:00  @AnnekeVisser15 Klopt! De Persoonlijke Bonus wordt tijdelijk niet meer gegeven. Wij  geven nu in onze operatie en de winkels prioriteit aan het beschikbaar maken van producten voor de dagelijkse boodschappen. ^Job                                                                    \n",
       "2020-03-30 08:26:12+00:00  @waltervantiel    We kopen groenten en fruit zo dichtbij als mogelijk en zo ver weg als noodzakelijk. Vooral in de zomer halen we producten uit eigen land. In de winter zijn er minder producten beschikbaar en halen we bijvoorbeeld de aardbeien / druiven uit het buitenland. ^Job   \n",
       "2020-03-30 08:30:44+00:00  @bbstring Je kunt ons het beste een privébericht sturen als je een vraag hebt (Twitter, Facebook, Whatsapp). De bezorgmomenten voor de komende 2 weken zijn bijna overal inderdaad volgeboekt.. We rijden met maximale inzet, sorry dat ik je niet beter kan berichten! ^Job             \n",
       "...                                                                                                                                                                                                                                                                                                           ...   \n",
       "2020-06-24 13:56:42+00:00  @jaantje75 Hallo, we zien dat je bericht er tussendoor is gegaan. Sorry hiervoor! Als je bij je Jumbo Extra's app en de Jumbo boodschappen app hetzelfde e-mailadres gebruikt, worden deze automatisch gekoppeld. Zonnige dag gewenst! ^EK                                               \n",
       "2020-06-24 14:32:41+00:00  @zomaareendame Oh jee! Dat kan bij mij. Als je ons een privéberichtje stuurt pak ik het daar verder op 💙 ^Yasmine                                                                                                                                                                        \n",
       "2020-06-24 14:34:45+00:00  @RuudVeHa Ik stuur je even een privébericht zodat ik je hier meer over kan vertellen Ruud! ^Mylène                                                                                                                                                                                       \n",
       "2020-06-24 14:36:47+00:00  @marzman95 Hi! Je kan deze zegels combineren. In de winkel kunnen jouw fysieke Koopzegels omgezet worden naar digitale Koopzegels. Dit kan bij de servicebalie. Volle Koopzegel boekjes kunnen niet worden omgezet naar digitale Koopzegels, hier zit namelijk al €3,- premie op.^Liza   \n",
       "2020-06-24 15:06:54+00:00  @Tiezzymeister Hi, ik heb even voor je gekeken! De enige korting die ik kan vinden is 10% korting vanaf 6 stuks voor de Jillz Raspberry, die normaal €3.25 kost 😅 Hopelijk heb je er iets aan, nog een fijne avond! 🍀^Henok                                                              \n",
       "\n",
       "                                                                                                                                                                                                                                                                                cleaned_text  \\\n",
       "created_at                                                                                                                                                                                                                                                                                     \n",
       "2020-03-30 08:04:02+00:00  voorraad is er genoeg het is voor ons echter een logistieke uitdaging om alles op het juiste moment op de juiste plek te hebben hier werken we dag en nacht en met man en macht aan om voor elkaar te krijgen sorry dat dit alsnog een leeg schap opleverd job      \n",
       "2020-03-30 08:14:24+00:00  we doen er alles aan om zoveel mogelijk bezorg en afhaalmomenten vrij te krijgen het kan zijn dat een bezorgmoment al vol zit al vorens je deze kunt inzien klanten met een bezorgbundel kunnen namelijk een week verder inplannen job                              \n",
       "2020-03-30 08:23:12+00:00  klopt de persoonlijke bonus wordt tijdelijk niet meer gegeven wij  geven nu in onze operatie en de winkels prioriteit aan het beschikbaar maken van producten voor de dagelijkse boodschappen job                                                                   \n",
       "2020-03-30 08:26:12+00:00  we kopen groenten en fruit zo dichtbij als mogelijk en zo ver weg als noodzakelijk vooral in de zomer halen we producten uit eigen land in de winter zijn er minder producten beschikbaar en halen we bijvoorbeeld de aardbeien  druiven uit het buitenland job     \n",
       "2020-03-30 08:30:44+00:00  je kunt ons het beste een privebericht sturen als je een vraag hebt   de bezorgmomenten voor de komende 2 weken zijn bijna overal inderdaad volgeboekt we rijden met maximale inzet sorry dat ik je niet beter kan berichten job                                    \n",
       "...                                                                                                                                                                                                                                                                                    ...     \n",
       "2020-06-24 13:56:42+00:00  hallo we zien dat je bericht er tussendoor is gegaan sorry hiervoor als je bij je jumbo extras app en de jumbo boodschappen app hetzelfde emailadres gebruikt worden deze automatisch gekoppeld zonnige dag gewenst ek                                              \n",
       "2020-06-24 14:32:41+00:00  oh jee dat kan bij mij als je ons een priveberichtje stuurt pak ik het daar verder op  yasmine                                                                                                                                                                      \n",
       "2020-06-24 14:34:45+00:00  ik stuur je even een privebericht zodat ik je hier meer over kan vertellen ruud mylene                                                                                                                                                                              \n",
       "2020-06-24 14:36:47+00:00  hi je kan deze zegels combineren in de winkel kunnen jouw fysieke koopzegels omgezet worden naar digitale koopzegels dit kan bij de servicebalie volle koopzegel boekjes kunnen niet worden omgezet naar digitale koopzegels hier zit namelijk al 3 premie opliza   \n",
       "2020-06-24 15:06:54+00:00  hi ik heb even voor je gekeken de enige korting die ik kan vinden is 10 korting vanaf 6 stuks voor de jillz raspberry die normaal 325 kost  hopelijk heb je er iets aan nog een fijne avond henok                                                                   \n",
       "\n",
       "                           polarity sentiment  \n",
       "created_at                                     \n",
       "2020-03-30 08:04:02+00:00  0.16      positive  \n",
       "2020-03-30 08:14:24+00:00  0.22      positive  \n",
       "2020-03-30 08:23:12+00:00  0.12      positive  \n",
       "2020-03-30 08:26:12+00:00  0.13      positive  \n",
       "2020-03-30 08:30:44+00:00  0.21      positive  \n",
       "...                         ...           ...  \n",
       "2020-06-24 13:56:42+00:00  0.30      positive  \n",
       "2020-06-24 14:32:41+00:00  0.00      neutral   \n",
       "2020-06-24 14:34:45+00:00  0.00      neutral   \n",
       "2020-06-24 14:36:47+00:00  0.08      positive  \n",
       "2020-06-24 15:06:54+00:00  0.38      positive  \n",
       "\n",
       "[6034 rows x 4 columns]"
      ]
     },
     "execution_count": 49,
     "metadata": {},
     "output_type": "execute_result"
    }
   ],
   "source": [
    "df_concat[['text','cleaned_text','polarity','sentiment']]"
   ]
  },
  {
   "cell_type": "code",
   "execution_count": 50,
   "metadata": {},
   "outputs": [
    {
     "name": "stdout",
     "output_type": "stream",
     "text": [
      "percentage negative sentiment:23.0\n",
      "\n",
      "percentage neutral sentiment:22.0\n",
      "\n",
      "percentage positive sentiment:56.00000000000001\n",
      "\n"
     ]
    }
   ],
   "source": [
    "print(\"percentage negative sentiment:{}\\n\".format(round(len(df_concat['polarity'][df_concat['polarity']<0.00])/len(df_concat['polarity']),2)*100))\n",
    "print(\"percentage neutral sentiment:{}\\n\".format(round(len(df_concat['polarity'][df_concat['polarity']==0.00])/len(df_concat['polarity']),2)*100))\n",
    "print(\"percentage positive sentiment:{}\\n\".format(round(len(df_concat['polarity'][df_concat['polarity']>0.00])/len(df_concat['polarity']),2)*100))"
   ]
  },
  {
   "cell_type": "code",
   "execution_count": 51,
   "metadata": {
    "scrolled": true
   },
   "outputs": [
    {
     "data": {
      "text/plain": [
       "<matplotlib.axes._subplots.AxesSubplot at 0x24626091320>"
      ]
     },
     "execution_count": 51,
     "metadata": {},
     "output_type": "execute_result"
    },
    {
     "data": {
      "image/png": "[encoded data removed]",
      "text/plain": [
       "<Figure size 432x288 with 1 Axes>"
      ]
     },
     "metadata": {
      "needs_background": "light"
     },
     "output_type": "display_data"
    }
   ],
   "source": [
    "sns.countplot(data=df_concat, x = 'sentiment')"
   ]
  },
  {
   "cell_type": "markdown",
   "metadata": {},
   "source": [
    "Now that we have everything let's save it for the next phase: EDA and Sentiment Analysis!"
   ]
  },
  {
   "cell_type": "code",
   "execution_count": 52,
   "metadata": {},
   "outputs": [],
   "source": [
    "# saving in csv\n",
    "\n",
    "df_concat.to_csv(\"../data/processed/tweets_data_for_sentiment_analysis_\"+TodaysDate+\".csv\")"
   ]
  }
 ],
 "metadata": {
  "kernelspec": {
   "display_name": "Python 3",
   "language": "python",
   "name": "python3"
  },
  "language_info": {
   "codemirror_mode": {
    "name": "ipython",
    "version": 3
   },
   "file_extension": ".py",
   "mimetype": "text/x-python",
   "name": "python",
   "nbconvert_exporter": "python",
   "pygments_lexer": "ipython3",
   "version": "3.6.7"
  },
  "toc": {
   "base_numbering": 1,
   "nav_menu": {},
   "number_sections": true,
   "sideBar": true,
   "skip_h1_title": false,
   "title_cell": "Table of Contents",
   "title_sidebar": "Contents",
   "toc_cell": true,
   "toc_position": {
    "height": "calc(100% - 180px)",
    "left": "10px",
    "top": "150px",
    "width": "307.2px"
   },
   "toc_section_display": true,
   "toc_window_display": true
  }
 },
 "nbformat": 4,
 "nbformat_minor": 4
}
