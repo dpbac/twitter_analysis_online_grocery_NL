{
 "cells": [
  {
   "cell_type": "markdown",
   "metadata": {},
   "source": [
    "**TO DO**\n",
    "\n",
    "https://towardsdatascience.com/exploratory-data-analysis-for-natural-language-processing-ff0046ab3571\n",
    "https://marcobonzanini.com/2015/03/09/mining-twitter-data-with-python-part-2/"
   ]
  },
  {
   "cell_type": "markdown",
   "metadata": {
    "toc": true
   },
   "source": [
    "<h1>Table of Contents<span class=\"tocSkip\"></span></h1>\n",
    "<div class=\"toc\"><ul class=\"toc-item\"><li><span><a href=\"#Load-Packages\" data-toc-modified-id=\"Load-Packages-1\"><span class=\"toc-item-num\">1&nbsp;&nbsp;</span>Load Packages</a></span></li><li><span><a href=\"#Load-data\" data-toc-modified-id=\"Load-data-2\"><span class=\"toc-item-num\">2&nbsp;&nbsp;</span>Load data</a></span><ul class=\"toc-item\"><li><span><a href=\"#Data-user-timeline-:-@picnic,-@JumboSupermarkt,-@albertijn\" data-toc-modified-id=\"Data-user-timeline-:-@picnic,-@JumboSupermarkt,-@albertijn-2.1\"><span class=\"toc-item-num\">2.1&nbsp;&nbsp;</span>Data user timeline : @picnic, @JumboSupermarkt, @albertijn</a></span></li></ul></li><li><span><a href=\"#EDA\" data-toc-modified-id=\"EDA-3\"><span class=\"toc-item-num\">3&nbsp;&nbsp;</span>EDA</a></span><ul class=\"toc-item\"><li><span><a href=\"#Number-of-followers-and-friends\" data-toc-modified-id=\"Number-of-followers-and-friends-3.1\"><span class=\"toc-item-num\">3.1&nbsp;&nbsp;</span>Number of followers and friends</a></span></li><li><span><a href=\"#Languages-of-messages\" data-toc-modified-id=\"Languages-of-messages-3.2\"><span class=\"toc-item-num\">3.2&nbsp;&nbsp;</span>Languages of messages</a></span></li></ul></li><li><span><a href=\"#Analysing-Queries\" data-toc-modified-id=\"Analysing-Queries-4\"><span class=\"toc-item-num\">4&nbsp;&nbsp;</span>Analysing Queries</a></span><ul class=\"toc-item\"><li><span><a href=\"#Load-query-data\" data-toc-modified-id=\"Load-query-data-4.1\"><span class=\"toc-item-num\">4.1&nbsp;&nbsp;</span>Load query data</a></span></li></ul></li></ul></div>"
   ]
  },
  {
   "cell_type": "markdown",
   "metadata": {},
   "source": [
    "# Load Packages"
   ]
  },
  {
   "cell_type": "code",
   "execution_count": 160,
   "metadata": {},
   "outputs": [],
   "source": [
    "import glob\n",
    "import pandas as pd\n",
    "import numpy as np\n",
    "import matplotlib.pyplot as plt\n",
    "import seaborn as sns\n",
    "import datetime\n",
    "import time\n",
    "\n",
    "TodaysDate = time.strftime(\"%Y-%m-%d\")"
   ]
  },
  {
   "cell_type": "markdown",
   "metadata": {},
   "source": [
    "# Load data\n",
    "\n",
    "## Data user timeline : @picnic, @JumboSupermarkt, @albertijn"
   ]
  },
  {
   "cell_type": "code",
   "execution_count": null,
   "metadata": {},
   "outputs": [],
   "source": []
  },
  {
   "cell_type": "markdown",
   "metadata": {},
   "source": [
    "# EDA"
   ]
  },
  {
   "cell_type": "code",
   "execution_count": null,
   "metadata": {},
   "outputs": [],
   "source": [
    "# concatenate all dataframes\n",
    "\n",
    "df_tweet_conc = pd.concat([df_picnic,df_JumboSupermarkt, df_albertheijn])\n",
    "df_tweet_conc.head()"
   ]
  },
  {
   "cell_type": "code",
   "execution_count": null,
   "metadata": {},
   "outputs": [],
   "source": [
    "df_tweet_conc.shape[0] == df_picnic.shape[0]+df_JumboSupermarkt.shape[0]+df_albertheijn.shape[0]"
   ]
  },
  {
   "cell_type": "markdown",
   "metadata": {},
   "source": [
    "## Number of followers and friends "
   ]
  },
  {
   "cell_type": "code",
   "execution_count": null,
   "metadata": {},
   "outputs": [],
   "source": []
  },
  {
   "cell_type": "markdown",
   "metadata": {},
   "source": [
    "## Languages of messages"
   ]
  },
  {
   "cell_type": "code",
   "execution_count": null,
   "metadata": {},
   "outputs": [],
   "source": []
  },
  {
   "cell_type": "markdown",
   "metadata": {},
   "source": [
    "# Analysing Queries\n",
    "\n",
    "## Load query data"
   ]
  },
  {
   "cell_type": "code",
   "execution_count": null,
   "metadata": {},
   "outputs": [],
   "source": []
  }
 ],
 "metadata": {
  "kernelspec": {
   "display_name": "Python 3",
   "language": "python",
   "name": "python3"
  },
  "language_info": {
   "codemirror_mode": {
    "name": "ipython",
    "version": 3
   },
   "file_extension": ".py",
   "mimetype": "text/x-python",
   "name": "python",
   "nbconvert_exporter": "python",
   "pygments_lexer": "ipython3",
   "version": "3.6.7"
  },
  "toc": {
   "base_numbering": 1,
   "nav_menu": {},
   "number_sections": true,
   "sideBar": true,
   "skip_h1_title": false,
   "title_cell": "Table of Contents",
   "title_sidebar": "Contents",
   "toc_cell": true,
   "toc_position": {},
   "toc_section_display": true,
   "toc_window_display": true
  }
 },
 "nbformat": 4,
 "nbformat_minor": 4
}
