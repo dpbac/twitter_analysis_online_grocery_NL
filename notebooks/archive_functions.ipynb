{
 "cells": [
  {
   "cell_type": "code",
   "execution_count": 1,
   "metadata": {},
   "outputs": [],
   "source": [
    "def plot_top_t_uni_bi_trigrams(df1,df2,df3,palette,title):\n",
    "    \"\"\" \"\"\"\n",
    "    \n",
    "   \n",
    "    fig, axs = plt.subplots(3, 1, figsize = (18,15))\n",
    "    fig.subplots_adjust(left=0.1, wspace=0.7, hspace = 1)\n",
    "    # title   \n",
    "    fig.suptitle(title,fontsize = 22, y=0.95)\n",
    "\n",
    "    sns.barplot(data=df1, x = 'n-gram',y='count',ax = axs[0], palette=palette)\n",
    "    axs[0].set_xticklabels(axs[0].get_xticklabels(), size = 14, rotation = 45)\n",
    "    axs[0].set_xlabel(\"frequency\")\n",
    "#     axs[0].set_ylabel(\"Unigram\")\n",
    "    axs[0].set_ylabel(\"\")\n",
    "    axs[0].set_title(\"Top 20 Unigrams\", size = 16)\n",
    "    \n",
    "    sns.barplot(data=df2, x = 'n-gram',y='count',ax = axs[1], palette=palette)\n",
    "    axs[1].set_xticklabels(axs[1].get_xticklabels(), size = 14, rotation = 45)\n",
    "    axs[1].set_xlabel(\"frequency\")\n",
    "#     axs[1].set_ylabel(\"Bigram\")\n",
    "    axs[1].set_ylabel(\"\")\n",
    "    axs[1].set_title(\"Top 20 Bigrams\", size = 16)\n",
    "    \n",
    "    sns.barplot(data=df3, x = 'n-gram',y='count',ax = axs[2],palette=palette)\n",
    "    axs[2].set_xticklabels(axs[2].get_xticklabels(), size = 14, rotation = 45)\n",
    "    axs[2].set_xlabel(\"frequency\")\n",
    "#     axs[2].set_ylabel(\"Trigram\")\n",
    "    axs[2].set_ylabel(\"\")\n",
    "    axs[2].set_title(\"Top 20 Trigrams\", size = 16)\n",
    "    \n",
    "    plt.show()    "
   ]
  },
  {
   "cell_type": "code",
   "execution_count": null,
   "metadata": {},
   "outputs": [],
   "source": []
  }
 ],
 "metadata": {
  "kernelspec": {
   "display_name": "Python 3",
   "language": "python",
   "name": "python3"
  },
  "language_info": {
   "codemirror_mode": {
    "name": "ipython",
    "version": 3
   },
   "file_extension": ".py",
   "mimetype": "text/x-python",
   "name": "python",
   "nbconvert_exporter": "python",
   "pygments_lexer": "ipython3",
   "version": "3.6.7"
  },
  "toc": {
   "base_numbering": 1,
   "nav_menu": {},
   "number_sections": true,
   "sideBar": true,
   "skip_h1_title": false,
   "title_cell": "Table of Contents",
   "title_sidebar": "Contents",
   "toc_cell": false,
   "toc_position": {},
   "toc_section_display": true,
   "toc_window_display": false
  }
 },
 "nbformat": 4,
 "nbformat_minor": 4
}
