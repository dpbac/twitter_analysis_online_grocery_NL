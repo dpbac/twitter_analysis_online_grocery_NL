{
 "cells": [
  {
   "cell_type": "markdown",
   "metadata": {},
   "source": [
    "**TODO**\n",
    "\n",
    "https://www.kaggle.com/rtatman/analyzing-multilingual-data\n",
    "\n",
    "https://github.com/cjhutto/vaderSentiment"
   ]
  },
  {
   "cell_type": "markdown",
   "metadata": {},
   "source": [
    "In this notebook I'll try to add some more days to the last retrieved data from some data that I retrieved when building the code few days before the final version of [notebooks/01-collecting_and_saving_tweets.ipynb](http://localhost:8888/notebooks/twitter_analysis_online_grocery_NL/notebooks/01-collecting_and_saving_tweets.ipynb)."
   ]
  },
  {
   "cell_type": "markdown",
   "metadata": {},
   "source": [
    "**TO DO**\n",
    "\n",
    "- List goals notebook\n",
    "- Talk about 4 tools to detect language\n",
    "- show tradeoff (check my mutilingual tutorial notebook)\n",
    "- build a function that apply all 3 (not the online one) and use majority code to choose language\n",
    "- Apply to complete info about language\n",
    "- combine info to make AH info goes from 30/03/2020 until 24/06/2020\n",
    "- Save this in csv"
   ]
  },
  {
   "cell_type": "markdown",
   "metadata": {},
   "source": [
    "# Goals of this notebook"
   ]
  },
  {
   "cell_type": "markdown",
   "metadata": {},
   "source": [
    "# Load Packages"
   ]
  },
  {
   "cell_type": "code",
   "execution_count": 1,
   "metadata": {},
   "outputs": [],
   "source": [
    "import glob\n",
    "import pandas as pd\n",
    "import numpy as np\n",
    "import matplotlib.pyplot as plt\n",
    "import seaborn as sns\n",
    "import datetime\n",
    "import time\n",
    "\n",
    "TodaysDate = time.strftime(\"%Y-%m-%d\")"
   ]
  },
  {
   "cell_type": "markdown",
   "metadata": {},
   "source": [
    "# Trying to add more days to Jumbo and AH"
   ]
  },
  {
   "cell_type": "code",
   "execution_count": 2,
   "metadata": {},
   "outputs": [],
   "source": [
    "def search_file_in_folder(folder,str_file, type_file='csv'):\n",
    "    \"\"\" Given a folder and a part of file's name outputs a list of files paths\"\"\"\n",
    "    \n",
    "    list_files_paths = []\n",
    "    for file_path in glob.glob(folder+'*'+str_file+'*.'+type_file):\n",
    "        try:\n",
    "            list_files_paths.append(file_path)\n",
    "        except:\n",
    "            pass\n",
    "    \n",
    "    if len(list_files_paths):\n",
    "        return list_files_paths\n",
    "    else:\n",
    "        return 'No files containing {}'.format(str_file)"
   ]
  },
  {
   "cell_type": "code",
   "execution_count": 3,
   "metadata": {},
   "outputs": [],
   "source": [
    "def create_dataframe_info(result):\n",
    "    \"\"\" Create a dataframe with tweet's data with path of the .csv file, min and max create_at date, \n",
    "    number of tweets, and number of columns \"\"\"\n",
    "    \n",
    "    filepath_list = []\n",
    "    min_created_list = []\n",
    "    max_created_list = []\n",
    "    n_tweet_list = []\n",
    "    n_columns = []\n",
    "    \n",
    "    for file in result:\n",
    "        df = pd.read_csv(file)\n",
    "        df['created_at'] = pd.to_datetime(df['created_at'], infer_datetime_format=True)\n",
    "        filepath_list.append(file)\n",
    "        min_created_list.append(min(df['created_at']))\n",
    "        max_created_list.append(max(df['created_at']))\n",
    "        n_tweet_list.append(df.shape[0])\n",
    "        n_columns.append(df.shape[1])\n",
    "        \n",
    "    dict_df = {'file_path':filepath_list,\n",
    "              'min_created_list':min_created_list,\n",
    "              'max_created_list':max_created_list,\n",
    "              'n_tweet_list':n_tweet_list,\n",
    "              'n_columns':n_columns}\n",
    "    \n",
    "    df_new = pd.DataFrame(dict_df)\n",
    "                \n",
    "    return df_new"
   ]
  },
  {
   "cell_type": "code",
   "execution_count": 4,
   "metadata": {
    "scrolled": true
   },
   "outputs": [
    {
     "data": {
      "text/plain": [
       "['../data/tweets\\\\JumboSupermarkt_2020-06-16-21-20.csv',\n",
       " '../data/tweets\\\\JumboSupermarkt_2020-06-16-21-21.csv',\n",
       " '../data/tweets\\\\JumboSupermarkt_2020-06-16-21-23.csv',\n",
       " '../data/tweets\\\\JumboSupermarkt_2020-06-16-21-35.csv',\n",
       " '../data/tweets\\\\JumboSupermarkt_2020-06-16-21-56.csv',\n",
       " '../data/tweets\\\\JumboSupermarkt_2020-06-21-00-31.csv',\n",
       " '../data/tweets\\\\JumboSupermarkt_2020-06-21-00-33.csv',\n",
       " '../data/tweets\\\\JumboSupermarkt_2020-06-21-00-34.csv',\n",
       " '../data/tweets\\\\JumboSupermarkt_2020-06-21-13-17.csv',\n",
       " '../data/tweets\\\\JumboSupermarkt_2020-06-21-13-18.csv',\n",
       " '../data/tweets\\\\JumboSupermarkt_2020-06-22-14-59.csv',\n",
       " '../data/tweets\\\\JumboSupermarkt_2020-06-22-15-01.csv']"
      ]
     },
     "execution_count": 4,
     "metadata": {},
     "output_type": "execute_result"
    }
   ],
   "source": [
    "folder = \"../data/tweets/\"\n",
    "result = search_file_in_folder(folder, 'JumboSupermarkt')\n",
    "result"
   ]
  },
  {
   "cell_type": "code",
   "execution_count": 5,
   "metadata": {},
   "outputs": [
    {
     "data": {
      "text/html": [
       "<div>\n",
       "<style scoped>\n",
       "    .dataframe tbody tr th:only-of-type {\n",
       "        vertical-align: middle;\n",
       "    }\n",
       "\n",
       "    .dataframe tbody tr th {\n",
       "        vertical-align: top;\n",
       "    }\n",
       "\n",
       "    .dataframe thead th {\n",
       "        text-align: right;\n",
       "    }\n",
       "</style>\n",
       "<table border=\"1\" class=\"dataframe\">\n",
       "  <thead>\n",
       "    <tr style=\"text-align: right;\">\n",
       "      <th></th>\n",
       "      <th>file_path</th>\n",
       "      <th>min_created_list</th>\n",
       "      <th>max_created_list</th>\n",
       "      <th>n_tweet_list</th>\n",
       "      <th>n_columns</th>\n",
       "    </tr>\n",
       "  </thead>\n",
       "  <tbody>\n",
       "    <tr>\n",
       "      <th>1</th>\n",
       "      <td>../data/tweets\\JumboSupermarkt_2020-06-16-21-2...</td>\n",
       "      <td>2020-03-03 17:46:39+00:00</td>\n",
       "      <td>2020-06-16 18:29:48+00:00</td>\n",
       "      <td>3235</td>\n",
       "      <td>14</td>\n",
       "    </tr>\n",
       "    <tr>\n",
       "      <th>2</th>\n",
       "      <td>../data/tweets\\JumboSupermarkt_2020-06-16-21-2...</td>\n",
       "      <td>2020-03-03 17:46:39+00:00</td>\n",
       "      <td>2020-06-16 18:29:48+00:00</td>\n",
       "      <td>3235</td>\n",
       "      <td>14</td>\n",
       "    </tr>\n",
       "    <tr>\n",
       "      <th>3</th>\n",
       "      <td>../data/tweets\\JumboSupermarkt_2020-06-16-21-3...</td>\n",
       "      <td>2020-03-03 17:46:39+00:00</td>\n",
       "      <td>2020-06-16 18:29:48+00:00</td>\n",
       "      <td>3235</td>\n",
       "      <td>14</td>\n",
       "    </tr>\n",
       "    <tr>\n",
       "      <th>4</th>\n",
       "      <td>../data/tweets\\JumboSupermarkt_2020-06-16-21-5...</td>\n",
       "      <td>2020-03-04 14:45:25+00:00</td>\n",
       "      <td>2020-06-16 18:29:48+00:00</td>\n",
       "      <td>3217</td>\n",
       "      <td>14</td>\n",
       "    </tr>\n",
       "    <tr>\n",
       "      <th>5</th>\n",
       "      <td>../data/tweets\\JumboSupermarkt_2020-06-21-00-3...</td>\n",
       "      <td>2020-03-06 19:12:05+00:00</td>\n",
       "      <td>2020-06-20 19:51:11+00:00</td>\n",
       "      <td>3221</td>\n",
       "      <td>19</td>\n",
       "    </tr>\n",
       "    <tr>\n",
       "      <th>7</th>\n",
       "      <td>../data/tweets\\JumboSupermarkt_2020-06-21-00-3...</td>\n",
       "      <td>2020-03-06 19:12:05+00:00</td>\n",
       "      <td>2020-06-20 19:51:11+00:00</td>\n",
       "      <td>3221</td>\n",
       "      <td>19</td>\n",
       "    </tr>\n",
       "    <tr>\n",
       "      <th>8</th>\n",
       "      <td>../data/tweets\\JumboSupermarkt_2020-06-21-13-1...</td>\n",
       "      <td>2020-03-06 19:12:05+00:00</td>\n",
       "      <td>2020-06-21 09:33:32+00:00</td>\n",
       "      <td>3230</td>\n",
       "      <td>19</td>\n",
       "    </tr>\n",
       "    <tr>\n",
       "      <th>6</th>\n",
       "      <td>../data/tweets\\JumboSupermarkt_2020-06-21-00-3...</td>\n",
       "      <td>2020-03-07 20:15:43+00:00</td>\n",
       "      <td>2020-06-20 19:51:11+00:00</td>\n",
       "      <td>3203</td>\n",
       "      <td>19</td>\n",
       "    </tr>\n",
       "    <tr>\n",
       "      <th>9</th>\n",
       "      <td>../data/tweets\\JumboSupermarkt_2020-06-21-13-1...</td>\n",
       "      <td>2020-03-07 20:15:43+00:00</td>\n",
       "      <td>2020-06-21 09:33:32+00:00</td>\n",
       "      <td>3212</td>\n",
       "      <td>19</td>\n",
       "    </tr>\n",
       "    <tr>\n",
       "      <th>10</th>\n",
       "      <td>../data/tweets\\JumboSupermarkt_2020-06-22-14-5...</td>\n",
       "      <td>2020-03-07 20:15:43+00:00</td>\n",
       "      <td>2020-06-22 11:03:38+00:00</td>\n",
       "      <td>3232</td>\n",
       "      <td>19</td>\n",
       "    </tr>\n",
       "    <tr>\n",
       "      <th>11</th>\n",
       "      <td>../data/tweets\\JumboSupermarkt_2020-06-22-15-0...</td>\n",
       "      <td>2020-03-07 20:15:43+00:00</td>\n",
       "      <td>2020-06-22 11:03:38+00:00</td>\n",
       "      <td>3232</td>\n",
       "      <td>19</td>\n",
       "    </tr>\n",
       "    <tr>\n",
       "      <th>0</th>\n",
       "      <td>../data/tweets\\JumboSupermarkt_2020-06-16-21-2...</td>\n",
       "      <td>2020-04-03 07:13:25+00:00</td>\n",
       "      <td>2020-06-16 18:29:48+00:00</td>\n",
       "      <td>1997</td>\n",
       "      <td>14</td>\n",
       "    </tr>\n",
       "  </tbody>\n",
       "</table>\n",
       "</div>"
      ],
      "text/plain": [
       "                                            file_path  \\\n",
       "1   ../data/tweets\\JumboSupermarkt_2020-06-16-21-2...   \n",
       "2   ../data/tweets\\JumboSupermarkt_2020-06-16-21-2...   \n",
       "3   ../data/tweets\\JumboSupermarkt_2020-06-16-21-3...   \n",
       "4   ../data/tweets\\JumboSupermarkt_2020-06-16-21-5...   \n",
       "5   ../data/tweets\\JumboSupermarkt_2020-06-21-00-3...   \n",
       "7   ../data/tweets\\JumboSupermarkt_2020-06-21-00-3...   \n",
       "8   ../data/tweets\\JumboSupermarkt_2020-06-21-13-1...   \n",
       "6   ../data/tweets\\JumboSupermarkt_2020-06-21-00-3...   \n",
       "9   ../data/tweets\\JumboSupermarkt_2020-06-21-13-1...   \n",
       "10  ../data/tweets\\JumboSupermarkt_2020-06-22-14-5...   \n",
       "11  ../data/tweets\\JumboSupermarkt_2020-06-22-15-0...   \n",
       "0   ../data/tweets\\JumboSupermarkt_2020-06-16-21-2...   \n",
       "\n",
       "            min_created_list          max_created_list  n_tweet_list  \\\n",
       "1  2020-03-03 17:46:39+00:00 2020-06-16 18:29:48+00:00          3235   \n",
       "2  2020-03-03 17:46:39+00:00 2020-06-16 18:29:48+00:00          3235   \n",
       "3  2020-03-03 17:46:39+00:00 2020-06-16 18:29:48+00:00          3235   \n",
       "4  2020-03-04 14:45:25+00:00 2020-06-16 18:29:48+00:00          3217   \n",
       "5  2020-03-06 19:12:05+00:00 2020-06-20 19:51:11+00:00          3221   \n",
       "7  2020-03-06 19:12:05+00:00 2020-06-20 19:51:11+00:00          3221   \n",
       "8  2020-03-06 19:12:05+00:00 2020-06-21 09:33:32+00:00          3230   \n",
       "6  2020-03-07 20:15:43+00:00 2020-06-20 19:51:11+00:00          3203   \n",
       "9  2020-03-07 20:15:43+00:00 2020-06-21 09:33:32+00:00          3212   \n",
       "10 2020-03-07 20:15:43+00:00 2020-06-22 11:03:38+00:00          3232   \n",
       "11 2020-03-07 20:15:43+00:00 2020-06-22 11:03:38+00:00          3232   \n",
       "0  2020-04-03 07:13:25+00:00 2020-06-16 18:29:48+00:00          1997   \n",
       "\n",
       "    n_columns  \n",
       "1          14  \n",
       "2          14  \n",
       "3          14  \n",
       "4          14  \n",
       "5          19  \n",
       "7          19  \n",
       "8          19  \n",
       "6          19  \n",
       "9          19  \n",
       "10         19  \n",
       "11         19  \n",
       "0          14  "
      ]
     },
     "execution_count": 5,
     "metadata": {},
     "output_type": "execute_result"
    }
   ],
   "source": [
    "df_info_Jumbo = create_dataframe_info(result).sort_values(by=['min_created_list','n_tweet_list'])\n",
    "df_info_Jumbo"
   ]
  },
  {
   "cell_type": "code",
   "execution_count": 6,
   "metadata": {},
   "outputs": [
    {
     "name": "stdout",
     "output_type": "stream",
     "text": [
      "<class 'pandas.core.frame.DataFrame'>\n",
      "Int64Index: 12 entries, 1 to 0\n",
      "Data columns (total 5 columns):\n",
      " #   Column            Non-Null Count  Dtype              \n",
      "---  ------            --------------  -----              \n",
      " 0   file_path         12 non-null     object             \n",
      " 1   min_created_list  12 non-null     datetime64[ns, UTC]\n",
      " 2   max_created_list  12 non-null     datetime64[ns, UTC]\n",
      " 3   n_tweet_list      12 non-null     int64              \n",
      " 4   n_columns         12 non-null     int64              \n",
      "dtypes: datetime64[ns, UTC](2), int64(2), object(1)\n",
      "memory usage: 576.0+ bytes\n"
     ]
    }
   ],
   "source": [
    "df_info_Jumbo.info()"
   ]
  },
  {
   "cell_type": "markdown",
   "metadata": {},
   "source": [
    "If I concatenate the most recent file with any of the 3 first files displayed in the dataframe I'm able to go back until 3rd March. One tradeoff is that the older data has less columns than the newer. Let's see what we can do about AH data."
   ]
  },
  {
   "cell_type": "code",
   "execution_count": 7,
   "metadata": {},
   "outputs": [
    {
     "data": {
      "text/plain": [
       "['../data/tweets\\\\albertheijn_2020-06-16-21-58.csv',\n",
       " '../data/tweets\\\\albertheijn_2020-06-16-22-00.csv',\n",
       " '../data/tweets\\\\albertheijn_2020-06-16-22-18.csv',\n",
       " '../data/tweets\\\\albertheijn_2020-06-21-00-49.csv',\n",
       " '../data/tweets\\\\albertheijn_2020-06-21-00-53.csv',\n",
       " '../data/tweets\\\\albertheijn_2020-06-21-14-42.csv',\n",
       " '../data/tweets\\\\albertheijn_2020-06-21-14-43.csv',\n",
       " '../data/tweets\\\\albertheijn_2020-06-21-14-44.csv',\n",
       " '../data/tweets\\\\albertheijn_2020-06-21-14-45.csv',\n",
       " '../data/tweets\\\\albertheijn_2020-06-22-15-02.csv',\n",
       " '../data/tweets\\\\albertheijn_2020-06-22-15-03.csv']"
      ]
     },
     "execution_count": 7,
     "metadata": {},
     "output_type": "execute_result"
    }
   ],
   "source": [
    "folder = \"../data/tweets/\"\n",
    "result = search_file_in_folder(folder, 'albertheijn')\n",
    "result"
   ]
  },
  {
   "cell_type": "code",
   "execution_count": 8,
   "metadata": {},
   "outputs": [
    {
     "data": {
      "text/html": [
       "<div>\n",
       "<style scoped>\n",
       "    .dataframe tbody tr th:only-of-type {\n",
       "        vertical-align: middle;\n",
       "    }\n",
       "\n",
       "    .dataframe tbody tr th {\n",
       "        vertical-align: top;\n",
       "    }\n",
       "\n",
       "    .dataframe thead th {\n",
       "        text-align: right;\n",
       "    }\n",
       "</style>\n",
       "<table border=\"1\" class=\"dataframe\">\n",
       "  <thead>\n",
       "    <tr style=\"text-align: right;\">\n",
       "      <th></th>\n",
       "      <th>file_path</th>\n",
       "      <th>min_created_list</th>\n",
       "      <th>max_created_list</th>\n",
       "      <th>n_tweet_list</th>\n",
       "      <th>n_columns</th>\n",
       "    </tr>\n",
       "  </thead>\n",
       "  <tbody>\n",
       "    <tr>\n",
       "      <th>0</th>\n",
       "      <td>../data/tweets\\albertheijn_2020-06-16-21-58.csv</td>\n",
       "      <td>2020-03-30 08:04:02+00:00</td>\n",
       "      <td>2020-06-16 16:36:50+00:00</td>\n",
       "      <td>3243</td>\n",
       "      <td>14</td>\n",
       "    </tr>\n",
       "    <tr>\n",
       "      <th>1</th>\n",
       "      <td>../data/tweets\\albertheijn_2020-06-16-22-00.csv</td>\n",
       "      <td>2020-03-30 08:04:02+00:00</td>\n",
       "      <td>2020-06-16 16:36:50+00:00</td>\n",
       "      <td>3243</td>\n",
       "      <td>14</td>\n",
       "    </tr>\n",
       "    <tr>\n",
       "      <th>2</th>\n",
       "      <td>../data/tweets\\albertheijn_2020-06-16-22-18.csv</td>\n",
       "      <td>2020-03-30 08:04:02+00:00</td>\n",
       "      <td>2020-06-16 16:36:50+00:00</td>\n",
       "      <td>3243</td>\n",
       "      <td>14</td>\n",
       "    </tr>\n",
       "    <tr>\n",
       "      <th>3</th>\n",
       "      <td>../data/tweets\\albertheijn_2020-06-21-00-49.csv</td>\n",
       "      <td>2020-04-03 15:35:47+00:00</td>\n",
       "      <td>2020-06-20 18:18:50+00:00</td>\n",
       "      <td>3204</td>\n",
       "      <td>19</td>\n",
       "    </tr>\n",
       "    <tr>\n",
       "      <th>4</th>\n",
       "      <td>../data/tweets\\albertheijn_2020-06-21-00-53.csv</td>\n",
       "      <td>2020-04-03 15:35:47+00:00</td>\n",
       "      <td>2020-06-20 18:18:50+00:00</td>\n",
       "      <td>3204</td>\n",
       "      <td>19</td>\n",
       "    </tr>\n",
       "    <tr>\n",
       "      <th>6</th>\n",
       "      <td>../data/tweets\\albertheijn_2020-06-21-14-43.csv</td>\n",
       "      <td>2020-04-03 15:35:47+00:00</td>\n",
       "      <td>2020-06-21 12:27:32+00:00</td>\n",
       "      <td>3218</td>\n",
       "      <td>19</td>\n",
       "    </tr>\n",
       "    <tr>\n",
       "      <th>7</th>\n",
       "      <td>../data/tweets\\albertheijn_2020-06-21-14-44.csv</td>\n",
       "      <td>2020-04-03 15:35:47+00:00</td>\n",
       "      <td>2020-06-21 12:27:32+00:00</td>\n",
       "      <td>3218</td>\n",
       "      <td>19</td>\n",
       "    </tr>\n",
       "    <tr>\n",
       "      <th>8</th>\n",
       "      <td>../data/tweets\\albertheijn_2020-06-21-14-45.csv</td>\n",
       "      <td>2020-04-03 15:35:47+00:00</td>\n",
       "      <td>2020-06-21 12:45:16+00:00</td>\n",
       "      <td>3219</td>\n",
       "      <td>19</td>\n",
       "    </tr>\n",
       "    <tr>\n",
       "      <th>9</th>\n",
       "      <td>../data/tweets\\albertheijn_2020-06-22-15-02.csv</td>\n",
       "      <td>2020-04-06 16:33:02+00:00</td>\n",
       "      <td>2020-06-22 11:43:16+00:00</td>\n",
       "      <td>3217</td>\n",
       "      <td>19</td>\n",
       "    </tr>\n",
       "    <tr>\n",
       "      <th>10</th>\n",
       "      <td>../data/tweets\\albertheijn_2020-06-22-15-03.csv</td>\n",
       "      <td>2020-04-06 16:33:02+00:00</td>\n",
       "      <td>2020-06-22 11:43:16+00:00</td>\n",
       "      <td>3217</td>\n",
       "      <td>19</td>\n",
       "    </tr>\n",
       "    <tr>\n",
       "      <th>5</th>\n",
       "      <td>../data/tweets\\albertheijn_2020-06-21-14-42.csv</td>\n",
       "      <td>2020-04-10 09:40:25+00:00</td>\n",
       "      <td>2020-06-21 12:27:32+00:00</td>\n",
       "      <td>3000</td>\n",
       "      <td>19</td>\n",
       "    </tr>\n",
       "  </tbody>\n",
       "</table>\n",
       "</div>"
      ],
      "text/plain": [
       "                                          file_path          min_created_list  \\\n",
       "0   ../data/tweets\\albertheijn_2020-06-16-21-58.csv 2020-03-30 08:04:02+00:00   \n",
       "1   ../data/tweets\\albertheijn_2020-06-16-22-00.csv 2020-03-30 08:04:02+00:00   \n",
       "2   ../data/tweets\\albertheijn_2020-06-16-22-18.csv 2020-03-30 08:04:02+00:00   \n",
       "3   ../data/tweets\\albertheijn_2020-06-21-00-49.csv 2020-04-03 15:35:47+00:00   \n",
       "4   ../data/tweets\\albertheijn_2020-06-21-00-53.csv 2020-04-03 15:35:47+00:00   \n",
       "6   ../data/tweets\\albertheijn_2020-06-21-14-43.csv 2020-04-03 15:35:47+00:00   \n",
       "7   ../data/tweets\\albertheijn_2020-06-21-14-44.csv 2020-04-03 15:35:47+00:00   \n",
       "8   ../data/tweets\\albertheijn_2020-06-21-14-45.csv 2020-04-03 15:35:47+00:00   \n",
       "9   ../data/tweets\\albertheijn_2020-06-22-15-02.csv 2020-04-06 16:33:02+00:00   \n",
       "10  ../data/tweets\\albertheijn_2020-06-22-15-03.csv 2020-04-06 16:33:02+00:00   \n",
       "5   ../data/tweets\\albertheijn_2020-06-21-14-42.csv 2020-04-10 09:40:25+00:00   \n",
       "\n",
       "            max_created_list  n_tweet_list  n_columns  \n",
       "0  2020-06-16 16:36:50+00:00          3243         14  \n",
       "1  2020-06-16 16:36:50+00:00          3243         14  \n",
       "2  2020-06-16 16:36:50+00:00          3243         14  \n",
       "3  2020-06-20 18:18:50+00:00          3204         19  \n",
       "4  2020-06-20 18:18:50+00:00          3204         19  \n",
       "6  2020-06-21 12:27:32+00:00          3218         19  \n",
       "7  2020-06-21 12:27:32+00:00          3218         19  \n",
       "8  2020-06-21 12:45:16+00:00          3219         19  \n",
       "9  2020-06-22 11:43:16+00:00          3217         19  \n",
       "10 2020-06-22 11:43:16+00:00          3217         19  \n",
       "5  2020-06-21 12:27:32+00:00          3000         19  "
      ]
     },
     "execution_count": 8,
     "metadata": {},
     "output_type": "execute_result"
    }
   ],
   "source": [
    "df_info_AH = create_dataframe_info(result).sort_values(by=['min_created_list','n_tweet_list'])\n",
    "df_info_AH"
   ]
  },
  {
   "cell_type": "code",
   "execution_count": 9,
   "metadata": {
    "scrolled": true
   },
   "outputs": [
    {
     "name": "stdout",
     "output_type": "stream",
     "text": [
      "<class 'pandas.core.frame.DataFrame'>\n",
      "Int64Index: 11 entries, 0 to 5\n",
      "Data columns (total 5 columns):\n",
      " #   Column            Non-Null Count  Dtype              \n",
      "---  ------            --------------  -----              \n",
      " 0   file_path         11 non-null     object             \n",
      " 1   min_created_list  11 non-null     datetime64[ns, UTC]\n",
      " 2   max_created_list  11 non-null     datetime64[ns, UTC]\n",
      " 3   n_tweet_list      11 non-null     int64              \n",
      " 4   n_columns         11 non-null     int64              \n",
      "dtypes: datetime64[ns, UTC](2), int64(2), object(1)\n",
      "memory usage: 528.0+ bytes\n"
     ]
    }
   ],
   "source": [
    "df_info_AH.info()"
   ]
  },
  {
   "cell_type": "markdown",
   "metadata": {},
   "source": [
    "Considering AH concatenating one of the 3 first files (see previous dataframe) with newer data we can go back to 30th March.\n",
    "\n",
    "So let's check the columns we need to drop and concatenate the newer and older csv to increase our range from 30th March 2020 until 22nd June 2020."
   ]
  },
  {
   "cell_type": "code",
   "execution_count": 10,
   "metadata": {},
   "outputs": [
    {
     "data": {
      "text/html": [
       "<div>\n",
       "<style scoped>\n",
       "    .dataframe tbody tr th:only-of-type {\n",
       "        vertical-align: middle;\n",
       "    }\n",
       "\n",
       "    .dataframe tbody tr th {\n",
       "        vertical-align: top;\n",
       "    }\n",
       "\n",
       "    .dataframe thead th {\n",
       "        text-align: right;\n",
       "    }\n",
       "</style>\n",
       "<table border=\"1\" class=\"dataframe\">\n",
       "  <thead>\n",
       "    <tr style=\"text-align: right;\">\n",
       "      <th></th>\n",
       "      <th>mined_at</th>\n",
       "      <th>screen_name</th>\n",
       "      <th>tweet_id</th>\n",
       "      <th>tweet_id_str</th>\n",
       "      <th>created_at</th>\n",
       "      <th>year</th>\n",
       "      <th>month</th>\n",
       "      <th>day</th>\n",
       "      <th>day_of_week</th>\n",
       "      <th>hour</th>\n",
       "      <th>minute</th>\n",
       "      <th>retweet_count</th>\n",
       "      <th>source</th>\n",
       "      <th>text</th>\n",
       "    </tr>\n",
       "  </thead>\n",
       "  <tbody>\n",
       "    <tr>\n",
       "      <th>0</th>\n",
       "      <td>2020-06-16 22:17:43.708324</td>\n",
       "      <td>albertheijn</td>\n",
       "      <td>1244535843135672326</td>\n",
       "      <td>1244535843135672326</td>\n",
       "      <td>2020-03-30 08:04:02+00:00</td>\n",
       "      <td>2020</td>\n",
       "      <td>3</td>\n",
       "      <td>30</td>\n",
       "      <td>0</td>\n",
       "      <td>8</td>\n",
       "      <td>4</td>\n",
       "      <td>0</td>\n",
       "      <td>&lt;a href=\"https://www.tracebuzz.com\" rel=\"nofol...</td>\n",
       "      <td>@derots Voorraad is er genoeg, het is voor ons...</td>\n",
       "    </tr>\n",
       "    <tr>\n",
       "      <th>1</th>\n",
       "      <td>2020-06-16 22:17:43.708324</td>\n",
       "      <td>albertheijn</td>\n",
       "      <td>1244538454890987523</td>\n",
       "      <td>1244538454890987523</td>\n",
       "      <td>2020-03-30 08:14:24+00:00</td>\n",
       "      <td>2020</td>\n",
       "      <td>3</td>\n",
       "      <td>30</td>\n",
       "      <td>0</td>\n",
       "      <td>8</td>\n",
       "      <td>14</td>\n",
       "      <td>0</td>\n",
       "      <td>&lt;a href=\"https://www.tracebuzz.com\" rel=\"nofol...</td>\n",
       "      <td>@MoniquevDBurgh We doen er alles aan om zoveel...</td>\n",
       "    </tr>\n",
       "    <tr>\n",
       "      <th>2</th>\n",
       "      <td>2020-06-16 22:17:43.708324</td>\n",
       "      <td>albertheijn</td>\n",
       "      <td>1244540668225126401</td>\n",
       "      <td>1244540668225126401</td>\n",
       "      <td>2020-03-30 08:23:12+00:00</td>\n",
       "      <td>2020</td>\n",
       "      <td>3</td>\n",
       "      <td>30</td>\n",
       "      <td>0</td>\n",
       "      <td>8</td>\n",
       "      <td>23</td>\n",
       "      <td>0</td>\n",
       "      <td>&lt;a href=\"https://www.tracebuzz.com\" rel=\"nofol...</td>\n",
       "      <td>@AnnekeVisser15 Klopt! De Persoonlijke Bonus w...</td>\n",
       "    </tr>\n",
       "    <tr>\n",
       "      <th>3</th>\n",
       "      <td>2020-06-16 22:17:43.519106</td>\n",
       "      <td>albertheijn</td>\n",
       "      <td>1244541424588251141</td>\n",
       "      <td>1244541424588251141</td>\n",
       "      <td>2020-03-30 08:26:12+00:00</td>\n",
       "      <td>2020</td>\n",
       "      <td>3</td>\n",
       "      <td>30</td>\n",
       "      <td>0</td>\n",
       "      <td>8</td>\n",
       "      <td>26</td>\n",
       "      <td>0</td>\n",
       "      <td>&lt;a href=\"https://www.tracebuzz.com\" rel=\"nofol...</td>\n",
       "      <td>@waltervantiel    We kopen groenten en fruit z...</td>\n",
       "    </tr>\n",
       "    <tr>\n",
       "      <th>4</th>\n",
       "      <td>2020-06-16 22:17:43.519106</td>\n",
       "      <td>albertheijn</td>\n",
       "      <td>1244542564344238083</td>\n",
       "      <td>1244542564344238083</td>\n",
       "      <td>2020-03-30 08:30:44+00:00</td>\n",
       "      <td>2020</td>\n",
       "      <td>3</td>\n",
       "      <td>30</td>\n",
       "      <td>0</td>\n",
       "      <td>8</td>\n",
       "      <td>30</td>\n",
       "      <td>0</td>\n",
       "      <td>&lt;a href=\"https://www.tracebuzz.com\" rel=\"nofol...</td>\n",
       "      <td>@bbstring Je kunt ons het beste een privéberic...</td>\n",
       "    </tr>\n",
       "  </tbody>\n",
       "</table>\n",
       "</div>"
      ],
      "text/plain": [
       "                     mined_at  screen_name             tweet_id  \\\n",
       "0  2020-06-16 22:17:43.708324  albertheijn  1244535843135672326   \n",
       "1  2020-06-16 22:17:43.708324  albertheijn  1244538454890987523   \n",
       "2  2020-06-16 22:17:43.708324  albertheijn  1244540668225126401   \n",
       "3  2020-06-16 22:17:43.519106  albertheijn  1244541424588251141   \n",
       "4  2020-06-16 22:17:43.519106  albertheijn  1244542564344238083   \n",
       "\n",
       "          tweet_id_str                 created_at  year  month  day  \\\n",
       "0  1244535843135672326  2020-03-30 08:04:02+00:00  2020      3   30   \n",
       "1  1244538454890987523  2020-03-30 08:14:24+00:00  2020      3   30   \n",
       "2  1244540668225126401  2020-03-30 08:23:12+00:00  2020      3   30   \n",
       "3  1244541424588251141  2020-03-30 08:26:12+00:00  2020      3   30   \n",
       "4  1244542564344238083  2020-03-30 08:30:44+00:00  2020      3   30   \n",
       "\n",
       "   day_of_week  hour  minute  retweet_count  \\\n",
       "0            0     8       4              0   \n",
       "1            0     8      14              0   \n",
       "2            0     8      23              0   \n",
       "3            0     8      26              0   \n",
       "4            0     8      30              0   \n",
       "\n",
       "                                              source  \\\n",
       "0  <a href=\"https://www.tracebuzz.com\" rel=\"nofol...   \n",
       "1  <a href=\"https://www.tracebuzz.com\" rel=\"nofol...   \n",
       "2  <a href=\"https://www.tracebuzz.com\" rel=\"nofol...   \n",
       "3  <a href=\"https://www.tracebuzz.com\" rel=\"nofol...   \n",
       "4  <a href=\"https://www.tracebuzz.com\" rel=\"nofol...   \n",
       "\n",
       "                                                text  \n",
       "0  @derots Voorraad is er genoeg, het is voor ons...  \n",
       "1  @MoniquevDBurgh We doen er alles aan om zoveel...  \n",
       "2  @AnnekeVisser15 Klopt! De Persoonlijke Bonus w...  \n",
       "3  @waltervantiel    We kopen groenten en fruit z...  \n",
       "4  @bbstring Je kunt ons het beste een privéberic...  "
      ]
     },
     "execution_count": 10,
     "metadata": {},
     "output_type": "execute_result"
    }
   ],
   "source": [
    "# loading older data (back to 30th March)\n",
    "df_AH_2020_06_16 = pd.read_csv(df_info_AH.loc[2,'file_path'])\n",
    "# before checking for difference in the columns between old and new data I'll rename handle to screen_name since both are the same\n",
    "df_AH_2020_06_16.rename(columns={'handle':'screen_name'},inplace=True)\n",
    "df_AH_2020_06_16.head()"
   ]
  },
  {
   "cell_type": "code",
   "execution_count": 11,
   "metadata": {},
   "outputs": [
    {
     "name": "stdout",
     "output_type": "stream",
     "text": [
      "<class 'pandas.core.frame.DataFrame'>\n",
      "RangeIndex: 3243 entries, 0 to 3242\n",
      "Data columns (total 14 columns):\n",
      " #   Column         Non-Null Count  Dtype \n",
      "---  ------         --------------  ----- \n",
      " 0   mined_at       3243 non-null   object\n",
      " 1   screen_name    3243 non-null   object\n",
      " 2   tweet_id       3243 non-null   int64 \n",
      " 3   tweet_id_str   3243 non-null   int64 \n",
      " 4   created_at     3243 non-null   object\n",
      " 5   year           3243 non-null   int64 \n",
      " 6   month          3243 non-null   int64 \n",
      " 7   day            3243 non-null   int64 \n",
      " 8   day_of_week    3243 non-null   int64 \n",
      " 9   hour           3243 non-null   int64 \n",
      " 10  minute         3243 non-null   int64 \n",
      " 11  retweet_count  3243 non-null   int64 \n",
      " 12  source         3243 non-null   object\n",
      " 13  text           3243 non-null   object\n",
      "dtypes: int64(9), object(5)\n",
      "memory usage: 354.8+ KB\n"
     ]
    }
   ],
   "source": [
    "df_AH_2020_06_16.info()"
   ]
  },
  {
   "cell_type": "code",
   "execution_count": 12,
   "metadata": {},
   "outputs": [],
   "source": [
    "# changing data type of 'created_at' to datetime\n",
    "\n",
    "df_AH_2020_06_16['created_at'] = pd.to_datetime(df_AH_2020_06_16['created_at'], infer_datetime_format=True)"
   ]
  },
  {
   "cell_type": "code",
   "execution_count": 13,
   "metadata": {},
   "outputs": [
    {
     "data": {
      "text/plain": [
       "(Timestamp('2020-03-30 08:04:02+0000', tz='UTC'),\n",
       " Timestamp('2020-06-16 16:36:50+0000', tz='UTC'))"
      ]
     },
     "execution_count": 13,
     "metadata": {},
     "output_type": "execute_result"
    }
   ],
   "source": [
    "min(df_AH_2020_06_16['created_at']),max(df_AH_2020_06_16['created_at'])"
   ]
  },
  {
   "cell_type": "markdown",
   "metadata": {},
   "source": [
    "Now we load the most recent data (until 22nd June)."
   ]
  },
  {
   "cell_type": "code",
   "execution_count": 14,
   "metadata": {},
   "outputs": [
    {
     "data": {
      "text/html": [
       "<div>\n",
       "<style scoped>\n",
       "    .dataframe tbody tr th:only-of-type {\n",
       "        vertical-align: middle;\n",
       "    }\n",
       "\n",
       "    .dataframe tbody tr th {\n",
       "        vertical-align: top;\n",
       "    }\n",
       "\n",
       "    .dataframe thead th {\n",
       "        text-align: right;\n",
       "    }\n",
       "</style>\n",
       "<table border=\"1\" class=\"dataframe\">\n",
       "  <thead>\n",
       "    <tr style=\"text-align: right;\">\n",
       "      <th></th>\n",
       "      <th>mined_at</th>\n",
       "      <th>created_at</th>\n",
       "      <th>year</th>\n",
       "      <th>month</th>\n",
       "      <th>day</th>\n",
       "      <th>day_of_week</th>\n",
       "      <th>hour</th>\n",
       "      <th>minute</th>\n",
       "      <th>screen_name</th>\n",
       "      <th>tweet_id</th>\n",
       "      <th>tweet_id_str</th>\n",
       "      <th>retweet_count</th>\n",
       "      <th>favorite_count</th>\n",
       "      <th>source</th>\n",
       "      <th>language</th>\n",
       "      <th>user_favourites_count</th>\n",
       "      <th>followers_count</th>\n",
       "      <th>friends_count</th>\n",
       "      <th>text</th>\n",
       "    </tr>\n",
       "  </thead>\n",
       "  <tbody>\n",
       "    <tr>\n",
       "      <th>0</th>\n",
       "      <td>2020-06-22 15:03:36.106324</td>\n",
       "      <td>2020-04-06 16:33:02+00:00</td>\n",
       "      <td>2020</td>\n",
       "      <td>4</td>\n",
       "      <td>6</td>\n",
       "      <td>0</td>\n",
       "      <td>16</td>\n",
       "      <td>33</td>\n",
       "      <td>albertheijn</td>\n",
       "      <td>1247200655002959875</td>\n",
       "      <td>1247200655002959875</td>\n",
       "      <td>0</td>\n",
       "      <td>NaN</td>\n",
       "      <td>&lt;a href=\"https://www.tracebuzz.com\" rel=\"nofol...</td>\n",
       "      <td>nl</td>\n",
       "      <td>580</td>\n",
       "      <td>45532</td>\n",
       "      <td>6</td>\n",
       "      <td>@babbelaar4life Ik geef het door! Jij bedankt ...</td>\n",
       "    </tr>\n",
       "    <tr>\n",
       "      <th>1</th>\n",
       "      <td>2020-06-22 15:03:36.106324</td>\n",
       "      <td>2020-04-06 16:41:10+00:00</td>\n",
       "      <td>2020</td>\n",
       "      <td>4</td>\n",
       "      <td>6</td>\n",
       "      <td>0</td>\n",
       "      <td>16</td>\n",
       "      <td>41</td>\n",
       "      <td>albertheijn</td>\n",
       "      <td>1247202701689212931</td>\n",
       "      <td>1247202701689212931</td>\n",
       "      <td>0</td>\n",
       "      <td>NaN</td>\n",
       "      <td>&lt;a href=\"https://www.tracebuzz.com\" rel=\"nofol...</td>\n",
       "      <td>fi</td>\n",
       "      <td>580</td>\n",
       "      <td>45532</td>\n",
       "      <td>6</td>\n",
       "      <td>@myrna_1995 Graag gedaan 😊 ^Stéphanie</td>\n",
       "    </tr>\n",
       "    <tr>\n",
       "      <th>2</th>\n",
       "      <td>2020-06-22 15:03:36.106324</td>\n",
       "      <td>2020-04-06 16:50:17+00:00</td>\n",
       "      <td>2020</td>\n",
       "      <td>4</td>\n",
       "      <td>6</td>\n",
       "      <td>0</td>\n",
       "      <td>16</td>\n",
       "      <td>50</td>\n",
       "      <td>albertheijn</td>\n",
       "      <td>1247204994442563584</td>\n",
       "      <td>1247204994442563584</td>\n",
       "      <td>0</td>\n",
       "      <td>NaN</td>\n",
       "      <td>&lt;a href=\"https://www.tracebuzz.com\" rel=\"nofol...</td>\n",
       "      <td>nl</td>\n",
       "      <td>580</td>\n",
       "      <td>45532</td>\n",
       "      <td>6</td>\n",
       "      <td>@rliessum Hoi! We willen de beschikbare produc...</td>\n",
       "    </tr>\n",
       "    <tr>\n",
       "      <th>3</th>\n",
       "      <td>2020-06-22 15:03:36.106324</td>\n",
       "      <td>2020-04-06 16:59:09+00:00</td>\n",
       "      <td>2020</td>\n",
       "      <td>4</td>\n",
       "      <td>6</td>\n",
       "      <td>0</td>\n",
       "      <td>16</td>\n",
       "      <td>59</td>\n",
       "      <td>albertheijn</td>\n",
       "      <td>1247207225204105221</td>\n",
       "      <td>1247207225204105221</td>\n",
       "      <td>0</td>\n",
       "      <td>NaN</td>\n",
       "      <td>&lt;a href=\"https://www.tracebuzz.com\" rel=\"nofol...</td>\n",
       "      <td>nl</td>\n",
       "      <td>580</td>\n",
       "      <td>45532</td>\n",
       "      <td>6</td>\n",
       "      <td>@peter_vinke Hi Peter! Bedankt voor jouw opmer...</td>\n",
       "    </tr>\n",
       "    <tr>\n",
       "      <th>4</th>\n",
       "      <td>2020-06-22 15:03:36.106324</td>\n",
       "      <td>2020-04-06 16:59:39+00:00</td>\n",
       "      <td>2020</td>\n",
       "      <td>4</td>\n",
       "      <td>6</td>\n",
       "      <td>0</td>\n",
       "      <td>16</td>\n",
       "      <td>59</td>\n",
       "      <td>albertheijn</td>\n",
       "      <td>1247207352492834819</td>\n",
       "      <td>1247207352492834819</td>\n",
       "      <td>0</td>\n",
       "      <td>NaN</td>\n",
       "      <td>&lt;a href=\"https://www.tracebuzz.com\" rel=\"nofol...</td>\n",
       "      <td>nl</td>\n",
       "      <td>580</td>\n",
       "      <td>45532</td>\n",
       "      <td>6</td>\n",
       "      <td>@Lupardi Jij bent er als de kippen bij! Het ka...</td>\n",
       "    </tr>\n",
       "  </tbody>\n",
       "</table>\n",
       "</div>"
      ],
      "text/plain": [
       "                     mined_at                 created_at  year  month  day  \\\n",
       "0  2020-06-22 15:03:36.106324  2020-04-06 16:33:02+00:00  2020      4    6   \n",
       "1  2020-06-22 15:03:36.106324  2020-04-06 16:41:10+00:00  2020      4    6   \n",
       "2  2020-06-22 15:03:36.106324  2020-04-06 16:50:17+00:00  2020      4    6   \n",
       "3  2020-06-22 15:03:36.106324  2020-04-06 16:59:09+00:00  2020      4    6   \n",
       "4  2020-06-22 15:03:36.106324  2020-04-06 16:59:39+00:00  2020      4    6   \n",
       "\n",
       "   day_of_week  hour  minute  screen_name             tweet_id  \\\n",
       "0            0    16      33  albertheijn  1247200655002959875   \n",
       "1            0    16      41  albertheijn  1247202701689212931   \n",
       "2            0    16      50  albertheijn  1247204994442563584   \n",
       "3            0    16      59  albertheijn  1247207225204105221   \n",
       "4            0    16      59  albertheijn  1247207352492834819   \n",
       "\n",
       "          tweet_id_str  retweet_count  favorite_count  \\\n",
       "0  1247200655002959875              0             NaN   \n",
       "1  1247202701689212931              0             NaN   \n",
       "2  1247204994442563584              0             NaN   \n",
       "3  1247207225204105221              0             NaN   \n",
       "4  1247207352492834819              0             NaN   \n",
       "\n",
       "                                              source language  \\\n",
       "0  <a href=\"https://www.tracebuzz.com\" rel=\"nofol...       nl   \n",
       "1  <a href=\"https://www.tracebuzz.com\" rel=\"nofol...       fi   \n",
       "2  <a href=\"https://www.tracebuzz.com\" rel=\"nofol...       nl   \n",
       "3  <a href=\"https://www.tracebuzz.com\" rel=\"nofol...       nl   \n",
       "4  <a href=\"https://www.tracebuzz.com\" rel=\"nofol...       nl   \n",
       "\n",
       "   user_favourites_count  followers_count  friends_count  \\\n",
       "0                    580            45532              6   \n",
       "1                    580            45532              6   \n",
       "2                    580            45532              6   \n",
       "3                    580            45532              6   \n",
       "4                    580            45532              6   \n",
       "\n",
       "                                                text  \n",
       "0  @babbelaar4life Ik geef het door! Jij bedankt ...  \n",
       "1              @myrna_1995 Graag gedaan 😊 ^Stéphanie  \n",
       "2  @rliessum Hoi! We willen de beschikbare produc...  \n",
       "3  @peter_vinke Hi Peter! Bedankt voor jouw opmer...  \n",
       "4  @Lupardi Jij bent er als de kippen bij! Het ka...  "
      ]
     },
     "execution_count": 14,
     "metadata": {},
     "output_type": "execute_result"
    }
   ],
   "source": [
    "df_AH_2020_06_22 = pd.read_csv(df_info_AH.loc[10,'file_path'])\n",
    "df_AH_2020_06_22.head()"
   ]
  },
  {
   "cell_type": "code",
   "execution_count": 15,
   "metadata": {},
   "outputs": [
    {
     "name": "stdout",
     "output_type": "stream",
     "text": [
      "<class 'pandas.core.frame.DataFrame'>\n",
      "RangeIndex: 3217 entries, 0 to 3216\n",
      "Data columns (total 19 columns):\n",
      " #   Column                 Non-Null Count  Dtype  \n",
      "---  ------                 --------------  -----  \n",
      " 0   mined_at               3217 non-null   object \n",
      " 1   created_at             3217 non-null   object \n",
      " 2   year                   3217 non-null   int64  \n",
      " 3   month                  3217 non-null   int64  \n",
      " 4   day                    3217 non-null   int64  \n",
      " 5   day_of_week            3217 non-null   int64  \n",
      " 6   hour                   3217 non-null   int64  \n",
      " 7   minute                 3217 non-null   int64  \n",
      " 8   screen_name            3217 non-null   object \n",
      " 9   tweet_id               3217 non-null   int64  \n",
      " 10  tweet_id_str           3217 non-null   int64  \n",
      " 11  retweet_count          3217 non-null   int64  \n",
      " 12  favorite_count         25 non-null     float64\n",
      " 13  source                 3217 non-null   object \n",
      " 14  language               3217 non-null   object \n",
      " 15  user_favourites_count  3217 non-null   int64  \n",
      " 16  followers_count        3217 non-null   int64  \n",
      " 17  friends_count          3217 non-null   int64  \n",
      " 18  text                   3217 non-null   object \n",
      "dtypes: float64(1), int64(12), object(6)\n",
      "memory usage: 477.6+ KB\n"
     ]
    }
   ],
   "source": [
    "df_AH_2020_06_22.info()"
   ]
  },
  {
   "cell_type": "code",
   "execution_count": 16,
   "metadata": {},
   "outputs": [],
   "source": [
    "df_AH_2020_06_22['created_at'] = pd.to_datetime(df_AH_2020_06_22['created_at'], infer_datetime_format=True)"
   ]
  },
  {
   "cell_type": "code",
   "execution_count": 17,
   "metadata": {},
   "outputs": [
    {
     "name": "stdout",
     "output_type": "stream",
     "text": [
      "<class 'pandas.core.frame.DataFrame'>\n",
      "RangeIndex: 3217 entries, 0 to 3216\n",
      "Data columns (total 19 columns):\n",
      " #   Column                 Non-Null Count  Dtype              \n",
      "---  ------                 --------------  -----              \n",
      " 0   mined_at               3217 non-null   object             \n",
      " 1   created_at             3217 non-null   datetime64[ns, UTC]\n",
      " 2   year                   3217 non-null   int64              \n",
      " 3   month                  3217 non-null   int64              \n",
      " 4   day                    3217 non-null   int64              \n",
      " 5   day_of_week            3217 non-null   int64              \n",
      " 6   hour                   3217 non-null   int64              \n",
      " 7   minute                 3217 non-null   int64              \n",
      " 8   screen_name            3217 non-null   object             \n",
      " 9   tweet_id               3217 non-null   int64              \n",
      " 10  tweet_id_str           3217 non-null   int64              \n",
      " 11  retweet_count          3217 non-null   int64              \n",
      " 12  favorite_count         25 non-null     float64            \n",
      " 13  source                 3217 non-null   object             \n",
      " 14  language               3217 non-null   object             \n",
      " 15  user_favourites_count  3217 non-null   int64              \n",
      " 16  followers_count        3217 non-null   int64              \n",
      " 17  friends_count          3217 non-null   int64              \n",
      " 18  text                   3217 non-null   object             \n",
      "dtypes: datetime64[ns, UTC](1), float64(1), int64(12), object(5)\n",
      "memory usage: 477.6+ KB\n"
     ]
    }
   ],
   "source": [
    "df_AH_2020_06_22.info()"
   ]
  },
  {
   "cell_type": "markdown",
   "metadata": {},
   "source": [
    "## Which columns are present in both older and most recent data?"
   ]
  },
  {
   "cell_type": "code",
   "execution_count": 18,
   "metadata": {},
   "outputs": [
    {
     "data": {
      "text/plain": [
       "['created_at',\n",
       " 'day',\n",
       " 'day_of_week',\n",
       " 'hour',\n",
       " 'mined_at',\n",
       " 'minute',\n",
       " 'month',\n",
       " 'retweet_count',\n",
       " 'screen_name',\n",
       " 'source',\n",
       " 'text',\n",
       " 'tweet_id',\n",
       " 'tweet_id_str',\n",
       " 'year']"
      ]
     },
     "execution_count": 18,
     "metadata": {},
     "output_type": "execute_result"
    }
   ],
   "source": [
    "common_columns = list(set(df_AH_2020_06_16.columns).intersection(set(df_AH_2020_06_22.columns)))\n",
    "common_columns.sort()\n",
    "common_columns"
   ]
  },
  {
   "cell_type": "code",
   "execution_count": 19,
   "metadata": {},
   "outputs": [
    {
     "data": {
      "text/plain": [
       "14"
      ]
     },
     "execution_count": 19,
     "metadata": {},
     "output_type": "execute_result"
    }
   ],
   "source": [
    "# this agrees with what we expected\n",
    "len(common_columns)"
   ]
  },
  {
   "cell_type": "markdown",
   "metadata": {},
   "source": [
    "## Which ones are missing in the older data?"
   ]
  },
  {
   "cell_type": "markdown",
   "metadata": {},
   "source": [
    "The columns we will miss by concatenation the older and newer columns are:"
   ]
  },
  {
   "cell_type": "code",
   "execution_count": 20,
   "metadata": {},
   "outputs": [
    {
     "data": {
      "text/plain": [
       "['user_favourites_count',\n",
       " 'friends_count',\n",
       " 'favorite_count',\n",
       " 'language',\n",
       " 'followers_count']"
      ]
     },
     "execution_count": 20,
     "metadata": {},
     "output_type": "execute_result"
    }
   ],
   "source": [
    "list(set(df_AH_2020_06_22.columns).difference(set(df_AH_2020_06_16.columns)))"
   ]
  },
  {
   "cell_type": "markdown",
   "metadata": {},
   "source": [
    "When concatenation I'll keep all columns since `friends_count`, `user_favourites_count`, `favorite_count`, `followers_count` can be used in EDA only considering dates available in the most recent data. \n",
    "\n",
    "For the sentiment analysis part `language` is a important piece of information. In addition, I want to maximize the amount of data available within COVID-19 period. Therefore, before concatenating I'll insert this information to the data retrieved on 16th June.\n",
    "\n",
    "Because there is a overlap in period covered by the 2 dataframes I'll first keep only the days present in the data retrieve on 16th June that is not present in the most recent data retrieve at 22nd June. This will save us processing time."
   ]
  },
  {
   "cell_type": "code",
   "execution_count": 21,
   "metadata": {},
   "outputs": [],
   "source": [
    "# Keeping only days not in the most recent data\n",
    "df_AH_2020_06_16 = df_AH_2020_06_16[df_AH_2020_06_16['created_at'] <= min(df_AH_2020_06_22['created_at'])]"
   ]
  },
  {
   "cell_type": "code",
   "execution_count": 22,
   "metadata": {},
   "outputs": [
    {
     "name": "stdout",
     "output_type": "stream",
     "text": [
      "<class 'pandas.core.frame.DataFrame'>\n",
      "Int64Index: 205 entries, 0 to 204\n",
      "Data columns (total 14 columns):\n",
      " #   Column         Non-Null Count  Dtype              \n",
      "---  ------         --------------  -----              \n",
      " 0   mined_at       205 non-null    object             \n",
      " 1   screen_name    205 non-null    object             \n",
      " 2   tweet_id       205 non-null    int64              \n",
      " 3   tweet_id_str   205 non-null    int64              \n",
      " 4   created_at     205 non-null    datetime64[ns, UTC]\n",
      " 5   year           205 non-null    int64              \n",
      " 6   month          205 non-null    int64              \n",
      " 7   day            205 non-null    int64              \n",
      " 8   day_of_week    205 non-null    int64              \n",
      " 9   hour           205 non-null    int64              \n",
      " 10  minute         205 non-null    int64              \n",
      " 11  retweet_count  205 non-null    int64              \n",
      " 12  source         205 non-null    object             \n",
      " 13  text           205 non-null    object             \n",
      "dtypes: datetime64[ns, UTC](1), int64(9), object(4)\n",
      "memory usage: 24.0+ KB\n"
     ]
    }
   ],
   "source": [
    "df_AH_2020_06_16.info()"
   ]
  },
  {
   "cell_type": "markdown",
   "metadata": {},
   "source": [
    "Therefore, we have 205 new data points from 30th March until 6th April."
   ]
  },
  {
   "cell_type": "code",
   "execution_count": 23,
   "metadata": {
    "scrolled": true
   },
   "outputs": [
    {
     "data": {
      "text/plain": [
       "(Timestamp('2020-03-30 08:04:02+0000', tz='UTC'),\n",
       " Timestamp('2020-04-06 16:33:02+0000', tz='UTC'))"
      ]
     },
     "execution_count": 23,
     "metadata": {},
     "output_type": "execute_result"
    }
   ],
   "source": [
    "min(df_AH_2020_06_16['created_at']),max(df_AH_2020_06_16['created_at'])"
   ]
  },
  {
   "cell_type": "code",
   "execution_count": 24,
   "metadata": {},
   "outputs": [
    {
     "data": {
      "text/plain": [
       "Timestamp('2020-04-06 16:33:02+0000', tz='UTC')"
      ]
     },
     "execution_count": 24,
     "metadata": {},
     "output_type": "execute_result"
    }
   ],
   "source": [
    "min(df_AH_2020_06_22['created_at'])"
   ]
  },
  {
   "cell_type": "markdown",
   "metadata": {},
   "source": [
    "## Insert `language` information to older data (retrieved on 16th June 2020)\n",
    "\n",
    "We can consider one of the two solutions to insert information about the language in this older data.\n",
    "\n",
    "1. [detect_language() from TextBlob()](https://textblob.readthedocs.io/en/dev/api_reference.html#textblob.blob.TextBlob.detect_language). It uses a Google API and requires Internet access.\n",
    "\n",
    "I've tried but it didn't allow to have all 205 entries evaluated. I've got a `HTTPError: HTTP Error 429: Too Many Requests`\n",
    "\n",
    "2. [langdetect Python library](https://pypi.org/project/langdetect/): Port of [Google’s language-detection library](https://code.google.com/archive/p/language-detection/) to Python.\n",
    "\n",
    "Let's first consider an example and both ways of finding out language:"
   ]
  },
  {
   "cell_type": "code",
   "execution_count": 25,
   "metadata": {},
   "outputs": [
    {
     "data": {
      "text/plain": [
       "'@derots Voorraad is er genoeg, het is voor ons echter een logistieke uitdaging om alles op het juiste moment op de juiste plek te hebben. Hier werken we dag en nacht en met man en macht aan om voor elkaar te krijgen. Sorry dat dit alsnog een leeg schap opleverd. ^Job'"
      ]
     },
     "execution_count": 25,
     "metadata": {},
     "output_type": "execute_result"
    }
   ],
   "source": [
    "text = df_AH_2020_06_16.loc[0,'text']\n",
    "text"
   ]
  },
  {
   "cell_type": "code",
   "execution_count": 26,
   "metadata": {},
   "outputs": [],
   "source": [
    "# from textblob import TextBlob\n",
    "\n",
    "# b = TextBlob(text)\n",
    "# b.detect_language()"
   ]
  },
  {
   "cell_type": "code",
   "execution_count": 27,
   "metadata": {
    "scrolled": true
   },
   "outputs": [
    {
     "data": {
      "text/plain": [
       "'nl'"
      ]
     },
     "execution_count": 27,
     "metadata": {},
     "output_type": "execute_result"
    }
   ],
   "source": [
    "from langdetect import detect\n",
    "\n",
    "detect(text)"
   ]
  },
  {
   "cell_type": "markdown",
   "metadata": {},
   "source": [
    "As we can see both `detect_language` from `TextBlob` and `langdetect` detected successfully the language of the dutch tweet. But if you have a good amount of text to work with better to use `langdected` that does not depend on the API."
   ]
  },
  {
   "cell_type": "code",
   "execution_count": 30,
   "metadata": {
    "scrolled": true
   },
   "outputs": [],
   "source": [
    "df_AH_2020_06_16['language'] = df_AH_2020_06_22['text'].apply(lambda x: detect(x))"
   ]
  },
  {
   "cell_type": "code",
   "execution_count": 31,
   "metadata": {},
   "outputs": [
    {
     "name": "stdout",
     "output_type": "stream",
     "text": [
      "<class 'pandas.core.frame.DataFrame'>\n",
      "Int64Index: 205 entries, 0 to 204\n",
      "Data columns (total 15 columns):\n",
      " #   Column         Non-Null Count  Dtype              \n",
      "---  ------         --------------  -----              \n",
      " 0   mined_at       205 non-null    object             \n",
      " 1   screen_name    205 non-null    object             \n",
      " 2   tweet_id       205 non-null    int64              \n",
      " 3   tweet_id_str   205 non-null    int64              \n",
      " 4   created_at     205 non-null    datetime64[ns, UTC]\n",
      " 5   year           205 non-null    int64              \n",
      " 6   month          205 non-null    int64              \n",
      " 7   day            205 non-null    int64              \n",
      " 8   day_of_week    205 non-null    int64              \n",
      " 9   hour           205 non-null    int64              \n",
      " 10  minute         205 non-null    int64              \n",
      " 11  retweet_count  205 non-null    int64              \n",
      " 12  source         205 non-null    object             \n",
      " 13  text           205 non-null    object             \n",
      " 14  language       205 non-null    object             \n",
      "dtypes: datetime64[ns, UTC](1), int64(9), object(5)\n",
      "memory usage: 35.6+ KB\n"
     ]
    }
   ],
   "source": [
    "df_AH_2020_06_16.info()"
   ]
  },
  {
   "cell_type": "code",
   "execution_count": 32,
   "metadata": {},
   "outputs": [
    {
     "data": {
      "text/html": [
       "<div>\n",
       "<style scoped>\n",
       "    .dataframe tbody tr th:only-of-type {\n",
       "        vertical-align: middle;\n",
       "    }\n",
       "\n",
       "    .dataframe tbody tr th {\n",
       "        vertical-align: top;\n",
       "    }\n",
       "\n",
       "    .dataframe thead th {\n",
       "        text-align: right;\n",
       "    }\n",
       "</style>\n",
       "<table border=\"1\" class=\"dataframe\">\n",
       "  <thead>\n",
       "    <tr style=\"text-align: right;\">\n",
       "      <th></th>\n",
       "      <th>mined_at</th>\n",
       "      <th>screen_name</th>\n",
       "      <th>tweet_id</th>\n",
       "      <th>tweet_id_str</th>\n",
       "      <th>created_at</th>\n",
       "      <th>year</th>\n",
       "      <th>month</th>\n",
       "      <th>day</th>\n",
       "      <th>day_of_week</th>\n",
       "      <th>hour</th>\n",
       "      <th>minute</th>\n",
       "      <th>retweet_count</th>\n",
       "      <th>source</th>\n",
       "      <th>text</th>\n",
       "      <th>language</th>\n",
       "    </tr>\n",
       "  </thead>\n",
       "  <tbody>\n",
       "    <tr>\n",
       "      <th>0</th>\n",
       "      <td>2020-06-16 22:17:43.708324</td>\n",
       "      <td>albertheijn</td>\n",
       "      <td>1244535843135672326</td>\n",
       "      <td>1244535843135672326</td>\n",
       "      <td>2020-03-30 08:04:02+00:00</td>\n",
       "      <td>2020</td>\n",
       "      <td>3</td>\n",
       "      <td>30</td>\n",
       "      <td>0</td>\n",
       "      <td>8</td>\n",
       "      <td>4</td>\n",
       "      <td>0</td>\n",
       "      <td>&lt;a href=\"https://www.tracebuzz.com\" rel=\"nofol...</td>\n",
       "      <td>@derots Voorraad is er genoeg, het is voor ons...</td>\n",
       "      <td>nl</td>\n",
       "    </tr>\n",
       "    <tr>\n",
       "      <th>1</th>\n",
       "      <td>2020-06-16 22:17:43.708324</td>\n",
       "      <td>albertheijn</td>\n",
       "      <td>1244538454890987523</td>\n",
       "      <td>1244538454890987523</td>\n",
       "      <td>2020-03-30 08:14:24+00:00</td>\n",
       "      <td>2020</td>\n",
       "      <td>3</td>\n",
       "      <td>30</td>\n",
       "      <td>0</td>\n",
       "      <td>8</td>\n",
       "      <td>14</td>\n",
       "      <td>0</td>\n",
       "      <td>&lt;a href=\"https://www.tracebuzz.com\" rel=\"nofol...</td>\n",
       "      <td>@MoniquevDBurgh We doen er alles aan om zoveel...</td>\n",
       "      <td>af</td>\n",
       "    </tr>\n",
       "    <tr>\n",
       "      <th>2</th>\n",
       "      <td>2020-06-16 22:17:43.708324</td>\n",
       "      <td>albertheijn</td>\n",
       "      <td>1244540668225126401</td>\n",
       "      <td>1244540668225126401</td>\n",
       "      <td>2020-03-30 08:23:12+00:00</td>\n",
       "      <td>2020</td>\n",
       "      <td>3</td>\n",
       "      <td>30</td>\n",
       "      <td>0</td>\n",
       "      <td>8</td>\n",
       "      <td>23</td>\n",
       "      <td>0</td>\n",
       "      <td>&lt;a href=\"https://www.tracebuzz.com\" rel=\"nofol...</td>\n",
       "      <td>@AnnekeVisser15 Klopt! De Persoonlijke Bonus w...</td>\n",
       "      <td>nl</td>\n",
       "    </tr>\n",
       "    <tr>\n",
       "      <th>3</th>\n",
       "      <td>2020-06-16 22:17:43.519106</td>\n",
       "      <td>albertheijn</td>\n",
       "      <td>1244541424588251141</td>\n",
       "      <td>1244541424588251141</td>\n",
       "      <td>2020-03-30 08:26:12+00:00</td>\n",
       "      <td>2020</td>\n",
       "      <td>3</td>\n",
       "      <td>30</td>\n",
       "      <td>0</td>\n",
       "      <td>8</td>\n",
       "      <td>26</td>\n",
       "      <td>0</td>\n",
       "      <td>&lt;a href=\"https://www.tracebuzz.com\" rel=\"nofol...</td>\n",
       "      <td>@waltervantiel    We kopen groenten en fruit z...</td>\n",
       "      <td>nl</td>\n",
       "    </tr>\n",
       "    <tr>\n",
       "      <th>4</th>\n",
       "      <td>2020-06-16 22:17:43.519106</td>\n",
       "      <td>albertheijn</td>\n",
       "      <td>1244542564344238083</td>\n",
       "      <td>1244542564344238083</td>\n",
       "      <td>2020-03-30 08:30:44+00:00</td>\n",
       "      <td>2020</td>\n",
       "      <td>3</td>\n",
       "      <td>30</td>\n",
       "      <td>0</td>\n",
       "      <td>8</td>\n",
       "      <td>30</td>\n",
       "      <td>0</td>\n",
       "      <td>&lt;a href=\"https://www.tracebuzz.com\" rel=\"nofol...</td>\n",
       "      <td>@bbstring Je kunt ons het beste een privéberic...</td>\n",
       "      <td>nl</td>\n",
       "    </tr>\n",
       "  </tbody>\n",
       "</table>\n",
       "</div>"
      ],
      "text/plain": [
       "                     mined_at  screen_name             tweet_id  \\\n",
       "0  2020-06-16 22:17:43.708324  albertheijn  1244535843135672326   \n",
       "1  2020-06-16 22:17:43.708324  albertheijn  1244538454890987523   \n",
       "2  2020-06-16 22:17:43.708324  albertheijn  1244540668225126401   \n",
       "3  2020-06-16 22:17:43.519106  albertheijn  1244541424588251141   \n",
       "4  2020-06-16 22:17:43.519106  albertheijn  1244542564344238083   \n",
       "\n",
       "          tweet_id_str                created_at  year  month  day  \\\n",
       "0  1244535843135672326 2020-03-30 08:04:02+00:00  2020      3   30   \n",
       "1  1244538454890987523 2020-03-30 08:14:24+00:00  2020      3   30   \n",
       "2  1244540668225126401 2020-03-30 08:23:12+00:00  2020      3   30   \n",
       "3  1244541424588251141 2020-03-30 08:26:12+00:00  2020      3   30   \n",
       "4  1244542564344238083 2020-03-30 08:30:44+00:00  2020      3   30   \n",
       "\n",
       "   day_of_week  hour  minute  retweet_count  \\\n",
       "0            0     8       4              0   \n",
       "1            0     8      14              0   \n",
       "2            0     8      23              0   \n",
       "3            0     8      26              0   \n",
       "4            0     8      30              0   \n",
       "\n",
       "                                              source  \\\n",
       "0  <a href=\"https://www.tracebuzz.com\" rel=\"nofol...   \n",
       "1  <a href=\"https://www.tracebuzz.com\" rel=\"nofol...   \n",
       "2  <a href=\"https://www.tracebuzz.com\" rel=\"nofol...   \n",
       "3  <a href=\"https://www.tracebuzz.com\" rel=\"nofol...   \n",
       "4  <a href=\"https://www.tracebuzz.com\" rel=\"nofol...   \n",
       "\n",
       "                                                text language  \n",
       "0  @derots Voorraad is er genoeg, het is voor ons...       nl  \n",
       "1  @MoniquevDBurgh We doen er alles aan om zoveel...       af  \n",
       "2  @AnnekeVisser15 Klopt! De Persoonlijke Bonus w...       nl  \n",
       "3  @waltervantiel    We kopen groenten en fruit z...       nl  \n",
       "4  @bbstring Je kunt ons het beste een privéberic...       nl  "
      ]
     },
     "execution_count": 32,
     "metadata": {},
     "output_type": "execute_result"
    }
   ],
   "source": [
    "df_AH_2020_06_16.head()"
   ]
  },
  {
   "cell_type": "code",
   "execution_count": 33,
   "metadata": {
    "scrolled": false
   },
   "outputs": [
    {
     "data": {
      "text/plain": [
       "nl    187\n",
       "af      8\n",
       "en      4\n",
       "fr      1\n",
       "tr      1\n",
       "ro      1\n",
       "no      1\n",
       "so      1\n",
       "de      1\n",
       "Name: language, dtype: int64"
      ]
     },
     "execution_count": 33,
     "metadata": {},
     "output_type": "execute_result"
    }
   ],
   "source": [
    "df_AH_2020_06_16['language'].value_counts()"
   ]
  },
  {
   "cell_type": "code",
   "execution_count": 34,
   "metadata": {
    "scrolled": true
   },
   "outputs": [
    {
     "data": {
      "text/plain": [
       "array(['@MoniquevDBurgh We doen er alles aan om zoveel mogelijk bezorg- en afhaalmomenten vrij te krijgen. Het kan zijn dat een bezorgmoment al vol zit al vorens je deze kunt inzien. Klanten met een Bezorgbundel kunnen namelijk een week verder inplannen. ^Job',\n",
       "       '@salvatore1976cs  Ik ga er vanuit dat dat op korte termijn zeker goedkomt 😉 ^Robin',\n",
       "       '@moniquekauffman Het enige wat ik nu voor je kan doen is aanraden om de site goed in de gaten te houden en voor zover mogelijk gelijk een moment te reserveren als deze er weer zijn. ^Lies',\n",
       "       '@jantine50 .@jantine We willen zo min mogelijk producten weggooien (want voedselverspilling), bij gebruik van zo min mogelijk verpakkingsmateriaal. Hier lees je meer over onze aanpak https://t.co/wAmLYVTBPm',\n",
       "       '@KathyMamadottir Zoek een product daarom altijd op onze eigen website en niet via een zoekmachine. Een zoekmachine als Google slaat informatie op voor een bepaalde periode. Als wij een artikel verwijderen, duurt het even voordat Google dit overneemt. ^Stéphanie',\n",
       "       '@pedrelinna Voor zowel wij zien zijn er leveringsproblemen geweest waardoor we deze tijdelijk niet konden aanbieden. Volgende week kunnen ze weer binnendruppelen, excuses voor het ongemak! ^Tyron',\n",
       "       '@babbelaar4life Hoi Babbelaar! Zou je mij willen laten weten in welke winkel dit was? Dan breng ik de winkel op de hoogte.  ^Yasmine',\n",
       "       '@babbelaar4life Ik geef het door! Jij bedankt voor de feedback 💙 ^Yasmine'],\n",
       "      dtype=object)"
      ]
     },
     "execution_count": 34,
     "metadata": {},
     "output_type": "execute_result"
    }
   ],
   "source": [
    "df_AH_2020_06_16['text'][df_AH_2020_06_16['language']=='af'].values"
   ]
  },
  {
   "cell_type": "code",
   "execution_count": 36,
   "metadata": {},
   "outputs": [
    {
     "name": "stderr",
     "output_type": "stream",
     "text": [
      "C:\\ProgramData\\Anaconda3\\lib\\site-packages\\ipykernel_launcher.py:1: SettingWithCopyWarning: \n",
      "A value is trying to be set on a copy of a slice from a DataFrame\n",
      "\n",
      "See the caveats in the documentation: https://pandas.pydata.org/pandas-docs/stable/user_guide/indexing.html#returning-a-view-versus-a-copy\n",
      "  \"\"\"Entry point for launching an IPython kernel.\n"
     ]
    }
   ],
   "source": [
    "df_AH_2020_06_16['language'][df_AH_2020_06_16['language']=='af']='nl'"
   ]
  },
  {
   "cell_type": "code",
   "execution_count": 37,
   "metadata": {
    "scrolled": true
   },
   "outputs": [
    {
     "data": {
      "text/plain": [
       "nl    195\n",
       "en      4\n",
       "fr      1\n",
       "tr      1\n",
       "ro      1\n",
       "no      1\n",
       "so      1\n",
       "de      1\n",
       "Name: language, dtype: int64"
      ]
     },
     "execution_count": 37,
     "metadata": {},
     "output_type": "execute_result"
    }
   ],
   "source": [
    "df_AH_2020_06_16['language'].value_counts()"
   ]
  },
  {
   "cell_type": "code",
   "execution_count": 38,
   "metadata": {},
   "outputs": [
    {
     "data": {
      "text/plain": [
       "array(['@Annastasia_r Oei! De burger hoef je (gelukkig) niet mee te nemen. Laat je dit berichtje of de bon aan de servicebalie zien? ☺️ ^Yasmine',\n",
       "       '@yvonnestaal Dat klinkt niet zo best! Graag hoor ik van jou in een privéberichtje om welke winkel het gaat en wat precies het probleem is. ^Daniël',\n",
       "       '@LizHartevelt Graag gedaan 😊 ^Stéphanie',\n",
       "       '@huhesas Hmm, smakelijk eten alvast 😊 ^Stéphanie'], dtype=object)"
      ]
     },
     "execution_count": 38,
     "metadata": {},
     "output_type": "execute_result"
    }
   ],
   "source": [
    "df_AH_2020_06_16['text'][df_AH_2020_06_16['language']=='en'].values"
   ]
  },
  {
   "cell_type": "code",
   "execution_count": 39,
   "metadata": {},
   "outputs": [
    {
     "data": {
      "text/plain": [
       "array(['@demama Je krijgt dan de Bonus over de wél geleverde producten! Dit kun je controleren op de afleverbon. Mocht dit alsnog niet goed zijn gegaan, stuur ons dan een DM met bestelgegevens. Dan helpen we je verder :) ^Job'],\n",
       "      dtype=object)"
      ]
     },
     "execution_count": 39,
     "metadata": {},
     "output_type": "execute_result"
    }
   ],
   "source": [
    "df_AH_2020_06_16['text'][df_AH_2020_06_16['language']=='fr'].values"
   ]
  },
  {
   "cell_type": "code",
   "execution_count": 40,
   "metadata": {},
   "outputs": [
    {
     "data": {
      "text/plain": [
       "array(['@MirteDamen Het is momenteel inderdaad erg druk bij onze telefonische klantenservice. Misschien kunnen wij je wel helpen, kun je ons in een pb sturen waar het over gaat? ^Stéphanie'],\n",
       "      dtype=object)"
      ]
     },
     "execution_count": 40,
     "metadata": {},
     "output_type": "execute_result"
    }
   ],
   "source": [
    "df_AH_2020_06_16['text'][df_AH_2020_06_16['language']=='no'].values"
   ]
  },
  {
   "cell_type": "code",
   "execution_count": 41,
   "metadata": {},
   "outputs": [
    {
     "data": {
      "text/plain": [
       "array([], dtype=object)"
      ]
     },
     "execution_count": 41,
     "metadata": {},
     "output_type": "execute_result"
    }
   ],
   "source": [
    "df_AH_2020_06_16['text'][df_AH_2020_06_16['language']=='id'].values"
   ]
  },
  {
   "cell_type": "code",
   "execution_count": 42,
   "metadata": {},
   "outputs": [
    {
     "data": {
      "text/plain": [
       "array(['@sandervh1998  Oei, dit hoort inderdaad niet. Ik raad je aan even terug te gaan naar de betreffende AH en dit voor te leggen bij de servicebalie.  ^Robin'],\n",
       "      dtype=object)"
      ]
     },
     "execution_count": 42,
     "metadata": {},
     "output_type": "execute_result"
    }
   ],
   "source": [
    "df_AH_2020_06_16['text'][df_AH_2020_06_16['language']=='tr'].values"
   ]
  },
  {
   "cell_type": "code",
   "execution_count": 43,
   "metadata": {},
   "outputs": [
    {
     "data": {
      "text/plain": [
       "array([], dtype=object)"
      ]
     },
     "execution_count": 43,
     "metadata": {},
     "output_type": "execute_result"
    }
   ],
   "source": [
    "df_AH_2020_06_16['text'][df_AH_2020_06_16['language']=='pl'].values"
   ]
  },
  {
   "cell_type": "code",
   "execution_count": 44,
   "metadata": {},
   "outputs": [
    {
     "data": {
      "text/plain": [
       "[nl:0.9999959158555007]"
      ]
     },
     "execution_count": 44,
     "metadata": {},
     "output_type": "execute_result"
    }
   ],
   "source": [
    "from langdetect import detect_langs\n",
    "detect_langs('@NancyGroningen Oh nee! Excuses hiervoor! Zou je mij het bestelnummer of het e-mailadres in een privébericht willen sturen? Dan kijk ik mee ^Yasmine')"
   ]
  },
  {
   "cell_type": "markdown",
   "metadata": {},
   "source": [
    "It seems that all `text` are Dutch and for some reason the detection failed in some cases. So we will change everything to `nl`. "
   ]
  },
  {
   "cell_type": "code",
   "execution_count": 45,
   "metadata": {},
   "outputs": [],
   "source": [
    "df_AH_2020_06_16['language'] = 'nl'"
   ]
  },
  {
   "cell_type": "markdown",
   "metadata": {},
   "source": [
    "## Concatenating older and most recent data"
   ]
  },
  {
   "cell_type": "markdown",
   "metadata": {},
   "source": [
    "Now we are ready to concatenate all AH data."
   ]
  },
  {
   "cell_type": "code",
   "execution_count": 46,
   "metadata": {},
   "outputs": [],
   "source": [
    "# concatenate dataframes\n",
    "df_AH_concat = pd.concat([df_AH_2020_06_16,df_AH_2020_06_22])"
   ]
  },
  {
   "cell_type": "code",
   "execution_count": 47,
   "metadata": {},
   "outputs": [
    {
     "data": {
      "text/html": [
       "<div>\n",
       "<style scoped>\n",
       "    .dataframe tbody tr th:only-of-type {\n",
       "        vertical-align: middle;\n",
       "    }\n",
       "\n",
       "    .dataframe tbody tr th {\n",
       "        vertical-align: top;\n",
       "    }\n",
       "\n",
       "    .dataframe thead th {\n",
       "        text-align: right;\n",
       "    }\n",
       "</style>\n",
       "<table border=\"1\" class=\"dataframe\">\n",
       "  <thead>\n",
       "    <tr style=\"text-align: right;\">\n",
       "      <th></th>\n",
       "      <th>mined_at</th>\n",
       "      <th>screen_name</th>\n",
       "      <th>tweet_id</th>\n",
       "      <th>tweet_id_str</th>\n",
       "      <th>created_at</th>\n",
       "      <th>year</th>\n",
       "      <th>month</th>\n",
       "      <th>day</th>\n",
       "      <th>day_of_week</th>\n",
       "      <th>hour</th>\n",
       "      <th>minute</th>\n",
       "      <th>retweet_count</th>\n",
       "      <th>source</th>\n",
       "      <th>text</th>\n",
       "      <th>language</th>\n",
       "      <th>favorite_count</th>\n",
       "      <th>user_favourites_count</th>\n",
       "      <th>followers_count</th>\n",
       "      <th>friends_count</th>\n",
       "    </tr>\n",
       "  </thead>\n",
       "  <tbody>\n",
       "    <tr>\n",
       "      <th>0</th>\n",
       "      <td>2020-06-22 15:03:36.106324</td>\n",
       "      <td>albertheijn</td>\n",
       "      <td>1247200655002959875</td>\n",
       "      <td>1247200655002959875</td>\n",
       "      <td>2020-04-06 16:33:02+00:00</td>\n",
       "      <td>2020</td>\n",
       "      <td>4</td>\n",
       "      <td>6</td>\n",
       "      <td>0</td>\n",
       "      <td>16</td>\n",
       "      <td>33</td>\n",
       "      <td>0</td>\n",
       "      <td>&lt;a href=\"https://www.tracebuzz.com\" rel=\"nofol...</td>\n",
       "      <td>@babbelaar4life Ik geef het door! Jij bedankt ...</td>\n",
       "      <td>nl</td>\n",
       "      <td>NaN</td>\n",
       "      <td>580.0</td>\n",
       "      <td>45532.0</td>\n",
       "      <td>6.0</td>\n",
       "    </tr>\n",
       "  </tbody>\n",
       "</table>\n",
       "</div>"
      ],
      "text/plain": [
       "                     mined_at  screen_name             tweet_id  \\\n",
       "0  2020-06-22 15:03:36.106324  albertheijn  1247200655002959875   \n",
       "\n",
       "          tweet_id_str                created_at  year  month  day  \\\n",
       "0  1247200655002959875 2020-04-06 16:33:02+00:00  2020      4    6   \n",
       "\n",
       "   day_of_week  hour  minute  retweet_count  \\\n",
       "0            0    16      33              0   \n",
       "\n",
       "                                              source  \\\n",
       "0  <a href=\"https://www.tracebuzz.com\" rel=\"nofol...   \n",
       "\n",
       "                                                text language  favorite_count  \\\n",
       "0  @babbelaar4life Ik geef het door! Jij bedankt ...       nl             NaN   \n",
       "\n",
       "   user_favourites_count  followers_count  friends_count  \n",
       "0                  580.0          45532.0            6.0  "
      ]
     },
     "execution_count": 47,
     "metadata": {},
     "output_type": "execute_result"
    }
   ],
   "source": [
    "duplicateRowsDF = df_AH_concat[df_AH_concat.duplicated(['text'])]\n",
    "duplicateRowsDF"
   ]
  },
  {
   "cell_type": "markdown",
   "metadata": {},
   "source": [
    "As expected tweet from '2020-04-06 16:33:02+0000' is duplicated. It will be removed by using `drop_duplicates`."
   ]
  },
  {
   "cell_type": "code",
   "execution_count": 48,
   "metadata": {},
   "outputs": [
    {
     "name": "stdout",
     "output_type": "stream",
     "text": [
      "<class 'pandas.core.frame.DataFrame'>\n",
      "Int64Index: 3422 entries, 0 to 3216\n",
      "Data columns (total 19 columns):\n",
      " #   Column                 Non-Null Count  Dtype              \n",
      "---  ------                 --------------  -----              \n",
      " 0   mined_at               3422 non-null   object             \n",
      " 1   screen_name            3422 non-null   object             \n",
      " 2   tweet_id               3422 non-null   int64              \n",
      " 3   tweet_id_str           3422 non-null   int64              \n",
      " 4   created_at             3422 non-null   datetime64[ns, UTC]\n",
      " 5   year                   3422 non-null   int64              \n",
      " 6   month                  3422 non-null   int64              \n",
      " 7   day                    3422 non-null   int64              \n",
      " 8   day_of_week            3422 non-null   int64              \n",
      " 9   hour                   3422 non-null   int64              \n",
      " 10  minute                 3422 non-null   int64              \n",
      " 11  retweet_count          3422 non-null   int64              \n",
      " 12  source                 3422 non-null   object             \n",
      " 13  text                   3422 non-null   object             \n",
      " 14  language               3422 non-null   object             \n",
      " 15  favorite_count         25 non-null     float64            \n",
      " 16  user_favourites_count  3217 non-null   float64            \n",
      " 17  followers_count        3217 non-null   float64            \n",
      " 18  friends_count          3217 non-null   float64            \n",
      "dtypes: datetime64[ns, UTC](1), float64(4), int64(9), object(5)\n",
      "memory usage: 534.7+ KB\n"
     ]
    }
   ],
   "source": [
    "df_AH_concat.info()"
   ]
  },
  {
   "cell_type": "code",
   "execution_count": 49,
   "metadata": {},
   "outputs": [],
   "source": [
    "# eliminate duplicates based on create_at and text, keep will be setted to 'last' since we know that in the older \n",
    "# data language will be nan and it is better to keep data that is not nan\n",
    "\n",
    "df_AH_concat.drop_duplicates(subset=['text'], inplace = True, keep = 'last')"
   ]
  },
  {
   "cell_type": "code",
   "execution_count": 50,
   "metadata": {},
   "outputs": [],
   "source": [
    "# sorting by 'created_at'\n",
    "df_AH_concat.sort_values(by='created_at',inplace = True)\n",
    "\n",
    "# reset index\n",
    "df_AH_concat.reset_index(drop = True, inplace = True)\n",
    "\n",
    "# save in csv\n",
    "\n",
    "df_AH_concat.to_csv(\"../data/processed/AH_concat_16_and_22_June_\"+TodaysDate+\".csv\", index = False)"
   ]
  },
  {
   "cell_type": "code",
   "execution_count": 51,
   "metadata": {},
   "outputs": [
    {
     "name": "stdout",
     "output_type": "stream",
     "text": [
      "<class 'pandas.core.frame.DataFrame'>\n",
      "RangeIndex: 3421 entries, 0 to 3420\n",
      "Data columns (total 19 columns):\n",
      " #   Column                 Non-Null Count  Dtype              \n",
      "---  ------                 --------------  -----              \n",
      " 0   mined_at               3421 non-null   object             \n",
      " 1   screen_name            3421 non-null   object             \n",
      " 2   tweet_id               3421 non-null   int64              \n",
      " 3   tweet_id_str           3421 non-null   int64              \n",
      " 4   created_at             3421 non-null   datetime64[ns, UTC]\n",
      " 5   year                   3421 non-null   int64              \n",
      " 6   month                  3421 non-null   int64              \n",
      " 7   day                    3421 non-null   int64              \n",
      " 8   day_of_week            3421 non-null   int64              \n",
      " 9   hour                   3421 non-null   int64              \n",
      " 10  minute                 3421 non-null   int64              \n",
      " 11  retweet_count          3421 non-null   int64              \n",
      " 12  source                 3421 non-null   object             \n",
      " 13  text                   3421 non-null   object             \n",
      " 14  language               3421 non-null   object             \n",
      " 15  favorite_count         25 non-null     float64            \n",
      " 16  user_favourites_count  3217 non-null   float64            \n",
      " 17  followers_count        3217 non-null   float64            \n",
      " 18  friends_count          3217 non-null   float64            \n",
      "dtypes: datetime64[ns, UTC](1), float64(4), int64(9), object(5)\n",
      "memory usage: 507.9+ KB\n"
     ]
    }
   ],
   "source": [
    "df_AH_concat.info()"
   ]
  },
  {
   "cell_type": "code",
   "execution_count": 52,
   "metadata": {},
   "outputs": [
    {
     "data": {
      "text/html": [
       "<div>\n",
       "<style scoped>\n",
       "    .dataframe tbody tr th:only-of-type {\n",
       "        vertical-align: middle;\n",
       "    }\n",
       "\n",
       "    .dataframe tbody tr th {\n",
       "        vertical-align: top;\n",
       "    }\n",
       "\n",
       "    .dataframe thead th {\n",
       "        text-align: right;\n",
       "    }\n",
       "</style>\n",
       "<table border=\"1\" class=\"dataframe\">\n",
       "  <thead>\n",
       "    <tr style=\"text-align: right;\">\n",
       "      <th></th>\n",
       "      <th>mined_at</th>\n",
       "      <th>screen_name</th>\n",
       "      <th>tweet_id</th>\n",
       "      <th>tweet_id_str</th>\n",
       "      <th>created_at</th>\n",
       "      <th>year</th>\n",
       "      <th>month</th>\n",
       "      <th>day</th>\n",
       "      <th>day_of_week</th>\n",
       "      <th>hour</th>\n",
       "      <th>minute</th>\n",
       "      <th>retweet_count</th>\n",
       "      <th>source</th>\n",
       "      <th>text</th>\n",
       "      <th>language</th>\n",
       "      <th>favorite_count</th>\n",
       "      <th>user_favourites_count</th>\n",
       "      <th>followers_count</th>\n",
       "      <th>friends_count</th>\n",
       "    </tr>\n",
       "  </thead>\n",
       "  <tbody>\n",
       "    <tr>\n",
       "      <th>0</th>\n",
       "      <td>2020-06-16 22:17:43.708324</td>\n",
       "      <td>albertheijn</td>\n",
       "      <td>1244535843135672326</td>\n",
       "      <td>1244535843135672326</td>\n",
       "      <td>2020-03-30 08:04:02+00:00</td>\n",
       "      <td>2020</td>\n",
       "      <td>3</td>\n",
       "      <td>30</td>\n",
       "      <td>0</td>\n",
       "      <td>8</td>\n",
       "      <td>4</td>\n",
       "      <td>0</td>\n",
       "      <td>&lt;a href=\"https://www.tracebuzz.com\" rel=\"nofol...</td>\n",
       "      <td>@derots Voorraad is er genoeg, het is voor ons...</td>\n",
       "      <td>nl</td>\n",
       "      <td>NaN</td>\n",
       "      <td>NaN</td>\n",
       "      <td>NaN</td>\n",
       "      <td>NaN</td>\n",
       "    </tr>\n",
       "    <tr>\n",
       "      <th>1</th>\n",
       "      <td>2020-06-16 22:17:43.708324</td>\n",
       "      <td>albertheijn</td>\n",
       "      <td>1244538454890987523</td>\n",
       "      <td>1244538454890987523</td>\n",
       "      <td>2020-03-30 08:14:24+00:00</td>\n",
       "      <td>2020</td>\n",
       "      <td>3</td>\n",
       "      <td>30</td>\n",
       "      <td>0</td>\n",
       "      <td>8</td>\n",
       "      <td>14</td>\n",
       "      <td>0</td>\n",
       "      <td>&lt;a href=\"https://www.tracebuzz.com\" rel=\"nofol...</td>\n",
       "      <td>@MoniquevDBurgh We doen er alles aan om zoveel...</td>\n",
       "      <td>nl</td>\n",
       "      <td>NaN</td>\n",
       "      <td>NaN</td>\n",
       "      <td>NaN</td>\n",
       "      <td>NaN</td>\n",
       "    </tr>\n",
       "    <tr>\n",
       "      <th>2</th>\n",
       "      <td>2020-06-16 22:17:43.708324</td>\n",
       "      <td>albertheijn</td>\n",
       "      <td>1244540668225126401</td>\n",
       "      <td>1244540668225126401</td>\n",
       "      <td>2020-03-30 08:23:12+00:00</td>\n",
       "      <td>2020</td>\n",
       "      <td>3</td>\n",
       "      <td>30</td>\n",
       "      <td>0</td>\n",
       "      <td>8</td>\n",
       "      <td>23</td>\n",
       "      <td>0</td>\n",
       "      <td>&lt;a href=\"https://www.tracebuzz.com\" rel=\"nofol...</td>\n",
       "      <td>@AnnekeVisser15 Klopt! De Persoonlijke Bonus w...</td>\n",
       "      <td>nl</td>\n",
       "      <td>NaN</td>\n",
       "      <td>NaN</td>\n",
       "      <td>NaN</td>\n",
       "      <td>NaN</td>\n",
       "    </tr>\n",
       "    <tr>\n",
       "      <th>3</th>\n",
       "      <td>2020-06-16 22:17:43.519106</td>\n",
       "      <td>albertheijn</td>\n",
       "      <td>1244541424588251141</td>\n",
       "      <td>1244541424588251141</td>\n",
       "      <td>2020-03-30 08:26:12+00:00</td>\n",
       "      <td>2020</td>\n",
       "      <td>3</td>\n",
       "      <td>30</td>\n",
       "      <td>0</td>\n",
       "      <td>8</td>\n",
       "      <td>26</td>\n",
       "      <td>0</td>\n",
       "      <td>&lt;a href=\"https://www.tracebuzz.com\" rel=\"nofol...</td>\n",
       "      <td>@waltervantiel    We kopen groenten en fruit z...</td>\n",
       "      <td>nl</td>\n",
       "      <td>NaN</td>\n",
       "      <td>NaN</td>\n",
       "      <td>NaN</td>\n",
       "      <td>NaN</td>\n",
       "    </tr>\n",
       "    <tr>\n",
       "      <th>4</th>\n",
       "      <td>2020-06-16 22:17:43.519106</td>\n",
       "      <td>albertheijn</td>\n",
       "      <td>1244542564344238083</td>\n",
       "      <td>1244542564344238083</td>\n",
       "      <td>2020-03-30 08:30:44+00:00</td>\n",
       "      <td>2020</td>\n",
       "      <td>3</td>\n",
       "      <td>30</td>\n",
       "      <td>0</td>\n",
       "      <td>8</td>\n",
       "      <td>30</td>\n",
       "      <td>0</td>\n",
       "      <td>&lt;a href=\"https://www.tracebuzz.com\" rel=\"nofol...</td>\n",
       "      <td>@bbstring Je kunt ons het beste een privéberic...</td>\n",
       "      <td>nl</td>\n",
       "      <td>NaN</td>\n",
       "      <td>NaN</td>\n",
       "      <td>NaN</td>\n",
       "      <td>NaN</td>\n",
       "    </tr>\n",
       "  </tbody>\n",
       "</table>\n",
       "</div>"
      ],
      "text/plain": [
       "                     mined_at  screen_name             tweet_id  \\\n",
       "0  2020-06-16 22:17:43.708324  albertheijn  1244535843135672326   \n",
       "1  2020-06-16 22:17:43.708324  albertheijn  1244538454890987523   \n",
       "2  2020-06-16 22:17:43.708324  albertheijn  1244540668225126401   \n",
       "3  2020-06-16 22:17:43.519106  albertheijn  1244541424588251141   \n",
       "4  2020-06-16 22:17:43.519106  albertheijn  1244542564344238083   \n",
       "\n",
       "          tweet_id_str                created_at  year  month  day  \\\n",
       "0  1244535843135672326 2020-03-30 08:04:02+00:00  2020      3   30   \n",
       "1  1244538454890987523 2020-03-30 08:14:24+00:00  2020      3   30   \n",
       "2  1244540668225126401 2020-03-30 08:23:12+00:00  2020      3   30   \n",
       "3  1244541424588251141 2020-03-30 08:26:12+00:00  2020      3   30   \n",
       "4  1244542564344238083 2020-03-30 08:30:44+00:00  2020      3   30   \n",
       "\n",
       "   day_of_week  hour  minute  retweet_count  \\\n",
       "0            0     8       4              0   \n",
       "1            0     8      14              0   \n",
       "2            0     8      23              0   \n",
       "3            0     8      26              0   \n",
       "4            0     8      30              0   \n",
       "\n",
       "                                              source  \\\n",
       "0  <a href=\"https://www.tracebuzz.com\" rel=\"nofol...   \n",
       "1  <a href=\"https://www.tracebuzz.com\" rel=\"nofol...   \n",
       "2  <a href=\"https://www.tracebuzz.com\" rel=\"nofol...   \n",
       "3  <a href=\"https://www.tracebuzz.com\" rel=\"nofol...   \n",
       "4  <a href=\"https://www.tracebuzz.com\" rel=\"nofol...   \n",
       "\n",
       "                                                text language  favorite_count  \\\n",
       "0  @derots Voorraad is er genoeg, het is voor ons...       nl             NaN   \n",
       "1  @MoniquevDBurgh We doen er alles aan om zoveel...       nl             NaN   \n",
       "2  @AnnekeVisser15 Klopt! De Persoonlijke Bonus w...       nl             NaN   \n",
       "3  @waltervantiel    We kopen groenten en fruit z...       nl             NaN   \n",
       "4  @bbstring Je kunt ons het beste een privéberic...       nl             NaN   \n",
       "\n",
       "   user_favourites_count  followers_count  friends_count  \n",
       "0                    NaN              NaN            NaN  \n",
       "1                    NaN              NaN            NaN  \n",
       "2                    NaN              NaN            NaN  \n",
       "3                    NaN              NaN            NaN  \n",
       "4                    NaN              NaN            NaN  "
      ]
     },
     "execution_count": 52,
     "metadata": {},
     "output_type": "execute_result"
    }
   ],
   "source": [
    "df_AH_concat.head()"
   ]
  },
  {
   "cell_type": "code",
   "execution_count": 53,
   "metadata": {},
   "outputs": [
    {
     "data": {
      "text/html": [
       "<div>\n",
       "<style scoped>\n",
       "    .dataframe tbody tr th:only-of-type {\n",
       "        vertical-align: middle;\n",
       "    }\n",
       "\n",
       "    .dataframe tbody tr th {\n",
       "        vertical-align: top;\n",
       "    }\n",
       "\n",
       "    .dataframe thead th {\n",
       "        text-align: right;\n",
       "    }\n",
       "</style>\n",
       "<table border=\"1\" class=\"dataframe\">\n",
       "  <thead>\n",
       "    <tr style=\"text-align: right;\">\n",
       "      <th></th>\n",
       "      <th>mined_at</th>\n",
       "      <th>screen_name</th>\n",
       "      <th>tweet_id</th>\n",
       "      <th>tweet_id_str</th>\n",
       "      <th>created_at</th>\n",
       "      <th>year</th>\n",
       "      <th>month</th>\n",
       "      <th>day</th>\n",
       "      <th>day_of_week</th>\n",
       "      <th>hour</th>\n",
       "      <th>minute</th>\n",
       "      <th>retweet_count</th>\n",
       "      <th>source</th>\n",
       "      <th>text</th>\n",
       "      <th>language</th>\n",
       "      <th>favorite_count</th>\n",
       "      <th>user_favourites_count</th>\n",
       "      <th>followers_count</th>\n",
       "      <th>friends_count</th>\n",
       "    </tr>\n",
       "  </thead>\n",
       "  <tbody>\n",
       "    <tr>\n",
       "      <th>3416</th>\n",
       "      <td>2020-06-22 15:03:31.445447</td>\n",
       "      <td>albertheijn</td>\n",
       "      <td>1275016605689315341</td>\n",
       "      <td>1275016605689315341</td>\n",
       "      <td>2020-06-22 10:43:42+00:00</td>\n",
       "      <td>2020</td>\n",
       "      <td>6</td>\n",
       "      <td>22</td>\n",
       "      <td>0</td>\n",
       "      <td>10</td>\n",
       "      <td>43</td>\n",
       "      <td>0</td>\n",
       "      <td>&lt;a href=\"https://www.tracebuzz.com\" rel=\"nofol...</td>\n",
       "      <td>@asjemenou Ai, ik kan niet precies zien wat he...</td>\n",
       "      <td>nl</td>\n",
       "      <td>NaN</td>\n",
       "      <td>580.0</td>\n",
       "      <td>45532.0</td>\n",
       "      <td>6.0</td>\n",
       "    </tr>\n",
       "    <tr>\n",
       "      <th>3417</th>\n",
       "      <td>2020-06-22 15:03:31.445447</td>\n",
       "      <td>albertheijn</td>\n",
       "      <td>1275017248567111684</td>\n",
       "      <td>1275017248567111684</td>\n",
       "      <td>2020-06-22 10:46:15+00:00</td>\n",
       "      <td>2020</td>\n",
       "      <td>6</td>\n",
       "      <td>22</td>\n",
       "      <td>0</td>\n",
       "      <td>10</td>\n",
       "      <td>46</td>\n",
       "      <td>0</td>\n",
       "      <td>&lt;a href=\"https://www.tracebuzz.com\" rel=\"nofol...</td>\n",
       "      <td>@malmostoso Hi Fabio, oei dat is inderdaad gee...</td>\n",
       "      <td>nl</td>\n",
       "      <td>NaN</td>\n",
       "      <td>580.0</td>\n",
       "      <td>45532.0</td>\n",
       "      <td>6.0</td>\n",
       "    </tr>\n",
       "    <tr>\n",
       "      <th>3418</th>\n",
       "      <td>2020-06-22 15:03:31.445447</td>\n",
       "      <td>albertheijn</td>\n",
       "      <td>1275024666260840448</td>\n",
       "      <td>1275024666260840448</td>\n",
       "      <td>2020-06-22 11:15:43+00:00</td>\n",
       "      <td>2020</td>\n",
       "      <td>6</td>\n",
       "      <td>22</td>\n",
       "      <td>0</td>\n",
       "      <td>11</td>\n",
       "      <td>15</td>\n",
       "      <td>0</td>\n",
       "      <td>&lt;a href=\"https://mobile.twitter.com\" rel=\"nofo...</td>\n",
       "      <td>@malmostoso Graag gedaan natuurlijk! ^Dylon ht...</td>\n",
       "      <td>nl</td>\n",
       "      <td>NaN</td>\n",
       "      <td>580.0</td>\n",
       "      <td>45532.0</td>\n",
       "      <td>6.0</td>\n",
       "    </tr>\n",
       "    <tr>\n",
       "      <th>3419</th>\n",
       "      <td>2020-06-22 15:03:31.445447</td>\n",
       "      <td>albertheijn</td>\n",
       "      <td>1275029563542851585</td>\n",
       "      <td>1275029563542851585</td>\n",
       "      <td>2020-06-22 11:35:11+00:00</td>\n",
       "      <td>2020</td>\n",
       "      <td>6</td>\n",
       "      <td>22</td>\n",
       "      <td>0</td>\n",
       "      <td>11</td>\n",
       "      <td>35</td>\n",
       "      <td>0</td>\n",
       "      <td>&lt;a href=\"https://www.tracebuzz.com\" rel=\"nofol...</td>\n",
       "      <td>@Claire94175123  Hi! Helaas kunnen tickets nie...</td>\n",
       "      <td>nl</td>\n",
       "      <td>NaN</td>\n",
       "      <td>580.0</td>\n",
       "      <td>45532.0</td>\n",
       "      <td>6.0</td>\n",
       "    </tr>\n",
       "    <tr>\n",
       "      <th>3420</th>\n",
       "      <td>2020-06-22 15:03:31.445447</td>\n",
       "      <td>albertheijn</td>\n",
       "      <td>1275031595708276736</td>\n",
       "      <td>1275031595708276736</td>\n",
       "      <td>2020-06-22 11:43:16+00:00</td>\n",
       "      <td>2020</td>\n",
       "      <td>6</td>\n",
       "      <td>22</td>\n",
       "      <td>0</td>\n",
       "      <td>11</td>\n",
       "      <td>43</td>\n",
       "      <td>0</td>\n",
       "      <td>&lt;a href=\"https://www.tracebuzz.com\" rel=\"nofol...</td>\n",
       "      <td>@RhidoInfo Hoi. Vanaf maandag 22 juni krijgt d...</td>\n",
       "      <td>nl</td>\n",
       "      <td>NaN</td>\n",
       "      <td>580.0</td>\n",
       "      <td>45532.0</td>\n",
       "      <td>6.0</td>\n",
       "    </tr>\n",
       "  </tbody>\n",
       "</table>\n",
       "</div>"
      ],
      "text/plain": [
       "                        mined_at  screen_name             tweet_id  \\\n",
       "3416  2020-06-22 15:03:31.445447  albertheijn  1275016605689315341   \n",
       "3417  2020-06-22 15:03:31.445447  albertheijn  1275017248567111684   \n",
       "3418  2020-06-22 15:03:31.445447  albertheijn  1275024666260840448   \n",
       "3419  2020-06-22 15:03:31.445447  albertheijn  1275029563542851585   \n",
       "3420  2020-06-22 15:03:31.445447  albertheijn  1275031595708276736   \n",
       "\n",
       "             tweet_id_str                created_at  year  month  day  \\\n",
       "3416  1275016605689315341 2020-06-22 10:43:42+00:00  2020      6   22   \n",
       "3417  1275017248567111684 2020-06-22 10:46:15+00:00  2020      6   22   \n",
       "3418  1275024666260840448 2020-06-22 11:15:43+00:00  2020      6   22   \n",
       "3419  1275029563542851585 2020-06-22 11:35:11+00:00  2020      6   22   \n",
       "3420  1275031595708276736 2020-06-22 11:43:16+00:00  2020      6   22   \n",
       "\n",
       "      day_of_week  hour  minute  retweet_count  \\\n",
       "3416            0    10      43              0   \n",
       "3417            0    10      46              0   \n",
       "3418            0    11      15              0   \n",
       "3419            0    11      35              0   \n",
       "3420            0    11      43              0   \n",
       "\n",
       "                                                 source  \\\n",
       "3416  <a href=\"https://www.tracebuzz.com\" rel=\"nofol...   \n",
       "3417  <a href=\"https://www.tracebuzz.com\" rel=\"nofol...   \n",
       "3418  <a href=\"https://mobile.twitter.com\" rel=\"nofo...   \n",
       "3419  <a href=\"https://www.tracebuzz.com\" rel=\"nofol...   \n",
       "3420  <a href=\"https://www.tracebuzz.com\" rel=\"nofol...   \n",
       "\n",
       "                                                   text language  \\\n",
       "3416  @asjemenou Ai, ik kan niet precies zien wat he...       nl   \n",
       "3417  @malmostoso Hi Fabio, oei dat is inderdaad gee...       nl   \n",
       "3418  @malmostoso Graag gedaan natuurlijk! ^Dylon ht...       nl   \n",
       "3419  @Claire94175123  Hi! Helaas kunnen tickets nie...       nl   \n",
       "3420  @RhidoInfo Hoi. Vanaf maandag 22 juni krijgt d...       nl   \n",
       "\n",
       "      favorite_count  user_favourites_count  followers_count  friends_count  \n",
       "3416             NaN                  580.0          45532.0            6.0  \n",
       "3417             NaN                  580.0          45532.0            6.0  \n",
       "3418             NaN                  580.0          45532.0            6.0  \n",
       "3419             NaN                  580.0          45532.0            6.0  \n",
       "3420             NaN                  580.0          45532.0            6.0  "
      ]
     },
     "execution_count": 53,
     "metadata": {},
     "output_type": "execute_result"
    }
   ],
   "source": [
    "df_AH_concat.tail()"
   ]
  },
  {
   "cell_type": "code",
   "execution_count": 54,
   "metadata": {},
   "outputs": [],
   "source": [
    "df_test = pd.read_csv(\"../data/processed/AH_concat_16_and_22_June_\"+TodaysDate+\".csv\")"
   ]
  },
  {
   "cell_type": "code",
   "execution_count": 55,
   "metadata": {
    "scrolled": false
   },
   "outputs": [
    {
     "name": "stdout",
     "output_type": "stream",
     "text": [
      "<class 'pandas.core.frame.DataFrame'>\n",
      "RangeIndex: 3421 entries, 0 to 3420\n",
      "Data columns (total 19 columns):\n",
      " #   Column                 Non-Null Count  Dtype  \n",
      "---  ------                 --------------  -----  \n",
      " 0   mined_at               3421 non-null   object \n",
      " 1   screen_name            3421 non-null   object \n",
      " 2   tweet_id               3421 non-null   int64  \n",
      " 3   tweet_id_str           3421 non-null   int64  \n",
      " 4   created_at             3421 non-null   object \n",
      " 5   year                   3421 non-null   int64  \n",
      " 6   month                  3421 non-null   int64  \n",
      " 7   day                    3421 non-null   int64  \n",
      " 8   day_of_week            3421 non-null   int64  \n",
      " 9   hour                   3421 non-null   int64  \n",
      " 10  minute                 3421 non-null   int64  \n",
      " 11  retweet_count          3421 non-null   int64  \n",
      " 12  source                 3421 non-null   object \n",
      " 13  text                   3421 non-null   object \n",
      " 14  language               3421 non-null   object \n",
      " 15  favorite_count         25 non-null     float64\n",
      " 16  user_favourites_count  3217 non-null   float64\n",
      " 17  followers_count        3217 non-null   float64\n",
      " 18  friends_count          3217 non-null   float64\n",
      "dtypes: float64(4), int64(9), object(6)\n",
      "memory usage: 507.9+ KB\n"
     ]
    }
   ],
   "source": [
    "df_test.info(null_counts=True)"
   ]
  },
  {
   "cell_type": "markdown",
   "metadata": {},
   "source": [
    "# Conclusions\n",
    "\n"
   ]
  }
 ],
 "metadata": {
  "kernelspec": {
   "display_name": "Python 3",
   "language": "python",
   "name": "python3"
  },
  "language_info": {
   "codemirror_mode": {
    "name": "ipython",
    "version": 3
   },
   "file_extension": ".py",
   "mimetype": "text/x-python",
   "name": "python",
   "nbconvert_exporter": "python",
   "pygments_lexer": "ipython3",
   "version": "3.6.7"
  },
  "toc": {
   "base_numbering": 1,
   "nav_menu": {},
   "number_sections": true,
   "sideBar": true,
   "skip_h1_title": false,
   "title_cell": "Table of Contents",
   "title_sidebar": "Contents",
   "toc_cell": false,
   "toc_position": {
    "height": "calc(100% - 180px)",
    "left": "10px",
    "top": "150px",
    "width": "307.6px"
   },
   "toc_section_display": true,
   "toc_window_display": true
  }
 },
 "nbformat": 4,
 "nbformat_minor": 4
}
