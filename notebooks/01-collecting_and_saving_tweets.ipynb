{
 "cells": [
  {
   "cell_type": "markdown",
   "metadata": {},
   "source": [
    "# Load packages\n"
   ]
  },
  {
   "cell_type": "code",
   "execution_count": 118,
   "metadata": {},
   "outputs": [],
   "source": [
    "# 'private_twitter_credentials' contains my Twitter credentials. Replace by 'twitter_credentials' with your credentials\n",
    "import private_twitter_credentials\n",
    "import twitter\n",
    "import datetime\n",
    "import pandas as pd\n",
    "import time\n",
    "\n",
    "TodaysDate = time.strftime(\"%Y-%m-%d-%H-%M\")"
   ]
  },
  {
   "cell_type": "markdown",
   "metadata": {},
   "source": [
    "# Seeting up twitter authentication"
   ]
  },
  {
   "cell_type": "code",
   "execution_count": 119,
   "metadata": {},
   "outputs": [],
   "source": [
    "consumer_key = private_twitter_credentials.consumer_key\n",
    "consumer_secret = private_twitter_credentials.consumer_secret\n",
    "access_token = private_twitter_credentials.access_token\n",
    "access_token_secret = private_twitter_credentials.access_token_secret\n",
    "\n",
    "api = twitter.Api(\n",
    "    consumer_key         =   consumer_key,\n",
    "    consumer_secret      =   consumer_secret,\n",
    "    access_token_key     =   access_token,\n",
    "    access_token_secret  =   access_token_secret,\n",
    "    tweet_mode = 'extended'\n",
    ")"
   ]
  },
  {
   "cell_type": "markdown",
   "metadata": {},
   "source": [
    "# Functions\n",
    "\n",
    "Class `TweetMiner` class contains two methods: \n",
    "\n",
    "* `mine_user_tweets` which mine user's tweets making use of [Get user_timeline](https://developer.twitter.com/en/docs/tweets/timelines/api-reference/get-statuses-user_timeline)\n",
    "\n",
    "* `search_tweets` which mine tweets using [GetSearch](https://developer.twitter.com/en/docs/tweets/search/api-reference/get-search-tweets)\n",
    "\n",
    "`search_tweets` gives you possibility to perform queries. You can for instances perform a search at Twitter and copy what comes after `q` in your browser.\n",
    "\n",
    "For example, if I search `@picnic @JumboSupermarkt @albertheijn covid-19` the query used as argument in `search_tweets` is `q=%40picnic%20%40JumboSupermarkt%20%40albertheijn%20covid-19&src=typed_query`. \n"
   ]
  },
  {
   "cell_type": "code",
   "execution_count": 22,
   "metadata": {
    "ExecuteTime": {
     "end_time": "2019-05-06T07:34:34.325020Z",
     "start_time": "2019-05-06T07:34:34.299182Z"
    }
   },
   "outputs": [],
   "source": [
    "import datetime\n",
    "\n",
    "class TweetMiner(object):\n",
    "    \"\"\" Make possible obtaining tweets using twitter user id (mine_user_tweets) or performing a standard Twitter \n",
    "    API search\"\"\"\n",
    "\n",
    "    \n",
    "    def __init__(self, api, result_limit = 20, max_pages = 40):\n",
    "        \"\"\"result_limit = count that can take max 200 (mine_user_tweets) and max 100 (search_tweets)\"\"\"\n",
    "        \n",
    "        self.api = api        \n",
    "        self.result_limit = result_limit\n",
    "        self.max_pages = max_pages\n",
    "        \n",
    "\n",
    "    def mine_user_tweets(self, user, mine_retweets=False):\n",
    "        \"\"\" Mine tweets of user = screen_name or user_id\"\"\"\n",
    "\n",
    "        data           =  []\n",
    "        last_tweet_id  =  False\n",
    "        page           =  1\n",
    "        \n",
    "        while page <= self.max_pages:\n",
    "            \n",
    "            if last_tweet_id:\n",
    "                statuses   =   self.api.GetUserTimeline(screen_name=user, count=self.result_limit, max_id=last_tweet_id - 1, \n",
    "                                                        include_rts=mine_retweets)\n",
    "                statuses = [ _.AsDict() for _ in statuses]\n",
    "            else:\n",
    "                statuses   =   self.api.GetUserTimeline(screen_name=user, count=self.result_limit, \n",
    "                                                        include_rts=mine_retweets)\n",
    "                statuses = [_.AsDict() for _ in statuses]\n",
    "                \n",
    "            for item in statuses:\n",
    "                # Using try except here.\n",
    "                # When retweets = 0 we get an error (GetUserTimeline fails to create a key, 'retweet_count')\n",
    "                try:\n",
    "                    mined = {\n",
    "                        'mined_at':         datetime.datetime.now(),\n",
    "                        'created_at':       item['created_at'],\n",
    "                        'tweet_id':         item['id'],\n",
    "                        'tweet_id_str':     item['id_str'],\n",
    "                        'screen_name':      item['user']['screen_name'],\n",
    "                        'favorite_count':   item['favorite_count'],\n",
    "                        'text':             item['full_text'],\n",
    "                        'source':           item['source'],\n",
    "                        'language':         item['lang'],\n",
    "                        'retweet_count':    item['retweet_count'],\n",
    "                        #user info\n",
    "                        'user_favourites_count': item['user']['favourites_count'],\n",
    "                        'followers_count':  item['user']['followers_count'],\n",
    "                        'friends_count':    item['user']['friends_count']\n",
    "                    }\n",
    "            \n",
    "                \n",
    "                except:\n",
    "                    mined = {\n",
    "                        'mined_at':         datetime.datetime.now(),\n",
    "                        'created_at':       item['created_at'],\n",
    "                        'tweet_id':         item['id'],\n",
    "                        'tweet_id_str':     item['id_str'],\n",
    "                        'screen_name':      item['user']['screen_name'],\n",
    "#                         'favorite_count':   item['favorite_count'],\n",
    "                        'text':             item['full_text'],\n",
    "                        'source':           item['source'],\n",
    "                        'language':         item['lang'],\n",
    "                        'retweet_count':    0,\n",
    "                        # user info\n",
    "                        'user_favourites_count': item['user']['favourites_count'],\n",
    "                        'followers_count':  item['user']['followers_count'],\n",
    "                        'friends_count':    item['user']['friends_count']\n",
    "                        }\n",
    "                \n",
    "                last_tweet_id = item['id']\n",
    "                data.append(mined)\n",
    "                \n",
    "            page += 1\n",
    "            \n",
    "        return data\n",
    "    \n",
    "    def search_tweets(max_pages = 20, count = 20, raw_query = None, result_type = 'mixed'):\n",
    "        \"\"\" Search tweets \"\"\"\n",
    "\n",
    "        data           =  []\n",
    "        last_tweet_id  =  False\n",
    "        page           =  1\n",
    "        \n",
    "        while page <= max_pages:\n",
    "            \n",
    "            if last_tweet_id:\n",
    "                statuses = api.GetSearch(raw_query=raw_query, count = count, result_type=result_type, \n",
    "                                         max_id=last_tweet_id - 1)\n",
    "                statuses = [ _.AsDict() for _ in statuses]\n",
    "            else:\n",
    "                statuses = api.GetSearch(raw_query=raw_query, count = count, result_type=result_type)\n",
    "                statuses = [_.AsDict() for _ in statuses]\n",
    "                \n",
    "            for item in statuses:\n",
    "                # Using try except here.\n",
    "                # When retweets = 0 we get an error (GetUserTimeline fails to create a key, 'retweet_count')\n",
    "                try:\n",
    "                    mined = {\n",
    "                        'mined_at':                datetime.datetime.now(),\n",
    "                        'created_at':              item['created_at'],\n",
    "                        'tweet_id':                item['id'],\n",
    "                        'tweet_id_str':            item['id_str'],\n",
    "                        'in_reply_to_screen_name': item['in_reply_to_screen_name'],\n",
    "                        'in_reply_to_status_id':   item['in_reply_to_status_id'],\n",
    "                        'in_reply_to_user_id':     item['in_reply_to_user_id'],\n",
    "                        'language':                item['lang'],\n",
    "                        'text':                    item['full_text'],\n",
    "                        'hashtags':                item['hashtags'],\n",
    "                        'source':                  item['source'],\n",
    "                       # info about user\n",
    "                        'screen_name':             item['user']['screen_name'],\n",
    "                        'user_tweet_id':           item['user']['id'],\n",
    "                        'user_tweet_id_str':       item['user']['id_str'],\n",
    "                        'user_favourites_count':   item['user']['favourites_count'],\n",
    "                        'followers_count':         item['user']['followers_count'],\n",
    "                        'friends_count':           item['user']['friends_count']\n",
    "                    }\n",
    "                    \n",
    "                except:\n",
    "                    mined = {\n",
    "                        'mined_at':                datetime.datetime.now(),\n",
    "                        'created_at':              item['created_at'],\n",
    "                        'tweet_id':                item['id'],\n",
    "                        'tweet_id_str':            item['id_str'],\n",
    "#                         'in_reply_to_screen_name': item['in_reply_to_screen_name'],\n",
    "#                         'in_reply_to_status_id':   item['in_reply_to_status_id'],\n",
    "#                         'in_reply_to_user_id':     item['in_reply_to_user_id'],\n",
    "                        'language':                item['lang'],\n",
    "                        'text':                    item['full_text'],\n",
    "                        'hashtags':                item['hashtags'],\n",
    "                        'source':                  item['source'],\n",
    "                       # info about user\n",
    "                        'screen_name':             item['user']['screen_name'],\n",
    "                        'user_tweet_id':           item['user']['id'],\n",
    "                        'user_tweet_id_str':       item['user']['id_str'],\n",
    "                        'user_favourites_count':   item['user']['favourites_count'],\n",
    "                        'followers_count':         item['user']['followers_count'],\n",
    "                        'friends_count':           item['user']['friends_count']\n",
    "                    }\n",
    "                                            \n",
    "                \n",
    "                last_tweet_id = item['id']\n",
    "                data.append(mined)\n",
    "                \n",
    "            page += 1\n",
    "            \n",
    "        return data"
   ]
  },
  {
   "cell_type": "code",
   "execution_count": 198,
   "metadata": {
    "ExecuteTime": {
     "end_time": "2019-05-06T07:34:34.346271Z",
     "start_time": "2019-05-06T07:34:34.330962Z"
    }
   },
   "outputs": [],
   "source": [
    "def processing_and_saving(df, file_name, mine_user_twitter=1):\n",
    "    \"\"\" Save retrieved tweets in csv file.\n",
    "    \n",
    "    Input:\n",
    "    \n",
    "    df : dataframe of tweets'data\n",
    "    file_name: name with which the csv will be saved (without extension)\n",
    "    mine_user_twitter: Indicates if df came contains tweets from a twitter user, i.e., was obtained using \n",
    "    GetUserTimeline since the information obtained from this method is different from an API search from GetSearch\n",
    "    \n",
    "    \"\"\"\n",
    "    \n",
    "    TodaysDate = time.strftime(\"%Y-%m-%d-%H-%M\")\n",
    "\n",
    "    \n",
    "    # Create columns 'year', 'month', 'day', 'hour', 'min' from 'created_at'\n",
    "    df['created_at'] = pd.to_datetime(df['created_at'])\n",
    "        \n",
    "    df['year'] = df['created_at'].dt.year \n",
    "    df['month'] = df['created_at'].dt.month \n",
    "    df['day'] = df['created_at'].dt.day \n",
    "    df['hour'] = df['created_at'].dt.hour \n",
    "    df['minute'] = df['created_at'].dt.minute\n",
    "    df['day_of_week'] = df['created_at'].dt.weekday\n",
    "    \n",
    "    if mine_user_twitter:\n",
    "    \n",
    "        df = df[['mined_at', 'created_at', 'year', 'month', 'day','day_of_week', \n",
    "             'hour', 'minute', 'screen_name', 'tweet_id', 'tweet_id_str',  'retweet_count', 'favorite_count', 'source', 'language', 'user_favourites_count', \n",
    "             'followers_count','friends_count','text']]\n",
    "    else:\n",
    "        df = df[['mined_at','created_at', 'year', 'month', 'day','day_of_week', \n",
    "                 'hour', 'minute', 'tweet_id', 'tweet_id_str', 'in_reply_to_screen_name','in_reply_to_status_id',\n",
    "                 'in_reply_to_user_id', 'hashtags','source','language', 'screen_name','user_tweet_id','user_tweet_id_str','user_favourites_count','followers_count',\n",
    "                 'friends_count', 'text']]\n",
    "        \n",
    "    df.sort_values(by='created_at',inplace = True)\n",
    "    df = df.loc[df.astype(str).drop_duplicates(subset=['created_at','tweet_id','text']).index]\n",
    "#     df.drop_duplicates(inplace = True)\n",
    "    df.reset_index(drop = True, inplace = True)\n",
    "    \n",
    "    \n",
    "    df.to_csv(\"../data/tweets/\"+file_name+\"_\"+TodaysDate+\".csv\", index = False)\n",
    "    \n",
    "    return df\n",
    "    \n",
    "    "
   ]
  },
  {
   "cell_type": "markdown",
   "metadata": {},
   "source": [
    "# Retrieving twitter data\n",
    "\n",
    "The goal of this project is to check the sentiment of users towards the main providers of online grocery shopping, i.e., Jumbo Supermarkten, AH, and Picnic.\n",
    "\n",
    "Everything changed since the first case of corona virus in The Netherlands (February 27th) and the way of shopping groceries suffered important change with a jump in number of users that opted for online grocery shopping. Supermarkts were not ready for such a explosion of demand, some adapted faster than others. Specially, `Picnic` that has the sole focus on online shopping.\n",
    "\n",
    "I have my own experiences but I want to via tweets messages over these 3 providers of online grocery shopping get the sentiment of the users in this 'special' moments faced by both consumers and providers.\n",
    "\n",
    "The idea is to get twitters covering the period from the 1st case until today both for info retrieved by user (`GetUserTimeline`) and by query (`GetSearch`).\n",
    "\n",
    "Although, it is not possible to have control over the period covered by the search, we will play with parameters and go as far as possible.\n",
    "\n",
    "## Getting twitter by user\n",
    "\n",
    "To start we will obtain tweets for `picnic`, `JumboSupermarkt`, and `albertheijn` which are the tweet screen name of the 3 providers of online grocery shopping.\n"
   ]
  },
  {
   "cell_type": "markdown",
   "metadata": {},
   "source": [
    "### Picnic"
   ]
  },
  {
   "cell_type": "code",
   "execution_count": 23,
   "metadata": {},
   "outputs": [],
   "source": [
    "# Result limit == count parameter from our GetUserTimeline() it can take max 200\n",
    "# More pages more back in time you can go\n",
    "miner = TweetMiner(api, result_limit=20, max_pages = 100)\n",
    "picnic = miner.mine_user_tweets(user=\"picnic\")\n",
    "df_picnic = processing_and_saving(pd.DataFrame(picnic), \"picnic\")"
   ]
  },
  {
   "cell_type": "code",
   "execution_count": 38,
   "metadata": {},
   "outputs": [
    {
     "data": {
      "text/html": [
       "<div>\n",
       "<style scoped>\n",
       "    .dataframe tbody tr th:only-of-type {\n",
       "        vertical-align: middle;\n",
       "    }\n",
       "\n",
       "    .dataframe tbody tr th {\n",
       "        vertical-align: top;\n",
       "    }\n",
       "\n",
       "    .dataframe thead th {\n",
       "        text-align: right;\n",
       "    }\n",
       "</style>\n",
       "<table border=\"1\" class=\"dataframe\">\n",
       "  <thead>\n",
       "    <tr style=\"text-align: right;\">\n",
       "      <th></th>\n",
       "      <th>mined_at</th>\n",
       "      <th>screen_name</th>\n",
       "      <th>tweet_id</th>\n",
       "      <th>tweet_id_str</th>\n",
       "      <th>created_at</th>\n",
       "      <th>year</th>\n",
       "      <th>month</th>\n",
       "      <th>day</th>\n",
       "      <th>day_of_week</th>\n",
       "      <th>hour</th>\n",
       "      <th>minute</th>\n",
       "      <th>retweet_count</th>\n",
       "      <th>favorite_count</th>\n",
       "      <th>source</th>\n",
       "      <th>language</th>\n",
       "      <th>user_favourites_count</th>\n",
       "      <th>followers_count</th>\n",
       "      <th>friends_count</th>\n",
       "      <th>text</th>\n",
       "    </tr>\n",
       "  </thead>\n",
       "  <tbody>\n",
       "    <tr>\n",
       "      <th>1990</th>\n",
       "      <td>2020-06-21 00:29:23.693529</td>\n",
       "      <td>picnic</td>\n",
       "      <td>1273662862096060417</td>\n",
       "      <td>1273662862096060417</td>\n",
       "      <td>2020-06-18 17:04:24+00:00</td>\n",
       "      <td>2020</td>\n",
       "      <td>6</td>\n",
       "      <td>18</td>\n",
       "      <td>3</td>\n",
       "      <td>17</td>\n",
       "      <td>4</td>\n",
       "      <td>0</td>\n",
       "      <td>NaN</td>\n",
       "      <td>&lt;a href=\"http://www.zendesk.com\" rel=\"nofollow...</td>\n",
       "      <td>nl</td>\n",
       "      <td>3881</td>\n",
       "      <td>4844</td>\n",
       "      <td>5</td>\n",
       "      <td>@rolandweyers Ah, dat is inderdaad een dode mu...</td>\n",
       "    </tr>\n",
       "    <tr>\n",
       "      <th>1991</th>\n",
       "      <td>2020-06-21 00:29:23.693529</td>\n",
       "      <td>picnic</td>\n",
       "      <td>1273918233834393602</td>\n",
       "      <td>1273918233834393602</td>\n",
       "      <td>2020-06-19 09:59:09+00:00</td>\n",
       "      <td>2020</td>\n",
       "      <td>6</td>\n",
       "      <td>19</td>\n",
       "      <td>4</td>\n",
       "      <td>9</td>\n",
       "      <td>59</td>\n",
       "      <td>0</td>\n",
       "      <td>NaN</td>\n",
       "      <td>&lt;a href=\"https://mobile.twitter.com\" rel=\"nofo...</td>\n",
       "      <td>nl</td>\n",
       "      <td>3881</td>\n",
       "      <td>4844</td>\n",
       "      <td>5</td>\n",
       "      <td>@MiriamVermeulen Wat fijn dat je al 100 plekke...</td>\n",
       "    </tr>\n",
       "    <tr>\n",
       "      <th>1992</th>\n",
       "      <td>2020-06-21 00:29:23.693529</td>\n",
       "      <td>picnic</td>\n",
       "      <td>1273920800064757760</td>\n",
       "      <td>1273920800064757760</td>\n",
       "      <td>2020-06-19 10:09:21+00:00</td>\n",
       "      <td>2020</td>\n",
       "      <td>6</td>\n",
       "      <td>19</td>\n",
       "      <td>4</td>\n",
       "      <td>10</td>\n",
       "      <td>9</td>\n",
       "      <td>0</td>\n",
       "      <td>NaN</td>\n",
       "      <td>&lt;a href=\"https://mobile.twitter.com\" rel=\"nofo...</td>\n",
       "      <td>nl</td>\n",
       "      <td>3881</td>\n",
       "      <td>4844</td>\n",
       "      <td>5</td>\n",
       "      <td>@MrsVlamingo De Presto maaltijden variëren af ...</td>\n",
       "    </tr>\n",
       "    <tr>\n",
       "      <th>1993</th>\n",
       "      <td>2020-06-21 00:29:23.693529</td>\n",
       "      <td>picnic</td>\n",
       "      <td>1274275880756482049</td>\n",
       "      <td>1274275880756482049</td>\n",
       "      <td>2020-06-20 09:40:19+00:00</td>\n",
       "      <td>2020</td>\n",
       "      <td>6</td>\n",
       "      <td>20</td>\n",
       "      <td>5</td>\n",
       "      <td>9</td>\n",
       "      <td>40</td>\n",
       "      <td>0</td>\n",
       "      <td>NaN</td>\n",
       "      <td>&lt;a href=\"http://www.zendesk.com\" rel=\"nofollow...</td>\n",
       "      <td>nl</td>\n",
       "      <td>3881</td>\n",
       "      <td>4844</td>\n",
       "      <td>5</td>\n",
       "      <td>@Mr_Widewood Goedemorgen! Goed dat je dit even...</td>\n",
       "    </tr>\n",
       "    <tr>\n",
       "      <th>1994</th>\n",
       "      <td>2020-06-21 00:29:23.693529</td>\n",
       "      <td>picnic</td>\n",
       "      <td>1274431035896467466</td>\n",
       "      <td>1274431035896467466</td>\n",
       "      <td>2020-06-20 19:56:51+00:00</td>\n",
       "      <td>2020</td>\n",
       "      <td>6</td>\n",
       "      <td>20</td>\n",
       "      <td>5</td>\n",
       "      <td>19</td>\n",
       "      <td>56</td>\n",
       "      <td>0</td>\n",
       "      <td>NaN</td>\n",
       "      <td>&lt;a href=\"https://mobile.twitter.com\" rel=\"nofo...</td>\n",
       "      <td>es</td>\n",
       "      <td>3881</td>\n",
       "      <td>4844</td>\n",
       "      <td>5</td>\n",
       "      <td>@dbenshachar ^Lino https://t.co/XK06YZyXVh</td>\n",
       "    </tr>\n",
       "  </tbody>\n",
       "</table>\n",
       "</div>"
      ],
      "text/plain": [
       "                       mined_at screen_name             tweet_id  \\\n",
       "1990 2020-06-21 00:29:23.693529      picnic  1273662862096060417   \n",
       "1991 2020-06-21 00:29:23.693529      picnic  1273918233834393602   \n",
       "1992 2020-06-21 00:29:23.693529      picnic  1273920800064757760   \n",
       "1993 2020-06-21 00:29:23.693529      picnic  1274275880756482049   \n",
       "1994 2020-06-21 00:29:23.693529      picnic  1274431035896467466   \n",
       "\n",
       "             tweet_id_str                created_at  year  month  day  \\\n",
       "1990  1273662862096060417 2020-06-18 17:04:24+00:00  2020      6   18   \n",
       "1991  1273918233834393602 2020-06-19 09:59:09+00:00  2020      6   19   \n",
       "1992  1273920800064757760 2020-06-19 10:09:21+00:00  2020      6   19   \n",
       "1993  1274275880756482049 2020-06-20 09:40:19+00:00  2020      6   20   \n",
       "1994  1274431035896467466 2020-06-20 19:56:51+00:00  2020      6   20   \n",
       "\n",
       "      day_of_week  hour  minute  retweet_count  favorite_count  \\\n",
       "1990            3    17       4              0             NaN   \n",
       "1991            4     9      59              0             NaN   \n",
       "1992            4    10       9              0             NaN   \n",
       "1993            5     9      40              0             NaN   \n",
       "1994            5    19      56              0             NaN   \n",
       "\n",
       "                                                 source language  \\\n",
       "1990  <a href=\"http://www.zendesk.com\" rel=\"nofollow...       nl   \n",
       "1991  <a href=\"https://mobile.twitter.com\" rel=\"nofo...       nl   \n",
       "1992  <a href=\"https://mobile.twitter.com\" rel=\"nofo...       nl   \n",
       "1993  <a href=\"http://www.zendesk.com\" rel=\"nofollow...       nl   \n",
       "1994  <a href=\"https://mobile.twitter.com\" rel=\"nofo...       es   \n",
       "\n",
       "      user_favourites_count  followers_count  friends_count  \\\n",
       "1990                   3881             4844              5   \n",
       "1991                   3881             4844              5   \n",
       "1992                   3881             4844              5   \n",
       "1993                   3881             4844              5   \n",
       "1994                   3881             4844              5   \n",
       "\n",
       "                                                   text  \n",
       "1990  @rolandweyers Ah, dat is inderdaad een dode mu...  \n",
       "1991  @MiriamVermeulen Wat fijn dat je al 100 plekke...  \n",
       "1992  @MrsVlamingo De Presto maaltijden variëren af ...  \n",
       "1993  @Mr_Widewood Goedemorgen! Goed dat je dit even...  \n",
       "1994         @dbenshachar ^Lino https://t.co/XK06YZyXVh  "
      ]
     },
     "execution_count": 38,
     "metadata": {},
     "output_type": "execute_result"
    }
   ],
   "source": [
    "df_picnic.tail()"
   ]
  },
  {
   "cell_type": "code",
   "execution_count": 24,
   "metadata": {
    "scrolled": false
   },
   "outputs": [
    {
     "name": "stdout",
     "output_type": "stream",
     "text": [
      "<class 'pandas.core.frame.DataFrame'>\n",
      "RangeIndex: 1995 entries, 0 to 1994\n",
      "Data columns (total 19 columns):\n",
      " #   Column                 Non-Null Count  Dtype              \n",
      "---  ------                 --------------  -----              \n",
      " 0   mined_at               1995 non-null   datetime64[ns]     \n",
      " 1   screen_name            1995 non-null   object             \n",
      " 2   tweet_id               1995 non-null   int64              \n",
      " 3   tweet_id_str           1995 non-null   object             \n",
      " 4   created_at             1995 non-null   datetime64[ns, UTC]\n",
      " 5   year                   1995 non-null   int64              \n",
      " 6   month                  1995 non-null   int64              \n",
      " 7   day                    1995 non-null   int64              \n",
      " 8   day_of_week            1995 non-null   int64              \n",
      " 9   hour                   1995 non-null   int64              \n",
      " 10  minute                 1995 non-null   int64              \n",
      " 11  retweet_count          1995 non-null   int64              \n",
      " 12  favorite_count         28 non-null     float64            \n",
      " 13  source                 1995 non-null   object             \n",
      " 14  language               1995 non-null   object             \n",
      " 15  user_favourites_count  1995 non-null   int64              \n",
      " 16  followers_count        1995 non-null   int64              \n",
      " 17  friends_count          1995 non-null   int64              \n",
      " 18  text                   1995 non-null   object             \n",
      "dtypes: datetime64[ns, UTC](1), datetime64[ns](1), float64(1), int64(11), object(5)\n",
      "memory usage: 296.3+ KB\n"
     ]
    }
   ],
   "source": [
    "df_picnic.info()"
   ]
  },
  {
   "cell_type": "code",
   "execution_count": 25,
   "metadata": {},
   "outputs": [
    {
     "data": {
      "text/plain": [
       "(Timestamp('2019-07-13 18:42:42+0000', tz='UTC'),\n",
       " Timestamp('2020-06-20 19:56:51+0000', tz='UTC'))"
      ]
     },
     "execution_count": 25,
     "metadata": {},
     "output_type": "execute_result"
    }
   ],
   "source": [
    "min(df_picnic.created_at),max(df_picnic.created_at)"
   ]
  },
  {
   "cell_type": "markdown",
   "metadata": {},
   "source": [
    "For `Picnic` we went far enough. We got data back to July 2019!"
   ]
  },
  {
   "cell_type": "code",
   "execution_count": 54,
   "metadata": {
    "scrolled": true
   },
   "outputs": [
    {
     "name": "stdout",
     "output_type": "stream",
     "text": [
      "Picnic's followers 4844\n",
      "Picnic's friends 5\n"
     ]
    }
   ],
   "source": [
    "print(\"Picnic's followers\", df_picnic.loc[df_picnic.shape[0]-1,'followers_count'])\n",
    "print(\"Picnic's friends\", df_picnic.loc[df_picnic.shape[0]-1,'friends_count'])"
   ]
  },
  {
   "cell_type": "code",
   "execution_count": 62,
   "metadata": {},
   "outputs": [
    {
     "data": {
      "text/plain": [
       "nl     1780\n",
       "und     145\n",
       "en       53\n",
       "es        5\n",
       "de        3\n",
       "in        2\n",
       "fr        2\n",
       "it        1\n",
       "ht        1\n",
       "cy        1\n",
       "sv        1\n",
       "fi        1\n",
       "Name: language, dtype: int64"
      ]
     },
     "execution_count": 62,
     "metadata": {},
     "output_type": "execute_result"
    }
   ],
   "source": [
    "df_picnic['language'].value_counts()"
   ]
  },
  {
   "cell_type": "markdown",
   "metadata": {},
   "source": [
    "### JumboSupermarkt"
   ]
  },
  {
   "cell_type": "code",
   "execution_count": 26,
   "metadata": {
    "scrolled": false
   },
   "outputs": [],
   "source": [
    "# Result limit == count parameter from our GetUserTimeline() it can take max 200\n",
    "# More pages more back in time you can go\n",
    "miner = TweetMiner(api, result_limit=20, max_pages = 200)\n",
    "JumboSupermarkt = miner.mine_user_tweets(user=\"JumboSupermarkt\")\n",
    "df_JumboSupermarkt = processing_and_saving(pd.DataFrame(JumboSupermarkt), \"JumboSupermarkt\")\n"
   ]
  },
  {
   "cell_type": "code",
   "execution_count": 27,
   "metadata": {},
   "outputs": [
    {
     "name": "stdout",
     "output_type": "stream",
     "text": [
      "<class 'pandas.core.frame.DataFrame'>\n",
      "RangeIndex: 3221 entries, 0 to 3220\n",
      "Data columns (total 19 columns):\n",
      " #   Column                 Non-Null Count  Dtype              \n",
      "---  ------                 --------------  -----              \n",
      " 0   mined_at               3221 non-null   datetime64[ns]     \n",
      " 1   screen_name            3221 non-null   object             \n",
      " 2   tweet_id               3221 non-null   int64              \n",
      " 3   tweet_id_str           3221 non-null   object             \n",
      " 4   created_at             3221 non-null   datetime64[ns, UTC]\n",
      " 5   year                   3221 non-null   int64              \n",
      " 6   month                  3221 non-null   int64              \n",
      " 7   day                    3221 non-null   int64              \n",
      " 8   day_of_week            3221 non-null   int64              \n",
      " 9   hour                   3221 non-null   int64              \n",
      " 10  minute                 3221 non-null   int64              \n",
      " 11  retweet_count          3221 non-null   int64              \n",
      " 12  favorite_count         13 non-null     float64            \n",
      " 13  source                 3221 non-null   object             \n",
      " 14  language               3221 non-null   object             \n",
      " 15  user_favourites_count  3221 non-null   int64              \n",
      " 16  followers_count        3221 non-null   int64              \n",
      " 17  friends_count          3221 non-null   int64              \n",
      " 18  text                   3221 non-null   object             \n",
      "dtypes: datetime64[ns, UTC](1), datetime64[ns](1), float64(1), int64(11), object(5)\n",
      "memory usage: 478.2+ KB\n"
     ]
    }
   ],
   "source": [
    "df_JumboSupermarkt.info()"
   ]
  },
  {
   "cell_type": "code",
   "execution_count": 28,
   "metadata": {},
   "outputs": [
    {
     "data": {
      "text/plain": [
       "(Timestamp('2020-03-06 19:12:05+0000', tz='UTC'),\n",
       " Timestamp('2020-06-20 19:51:11+0000', tz='UTC'))"
      ]
     },
     "execution_count": 28,
     "metadata": {},
     "output_type": "execute_result"
    }
   ],
   "source": [
    "min(df_JumboSupermarkt.created_at),max(df_JumboSupermarkt.created_at)"
   ]
  },
  {
   "cell_type": "code",
   "execution_count": 31,
   "metadata": {
    "scrolled": false
   },
   "outputs": [],
   "source": [
    "# Result limit == count parameter from our GetUserTimeline() it can take max 200\n",
    "# More pages more back in time you can go\n",
    "miner = TweetMiner(api, result_limit=25, max_pages = 250)\n",
    "JumboSupermarkt = miner.mine_user_tweets(user=\"JumboSupermarkt\")\n",
    "df_JumboSupermarkt = processing_and_saving(pd.DataFrame(JumboSupermarkt), \"JumboSupermarkt\")\n"
   ]
  },
  {
   "cell_type": "code",
   "execution_count": 32,
   "metadata": {},
   "outputs": [
    {
     "data": {
      "text/plain": [
       "(Timestamp('2020-03-06 19:12:05+0000', tz='UTC'),\n",
       " Timestamp('2020-06-20 19:51:11+0000', tz='UTC'))"
      ]
     },
     "execution_count": 32,
     "metadata": {},
     "output_type": "execute_result"
    }
   ],
   "source": [
    "min(df_JumboSupermarkt.created_at),max(df_JumboSupermarkt.created_at)"
   ]
  },
  {
   "cell_type": "markdown",
   "metadata": {},
   "source": [
    "Changing parameters does not seem to help here and we could only retrieve data from March 6th, 2020 until now for Jumbo."
   ]
  },
  {
   "cell_type": "code",
   "execution_count": 53,
   "metadata": {
    "scrolled": true
   },
   "outputs": [
    {
     "name": "stdout",
     "output_type": "stream",
     "text": [
      "Jumbo's followers 16211\n",
      "Jumbo's friends 1710\n"
     ]
    }
   ],
   "source": [
    "print(\"Jumbo's followers\", df_JumboSupermarkt.loc[df_JumboSupermarkt.shape[0]-1,'followers_count'])\n",
    "print(\"Jumbo's friends\", df_JumboSupermarkt.loc[df_JumboSupermarkt.shape[0]-1,'friends_count'])"
   ]
  },
  {
   "cell_type": "code",
   "execution_count": 56,
   "metadata": {},
   "outputs": [
    {
     "data": {
      "text/plain": [
       "nl     3121\n",
       "en       68\n",
       "und      25\n",
       "in        3\n",
       "de        2\n",
       "da        1\n",
       "tl        1\n",
       "Name: language, dtype: int64"
      ]
     },
     "execution_count": 56,
     "metadata": {},
     "output_type": "execute_result"
    }
   ],
   "source": [
    "df_JumboSupermarkt['language'].value_counts()"
   ]
  },
  {
   "cell_type": "markdown",
   "metadata": {},
   "source": [
    "### albertheijn"
   ]
  },
  {
   "cell_type": "code",
   "execution_count": 57,
   "metadata": {},
   "outputs": [],
   "source": [
    "# Result limit == count parameter from our GetUserTimeline() it can take max 200\n",
    "# More pages more back in time you can go\n",
    "miner = TweetMiner(api, result_limit=20, max_pages = 200)\n",
    "albertheijn = miner.mine_user_tweets(user=\"albertheijn\")\n",
    "df_albertheijn = processing_and_saving(pd.DataFrame(albertheijn), \"albertheijn\")\n"
   ]
  },
  {
   "cell_type": "code",
   "execution_count": 66,
   "metadata": {},
   "outputs": [
    {
     "name": "stdout",
     "output_type": "stream",
     "text": [
      "<class 'pandas.core.frame.DataFrame'>\n",
      "RangeIndex: 3204 entries, 0 to 3203\n",
      "Data columns (total 19 columns):\n",
      " #   Column                 Non-Null Count  Dtype              \n",
      "---  ------                 --------------  -----              \n",
      " 0   mined_at               3204 non-null   datetime64[ns]     \n",
      " 1   screen_name            3204 non-null   object             \n",
      " 2   tweet_id               3204 non-null   int64              \n",
      " 3   tweet_id_str           3204 non-null   object             \n",
      " 4   created_at             3204 non-null   datetime64[ns, UTC]\n",
      " 5   year                   3204 non-null   int64              \n",
      " 6   month                  3204 non-null   int64              \n",
      " 7   day                    3204 non-null   int64              \n",
      " 8   day_of_week            3204 non-null   int64              \n",
      " 9   hour                   3204 non-null   int64              \n",
      " 10  minute                 3204 non-null   int64              \n",
      " 11  retweet_count          3204 non-null   int64              \n",
      " 12  favorite_count         24 non-null     float64            \n",
      " 13  source                 3204 non-null   object             \n",
      " 14  language               3204 non-null   object             \n",
      " 15  user_favourites_count  3204 non-null   int64              \n",
      " 16  followers_count        3204 non-null   int64              \n",
      " 17  friends_count          3204 non-null   int64              \n",
      " 18  text                   3204 non-null   object             \n",
      "dtypes: datetime64[ns, UTC](1), datetime64[ns](1), float64(1), int64(11), object(5)\n",
      "memory usage: 475.7+ KB\n"
     ]
    }
   ],
   "source": [
    "df_albertheijn.info()"
   ]
  },
  {
   "cell_type": "code",
   "execution_count": 67,
   "metadata": {},
   "outputs": [
    {
     "data": {
      "text/plain": [
       "(Timestamp('2020-04-03 15:35:47+0000', tz='UTC'),\n",
       " Timestamp('2020-06-20 18:18:50+0000', tz='UTC'))"
      ]
     },
     "execution_count": 67,
     "metadata": {},
     "output_type": "execute_result"
    }
   ],
   "source": [
    "min(df_albertheijn.created_at),max(df_albertheijn.created_at)"
   ]
  },
  {
   "cell_type": "code",
   "execution_count": 68,
   "metadata": {},
   "outputs": [],
   "source": [
    "# Result limit == count parameter from our GetUserTimeline() it can take max 200\n",
    "# More pages more back in time you can go\n",
    "miner = TweetMiner(api, result_limit=20, max_pages = 300)\n",
    "albertheijn = miner.mine_user_tweets(user=\"albertheijn\")\n",
    "df_albertheijn = processing_and_saving(pd.DataFrame(albertheijn), \"albertheijn\")\n"
   ]
  },
  {
   "cell_type": "code",
   "execution_count": 69,
   "metadata": {},
   "outputs": [
    {
     "data": {
      "text/plain": [
       "(Timestamp('2020-04-03 15:35:47+0000', tz='UTC'),\n",
       " Timestamp('2020-06-20 18:18:50+0000', tz='UTC'))"
      ]
     },
     "execution_count": 69,
     "metadata": {},
     "output_type": "execute_result"
    }
   ],
   "source": [
    "min(df_albertheijn.created_at),max(df_albertheijn.created_at)"
   ]
  },
  {
   "cell_type": "markdown",
   "metadata": {},
   "source": [
    "Again the changing parameters didn't work. For `AH` we only succeeded in getting back to April 3th, 2020."
   ]
  },
  {
   "cell_type": "code",
   "execution_count": 70,
   "metadata": {
    "scrolled": true
   },
   "outputs": [
    {
     "name": "stdout",
     "output_type": "stream",
     "text": [
      "AH's followers 16211\n",
      "AH's friends 1710\n"
     ]
    }
   ],
   "source": [
    "print(\"AH's followers\", df_JumboSupermarkt.loc[df_albertheijn.shape[0]-1,'followers_count'])\n",
    "print(\"AH's friends\", df_JumboSupermarkt.loc[df_albertheijn.shape[0]-1,'friends_count'])"
   ]
  },
  {
   "cell_type": "code",
   "execution_count": 71,
   "metadata": {},
   "outputs": [
    {
     "data": {
      "text/plain": [
       "nl     3096\n",
       "en       74\n",
       "und       7\n",
       "et        5\n",
       "fr        5\n",
       "tr        4\n",
       "fi        3\n",
       "in        2\n",
       "da        2\n",
       "pl        1\n",
       "de        1\n",
       "is        1\n",
       "ht        1\n",
       "sv        1\n",
       "es        1\n",
       "Name: language, dtype: int64"
      ]
     },
     "execution_count": 71,
     "metadata": {},
     "output_type": "execute_result"
    }
   ],
   "source": [
    "df_albertheijn['language'].value_counts()"
   ]
  },
  {
   "cell_type": "markdown",
   "metadata": {},
   "source": [
    "## A little EDA"
   ]
  },
  {
   "cell_type": "code",
   "execution_count": 72,
   "metadata": {},
   "outputs": [
    {
     "data": {
      "text/html": [
       "<div>\n",
       "<style scoped>\n",
       "    .dataframe tbody tr th:only-of-type {\n",
       "        vertical-align: middle;\n",
       "    }\n",
       "\n",
       "    .dataframe tbody tr th {\n",
       "        vertical-align: top;\n",
       "    }\n",
       "\n",
       "    .dataframe thead th {\n",
       "        text-align: right;\n",
       "    }\n",
       "</style>\n",
       "<table border=\"1\" class=\"dataframe\">\n",
       "  <thead>\n",
       "    <tr style=\"text-align: right;\">\n",
       "      <th></th>\n",
       "      <th>mined_at</th>\n",
       "      <th>screen_name</th>\n",
       "      <th>tweet_id</th>\n",
       "      <th>tweet_id_str</th>\n",
       "      <th>created_at</th>\n",
       "      <th>year</th>\n",
       "      <th>month</th>\n",
       "      <th>day</th>\n",
       "      <th>day_of_week</th>\n",
       "      <th>hour</th>\n",
       "      <th>minute</th>\n",
       "      <th>retweet_count</th>\n",
       "      <th>favorite_count</th>\n",
       "      <th>source</th>\n",
       "      <th>language</th>\n",
       "      <th>user_favourites_count</th>\n",
       "      <th>followers_count</th>\n",
       "      <th>friends_count</th>\n",
       "      <th>text</th>\n",
       "    </tr>\n",
       "  </thead>\n",
       "  <tbody>\n",
       "    <tr>\n",
       "      <th>0</th>\n",
       "      <td>2020-06-21 00:29:45.875729</td>\n",
       "      <td>picnic</td>\n",
       "      <td>1150113338153742337</td>\n",
       "      <td>1150113338153742337</td>\n",
       "      <td>2019-07-13 18:42:42+00:00</td>\n",
       "      <td>2019</td>\n",
       "      <td>7</td>\n",
       "      <td>13</td>\n",
       "      <td>5</td>\n",
       "      <td>18</td>\n",
       "      <td>42</td>\n",
       "      <td>0</td>\n",
       "      <td>NaN</td>\n",
       "      <td>&lt;a href=\"http://twitter.com\" rel=\"nofollow\"&gt;Tw...</td>\n",
       "      <td>nl</td>\n",
       "      <td>3881</td>\n",
       "      <td>4844</td>\n",
       "      <td>5</td>\n",
       "      <td>@mgrhendriks1984 Hier, Martijn! https://t.co/J...</td>\n",
       "    </tr>\n",
       "    <tr>\n",
       "      <th>1</th>\n",
       "      <td>2020-06-21 00:29:45.875729</td>\n",
       "      <td>picnic</td>\n",
       "      <td>1150125973951700992</td>\n",
       "      <td>1150125973951700992</td>\n",
       "      <td>2019-07-13 19:32:55+00:00</td>\n",
       "      <td>2019</td>\n",
       "      <td>7</td>\n",
       "      <td>13</td>\n",
       "      <td>5</td>\n",
       "      <td>19</td>\n",
       "      <td>32</td>\n",
       "      <td>0</td>\n",
       "      <td>NaN</td>\n",
       "      <td>&lt;a href=\"http://twitter.com\" rel=\"nofollow\"&gt;Tw...</td>\n",
       "      <td>en</td>\n",
       "      <td>3881</td>\n",
       "      <td>4844</td>\n",
       "      <td>5</td>\n",
       "      <td>@xarinatan Nice to hear this Alex! We are glad...</td>\n",
       "    </tr>\n",
       "    <tr>\n",
       "      <th>2</th>\n",
       "      <td>2020-06-21 00:29:45.875729</td>\n",
       "      <td>picnic</td>\n",
       "      <td>1150341671000956928</td>\n",
       "      <td>1150341671000956928</td>\n",
       "      <td>2019-07-14 09:50:01+00:00</td>\n",
       "      <td>2019</td>\n",
       "      <td>7</td>\n",
       "      <td>14</td>\n",
       "      <td>6</td>\n",
       "      <td>9</td>\n",
       "      <td>50</td>\n",
       "      <td>0</td>\n",
       "      <td>NaN</td>\n",
       "      <td>&lt;a href=\"http://twitter.com\" rel=\"nofollow\"&gt;Tw...</td>\n",
       "      <td>nl</td>\n",
       "      <td>3881</td>\n",
       "      <td>4844</td>\n",
       "      <td>5</td>\n",
       "      <td>@remkohartman Wat een gezelligheid zeg!🥰 Hopel...</td>\n",
       "    </tr>\n",
       "    <tr>\n",
       "      <th>3</th>\n",
       "      <td>2020-06-21 00:29:45.875729</td>\n",
       "      <td>picnic</td>\n",
       "      <td>1150346698012725248</td>\n",
       "      <td>1150346698012725248</td>\n",
       "      <td>2019-07-14 10:09:59+00:00</td>\n",
       "      <td>2019</td>\n",
       "      <td>7</td>\n",
       "      <td>14</td>\n",
       "      <td>6</td>\n",
       "      <td>10</td>\n",
       "      <td>9</td>\n",
       "      <td>0</td>\n",
       "      <td>NaN</td>\n",
       "      <td>&lt;a href=\"http://twitter.com\" rel=\"nofollow\"&gt;Tw...</td>\n",
       "      <td>und</td>\n",
       "      <td>3881</td>\n",
       "      <td>4844</td>\n",
       "      <td>5</td>\n",
       "      <td>@remkohartman https://t.co/2gqMsJJAHu</td>\n",
       "    </tr>\n",
       "    <tr>\n",
       "      <th>4</th>\n",
       "      <td>2020-06-21 00:29:45.875729</td>\n",
       "      <td>picnic</td>\n",
       "      <td>1150452684107014144</td>\n",
       "      <td>1150452684107014144</td>\n",
       "      <td>2019-07-14 17:11:08+00:00</td>\n",
       "      <td>2019</td>\n",
       "      <td>7</td>\n",
       "      <td>14</td>\n",
       "      <td>6</td>\n",
       "      <td>17</td>\n",
       "      <td>11</td>\n",
       "      <td>0</td>\n",
       "      <td>NaN</td>\n",
       "      <td>&lt;a href=\"http://twitter.com\" rel=\"nofollow\"&gt;Tw...</td>\n",
       "      <td>nl</td>\n",
       "      <td>3881</td>\n",
       "      <td>4844</td>\n",
       "      <td>5</td>\n",
       "      <td>@joost_akker Ah, dat is inderdaad wat vervelen...</td>\n",
       "    </tr>\n",
       "  </tbody>\n",
       "</table>\n",
       "</div>"
      ],
      "text/plain": [
       "                    mined_at screen_name             tweet_id  \\\n",
       "0 2020-06-21 00:29:45.875729      picnic  1150113338153742337   \n",
       "1 2020-06-21 00:29:45.875729      picnic  1150125973951700992   \n",
       "2 2020-06-21 00:29:45.875729      picnic  1150341671000956928   \n",
       "3 2020-06-21 00:29:45.875729      picnic  1150346698012725248   \n",
       "4 2020-06-21 00:29:45.875729      picnic  1150452684107014144   \n",
       "\n",
       "          tweet_id_str                created_at  year  month  day  \\\n",
       "0  1150113338153742337 2019-07-13 18:42:42+00:00  2019      7   13   \n",
       "1  1150125973951700992 2019-07-13 19:32:55+00:00  2019      7   13   \n",
       "2  1150341671000956928 2019-07-14 09:50:01+00:00  2019      7   14   \n",
       "3  1150346698012725248 2019-07-14 10:09:59+00:00  2019      7   14   \n",
       "4  1150452684107014144 2019-07-14 17:11:08+00:00  2019      7   14   \n",
       "\n",
       "   day_of_week  hour  minute  retweet_count  favorite_count  \\\n",
       "0            5    18      42              0             NaN   \n",
       "1            5    19      32              0             NaN   \n",
       "2            6     9      50              0             NaN   \n",
       "3            6    10       9              0             NaN   \n",
       "4            6    17      11              0             NaN   \n",
       "\n",
       "                                              source language  \\\n",
       "0  <a href=\"http://twitter.com\" rel=\"nofollow\">Tw...       nl   \n",
       "1  <a href=\"http://twitter.com\" rel=\"nofollow\">Tw...       en   \n",
       "2  <a href=\"http://twitter.com\" rel=\"nofollow\">Tw...       nl   \n",
       "3  <a href=\"http://twitter.com\" rel=\"nofollow\">Tw...      und   \n",
       "4  <a href=\"http://twitter.com\" rel=\"nofollow\">Tw...       nl   \n",
       "\n",
       "   user_favourites_count  followers_count  friends_count  \\\n",
       "0                   3881             4844              5   \n",
       "1                   3881             4844              5   \n",
       "2                   3881             4844              5   \n",
       "3                   3881             4844              5   \n",
       "4                   3881             4844              5   \n",
       "\n",
       "                                                text  \n",
       "0  @mgrhendriks1984 Hier, Martijn! https://t.co/J...  \n",
       "1  @xarinatan Nice to hear this Alex! We are glad...  \n",
       "2  @remkohartman Wat een gezelligheid zeg!🥰 Hopel...  \n",
       "3              @remkohartman https://t.co/2gqMsJJAHu  \n",
       "4  @joost_akker Ah, dat is inderdaad wat vervelen...  "
      ]
     },
     "execution_count": 72,
     "metadata": {},
     "output_type": "execute_result"
    }
   ],
   "source": [
    "# concatenate all dataframes\n",
    "\n",
    "df_tweet_conc = pd.concat([df_picnic,df_JumboSupermarkt, df_albertheijn])\n",
    "df_tweet_conc.head()"
   ]
  },
  {
   "cell_type": "code",
   "execution_count": 74,
   "metadata": {},
   "outputs": [
    {
     "data": {
      "text/plain": [
       "True"
      ]
     },
     "execution_count": 74,
     "metadata": {},
     "output_type": "execute_result"
    }
   ],
   "source": [
    "df_tweet_conc.shape[0] == df_picnic.shape[0]+df_JumboSupermarkt.shape[0]+df_albertheijn.shape[0]"
   ]
  },
  {
   "cell_type": "markdown",
   "metadata": {},
   "source": [
    "### Number of followers and friends "
   ]
  },
  {
   "cell_type": "code",
   "execution_count": null,
   "metadata": {},
   "outputs": [],
   "source": []
  },
  {
   "cell_type": "markdown",
   "metadata": {},
   "source": [
    "### Languages of messages"
   ]
  },
  {
   "cell_type": "code",
   "execution_count": null,
   "metadata": {},
   "outputs": [],
   "source": []
  },
  {
   "cell_type": "markdown",
   "metadata": {},
   "source": [
    "# Applying GetSearch to search for a defined query\n",
    "\n",
    "\n",
    "Twitter’s search parameters are a bit complex, to perform a particular search, you can consult Twitter’s documentation at https://dev.twitter.com/rest/public/search.\n",
    "\n",
    "An easier way is to make use of [Twitter’s Advanced Search](toolhttps://twitter.com/search-advanced), and then use the part of search URL after the \"?\" to use `raw_query`, removing the `&src=typd` portion.\n",
    "\n",
    "In this section we will perform some queries to allow us to compare `Picnic`, `Jumbo`, and `AH`. In particular, my main goal is to include also `COVID-19`. But since we are in June and things seem to be now much more in control than few months ago I'm not sure if I'll be able to retrieve enough Tweets using these key words.\n",
    "\n",
    "In addition, the results obtained from Twitter API searches against a sampling of recent Tweets published in the past 7 days (more details [here](https://developer.twitter.com/en/docs/tweets/search/overview/standard). So the results you see in the website when using `Twitter’s Advanced Search` will not per se be in the result of the API search. \n",
    "\n"
   ]
  },
  {
   "cell_type": "markdown",
   "metadata": {},
   "source": [
    "## Query_01:\n",
    "\n",
    "`All these words`: picnic, jumbo, ah, covid\n",
    "\n",
    "`Dates:`\n",
    "\n",
    "    From: February - 25 -2020\n",
    "    To:   June - 21 -2020\n",
    "\n",
    "**Result:** `https://twitter.com/search?q=picnic%2C%20jumbo%2C%20ah%2C%20covid%20until%3A2020-06-21%20since%3A2020-02-25&src=typed_query`"
   ]
  },
  {
   "cell_type": "code",
   "execution_count": 186,
   "metadata": {},
   "outputs": [
    {
     "data": {
      "text/plain": [
       "0"
      ]
     },
     "execution_count": 186,
     "metadata": {},
     "output_type": "execute_result"
    }
   ],
   "source": [
    "query_01 = 'q=picnic%2C%20jumbo%2C%20ah%2C%20covid%20until%3A2020-06-21%20since%3A2020-02-25'\n",
    "result = TweetMiner.search_tweets(raw_query = raw_query)\n",
    "len(result)"
   ]
  },
  {
   "cell_type": "markdown",
   "metadata": {},
   "source": [
    "Expected, since the 2 Tweets there are from March and therefore will not be catch by the API."
   ]
  },
  {
   "cell_type": "markdown",
   "metadata": {},
   "source": [
    "## Query_02:\n",
    "\n",
    "So let's make a query without `covid`.\n",
    "\n",
    "`All these words`: picnic, jumbo, ah\n",
    "\n",
    "**Result:** `https://twitter.com/search?q=picnic%2C%20jumbo%2C%20ah&src=typed_query`"
   ]
  },
  {
   "cell_type": "code",
   "execution_count": 187,
   "metadata": {},
   "outputs": [
    {
     "data": {
      "text/plain": [
       "80"
      ]
     },
     "execution_count": 187,
     "metadata": {},
     "output_type": "execute_result"
    }
   ],
   "source": [
    "query_02 = 'q=picnic%2C%20jumbo%2C%20ah'\n",
    "result_02 = TweetMiner.search_tweets(max_pages = 20, count = 100, raw_query = query_02)\n",
    "len(result_02)"
   ]
  },
  {
   "cell_type": "code",
   "execution_count": 188,
   "metadata": {},
   "outputs": [
    {
     "data": {
      "text/plain": [
       "{'mined_at': datetime.datetime(2020, 6, 21, 12, 42, 20, 273184),\n",
       " 'created_at': 'Thu Jun 18 15:03:16 +0000 2020',\n",
       " 'tweet_id': 1273632376950849537,\n",
       " 'tweet_id_str': '1273632376950849537',\n",
       " 'language': 'nl',\n",
       " 'text': 'Half juni en nog steeds worden boodschappen bezorgd bij meerdere huizen in de straat door AH, Jumbo, Picnic. Benieuwd: is dat blijvend of gaan mensen toch weer zelf naar de winkel over een tijdje? Onze boodschappen werden al langer bezorgd, wegens geen biowinkel hier @Korenmaat',\n",
       " 'hashtags': [],\n",
       " 'source': '<a href=\"http://twitter.com/download/android\" rel=\"nofollow\">Twitter for Android</a>',\n",
       " 'screen_name': 'martiendas',\n",
       " 'user_tweet_id': 111582731,\n",
       " 'user_tweet_id_str': '111582731',\n",
       " 'user_favourites_count': 10982,\n",
       " 'followers_count': 4648,\n",
       " 'friends_count': 5115}"
      ]
     },
     "execution_count": 188,
     "metadata": {},
     "output_type": "execute_result"
    }
   ],
   "source": [
    "result_02[0]"
   ]
  },
  {
   "cell_type": "code",
   "execution_count": 199,
   "metadata": {
    "scrolled": true
   },
   "outputs": [
    {
     "data": {
      "text/html": [
       "<div>\n",
       "<style scoped>\n",
       "    .dataframe tbody tr th:only-of-type {\n",
       "        vertical-align: middle;\n",
       "    }\n",
       "\n",
       "    .dataframe tbody tr th {\n",
       "        vertical-align: top;\n",
       "    }\n",
       "\n",
       "    .dataframe thead th {\n",
       "        text-align: right;\n",
       "    }\n",
       "</style>\n",
       "<table border=\"1\" class=\"dataframe\">\n",
       "  <thead>\n",
       "    <tr style=\"text-align: right;\">\n",
       "      <th></th>\n",
       "      <th>mined_at</th>\n",
       "      <th>created_at</th>\n",
       "      <th>year</th>\n",
       "      <th>month</th>\n",
       "      <th>day</th>\n",
       "      <th>day_of_week</th>\n",
       "      <th>hour</th>\n",
       "      <th>minute</th>\n",
       "      <th>tweet_id</th>\n",
       "      <th>tweet_id_str</th>\n",
       "      <th>...</th>\n",
       "      <th>hashtags</th>\n",
       "      <th>source</th>\n",
       "      <th>language</th>\n",
       "      <th>screen_name</th>\n",
       "      <th>user_tweet_id</th>\n",
       "      <th>user_tweet_id_str</th>\n",
       "      <th>user_favourites_count</th>\n",
       "      <th>followers_count</th>\n",
       "      <th>friends_count</th>\n",
       "      <th>text</th>\n",
       "    </tr>\n",
       "  </thead>\n",
       "  <tbody>\n",
       "    <tr>\n",
       "      <th>0</th>\n",
       "      <td>2020-06-21 12:42:21.954030</td>\n",
       "      <td>2020-06-18 11:50:31+00:00</td>\n",
       "      <td>2020</td>\n",
       "      <td>6</td>\n",
       "      <td>18</td>\n",
       "      <td>3</td>\n",
       "      <td>11</td>\n",
       "      <td>50</td>\n",
       "      <td>1273583869753724930</td>\n",
       "      <td>1273583869753724930</td>\n",
       "      <td>...</td>\n",
       "      <td>[]</td>\n",
       "      <td>&lt;a href=\"https://mobile.twitter.com\" rel=\"nofo...</td>\n",
       "      <td>nl</td>\n",
       "      <td>GHengeveld</td>\n",
       "      <td>20709019</td>\n",
       "      <td>20709019</td>\n",
       "      <td>889</td>\n",
       "      <td>1484</td>\n",
       "      <td>1750</td>\n",
       "      <td>@jelleprins @picnic @JumboSupermarkt @alberthe...</td>\n",
       "    </tr>\n",
       "    <tr>\n",
       "      <th>1</th>\n",
       "      <td>2020-06-21 12:42:23.865884</td>\n",
       "      <td>2020-06-18 11:56:42+00:00</td>\n",
       "      <td>2020</td>\n",
       "      <td>6</td>\n",
       "      <td>18</td>\n",
       "      <td>3</td>\n",
       "      <td>11</td>\n",
       "      <td>56</td>\n",
       "      <td>1273585426268409859</td>\n",
       "      <td>1273585426268409859</td>\n",
       "      <td>...</td>\n",
       "      <td>[]</td>\n",
       "      <td>&lt;a href=\"http://twitter.com/download/iphone\" r...</td>\n",
       "      <td>nl</td>\n",
       "      <td>jelleprins</td>\n",
       "      <td>16546619</td>\n",
       "      <td>16546619</td>\n",
       "      <td>4416</td>\n",
       "      <td>10513</td>\n",
       "      <td>1063</td>\n",
       "      <td>@Oli4K @picnic @JumboSupermarkt @albertheijn L...</td>\n",
       "    </tr>\n",
       "    <tr>\n",
       "      <th>2</th>\n",
       "      <td>2020-06-21 12:42:22.713351</td>\n",
       "      <td>2020-06-18 14:00:01+00:00</td>\n",
       "      <td>2020</td>\n",
       "      <td>6</td>\n",
       "      <td>18</td>\n",
       "      <td>3</td>\n",
       "      <td>14</td>\n",
       "      <td>0</td>\n",
       "      <td>1273616458459705347</td>\n",
       "      <td>1273616458459705347</td>\n",
       "      <td>...</td>\n",
       "      <td>[]</td>\n",
       "      <td>&lt;a href=\"https://about.twitter.com/products/tw...</td>\n",
       "      <td>nl</td>\n",
       "      <td>agfnl</td>\n",
       "      <td>164631799</td>\n",
       "      <td>164631799</td>\n",
       "      <td>84</td>\n",
       "      <td>8530</td>\n",
       "      <td>2128</td>\n",
       "      <td>\"Trendbreuk: Jumbo al 3 weken duurder in AGF d...</td>\n",
       "    </tr>\n",
       "    <tr>\n",
       "      <th>3</th>\n",
       "      <td>2020-06-21 12:42:23.476660</td>\n",
       "      <td>2020-06-18 15:03:16+00:00</td>\n",
       "      <td>2020</td>\n",
       "      <td>6</td>\n",
       "      <td>18</td>\n",
       "      <td>3</td>\n",
       "      <td>15</td>\n",
       "      <td>3</td>\n",
       "      <td>1273632376950849537</td>\n",
       "      <td>1273632376950849537</td>\n",
       "      <td>...</td>\n",
       "      <td>[]</td>\n",
       "      <td>&lt;a href=\"http://twitter.com/download/android\" ...</td>\n",
       "      <td>nl</td>\n",
       "      <td>martiendas</td>\n",
       "      <td>111582731</td>\n",
       "      <td>111582731</td>\n",
       "      <td>10982</td>\n",
       "      <td>4648</td>\n",
       "      <td>5115</td>\n",
       "      <td>Half juni en nog steeds worden boodschappen be...</td>\n",
       "    </tr>\n",
       "  </tbody>\n",
       "</table>\n",
       "<p>4 rows × 23 columns</p>\n",
       "</div>"
      ],
      "text/plain": [
       "                    mined_at                created_at  year  month  day  \\\n",
       "0 2020-06-21 12:42:21.954030 2020-06-18 11:50:31+00:00  2020      6   18   \n",
       "1 2020-06-21 12:42:23.865884 2020-06-18 11:56:42+00:00  2020      6   18   \n",
       "2 2020-06-21 12:42:22.713351 2020-06-18 14:00:01+00:00  2020      6   18   \n",
       "3 2020-06-21 12:42:23.476660 2020-06-18 15:03:16+00:00  2020      6   18   \n",
       "\n",
       "   day_of_week  hour  minute             tweet_id         tweet_id_str  ...  \\\n",
       "0            3    11      50  1273583869753724930  1273583869753724930  ...   \n",
       "1            3    11      56  1273585426268409859  1273585426268409859  ...   \n",
       "2            3    14       0  1273616458459705347  1273616458459705347  ...   \n",
       "3            3    15       3  1273632376950849537  1273632376950849537  ...   \n",
       "\n",
       "  hashtags                                             source  language  \\\n",
       "0       []  <a href=\"https://mobile.twitter.com\" rel=\"nofo...        nl   \n",
       "1       []  <a href=\"http://twitter.com/download/iphone\" r...        nl   \n",
       "2       []  <a href=\"https://about.twitter.com/products/tw...        nl   \n",
       "3       []  <a href=\"http://twitter.com/download/android\" ...        nl   \n",
       "\n",
       "  screen_name user_tweet_id user_tweet_id_str user_favourites_count  \\\n",
       "0  GHengeveld      20709019          20709019                   889   \n",
       "1  jelleprins      16546619          16546619                  4416   \n",
       "2       agfnl     164631799         164631799                    84   \n",
       "3  martiendas     111582731         111582731                 10982   \n",
       "\n",
       "   followers_count friends_count  \\\n",
       "0             1484          1750   \n",
       "1            10513          1063   \n",
       "2             8530          2128   \n",
       "3             4648          5115   \n",
       "\n",
       "                                                text  \n",
       "0  @jelleprins @picnic @JumboSupermarkt @alberthe...  \n",
       "1  @Oli4K @picnic @JumboSupermarkt @albertheijn L...  \n",
       "2  \"Trendbreuk: Jumbo al 3 weken duurder in AGF d...  \n",
       "3  Half juni en nog steeds worden boodschappen be...  \n",
       "\n",
       "[4 rows x 23 columns]"
      ]
     },
     "execution_count": 199,
     "metadata": {},
     "output_type": "execute_result"
    }
   ],
   "source": [
    "df_query_02 = processing_and_saving(pd.DataFrame(result_02),\"query_02\",mine_user_twitter=0)\n",
    "df_query_02.head()"
   ]
  },
  {
   "cell_type": "code",
   "execution_count": 209,
   "metadata": {},
   "outputs": [
    {
     "name": "stdout",
     "output_type": "stream",
     "text": [
      "<class 'pandas.core.frame.DataFrame'>\n",
      "RangeIndex: 4 entries, 0 to 3\n",
      "Data columns (total 23 columns):\n",
      " #   Column                   Non-Null Count  Dtype              \n",
      "---  ------                   --------------  -----              \n",
      " 0   mined_at                 4 non-null      datetime64[ns]     \n",
      " 1   created_at               4 non-null      datetime64[ns, UTC]\n",
      " 2   year                     4 non-null      int64              \n",
      " 3   month                    4 non-null      int64              \n",
      " 4   day                      4 non-null      int64              \n",
      " 5   day_of_week              4 non-null      int64              \n",
      " 6   hour                     4 non-null      int64              \n",
      " 7   minute                   4 non-null      int64              \n",
      " 8   tweet_id                 4 non-null      int64              \n",
      " 9   tweet_id_str             4 non-null      object             \n",
      " 10  in_reply_to_screen_name  2 non-null      object             \n",
      " 11  in_reply_to_status_id    2 non-null      float64            \n",
      " 12  in_reply_to_user_id      2 non-null      float64            \n",
      " 13  hashtags                 4 non-null      object             \n",
      " 14  source                   4 non-null      object             \n",
      " 15  language                 4 non-null      object             \n",
      " 16  screen_name              4 non-null      object             \n",
      " 17  user_tweet_id            4 non-null      int64              \n",
      " 18  user_tweet_id_str        4 non-null      object             \n",
      " 19  user_favourites_count    4 non-null      int64              \n",
      " 20  followers_count          4 non-null      int64              \n",
      " 21  friends_count            4 non-null      int64              \n",
      " 22  text                     4 non-null      object             \n",
      "dtypes: datetime64[ns, UTC](1), datetime64[ns](1), float64(2), int64(11), object(8)\n",
      "memory usage: 864.0+ bytes\n"
     ]
    }
   ],
   "source": [
    "df_query_02.info()"
   ]
  },
  {
   "cell_type": "markdown",
   "metadata": {},
   "source": [
    "## Query_03:\n",
    "\n",
    "Adding `albertheijn` because sometimes there are expressions like `ahhhhh` and this is not what we are looking for.\n",
    "\n",
    "`All these words`: picnic, jumbo, ah, albertheijn\n",
    "\n",
    "**Result:** `https://twitter.com/search?q=picnic%2C%20jumbo%2C%20ah%2C%20albertheijn&src=typed_query`"
   ]
  },
  {
   "cell_type": "code",
   "execution_count": 210,
   "metadata": {},
   "outputs": [
    {
     "data": {
      "text/plain": [
       "40"
      ]
     },
     "execution_count": 210,
     "metadata": {},
     "output_type": "execute_result"
    }
   ],
   "source": [
    "query_03 = 'q=picnic%2C%20jumbo%2C%20ah%2C%20albertheijn'\n",
    "result_03 = TweetMiner.search_tweets(max_pages = 20, raw_query = query_03)\n",
    "len(result_03)"
   ]
  },
  {
   "cell_type": "code",
   "execution_count": 211,
   "metadata": {},
   "outputs": [
    {
     "data": {
      "text/plain": [
       "{'mined_at': datetime.datetime(2020, 6, 21, 12, 59, 0, 940977),\n",
       " 'created_at': 'Thu Jun 18 11:56:42 +0000 2020',\n",
       " 'tweet_id': 1273585426268409859,\n",
       " 'tweet_id_str': '1273585426268409859',\n",
       " 'in_reply_to_screen_name': 'Oli4K',\n",
       " 'in_reply_to_status_id': 1273584231336288257,\n",
       " 'in_reply_to_user_id': 6091182,\n",
       " 'language': 'nl',\n",
       " 'text': '@Oli4K @picnic @JumboSupermarkt @albertheijn Lijkt er op dat Jumbo &amp; AH erg naar website &amp; elkaar hebben gekeken, terwijl Picnic echt mobile first &amp; vanuit niks is gestart.',\n",
       " 'hashtags': [],\n",
       " 'source': '<a href=\"http://twitter.com/download/iphone\" rel=\"nofollow\">Twitter for iPhone</a>',\n",
       " 'screen_name': 'jelleprins',\n",
       " 'user_tweet_id': 16546619,\n",
       " 'user_tweet_id_str': '16546619',\n",
       " 'user_favourites_count': 4416,\n",
       " 'followers_count': 10513,\n",
       " 'friends_count': 1063}"
      ]
     },
     "execution_count": 211,
     "metadata": {},
     "output_type": "execute_result"
    }
   ],
   "source": [
    "result_03[0]"
   ]
  },
  {
   "cell_type": "code",
   "execution_count": 212,
   "metadata": {
    "scrolled": true
   },
   "outputs": [
    {
     "data": {
      "text/html": [
       "<div>\n",
       "<style scoped>\n",
       "    .dataframe tbody tr th:only-of-type {\n",
       "        vertical-align: middle;\n",
       "    }\n",
       "\n",
       "    .dataframe tbody tr th {\n",
       "        vertical-align: top;\n",
       "    }\n",
       "\n",
       "    .dataframe thead th {\n",
       "        text-align: right;\n",
       "    }\n",
       "</style>\n",
       "<table border=\"1\" class=\"dataframe\">\n",
       "  <thead>\n",
       "    <tr style=\"text-align: right;\">\n",
       "      <th></th>\n",
       "      <th>mined_at</th>\n",
       "      <th>created_at</th>\n",
       "      <th>year</th>\n",
       "      <th>month</th>\n",
       "      <th>day</th>\n",
       "      <th>day_of_week</th>\n",
       "      <th>hour</th>\n",
       "      <th>minute</th>\n",
       "      <th>tweet_id</th>\n",
       "      <th>tweet_id_str</th>\n",
       "      <th>...</th>\n",
       "      <th>hashtags</th>\n",
       "      <th>source</th>\n",
       "      <th>language</th>\n",
       "      <th>screen_name</th>\n",
       "      <th>user_tweet_id</th>\n",
       "      <th>user_tweet_id_str</th>\n",
       "      <th>user_favourites_count</th>\n",
       "      <th>followers_count</th>\n",
       "      <th>friends_count</th>\n",
       "      <th>text</th>\n",
       "    </tr>\n",
       "  </thead>\n",
       "  <tbody>\n",
       "    <tr>\n",
       "      <th>0</th>\n",
       "      <td>2020-06-21 12:59:02.582580</td>\n",
       "      <td>2020-06-18 11:50:31+00:00</td>\n",
       "      <td>2020</td>\n",
       "      <td>6</td>\n",
       "      <td>18</td>\n",
       "      <td>3</td>\n",
       "      <td>11</td>\n",
       "      <td>50</td>\n",
       "      <td>1273583869753724930</td>\n",
       "      <td>1273583869753724930</td>\n",
       "      <td>...</td>\n",
       "      <td>[]</td>\n",
       "      <td>&lt;a href=\"https://mobile.twitter.com\" rel=\"nofo...</td>\n",
       "      <td>nl</td>\n",
       "      <td>GHengeveld</td>\n",
       "      <td>20709019</td>\n",
       "      <td>20709019</td>\n",
       "      <td>889</td>\n",
       "      <td>1484</td>\n",
       "      <td>1750</td>\n",
       "      <td>@jelleprins @picnic @JumboSupermarkt @alberthe...</td>\n",
       "    </tr>\n",
       "    <tr>\n",
       "      <th>1</th>\n",
       "      <td>2020-06-21 12:59:02.228176</td>\n",
       "      <td>2020-06-18 11:56:42+00:00</td>\n",
       "      <td>2020</td>\n",
       "      <td>6</td>\n",
       "      <td>18</td>\n",
       "      <td>3</td>\n",
       "      <td>11</td>\n",
       "      <td>56</td>\n",
       "      <td>1273585426268409859</td>\n",
       "      <td>1273585426268409859</td>\n",
       "      <td>...</td>\n",
       "      <td>[]</td>\n",
       "      <td>&lt;a href=\"http://twitter.com/download/iphone\" r...</td>\n",
       "      <td>nl</td>\n",
       "      <td>jelleprins</td>\n",
       "      <td>16546619</td>\n",
       "      <td>16546619</td>\n",
       "      <td>4416</td>\n",
       "      <td>10513</td>\n",
       "      <td>1063</td>\n",
       "      <td>@Oli4K @picnic @JumboSupermarkt @albertheijn L...</td>\n",
       "    </tr>\n",
       "  </tbody>\n",
       "</table>\n",
       "<p>2 rows × 23 columns</p>\n",
       "</div>"
      ],
      "text/plain": [
       "                    mined_at                created_at  year  month  day  \\\n",
       "0 2020-06-21 12:59:02.582580 2020-06-18 11:50:31+00:00  2020      6   18   \n",
       "1 2020-06-21 12:59:02.228176 2020-06-18 11:56:42+00:00  2020      6   18   \n",
       "\n",
       "   day_of_week  hour  minute             tweet_id         tweet_id_str  ...  \\\n",
       "0            3    11      50  1273583869753724930  1273583869753724930  ...   \n",
       "1            3    11      56  1273585426268409859  1273585426268409859  ...   \n",
       "\n",
       "  hashtags                                             source  language  \\\n",
       "0       []  <a href=\"https://mobile.twitter.com\" rel=\"nofo...        nl   \n",
       "1       []  <a href=\"http://twitter.com/download/iphone\" r...        nl   \n",
       "\n",
       "  screen_name user_tweet_id user_tweet_id_str user_favourites_count  \\\n",
       "0  GHengeveld      20709019          20709019                   889   \n",
       "1  jelleprins      16546619          16546619                  4416   \n",
       "\n",
       "   followers_count friends_count  \\\n",
       "0             1484          1750   \n",
       "1            10513          1063   \n",
       "\n",
       "                                                text  \n",
       "0  @jelleprins @picnic @JumboSupermarkt @alberthe...  \n",
       "1  @Oli4K @picnic @JumboSupermarkt @albertheijn L...  \n",
       "\n",
       "[2 rows x 23 columns]"
      ]
     },
     "execution_count": 212,
     "metadata": {},
     "output_type": "execute_result"
    }
   ],
   "source": [
    "df_query_03 = processing_and_saving(pd.DataFrame(result_03),\"query_03\",mine_user_twitter=0)\n",
    "df_query_03.head()"
   ]
  },
  {
   "cell_type": "code",
   "execution_count": 213,
   "metadata": {},
   "outputs": [
    {
     "name": "stdout",
     "output_type": "stream",
     "text": [
      "<class 'pandas.core.frame.DataFrame'>\n",
      "RangeIndex: 2 entries, 0 to 1\n",
      "Data columns (total 23 columns):\n",
      " #   Column                   Non-Null Count  Dtype              \n",
      "---  ------                   --------------  -----              \n",
      " 0   mined_at                 2 non-null      datetime64[ns]     \n",
      " 1   created_at               2 non-null      datetime64[ns, UTC]\n",
      " 2   year                     2 non-null      int64              \n",
      " 3   month                    2 non-null      int64              \n",
      " 4   day                      2 non-null      int64              \n",
      " 5   day_of_week              2 non-null      int64              \n",
      " 6   hour                     2 non-null      int64              \n",
      " 7   minute                   2 non-null      int64              \n",
      " 8   tweet_id                 2 non-null      int64              \n",
      " 9   tweet_id_str             2 non-null      object             \n",
      " 10  in_reply_to_screen_name  2 non-null      object             \n",
      " 11  in_reply_to_status_id    2 non-null      int64              \n",
      " 12  in_reply_to_user_id      2 non-null      int64              \n",
      " 13  hashtags                 2 non-null      object             \n",
      " 14  source                   2 non-null      object             \n",
      " 15  language                 2 non-null      object             \n",
      " 16  screen_name              2 non-null      object             \n",
      " 17  user_tweet_id            2 non-null      int64              \n",
      " 18  user_tweet_id_str        2 non-null      object             \n",
      " 19  user_favourites_count    2 non-null      int64              \n",
      " 20  followers_count          2 non-null      int64              \n",
      " 21  friends_count            2 non-null      int64              \n",
      " 22  text                     2 non-null      object             \n",
      "dtypes: datetime64[ns, UTC](1), datetime64[ns](1), int64(13), object(8)\n",
      "memory usage: 496.0+ bytes\n"
     ]
    }
   ],
   "source": [
    "df_query_03.info()"
   ]
  },
  {
   "cell_type": "markdown",
   "metadata": {},
   "source": [
    "## Query_04:\n",
    "\n",
    "`All these words`: picnic covid\n",
    "\n",
    "**Result:** `https://twitter.com/search?q=picnic%20covid&src=typed_query`"
   ]
  },
  {
   "cell_type": "code",
   "execution_count": 214,
   "metadata": {},
   "outputs": [
    {
     "data": {
      "text/plain": [
       "300"
      ]
     },
     "execution_count": 214,
     "metadata": {},
     "output_type": "execute_result"
    }
   ],
   "source": [
    "query_04 = 'q=picnic%20covid'\n",
    "result_04 = TweetMiner.search_tweets(max_pages = 20, raw_query = query_04)\n",
    "len(result_04)"
   ]
  },
  {
   "cell_type": "code",
   "execution_count": 215,
   "metadata": {},
   "outputs": [
    {
     "data": {
      "text/plain": [
       "{'mined_at': datetime.datetime(2020, 6, 21, 13, 2, 44, 534285),\n",
       " 'created_at': 'Sun Jun 21 11:01:26 +0000 2020',\n",
       " 'tweet_id': 1274658683126001664,\n",
       " 'tweet_id_str': '1274658683126001664',\n",
       " 'language': 'en',\n",
       " 'text': \"RT @zasteo: #FactFriday I have been amazed at the response of the #financialservices #innovation #community to the #COVID-19 crisis. It's a…\",\n",
       " 'hashtags': [{'text': 'FactFriday'},\n",
       "  {'text': 'financialservices'},\n",
       "  {'text': 'innovation'},\n",
       "  {'text': 'community'},\n",
       "  {'text': 'COVID'}],\n",
       " 'source': '<a href=\"https://mobile.twitter.com\" rel=\"nofollow\">Twitter Web App</a>',\n",
       " 'screen_name': 'Picnic_Techno',\n",
       " 'user_tweet_id': 1263755578351943680,\n",
       " 'user_tweet_id_str': '1263755578351943680',\n",
       " 'user_favourites_count': 19,\n",
       " 'followers_count': 2,\n",
       " 'friends_count': 3}"
      ]
     },
     "execution_count": 215,
     "metadata": {},
     "output_type": "execute_result"
    }
   ],
   "source": [
    "result_04[0]"
   ]
  },
  {
   "cell_type": "code",
   "execution_count": 216,
   "metadata": {
    "scrolled": true
   },
   "outputs": [
    {
     "data": {
      "text/html": [
       "<div>\n",
       "<style scoped>\n",
       "    .dataframe tbody tr th:only-of-type {\n",
       "        vertical-align: middle;\n",
       "    }\n",
       "\n",
       "    .dataframe tbody tr th {\n",
       "        vertical-align: top;\n",
       "    }\n",
       "\n",
       "    .dataframe thead th {\n",
       "        text-align: right;\n",
       "    }\n",
       "</style>\n",
       "<table border=\"1\" class=\"dataframe\">\n",
       "  <thead>\n",
       "    <tr style=\"text-align: right;\">\n",
       "      <th></th>\n",
       "      <th>mined_at</th>\n",
       "      <th>created_at</th>\n",
       "      <th>year</th>\n",
       "      <th>month</th>\n",
       "      <th>day</th>\n",
       "      <th>day_of_week</th>\n",
       "      <th>hour</th>\n",
       "      <th>minute</th>\n",
       "      <th>tweet_id</th>\n",
       "      <th>tweet_id_str</th>\n",
       "      <th>...</th>\n",
       "      <th>hashtags</th>\n",
       "      <th>source</th>\n",
       "      <th>language</th>\n",
       "      <th>screen_name</th>\n",
       "      <th>user_tweet_id</th>\n",
       "      <th>user_tweet_id_str</th>\n",
       "      <th>user_favourites_count</th>\n",
       "      <th>followers_count</th>\n",
       "      <th>friends_count</th>\n",
       "      <th>text</th>\n",
       "    </tr>\n",
       "  </thead>\n",
       "  <tbody>\n",
       "    <tr>\n",
       "      <th>0</th>\n",
       "      <td>2020-06-21 13:02:46.884312</td>\n",
       "      <td>2020-06-21 00:37:25+00:00</td>\n",
       "      <td>2020</td>\n",
       "      <td>6</td>\n",
       "      <td>21</td>\n",
       "      <td>6</td>\n",
       "      <td>0</td>\n",
       "      <td>37</td>\n",
       "      <td>1274501643044884480</td>\n",
       "      <td>1274501643044884480</td>\n",
       "      <td>...</td>\n",
       "      <td>[]</td>\n",
       "      <td>&lt;a href=\"http://www.socastdigital.com\" rel=\"no...</td>\n",
       "      <td>en</td>\n",
       "      <td>SeehaferNews</td>\n",
       "      <td>966851822873993218</td>\n",
       "      <td>966851822873993218</td>\n",
       "      <td>110</td>\n",
       "      <td>173</td>\n",
       "      <td>93</td>\n",
       "      <td>The Kiel Community Picnic Committee has decide...</td>\n",
       "    </tr>\n",
       "    <tr>\n",
       "      <th>1</th>\n",
       "      <td>2020-06-21 13:02:49.298622</td>\n",
       "      <td>2020-06-21 00:37:25+00:00</td>\n",
       "      <td>2020</td>\n",
       "      <td>6</td>\n",
       "      <td>21</td>\n",
       "      <td>6</td>\n",
       "      <td>0</td>\n",
       "      <td>37</td>\n",
       "      <td>1274501644005277697</td>\n",
       "      <td>1274501644005277697</td>\n",
       "      <td>...</td>\n",
       "      <td>[]</td>\n",
       "      <td>&lt;a href=\"http://www.socastdigital.com\" rel=\"no...</td>\n",
       "      <td>en</td>\n",
       "      <td>womtam</td>\n",
       "      <td>58450687</td>\n",
       "      <td>58450687</td>\n",
       "      <td>154</td>\n",
       "      <td>416</td>\n",
       "      <td>98</td>\n",
       "      <td>The Kiel Community Picnic Committee has decide...</td>\n",
       "    </tr>\n",
       "    <tr>\n",
       "      <th>2</th>\n",
       "      <td>2020-06-21 13:02:45.561162</td>\n",
       "      <td>2020-06-21 00:48:44+00:00</td>\n",
       "      <td>2020</td>\n",
       "      <td>6</td>\n",
       "      <td>21</td>\n",
       "      <td>6</td>\n",
       "      <td>0</td>\n",
       "      <td>48</td>\n",
       "      <td>1274504489744117762</td>\n",
       "      <td>1274504489744117762</td>\n",
       "      <td>...</td>\n",
       "      <td>[]</td>\n",
       "      <td>&lt;a href=\"http://twitter.com/download/iphone\" r...</td>\n",
       "      <td>en</td>\n",
       "      <td>PalamaJeni</td>\n",
       "      <td>1038501773043015681</td>\n",
       "      <td>1038501773043015681</td>\n",
       "      <td>1088</td>\n",
       "      <td>119</td>\n",
       "      <td>131</td>\n",
       "      <td>RT @TrishaFisher681: If Covid cancels Newton P...</td>\n",
       "    </tr>\n",
       "    <tr>\n",
       "      <th>3</th>\n",
       "      <td>2020-06-21 13:02:44.795555</td>\n",
       "      <td>2020-06-21 01:01:56+00:00</td>\n",
       "      <td>2020</td>\n",
       "      <td>6</td>\n",
       "      <td>21</td>\n",
       "      <td>6</td>\n",
       "      <td>1</td>\n",
       "      <td>1</td>\n",
       "      <td>1274507812341760000</td>\n",
       "      <td>1274507812341760000</td>\n",
       "      <td>...</td>\n",
       "      <td>[]</td>\n",
       "      <td>&lt;a href=\"http://twitter.com/download/android\" ...</td>\n",
       "      <td>en</td>\n",
       "      <td>5455km629</td>\n",
       "      <td>3627509358</td>\n",
       "      <td>3627509358</td>\n",
       "      <td>86318</td>\n",
       "      <td>5643</td>\n",
       "      <td>6105</td>\n",
       "      <td>RT @diannemando: @AngelinaWTSP @HealthyFla @10...</td>\n",
       "    </tr>\n",
       "    <tr>\n",
       "      <th>4</th>\n",
       "      <td>2020-06-21 13:02:47.145503</td>\n",
       "      <td>2020-06-21 01:27:28+00:00</td>\n",
       "      <td>2020</td>\n",
       "      <td>6</td>\n",
       "      <td>21</td>\n",
       "      <td>6</td>\n",
       "      <td>1</td>\n",
       "      <td>27</td>\n",
       "      <td>1274514237453479936</td>\n",
       "      <td>1274514237453479936</td>\n",
       "      <td>...</td>\n",
       "      <td>[]</td>\n",
       "      <td>&lt;a href=\"http://twitter.com/download/iphone\" r...</td>\n",
       "      <td>en</td>\n",
       "      <td>Flores88Rico</td>\n",
       "      <td>1632048997</td>\n",
       "      <td>1632048997</td>\n",
       "      <td>11336</td>\n",
       "      <td>461</td>\n",
       "      <td>696</td>\n",
       "      <td>RT @TrishaFisher681: If Covid cancels Newton P...</td>\n",
       "    </tr>\n",
       "  </tbody>\n",
       "</table>\n",
       "<p>5 rows × 23 columns</p>\n",
       "</div>"
      ],
      "text/plain": [
       "                    mined_at                created_at  year  month  day  \\\n",
       "0 2020-06-21 13:02:46.884312 2020-06-21 00:37:25+00:00  2020      6   21   \n",
       "1 2020-06-21 13:02:49.298622 2020-06-21 00:37:25+00:00  2020      6   21   \n",
       "2 2020-06-21 13:02:45.561162 2020-06-21 00:48:44+00:00  2020      6   21   \n",
       "3 2020-06-21 13:02:44.795555 2020-06-21 01:01:56+00:00  2020      6   21   \n",
       "4 2020-06-21 13:02:47.145503 2020-06-21 01:27:28+00:00  2020      6   21   \n",
       "\n",
       "   day_of_week  hour  minute             tweet_id         tweet_id_str  ...  \\\n",
       "0            6     0      37  1274501643044884480  1274501643044884480  ...   \n",
       "1            6     0      37  1274501644005277697  1274501644005277697  ...   \n",
       "2            6     0      48  1274504489744117762  1274504489744117762  ...   \n",
       "3            6     1       1  1274507812341760000  1274507812341760000  ...   \n",
       "4            6     1      27  1274514237453479936  1274514237453479936  ...   \n",
       "\n",
       "  hashtags                                             source  language  \\\n",
       "0       []  <a href=\"http://www.socastdigital.com\" rel=\"no...        en   \n",
       "1       []  <a href=\"http://www.socastdigital.com\" rel=\"no...        en   \n",
       "2       []  <a href=\"http://twitter.com/download/iphone\" r...        en   \n",
       "3       []  <a href=\"http://twitter.com/download/android\" ...        en   \n",
       "4       []  <a href=\"http://twitter.com/download/iphone\" r...        en   \n",
       "\n",
       "    screen_name        user_tweet_id    user_tweet_id_str  \\\n",
       "0  SeehaferNews   966851822873993218   966851822873993218   \n",
       "1        womtam             58450687             58450687   \n",
       "2    PalamaJeni  1038501773043015681  1038501773043015681   \n",
       "3     5455km629           3627509358           3627509358   \n",
       "4  Flores88Rico           1632048997           1632048997   \n",
       "\n",
       "  user_favourites_count  followers_count friends_count  \\\n",
       "0                   110              173            93   \n",
       "1                   154              416            98   \n",
       "2                  1088              119           131   \n",
       "3                 86318             5643          6105   \n",
       "4                 11336              461           696   \n",
       "\n",
       "                                                text  \n",
       "0  The Kiel Community Picnic Committee has decide...  \n",
       "1  The Kiel Community Picnic Committee has decide...  \n",
       "2  RT @TrishaFisher681: If Covid cancels Newton P...  \n",
       "3  RT @diannemando: @AngelinaWTSP @HealthyFla @10...  \n",
       "4  RT @TrishaFisher681: If Covid cancels Newton P...  \n",
       "\n",
       "[5 rows x 23 columns]"
      ]
     },
     "execution_count": 216,
     "metadata": {},
     "output_type": "execute_result"
    }
   ],
   "source": [
    "df_query_04 = processing_and_saving(pd.DataFrame(result_04),\"query_04\",mine_user_twitter=0)\n",
    "df_query_04.head()"
   ]
  },
  {
   "cell_type": "code",
   "execution_count": 217,
   "metadata": {},
   "outputs": [
    {
     "name": "stdout",
     "output_type": "stream",
     "text": [
      "<class 'pandas.core.frame.DataFrame'>\n",
      "RangeIndex: 15 entries, 0 to 14\n",
      "Data columns (total 23 columns):\n",
      " #   Column                   Non-Null Count  Dtype              \n",
      "---  ------                   --------------  -----              \n",
      " 0   mined_at                 15 non-null     datetime64[ns]     \n",
      " 1   created_at               15 non-null     datetime64[ns, UTC]\n",
      " 2   year                     15 non-null     int64              \n",
      " 3   month                    15 non-null     int64              \n",
      " 4   day                      15 non-null     int64              \n",
      " 5   day_of_week              15 non-null     int64              \n",
      " 6   hour                     15 non-null     int64              \n",
      " 7   minute                   15 non-null     int64              \n",
      " 8   tweet_id                 15 non-null     int64              \n",
      " 9   tweet_id_str             15 non-null     object             \n",
      " 10  in_reply_to_screen_name  2 non-null      object             \n",
      " 11  in_reply_to_status_id    2 non-null      float64            \n",
      " 12  in_reply_to_user_id      2 non-null      float64            \n",
      " 13  hashtags                 15 non-null     object             \n",
      " 14  source                   15 non-null     object             \n",
      " 15  language                 15 non-null     object             \n",
      " 16  screen_name              15 non-null     object             \n",
      " 17  user_tweet_id            15 non-null     int64              \n",
      " 18  user_tweet_id_str        15 non-null     object             \n",
      " 19  user_favourites_count    15 non-null     int64              \n",
      " 20  followers_count          15 non-null     int64              \n",
      " 21  friends_count            15 non-null     int64              \n",
      " 22  text                     15 non-null     object             \n",
      "dtypes: datetime64[ns, UTC](1), datetime64[ns](1), float64(2), int64(11), object(8)\n",
      "memory usage: 2.8+ KB\n"
     ]
    }
   ],
   "source": [
    "df_query_04.info()"
   ]
  },
  {
   "cell_type": "markdown",
   "metadata": {},
   "source": [
    "## Query_05:\n",
    "\n",
    "`All these words`: JumboSupermarkt covid\n",
    "\n",
    "**Result:** `https://twitter.com/search?q=JumboSupermarkt%20covid&src=typed_query`"
   ]
  },
  {
   "cell_type": "code",
   "execution_count": 218,
   "metadata": {},
   "outputs": [
    {
     "data": {
      "text/plain": [
       "40"
      ]
     },
     "execution_count": 218,
     "metadata": {},
     "output_type": "execute_result"
    }
   ],
   "source": [
    "query_05 = 'q=JumboSupermarkt%20covid'\n",
    "result_05 = TweetMiner.search_tweets(max_pages = 20, raw_query = query_05)\n",
    "len(result_05)"
   ]
  },
  {
   "cell_type": "code",
   "execution_count": 219,
   "metadata": {},
   "outputs": [
    {
     "data": {
      "text/plain": [
       "{'mined_at': datetime.datetime(2020, 6, 21, 13, 4, 54, 777032),\n",
       " 'created_at': 'Sun Jun 21 09:33:32 +0000 2020',\n",
       " 'tweet_id': 1274636561704005632,\n",
       " 'tweet_id_str': '1274636561704005632',\n",
       " 'in_reply_to_screen_name': 'deAZfan',\n",
       " 'in_reply_to_status_id': 1274396337396690944,\n",
       " 'in_reply_to_user_id': 23193959,\n",
       " 'language': 'nl',\n",
       " 'text': \"@deAZfan De 'Vierde wachtende' regel geldt tijdelijk niet i.v.m. de situatie rondom Covid-19. We blijven uiteraard wel ons uiterste best doen alle klanten zo vlot mogelijk te helpen. 🙂 ^LL\",\n",
       " 'hashtags': [],\n",
       " 'source': '<a href=\"https://mobile.twitter.com\" rel=\"nofollow\">Twitter Web App</a>',\n",
       " 'screen_name': 'JumboSupermarkt',\n",
       " 'user_tweet_id': 2797822974,\n",
       " 'user_tweet_id_str': '2797822974',\n",
       " 'user_favourites_count': 3764,\n",
       " 'followers_count': 16212,\n",
       " 'friends_count': 1710}"
      ]
     },
     "execution_count": 219,
     "metadata": {},
     "output_type": "execute_result"
    }
   ],
   "source": [
    "result_05[0]"
   ]
  },
  {
   "cell_type": "code",
   "execution_count": 220,
   "metadata": {
    "scrolled": true
   },
   "outputs": [
    {
     "data": {
      "text/html": [
       "<div>\n",
       "<style scoped>\n",
       "    .dataframe tbody tr th:only-of-type {\n",
       "        vertical-align: middle;\n",
       "    }\n",
       "\n",
       "    .dataframe tbody tr th {\n",
       "        vertical-align: top;\n",
       "    }\n",
       "\n",
       "    .dataframe thead th {\n",
       "        text-align: right;\n",
       "    }\n",
       "</style>\n",
       "<table border=\"1\" class=\"dataframe\">\n",
       "  <thead>\n",
       "    <tr style=\"text-align: right;\">\n",
       "      <th></th>\n",
       "      <th>mined_at</th>\n",
       "      <th>created_at</th>\n",
       "      <th>year</th>\n",
       "      <th>month</th>\n",
       "      <th>day</th>\n",
       "      <th>day_of_week</th>\n",
       "      <th>hour</th>\n",
       "      <th>minute</th>\n",
       "      <th>tweet_id</th>\n",
       "      <th>tweet_id_str</th>\n",
       "      <th>...</th>\n",
       "      <th>hashtags</th>\n",
       "      <th>source</th>\n",
       "      <th>language</th>\n",
       "      <th>screen_name</th>\n",
       "      <th>user_tweet_id</th>\n",
       "      <th>user_tweet_id_str</th>\n",
       "      <th>user_favourites_count</th>\n",
       "      <th>followers_count</th>\n",
       "      <th>friends_count</th>\n",
       "      <th>text</th>\n",
       "    </tr>\n",
       "  </thead>\n",
       "  <tbody>\n",
       "    <tr>\n",
       "      <th>0</th>\n",
       "      <td>2020-06-21 13:04:56.400601</td>\n",
       "      <td>2020-06-20 17:25:49+00:00</td>\n",
       "      <td>2020</td>\n",
       "      <td>6</td>\n",
       "      <td>20</td>\n",
       "      <td>5</td>\n",
       "      <td>17</td>\n",
       "      <td>25</td>\n",
       "      <td>1274393028183162881</td>\n",
       "      <td>1274393028183162881</td>\n",
       "      <td>...</td>\n",
       "      <td>[{'text': 'Utrecht'}, {'text': 'merelstraat'},...</td>\n",
       "      <td>&lt;a href=\"http://twitter.com/download/android\" ...</td>\n",
       "      <td>nl</td>\n",
       "      <td>milieuzone</td>\n",
       "      <td>3567511941</td>\n",
       "      <td>3567511941</td>\n",
       "      <td>857</td>\n",
       "      <td>171</td>\n",
       "      <td>75</td>\n",
       "      <td>Complimenten aan @JumboSupermarkt #Utrecht #me...</td>\n",
       "    </tr>\n",
       "    <tr>\n",
       "      <th>1</th>\n",
       "      <td>2020-06-21 13:04:56.025613</td>\n",
       "      <td>2020-06-21 09:33:32+00:00</td>\n",
       "      <td>2020</td>\n",
       "      <td>6</td>\n",
       "      <td>21</td>\n",
       "      <td>6</td>\n",
       "      <td>9</td>\n",
       "      <td>33</td>\n",
       "      <td>1274636561704005632</td>\n",
       "      <td>1274636561704005632</td>\n",
       "      <td>...</td>\n",
       "      <td>[]</td>\n",
       "      <td>&lt;a href=\"https://mobile.twitter.com\" rel=\"nofo...</td>\n",
       "      <td>nl</td>\n",
       "      <td>JumboSupermarkt</td>\n",
       "      <td>2797822974</td>\n",
       "      <td>2797822974</td>\n",
       "      <td>3764</td>\n",
       "      <td>16212</td>\n",
       "      <td>1710</td>\n",
       "      <td>@deAZfan De 'Vierde wachtende' regel geldt tij...</td>\n",
       "    </tr>\n",
       "  </tbody>\n",
       "</table>\n",
       "<p>2 rows × 23 columns</p>\n",
       "</div>"
      ],
      "text/plain": [
       "                    mined_at                created_at  year  month  day  \\\n",
       "0 2020-06-21 13:04:56.400601 2020-06-20 17:25:49+00:00  2020      6   20   \n",
       "1 2020-06-21 13:04:56.025613 2020-06-21 09:33:32+00:00  2020      6   21   \n",
       "\n",
       "   day_of_week  hour  minute             tweet_id         tweet_id_str  ...  \\\n",
       "0            5    17      25  1274393028183162881  1274393028183162881  ...   \n",
       "1            6     9      33  1274636561704005632  1274636561704005632  ...   \n",
       "\n",
       "                                            hashtags  \\\n",
       "0  [{'text': 'Utrecht'}, {'text': 'merelstraat'},...   \n",
       "1                                                 []   \n",
       "\n",
       "                                              source  language  \\\n",
       "0  <a href=\"http://twitter.com/download/android\" ...        nl   \n",
       "1  <a href=\"https://mobile.twitter.com\" rel=\"nofo...        nl   \n",
       "\n",
       "       screen_name user_tweet_id user_tweet_id_str user_favourites_count  \\\n",
       "0       milieuzone    3567511941        3567511941                   857   \n",
       "1  JumboSupermarkt    2797822974        2797822974                  3764   \n",
       "\n",
       "   followers_count friends_count  \\\n",
       "0              171            75   \n",
       "1            16212          1710   \n",
       "\n",
       "                                                text  \n",
       "0  Complimenten aan @JumboSupermarkt #Utrecht #me...  \n",
       "1  @deAZfan De 'Vierde wachtende' regel geldt tij...  \n",
       "\n",
       "[2 rows x 23 columns]"
      ]
     },
     "execution_count": 220,
     "metadata": {},
     "output_type": "execute_result"
    }
   ],
   "source": [
    "df_query_05 = processing_and_saving(pd.DataFrame(result_05),\"query_05\",mine_user_twitter=0)\n",
    "df_query_05.head()"
   ]
  },
  {
   "cell_type": "code",
   "execution_count": 221,
   "metadata": {},
   "outputs": [
    {
     "name": "stdout",
     "output_type": "stream",
     "text": [
      "<class 'pandas.core.frame.DataFrame'>\n",
      "RangeIndex: 2 entries, 0 to 1\n",
      "Data columns (total 23 columns):\n",
      " #   Column                   Non-Null Count  Dtype              \n",
      "---  ------                   --------------  -----              \n",
      " 0   mined_at                 2 non-null      datetime64[ns]     \n",
      " 1   created_at               2 non-null      datetime64[ns, UTC]\n",
      " 2   year                     2 non-null      int64              \n",
      " 3   month                    2 non-null      int64              \n",
      " 4   day                      2 non-null      int64              \n",
      " 5   day_of_week              2 non-null      int64              \n",
      " 6   hour                     2 non-null      int64              \n",
      " 7   minute                   2 non-null      int64              \n",
      " 8   tweet_id                 2 non-null      int64              \n",
      " 9   tweet_id_str             2 non-null      object             \n",
      " 10  in_reply_to_screen_name  1 non-null      object             \n",
      " 11  in_reply_to_status_id    1 non-null      float64            \n",
      " 12  in_reply_to_user_id      1 non-null      float64            \n",
      " 13  hashtags                 2 non-null      object             \n",
      " 14  source                   2 non-null      object             \n",
      " 15  language                 2 non-null      object             \n",
      " 16  screen_name              2 non-null      object             \n",
      " 17  user_tweet_id            2 non-null      int64              \n",
      " 18  user_tweet_id_str        2 non-null      object             \n",
      " 19  user_favourites_count    2 non-null      int64              \n",
      " 20  followers_count          2 non-null      int64              \n",
      " 21  friends_count            2 non-null      int64              \n",
      " 22  text                     2 non-null      object             \n",
      "dtypes: datetime64[ns, UTC](1), datetime64[ns](1), float64(2), int64(11), object(8)\n",
      "memory usage: 496.0+ bytes\n"
     ]
    }
   ],
   "source": [
    "df_query_05.info()"
   ]
  },
  {
   "cell_type": "markdown",
   "metadata": {},
   "source": [
    "## Query_06:\n",
    "\n",
    "`All these words`: albertheijn covid ah\n",
    "\n",
    "**Result:** `https://twitter.com/search?q=albertheijn%20covid&src=typed_query`"
   ]
  },
  {
   "cell_type": "code",
   "execution_count": 224,
   "metadata": {},
   "outputs": [
    {
     "data": {
      "text/plain": [
       "120"
      ]
     },
     "execution_count": 224,
     "metadata": {},
     "output_type": "execute_result"
    }
   ],
   "source": [
    "query_06 = 'q=albertheijn%20covid'\n",
    "result_06 = TweetMiner.search_tweets(max_pages = 20, raw_query = query_06)\n",
    "len(result_06)"
   ]
  },
  {
   "cell_type": "code",
   "execution_count": 225,
   "metadata": {},
   "outputs": [
    {
     "data": {
      "text/plain": [
       "{'mined_at': datetime.datetime(2020, 6, 21, 13, 7, 43, 348454),\n",
       " 'created_at': 'Sat Jun 20 17:25:49 +0000 2020',\n",
       " 'tweet_id': 1274393028183162881,\n",
       " 'tweet_id_str': '1274393028183162881',\n",
       " 'language': 'nl',\n",
       " 'text': 'Complimenten aan @JumboSupermarkt #Utrecht #merelstraat voor de poging om alles Covid vrij te houden en te reguleren. Dit na te zijn weggegaan bij @albertheijn #oudenoord met dronken hordes en een chaotisch tafreel. @GemeenteUtrecht.',\n",
       " 'hashtags': [{'text': 'Utrecht'},\n",
       "  {'text': 'merelstraat'},\n",
       "  {'text': 'oudenoord'}],\n",
       " 'source': '<a href=\"http://twitter.com/download/android\" rel=\"nofollow\">Twitter for Android</a>',\n",
       " 'screen_name': 'milieuzone',\n",
       " 'user_tweet_id': 3567511941,\n",
       " 'user_tweet_id_str': '3567511941',\n",
       " 'user_favourites_count': 857,\n",
       " 'followers_count': 171,\n",
       " 'friends_count': 75}"
      ]
     },
     "execution_count": 225,
     "metadata": {},
     "output_type": "execute_result"
    }
   ],
   "source": [
    "result_06[0]"
   ]
  },
  {
   "cell_type": "code",
   "execution_count": 226,
   "metadata": {
    "scrolled": true
   },
   "outputs": [
    {
     "data": {
      "text/html": [
       "<div>\n",
       "<style scoped>\n",
       "    .dataframe tbody tr th:only-of-type {\n",
       "        vertical-align: middle;\n",
       "    }\n",
       "\n",
       "    .dataframe tbody tr th {\n",
       "        vertical-align: top;\n",
       "    }\n",
       "\n",
       "    .dataframe thead th {\n",
       "        text-align: right;\n",
       "    }\n",
       "</style>\n",
       "<table border=\"1\" class=\"dataframe\">\n",
       "  <thead>\n",
       "    <tr style=\"text-align: right;\">\n",
       "      <th></th>\n",
       "      <th>mined_at</th>\n",
       "      <th>created_at</th>\n",
       "      <th>year</th>\n",
       "      <th>month</th>\n",
       "      <th>day</th>\n",
       "      <th>day_of_week</th>\n",
       "      <th>hour</th>\n",
       "      <th>minute</th>\n",
       "      <th>tweet_id</th>\n",
       "      <th>tweet_id_str</th>\n",
       "      <th>...</th>\n",
       "      <th>hashtags</th>\n",
       "      <th>source</th>\n",
       "      <th>language</th>\n",
       "      <th>screen_name</th>\n",
       "      <th>user_tweet_id</th>\n",
       "      <th>user_tweet_id_str</th>\n",
       "      <th>user_favourites_count</th>\n",
       "      <th>followers_count</th>\n",
       "      <th>friends_count</th>\n",
       "      <th>text</th>\n",
       "    </tr>\n",
       "  </thead>\n",
       "  <tbody>\n",
       "    <tr>\n",
       "      <th>0</th>\n",
       "      <td>2020-06-21 13:07:45.190107</td>\n",
       "      <td>2020-06-14 18:37:37+00:00</td>\n",
       "      <td>2020</td>\n",
       "      <td>6</td>\n",
       "      <td>14</td>\n",
       "      <td>6</td>\n",
       "      <td>18</td>\n",
       "      <td>37</td>\n",
       "      <td>1272236769145208833</td>\n",
       "      <td>1272236769145208833</td>\n",
       "      <td>...</td>\n",
       "      <td>[]</td>\n",
       "      <td>&lt;a href=\"https://mobile.twitter.com\" rel=\"nofo...</td>\n",
       "      <td>en</td>\n",
       "      <td>vai3333</td>\n",
       "      <td>207973622</td>\n",
       "      <td>207973622</td>\n",
       "      <td>1999</td>\n",
       "      <td>7183</td>\n",
       "      <td>5297</td>\n",
       "      <td>RT @AnimalStill: There comes a moment you find...</td>\n",
       "    </tr>\n",
       "    <tr>\n",
       "      <th>1</th>\n",
       "      <td>2020-06-21 13:07:47.134882</td>\n",
       "      <td>2020-06-18 09:59:31+00:00</td>\n",
       "      <td>2020</td>\n",
       "      <td>6</td>\n",
       "      <td>18</td>\n",
       "      <td>3</td>\n",
       "      <td>9</td>\n",
       "      <td>59</td>\n",
       "      <td>1273555936356061186</td>\n",
       "      <td>1273555936356061186</td>\n",
       "      <td>...</td>\n",
       "      <td>[{'text': 'Covid_19'}]</td>\n",
       "      <td>&lt;a href=\"https://mobile.twitter.com\" rel=\"nofo...</td>\n",
       "      <td>nl</td>\n",
       "      <td>ChristienJanson</td>\n",
       "      <td>40452837</td>\n",
       "      <td>40452837</td>\n",
       "      <td>5630</td>\n",
       "      <td>592</td>\n",
       "      <td>1099</td>\n",
       "      <td>Goh @albertheijn Almere Lavendelplantsoen, gee...</td>\n",
       "    </tr>\n",
       "    <tr>\n",
       "      <th>2</th>\n",
       "      <td>2020-06-21 13:07:43.559885</td>\n",
       "      <td>2020-06-18 17:10:57+00:00</td>\n",
       "      <td>2020</td>\n",
       "      <td>6</td>\n",
       "      <td>18</td>\n",
       "      <td>3</td>\n",
       "      <td>17</td>\n",
       "      <td>10</td>\n",
       "      <td>1273664510591733762</td>\n",
       "      <td>1273664510591733762</td>\n",
       "      <td>...</td>\n",
       "      <td>[{'text': 'Retail'}, {'text': 'Innovatie'}, {'...</td>\n",
       "      <td>&lt;a href=\"http://www.linkedin.com/\" rel=\"nofoll...</td>\n",
       "      <td>und</td>\n",
       "      <td>buisman_pro</td>\n",
       "      <td>756432448561487872</td>\n",
       "      <td>756432448561487872</td>\n",
       "      <td>133</td>\n",
       "      <td>165</td>\n",
       "      <td>1320</td>\n",
       "      <td>#Retail #Innovatie #Covid_19 😷 #AlbertHeijn #C...</td>\n",
       "    </tr>\n",
       "    <tr>\n",
       "      <th>3</th>\n",
       "      <td>2020-06-21 13:07:44.989645</td>\n",
       "      <td>2020-06-19 20:43:35+00:00</td>\n",
       "      <td>2020</td>\n",
       "      <td>6</td>\n",
       "      <td>19</td>\n",
       "      <td>4</td>\n",
       "      <td>20</td>\n",
       "      <td>43</td>\n",
       "      <td>1274080408028753920</td>\n",
       "      <td>1274080408028753920</td>\n",
       "      <td>...</td>\n",
       "      <td>[{'text': 'WillemAlexander'}, {'text': 'veroni...</td>\n",
       "      <td>&lt;a href=\"http://twitter.com/download/iphone\" r...</td>\n",
       "      <td>nl</td>\n",
       "      <td>wendersinke</td>\n",
       "      <td>381493231</td>\n",
       "      <td>381493231</td>\n",
       "      <td>2352</td>\n",
       "      <td>606</td>\n",
       "      <td>519</td>\n",
       "      <td>Iedereen heeft wel iets te zeggen, maar soms n...</td>\n",
       "    </tr>\n",
       "    <tr>\n",
       "      <th>4</th>\n",
       "      <td>2020-06-21 13:07:43.985991</td>\n",
       "      <td>2020-06-20 06:14:39+00:00</td>\n",
       "      <td>2020</td>\n",
       "      <td>6</td>\n",
       "      <td>20</td>\n",
       "      <td>5</td>\n",
       "      <td>6</td>\n",
       "      <td>14</td>\n",
       "      <td>1274224124836089857</td>\n",
       "      <td>1274224124836089857</td>\n",
       "      <td>...</td>\n",
       "      <td>[{'text': 'Jumbo'}]</td>\n",
       "      <td>&lt;a href=\"https://mobile.twitter.com\" rel=\"nofo...</td>\n",
       "      <td>en</td>\n",
       "      <td>JeannetteWezen1</td>\n",
       "      <td>1235877748163383296</td>\n",
       "      <td>1235877748163383296</td>\n",
       "      <td>7170</td>\n",
       "      <td>175</td>\n",
       "      <td>164</td>\n",
       "      <td>@marutza_mh @albertheijn #Jumbo is selling bre...</td>\n",
       "    </tr>\n",
       "  </tbody>\n",
       "</table>\n",
       "<p>5 rows × 23 columns</p>\n",
       "</div>"
      ],
      "text/plain": [
       "                    mined_at                created_at  year  month  day  \\\n",
       "0 2020-06-21 13:07:45.190107 2020-06-14 18:37:37+00:00  2020      6   14   \n",
       "1 2020-06-21 13:07:47.134882 2020-06-18 09:59:31+00:00  2020      6   18   \n",
       "2 2020-06-21 13:07:43.559885 2020-06-18 17:10:57+00:00  2020      6   18   \n",
       "3 2020-06-21 13:07:44.989645 2020-06-19 20:43:35+00:00  2020      6   19   \n",
       "4 2020-06-21 13:07:43.985991 2020-06-20 06:14:39+00:00  2020      6   20   \n",
       "\n",
       "   day_of_week  hour  minute             tweet_id         tweet_id_str  ...  \\\n",
       "0            6    18      37  1272236769145208833  1272236769145208833  ...   \n",
       "1            3     9      59  1273555936356061186  1273555936356061186  ...   \n",
       "2            3    17      10  1273664510591733762  1273664510591733762  ...   \n",
       "3            4    20      43  1274080408028753920  1274080408028753920  ...   \n",
       "4            5     6      14  1274224124836089857  1274224124836089857  ...   \n",
       "\n",
       "                                            hashtags  \\\n",
       "0                                                 []   \n",
       "1                             [{'text': 'Covid_19'}]   \n",
       "2  [{'text': 'Retail'}, {'text': 'Innovatie'}, {'...   \n",
       "3  [{'text': 'WillemAlexander'}, {'text': 'veroni...   \n",
       "4                                [{'text': 'Jumbo'}]   \n",
       "\n",
       "                                              source  language  \\\n",
       "0  <a href=\"https://mobile.twitter.com\" rel=\"nofo...        en   \n",
       "1  <a href=\"https://mobile.twitter.com\" rel=\"nofo...        nl   \n",
       "2  <a href=\"http://www.linkedin.com/\" rel=\"nofoll...       und   \n",
       "3  <a href=\"http://twitter.com/download/iphone\" r...        nl   \n",
       "4  <a href=\"https://mobile.twitter.com\" rel=\"nofo...        en   \n",
       "\n",
       "       screen_name        user_tweet_id    user_tweet_id_str  \\\n",
       "0          vai3333            207973622            207973622   \n",
       "1  ChristienJanson             40452837             40452837   \n",
       "2      buisman_pro   756432448561487872   756432448561487872   \n",
       "3      wendersinke            381493231            381493231   \n",
       "4  JeannetteWezen1  1235877748163383296  1235877748163383296   \n",
       "\n",
       "  user_favourites_count  followers_count friends_count  \\\n",
       "0                  1999             7183          5297   \n",
       "1                  5630              592          1099   \n",
       "2                   133              165          1320   \n",
       "3                  2352              606           519   \n",
       "4                  7170              175           164   \n",
       "\n",
       "                                                text  \n",
       "0  RT @AnimalStill: There comes a moment you find...  \n",
       "1  Goh @albertheijn Almere Lavendelplantsoen, gee...  \n",
       "2  #Retail #Innovatie #Covid_19 😷 #AlbertHeijn #C...  \n",
       "3  Iedereen heeft wel iets te zeggen, maar soms n...  \n",
       "4  @marutza_mh @albertheijn #Jumbo is selling bre...  \n",
       "\n",
       "[5 rows x 23 columns]"
      ]
     },
     "execution_count": 226,
     "metadata": {},
     "output_type": "execute_result"
    }
   ],
   "source": [
    "df_query_06 = processing_and_saving(pd.DataFrame(result_06),\"query_06\",mine_user_twitter=0)\n",
    "df_query_06.head()"
   ]
  },
  {
   "cell_type": "code",
   "execution_count": 227,
   "metadata": {},
   "outputs": [
    {
     "name": "stdout",
     "output_type": "stream",
     "text": [
      "<class 'pandas.core.frame.DataFrame'>\n",
      "RangeIndex: 6 entries, 0 to 5\n",
      "Data columns (total 23 columns):\n",
      " #   Column                   Non-Null Count  Dtype              \n",
      "---  ------                   --------------  -----              \n",
      " 0   mined_at                 6 non-null      datetime64[ns]     \n",
      " 1   created_at               6 non-null      datetime64[ns, UTC]\n",
      " 2   year                     6 non-null      int64              \n",
      " 3   month                    6 non-null      int64              \n",
      " 4   day                      6 non-null      int64              \n",
      " 5   day_of_week              6 non-null      int64              \n",
      " 6   hour                     6 non-null      int64              \n",
      " 7   minute                   6 non-null      int64              \n",
      " 8   tweet_id                 6 non-null      int64              \n",
      " 9   tweet_id_str             6 non-null      object             \n",
      " 10  in_reply_to_screen_name  1 non-null      object             \n",
      " 11  in_reply_to_status_id    1 non-null      float64            \n",
      " 12  in_reply_to_user_id      1 non-null      float64            \n",
      " 13  hashtags                 6 non-null      object             \n",
      " 14  source                   6 non-null      object             \n",
      " 15  language                 6 non-null      object             \n",
      " 16  screen_name              6 non-null      object             \n",
      " 17  user_tweet_id            6 non-null      int64              \n",
      " 18  user_tweet_id_str        6 non-null      object             \n",
      " 19  user_favourites_count    6 non-null      int64              \n",
      " 20  followers_count          6 non-null      int64              \n",
      " 21  friends_count            6 non-null      int64              \n",
      " 22  text                     6 non-null      object             \n",
      "dtypes: datetime64[ns, UTC](1), datetime64[ns](1), float64(2), int64(11), object(8)\n",
      "memory usage: 1.2+ KB\n"
     ]
    }
   ],
   "source": [
    "df_query_06.info()"
   ]
  },
  {
   "cell_type": "code",
   "execution_count": null,
   "metadata": {},
   "outputs": [],
   "source": []
  },
  {
   "cell_type": "markdown",
   "metadata": {},
   "source": [
    "REFS:\n",
    "\n",
    "> https://python-twitter.readthedocs.io/en/latest/index.html\n",
    "\n",
    "> https://developer.twitter.com/en/docs\n",
    "\n",
    "Info:\n",
    "\n",
    "1st corona case in The Netherlands: 27/02/2020\n",
    "\n",
    "1st corona case in Brazil: 26/02/2020\n"
   ]
  },
  {
   "cell_type": "markdown",
   "metadata": {},
   "source": [
    "**TODO**\n",
    "\n",
    "- Check functions to see if I have all I need.\n",
    "- Generalize as much as possible\n",
    "- Order infor per date (created_at?)\n",
    "- Should I have a function also for search?\n",
    "- Retrieve info for:\n",
    "    - jairbolsonaro\n",
    "    - picnic\n",
    "    - JumboSupermarkt\n",
    "    - albertheijn\n",
    "    - evanescence\n",
    "    - WTofficial\n",
    "    \n",
    "- Include in class `TweetMiner` a function to user `GetSearch`"
   ]
  },
  {
   "cell_type": "markdown",
   "metadata": {},
   "source": [
    "Using [`python-twitter`](https://python-twitter.readthedocs.io/en/latest/getting_started.html) since I've been facing some time out problems with [`Tweepy`](http://docs.tweepy.org/en/latest/getting_started.html)."
   ]
  },
  {
   "cell_type": "code",
   "execution_count": null,
   "metadata": {
    "scrolled": true
   },
   "outputs": [],
   "source": [
    "# !pip install python-twitter"
   ]
  },
  {
   "cell_type": "markdown",
   "metadata": {},
   "source": [
    "# Load packages"
   ]
  },
  {
   "cell_type": "markdown",
   "metadata": {},
   "source": [
    "# Setting up twitter authentication"
   ]
  },
  {
   "cell_type": "markdown",
   "metadata": {},
   "source": [
    "# Functions\n",
    "\n",
    "Function `mine_user_tweets` made use of [Get user_timeline](https://developer.twitter.com/en/docs/tweets/timelines/api-reference/get-statuses-user_timeline)\n"
   ]
  },
  {
   "cell_type": "code",
   "execution_count": null,
   "metadata": {
    "ExecuteTime": {
     "end_time": "2019-05-06T07:34:34.325020Z",
     "start_time": "2019-05-06T07:34:34.299182Z"
    }
   },
   "outputs": [],
   "source": [
    "import datetime\n",
    "#TweetMiner function from Mike Roman\n",
    "\n",
    "# some modification added by me - 15/04/19\n",
    "\n",
    "class TweetMiner(object):\n",
    "\n",
    "    \n",
    "    def __init__(self, api, result_limit = 20, max_pages = 40):\n",
    "        \"\"\"result_limit = count that can take max 200\"\"\"\n",
    "        \n",
    "        self.api = api        \n",
    "        self.result_limit = result_limit\n",
    "        self.max_pages = max_pages\n",
    "        \n",
    "\n",
    "    def mine_user_tweets(self, user, mine_retweets=False):\n",
    "        \"\"\" Mine tweets of user = screen_name or user_id\"\"\"\n",
    "\n",
    "        data           =  []\n",
    "        last_tweet_id  =  False\n",
    "        page           =  1\n",
    "        \n",
    "        while page <= self.max_pages:\n",
    "            \n",
    "            if last_tweet_id:\n",
    "                statuses   =   self.api.GetUserTimeline(screen_name=user, count=self.result_limit, max_id=last_tweet_id - 1, \n",
    "                                                        include_rts=mine_retweets)\n",
    "                statuses = [ _.AsDict() for _ in statuses]\n",
    "            else:\n",
    "                statuses   =   self.api.GetUserTimeline(screen_name=user, count=self.result_limit, include_rts=mine_retweets)\n",
    "                statuses = [_.AsDict() for _ in statuses]\n",
    "                \n",
    "            for item in statuses:\n",
    "                # Using try except here.\n",
    "                # When retweets = 0 we get an error (GetUserTimeline fails to create a key, 'retweet_count')\n",
    "                try:\n",
    "                    mined = {\n",
    "                        'tweet_id':        item['id'],\n",
    "                        'handle':          item['user']['screen_name'],\n",
    "                        'retweet_count':   item['retweet_count'],\n",
    "                        'text':            item['full_text'],\n",
    "                        'mined_at':        datetime.datetime.now(),\n",
    "                        'created_at':      item['created_at'],\n",
    "                        'favorite_count':  item['favorite_count'],\n",
    "                        'tweet_id_str':    item['id_str'],\n",
    "                        'source':          item['source'],\n",
    "                        \n",
    "                    }\n",
    "                    \n",
    "            \n",
    "                \n",
    "                except:\n",
    "                        mined = {\n",
    "                        'tweet_id':        item['id'],\n",
    "                        'handle':          item['user']['screen_name'],\n",
    "                        'retweet_count':   0,\n",
    "                        'text':            item['full_text'],\n",
    "                        'mined_at':        datetime.datetime.now(),\n",
    "                        'created_at':      item['created_at'],\n",
    "#                         'favorite_count':  item['favorite_count'],\n",
    "                        'tweet_id_str':    item['id_str'],\n",
    "                        'source':          item['source'],\n",
    "                    }\n",
    "                \n",
    "                last_tweet_id = item['id']\n",
    "                data.append(mined)\n",
    "                \n",
    "            page += 1\n",
    "            \n",
    "        return data"
   ]
  },
  {
   "cell_type": "code",
   "execution_count": null,
   "metadata": {
    "ExecuteTime": {
     "end_time": "2019-05-06T07:34:34.346271Z",
     "start_time": "2019-05-06T07:34:34.330962Z"
    }
   },
   "outputs": [],
   "source": [
    "def processing_and_saving(df, file_name):\n",
    "    \n",
    "    TodaysDate = time.strftime(\"%Y-%m-%d-%H-%M\")\n",
    "\n",
    "    \n",
    "    # Create columns 'year', 'month', 'day', 'hour', 'min' from 'created_at'\n",
    "    df['created_at'] = pd.to_datetime(df['created_at'])\n",
    "        \n",
    "    df['year'] = df['created_at'].dt.year \n",
    "    df['month'] = df['created_at'].dt.month \n",
    "    df['day'] = df['created_at'].dt.day \n",
    "    df['hour'] = df['created_at'].dt.hour \n",
    "    df['minute'] = df['created_at'].dt.minute\n",
    "    df['day_of_week'] = df['created_at'].dt.weekday\n",
    "    \n",
    "    df.sort_values(by='created_at',inplace = True)\n",
    "    \n",
    "    df = df[['mined_at', 'handle','tweet_id', 'tweet_id_str','created_at', \n",
    "             'year', 'month', 'day','day_of_week', 'hour', 'minute','retweet_count', 'source', 'text']]\n",
    "    \n",
    "    df.to_csv(\"./data_tweets/\"+file_name+\"_\"+TodaysDate+\".csv\", index = False)\n",
    "    \n",
    "    return df\n",
    "    \n",
    "    "
   ]
  },
  {
   "cell_type": "markdown",
   "metadata": {},
   "source": [
    "# Getting twitter by user"
   ]
  },
  {
   "cell_type": "markdown",
   "metadata": {},
   "source": [
    "## Instantiate the class\n",
    "---\n",
    "\n",
    "Make sure you pass the keys dictionary and the api as arguments.\n",
    "\n",
    "**Check:** call the object's `mine_user_tweets()` method, providing a user to pull the tweets of."
   ]
  },
  {
   "cell_type": "code",
   "execution_count": null,
   "metadata": {
    "ExecuteTime": {
     "end_time": "2019-05-06T07:34:35.015063Z",
     "start_time": "2019-05-06T07:34:35.009990Z"
    }
   },
   "outputs": [],
   "source": [
    "# Result limit == count parameter from our GetUserTimeline() it can take max 200\n",
    "# More pages more back in time you can go\n",
    "miner = TweetMiner(api, result_limit=20, max_pages = 200)"
   ]
  },
  {
   "cell_type": "code",
   "execution_count": null,
   "metadata": {
    "scrolled": false
   },
   "outputs": [],
   "source": [
    "jairbolsonaro = miner.mine_user_tweets(user=\"jairbolsonaro\")"
   ]
  },
  {
   "cell_type": "code",
   "execution_count": null,
   "metadata": {},
   "outputs": [],
   "source": [
    "for x in range(5):\n",
    "    print(jairbolsonaro[x]['text'])\n",
    "    print('--')"
   ]
  },
  {
   "cell_type": "markdown",
   "metadata": {},
   "source": [
    "## Convert the tweet ouputs to a pandas DataFrame\n",
    "### jairbolsonaro"
   ]
  },
  {
   "cell_type": "code",
   "execution_count": null,
   "metadata": {},
   "outputs": [],
   "source": [
    "jairbolsonaro"
   ]
  },
  {
   "cell_type": "code",
   "execution_count": null,
   "metadata": {},
   "outputs": [],
   "source": [
    "df_bolsonaro = processing_and_saving(pd.DataFrame(jairbolsonaro), 'jairbolsonaro')"
   ]
  },
  {
   "cell_type": "code",
   "execution_count": null,
   "metadata": {},
   "outputs": [],
   "source": [
    "df_bolsonaro.head()"
   ]
  },
  {
   "cell_type": "code",
   "execution_count": null,
   "metadata": {},
   "outputs": [],
   "source": [
    "df_bolsonaro.info()"
   ]
  },
  {
   "cell_type": "code",
   "execution_count": null,
   "metadata": {},
   "outputs": [],
   "source": [
    "min(df_bolsonaro.created_at),max(df_bolsonaro.created_at)"
   ]
  },
  {
   "cell_type": "code",
   "execution_count": null,
   "metadata": {},
   "outputs": [],
   "source": [
    "df_bolsonaro.sort_values(by='created_at')"
   ]
  },
  {
   "cell_type": "markdown",
   "metadata": {},
   "source": [
    "### picnic"
   ]
  },
  {
   "cell_type": "code",
   "execution_count": null,
   "metadata": {},
   "outputs": [],
   "source": [
    "# Result limit == count parameter from our GetUserTimeline() it can take max 200\n",
    "# More pages more back in time you can go\n",
    "miner = TweetMiner(api, result_limit=20, max_pages = 100)\n",
    "picnic = miner.mine_user_tweets(user=\"picnic\")\n",
    "df_picnic = processing_and_saving(pd.DataFrame(picnic), \"picnic\")\n"
   ]
  },
  {
   "cell_type": "code",
   "execution_count": null,
   "metadata": {},
   "outputs": [],
   "source": [
    "df_picnic.info()"
   ]
  },
  {
   "cell_type": "code",
   "execution_count": null,
   "metadata": {},
   "outputs": [],
   "source": [
    "min(df_picnic.created_at),max(df_picnic.created_at)"
   ]
  },
  {
   "cell_type": "markdown",
   "metadata": {},
   "source": [
    "### JumboSupermarkt"
   ]
  },
  {
   "cell_type": "code",
   "execution_count": null,
   "metadata": {
    "scrolled": false
   },
   "outputs": [],
   "source": [
    "# Result limit == count parameter from our GetUserTimeline() it can take max 200\n",
    "# More pages more back in time you can go\n",
    "miner = TweetMiner(api, result_limit=20, max_pages = 200)\n",
    "JumboSupermarkt = miner.mine_user_tweets(user=\"JumboSupermarkt\")\n",
    "df_JumboSupermarkt = processing_and_saving(pd.DataFrame(JumboSupermarkt), \"JumboSupermarkt\")\n"
   ]
  },
  {
   "cell_type": "code",
   "execution_count": null,
   "metadata": {},
   "outputs": [],
   "source": [
    "df_JumboSupermarkt.info()"
   ]
  },
  {
   "cell_type": "code",
   "execution_count": null,
   "metadata": {},
   "outputs": [],
   "source": [
    "min(df_JumboSupermarkt.created_at),max(df_JumboSupermarkt.created_at)"
   ]
  },
  {
   "cell_type": "markdown",
   "metadata": {},
   "source": [
    "### albertheijn"
   ]
  },
  {
   "cell_type": "code",
   "execution_count": null,
   "metadata": {},
   "outputs": [],
   "source": [
    "# Result limit == count parameter from our GetUserTimeline() it can take max 200\n",
    "# More pages more back in time you can go\n",
    "miner = TweetMiner(api, result_limit=20, max_pages = 300)\n",
    "albertheijn = miner.mine_user_tweets(user=\"albertheijn\")\n",
    "df_albertheijn = processing_and_saving(pd.DataFrame(albertheijn), \"albertheijn\")\n"
   ]
  },
  {
   "cell_type": "code",
   "execution_count": null,
   "metadata": {},
   "outputs": [],
   "source": [
    "df_albertheijn.info()"
   ]
  },
  {
   "cell_type": "code",
   "execution_count": null,
   "metadata": {},
   "outputs": [],
   "source": [
    "min(df_albertheijn.created_at),max(df_albertheijn.created_at)"
   ]
  },
  {
   "cell_type": "markdown",
   "metadata": {},
   "source": [
    "### evanescence"
   ]
  },
  {
   "cell_type": "code",
   "execution_count": null,
   "metadata": {},
   "outputs": [],
   "source": [
    "# Result limit == count parameter from our GetUserTimeline() it can take max 200\n",
    "# More pages more back in time you can go\n",
    "miner = TweetMiner(api, result_limit=20, max_pages = 300)\n",
    "evanescence = miner.mine_user_tweets(user=\"evanescence\")\n",
    "df_evanescence = processing_and_saving(pd.DataFrame(evanescence), \"evanescence\")\n"
   ]
  },
  {
   "cell_type": "code",
   "execution_count": null,
   "metadata": {},
   "outputs": [],
   "source": [
    "df_evanescence.info()"
   ]
  },
  {
   "cell_type": "code",
   "execution_count": null,
   "metadata": {
    "scrolled": true
   },
   "outputs": [],
   "source": [
    "min(df_evanescence.created_at),max(df_evanescence.created_at)"
   ]
  },
  {
   "cell_type": "code",
   "execution_count": null,
   "metadata": {},
   "outputs": [],
   "source": [
    "df_evanescence.tail()"
   ]
  },
  {
   "cell_type": "markdown",
   "metadata": {},
   "source": [
    "### Within Temptation - WTofficial"
   ]
  },
  {
   "cell_type": "code",
   "execution_count": null,
   "metadata": {},
   "outputs": [],
   "source": [
    "# Result limit == count parameter from our GetUserTimeline() it can take max 200\n",
    "# More pages more back in time you can go\n",
    "miner = TweetMiner(api, result_limit=20, max_pages = 300)\n",
    "WTofficial = miner.mine_user_tweets(user=\"WTofficial\")\n",
    "df_WTofficial = processing_and_saving(pd.DataFrame(WTofficial), \"WTofficial\")\n"
   ]
  },
  {
   "cell_type": "code",
   "execution_count": null,
   "metadata": {},
   "outputs": [],
   "source": [
    "df_WTofficial.info()"
   ]
  },
  {
   "cell_type": "code",
   "execution_count": null,
   "metadata": {},
   "outputs": [],
   "source": [
    "min(df_WTofficial.created_at),max(df_WTofficial.created_at)"
   ]
  },
  {
   "cell_type": "markdown",
   "metadata": {},
   "source": [
    "# Experimenting with GetSearch"
   ]
  },
  {
   "cell_type": "code",
   "execution_count": null,
   "metadata": {},
   "outputs": [],
   "source": [
    "def search_tweets(max_pages = 20, count = 20, raw_query = None, result_type = 'mixed'):\n",
    "        \"\"\" Search tweets \"\"\"\n",
    "\n",
    "        data           =  []\n",
    "        last_tweet_id  =  False\n",
    "        page           =  1\n",
    "        \n",
    "        while page <= max_pages:\n",
    "            \n",
    "            if last_tweet_id:\n",
    "                statuses = api.GetSearch(raw_query=raw_query, count = count, result_type=result_type, max_id=last_tweet_id - 1)\n",
    "                statuses = [ _.AsDict() for _ in statuses]\n",
    "            else:\n",
    "                statuses = api.GetSearch(raw_query=raw_query, count = count, result_type=result_type)\n",
    "                statuses = [_.AsDict() for _ in statuses]\n",
    "                \n",
    "            for item in statuses:\n",
    "                # Using try except here.\n",
    "                # When retweets = 0 we get an error (GetUserTimeline fails to create a key, 'retweet_count')\n",
    "                try:\n",
    "                    mined = {\n",
    "                        'tweet_id':        item['id'],\n",
    "                        'handle':          item['user']['screen_name'],\n",
    "                        'retweet_count':   item['retweet_count'],\n",
    "                        'text':            item['full_text'],\n",
    "                        'mined_at':        datetime.datetime.now(),\n",
    "                        'created_at':      item['created_at'],\n",
    "                        'favorite_count':  item['favorite_count'],\n",
    "                        'tweet_id_str':    item['id_str'],\n",
    "                        'source':          item['source'],\n",
    "                        \n",
    "                    }\n",
    "                    \n",
    "            \n",
    "                \n",
    "                except:\n",
    "                        mined = {\n",
    "                        'tweet_id':        item['id'],\n",
    "                        'handle':          item['user']['screen_name'],\n",
    "                        'retweet_count':   0,\n",
    "                        'text':            item['full_text'],\n",
    "                        'mined_at':        datetime.datetime.now(),\n",
    "                        'created_at':      item['created_at'],\n",
    "#                         'favorite_count':  item['favorite_count'],\n",
    "                        'tweet_id_str':    item['id_str'],\n",
    "                        'source':          item['source'],\n",
    "                    }\n",
    "                \n",
    "                last_tweet_id = item['id']\n",
    "                data.append(mined)\n",
    "                \n",
    "            page += 1\n",
    "            \n",
    "        return data"
   ]
  },
  {
   "cell_type": "code",
   "execution_count": null,
   "metadata": {},
   "outputs": [],
   "source": [
    "raw_query=\"q=jairbolsonaro%2C%20corona%2C%20covid&src=typed_query\"\n",
    "results = search_tweets(max_pages = 15, count = 20, raw_query = raw_query, result_type = 'mixed')"
   ]
  },
  {
   "cell_type": "code",
   "execution_count": null,
   "metadata": {},
   "outputs": [],
   "source": [
    "len(results)"
   ]
  },
  {
   "cell_type": "code",
   "execution_count": null,
   "metadata": {
    "scrolled": true
   },
   "outputs": [],
   "source": [
    "results[0]"
   ]
  },
  {
   "cell_type": "code",
   "execution_count": null,
   "metadata": {},
   "outputs": [],
   "source": [
    "df_search_bolsonaro_corona = processing_and_saving(pd.DataFrame(results),\"search_bolsonaro_corona\")"
   ]
  },
  {
   "cell_type": "code",
   "execution_count": null,
   "metadata": {},
   "outputs": [],
   "source": [
    "df_search_bolsonaro_corona.tail()"
   ]
  },
  {
   "cell_type": "code",
   "execution_count": null,
   "metadata": {},
   "outputs": [],
   "source": [
    "df_search_bolsonaro_corona.info()"
   ]
  },
  {
   "cell_type": "code",
   "execution_count": null,
   "metadata": {},
   "outputs": [],
   "source": [
    "results = api.GetSearch(raw_query=\"q=picnic\", count = 100, result_type='popular')"
   ]
  },
  {
   "cell_type": "code",
   "execution_count": null,
   "metadata": {},
   "outputs": [],
   "source": [
    "results"
   ]
  },
  {
   "cell_type": "code",
   "execution_count": null,
   "metadata": {},
   "outputs": [],
   "source": [
    "raw_query = \"q=picnic%20jumbo%20ah%20delivery&src=typed_query\"\n",
    "\n",
    "picnic_ah_jumbo_search = search_tweets(max_pages = 1, count = 5, raw_query = raw_query, result_type = 'mixed')\n",
    "picnic_ah_jumbo_search"
   ]
  },
  {
   "cell_type": "code",
   "execution_count": null,
   "metadata": {},
   "outputs": [],
   "source": [
    "df_picnic_ah_jumbo_search = processing_and_saving(pd.DataFrame(picnic_ah_jumbo_search),\"picnic_ah_jumbo_search\")"
   ]
  },
  {
   "cell_type": "code",
   "execution_count": null,
   "metadata": {},
   "outputs": [],
   "source": [
    "df_picnic_ah_jumbo_search"
   ]
  },
  {
   "cell_type": "code",
   "execution_count": null,
   "metadata": {},
   "outputs": [],
   "source": []
  }
 ],
 "metadata": {
  "hide_input": false,
  "kernelspec": {
   "display_name": "Python 3",
   "language": "python",
   "name": "python3"
  },
  "language_info": {
   "codemirror_mode": {
    "name": "ipython",
    "version": 3
   },
   "file_extension": ".py",
   "mimetype": "text/x-python",
   "name": "python",
   "nbconvert_exporter": "python",
   "pygments_lexer": "ipython3",
   "version": "3.6.7"
  },
  "toc": {
   "base_numbering": 1,
   "nav_menu": {},
   "number_sections": true,
   "sideBar": true,
   "skip_h1_title": false,
   "title_cell": "Table of Contents",
   "title_sidebar": "Contents",
   "toc_cell": false,
   "toc_position": {
    "height": "calc(100% - 180px)",
    "left": "10px",
    "top": "150px",
    "width": "307.2px"
   },
   "toc_section_display": true,
   "toc_window_display": true
  },
  "varInspector": {
   "cols": {
    "lenName": 16,
    "lenType": 16,
    "lenVar": 40
   },
   "kernels_config": {
    "python": {
     "delete_cmd_postfix": "",
     "delete_cmd_prefix": "del ",
     "library": "var_list.py",
     "varRefreshCmd": "print(var_dic_list())"
    },
    "r": {
     "delete_cmd_postfix": ") ",
     "delete_cmd_prefix": "rm(",
     "library": "var_list.r",
     "varRefreshCmd": "cat(var_dic_list()) "
    }
   },
   "types_to_exclude": [
    "module",
    "function",
    "builtin_function_or_method",
    "instance",
    "_Feature"
   ],
   "window_display": false
  }
 },
 "nbformat": 4,
 "nbformat_minor": 2
}
