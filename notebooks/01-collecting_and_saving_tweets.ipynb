{
 "cells": [
  {
   "cell_type": "markdown",
   "metadata": {
    "toc": true
   },
   "source": [
    "<h1>Table of Contents<span class=\"tocSkip\"></span></h1>\n",
    "<div class=\"toc\"><ul class=\"toc-item\"><li><span><a href=\"#Load-packages\" data-toc-modified-id=\"Load-packages-1\"><span class=\"toc-item-num\">1&nbsp;&nbsp;</span>Load packages</a></span></li><li><span><a href=\"#Seeting-up-twitter-authentication\" data-toc-modified-id=\"Seeting-up-twitter-authentication-2\"><span class=\"toc-item-num\">2&nbsp;&nbsp;</span>Seeting up twitter authentication</a></span></li><li><span><a href=\"#Getting-some-Tweets\" data-toc-modified-id=\"Getting-some-Tweets-3\"><span class=\"toc-item-num\">3&nbsp;&nbsp;</span>Getting some Tweets</a></span><ul class=\"toc-item\"><li><span><a href=\"#Getting-twitter-by-user\" data-toc-modified-id=\"Getting-twitter-by-user-3.1\"><span class=\"toc-item-num\">3.1&nbsp;&nbsp;</span>Getting twitter by user</a></span><ul class=\"toc-item\"><li><span><a href=\"#@picnic\" data-toc-modified-id=\"@picnic-3.1.1\"><span class=\"toc-item-num\">3.1.1&nbsp;&nbsp;</span>@picnic</a></span></li><li><span><a href=\"#@JumboSupermarkt\" data-toc-modified-id=\"@JumboSupermarkt-3.1.2\"><span class=\"toc-item-num\">3.1.2&nbsp;&nbsp;</span>@JumboSupermarkt</a></span></li><li><span><a href=\"#@albertheijn\" data-toc-modified-id=\"@albertheijn-3.1.3\"><span class=\"toc-item-num\">3.1.3&nbsp;&nbsp;</span>@albertheijn</a></span></li></ul></li><li><span><a href=\"#Applying-GetSearch-to-search-for-a-defined-query\" data-toc-modified-id=\"Applying-GetSearch-to-search-for-a-defined-query-3.2\"><span class=\"toc-item-num\">3.2&nbsp;&nbsp;</span>Applying GetSearch to search for a defined query</a></span><ul class=\"toc-item\"><li><span><a href=\"#Query_01:\" data-toc-modified-id=\"Query_01:-3.2.1\"><span class=\"toc-item-num\">3.2.1&nbsp;&nbsp;</span>Query_01:</a></span></li><li><span><a href=\"#Query_02:\" data-toc-modified-id=\"Query_02:-3.2.2\"><span class=\"toc-item-num\">3.2.2&nbsp;&nbsp;</span>Query_02:</a></span></li><li><span><a href=\"#Query_03:\" data-toc-modified-id=\"Query_03:-3.2.3\"><span class=\"toc-item-num\">3.2.3&nbsp;&nbsp;</span>Query_03:</a></span></li><li><span><a href=\"#Query_04:\" data-toc-modified-id=\"Query_04:-3.2.4\"><span class=\"toc-item-num\">3.2.4&nbsp;&nbsp;</span>Query_04:</a></span></li><li><span><a href=\"#Query_04B:\" data-toc-modified-id=\"Query_04B:-3.2.5\"><span class=\"toc-item-num\">3.2.5&nbsp;&nbsp;</span>Query_04B:</a></span></li><li><span><a href=\"#Query_05:\" data-toc-modified-id=\"Query_05:-3.2.6\"><span class=\"toc-item-num\">3.2.6&nbsp;&nbsp;</span>Query_05:</a></span></li><li><span><a href=\"#Query_06:\" data-toc-modified-id=\"Query_06:-3.2.7\"><span class=\"toc-item-num\">3.2.7&nbsp;&nbsp;</span>Query_06:</a></span></li></ul></li></ul></li><li><span><a href=\"#Conclusions\" data-toc-modified-id=\"Conclusions-4\"><span class=\"toc-item-num\">4&nbsp;&nbsp;</span>Conclusions</a></span></li></ul></div>"
   ]
  },
  {
   "cell_type": "markdown",
   "metadata": {},
   "source": [
    "# Load packages\n"
   ]
  },
  {
   "cell_type": "markdown",
   "metadata": {},
   "source": [
    "**Attention**: `private_twitter_credentials.py` contains my Twitter credentials. Insert your Twitter credentials in `twitter_credentials.py`\n",
    "and replace `private_twitter_credentials` by `twitter_credentials` in this notebook.\n"
   ]
  },
  {
   "cell_type": "code",
   "execution_count": 1,
   "metadata": {},
   "outputs": [],
   "source": [
    "import private_twitter_credentials\n",
    "import twitter\n",
    "import datetime\n",
    "import pandas as pd\n",
    "import time\n",
    "\n",
    "TodaysDate = time.strftime(\"%Y-%m-%d-%H-%M\")"
   ]
  },
  {
   "cell_type": "markdown",
   "metadata": {},
   "source": [
    "# Seeting up twitter authentication\n",
    "\n",
    "I'll be using [`python-twitter`](https://python-twitter.readthedocs.io/en/latest/index.html) a python wrapper around the Twitter API."
   ]
  },
  {
   "cell_type": "code",
   "execution_count": 2,
   "metadata": {},
   "outputs": [],
   "source": [
    "consumer_key = private_twitter_credentials.consumer_key\n",
    "consumer_secret = private_twitter_credentials.consumer_secret\n",
    "access_token = private_twitter_credentials.access_token\n",
    "access_token_secret = private_twitter_credentials.access_token_secret\n",
    "\n",
    "api = twitter.Api(\n",
    "    consumer_key         =   consumer_key,\n",
    "    consumer_secret      =   consumer_secret,\n",
    "    access_token_key     =   access_token,\n",
    "    access_token_secret  =   access_token_secret,\n",
    "    tweet_mode = 'extended' # to ensure that we get the full text of the users' original tweets\n",
    ")"
   ]
  },
  {
   "cell_type": "markdown",
   "metadata": {},
   "source": [
    "# Getting some Tweets\n",
    "\n",
    "In this project we want to :\n",
    "\n",
    "* Access user timeline Tweets, i.e., apply `GetUserTimeline` method on object `api` created in last section\n",
    "* Access Tweets resulting from some query, i.e., apply `GetSearch` method on `api`.\n",
    "\n",
    "Consider we want to get some Tweets from `Picnic`, one of the Twitter's user will be considering in this project. The account’s Twitter handle of `Picnic` is `@picnic` and we will be using the argument `screen_name` as the handle without `@`."
   ]
  },
  {
   "cell_type": "code",
   "execution_count": 3,
   "metadata": {},
   "outputs": [],
   "source": [
    "# we will use for now `screen_name` and `count`. Count has limit of 200, i.e., we can only retrieve 200 tweets per call\n",
    "tweets_picnic = api.GetUserTimeline(screen_name='picnic', count = 200)\n",
    "\n",
    "# see all available info in a dictionary\n",
    "\n",
    "tweets_picnic = [ _.AsDict() for _ in tweets_picnic]"
   ]
  },
  {
   "cell_type": "markdown",
   "metadata": {},
   "source": [
    "Check the 1st one"
   ]
  },
  {
   "cell_type": "code",
   "execution_count": 4,
   "metadata": {},
   "outputs": [
    {
     "data": {
      "text/plain": [
       "{'created_at': 'Wed Jun 24 08:12:09 +0000 2020',\n",
       " 'full_text': '@Wouter_Kamp Door de coronacrisis stond de wachtlijst helaas even stil omdat we het zo druk hadden met bestellingen van onze huidige klanten. We doen hard ons best om het capaciteit te vergroten. Hopelijk kunnen we je snel verwelkomen! ^Mylène',\n",
       " 'hashtags': [],\n",
       " 'id': 1275703244707319808,\n",
       " 'id_str': '1275703244707319808',\n",
       " 'in_reply_to_screen_name': 'Wouter_Kamp',\n",
       " 'in_reply_to_status_id': 1275681281280487424,\n",
       " 'in_reply_to_user_id': 25038753,\n",
       " 'lang': 'nl',\n",
       " 'source': '<a href=\"https://mobile.twitter.com\" rel=\"nofollow\">Twitter Web App</a>',\n",
       " 'urls': [],\n",
       " 'user': {'created_at': 'Tue Dec 02 13:21:56 +0000 2014',\n",
       "  'description': 'Online supermarket Picnic delivers groceries free to your door with a 100% electric fleet, making online grocery shopping affordable for everyone',\n",
       "  'favourites_count': 3886,\n",
       "  'followers_count': 4841,\n",
       "  'friends_count': 5,\n",
       "  'id': 2902300475,\n",
       "  'id_str': '2902300475',\n",
       "  'listed_count': 26,\n",
       "  'name': 'Picnic',\n",
       "  'profile_background_color': '000000',\n",
       "  'profile_background_image_url': 'http://abs.twimg.com/images/themes/theme1/bg.png',\n",
       "  'profile_background_image_url_https': 'https://abs.twimg.com/images/themes/theme1/bg.png',\n",
       "  'profile_banner_url': 'https://pbs.twimg.com/profile_banners/2902300475/1452533616',\n",
       "  'profile_image_url': 'http://pbs.twimg.com/profile_images/990125237948813312/m7Ew9VUQ_normal.jpg',\n",
       "  'profile_image_url_https': 'https://pbs.twimg.com/profile_images/990125237948813312/m7Ew9VUQ_normal.jpg',\n",
       "  'profile_link_color': 'EC1D25',\n",
       "  'profile_sidebar_border_color': '000000',\n",
       "  'profile_sidebar_fill_color': '000000',\n",
       "  'profile_text_color': '000000',\n",
       "  'screen_name': 'picnic',\n",
       "  'statuses_count': 6866,\n",
       "  'url': 'https://t.co/ItjPo57xHu'},\n",
       " 'user_mentions': [{'id': 25038753,\n",
       "   'id_str': '25038753',\n",
       "   'name': 'Wouter Kamp',\n",
       "   'screen_name': 'Wouter_Kamp'}]}"
      ]
     },
     "execution_count": 4,
     "metadata": {},
     "output_type": "execute_result"
    }
   ],
   "source": [
    "tweets_picnic[0]"
   ]
  },
  {
   "cell_type": "markdown",
   "metadata": {},
   "source": [
    "Let's say that you want to search Tweets that mention AH and COVID-19. In thi case you use the method `GetSearch` using your query as argument. \n",
    "\n",
    "The easiest way to have the query right is going to [Twitter’s Advanced Search](https://twitter.com/search-advanced) and typing what you want to know. Then using as your `raw_query` the part of search URL after the \"?\" to use `raw_query`, removing the `&src=typd` portion.\n",
    "\n",
    "Let's try it out."
   ]
  },
  {
   "cell_type": "code",
   "execution_count": 17,
   "metadata": {},
   "outputs": [
    {
     "data": {
      "text/html": [
       "<img src =\"../images/search.JPG\", width=400, height=200>\n"
      ],
      "text/plain": [
       "<IPython.core.display.HTML object>"
      ]
     },
     "metadata": {},
     "output_type": "display_data"
    }
   ],
   "source": [
    "%%html\n",
    "<img src =\"../images/search.JPG\", width=400, height=200>"
   ]
  },
  {
   "cell_type": "markdown",
   "metadata": {},
   "source": [
    "The url obtained was https://twitter.com/search?q=%40albertheijn%20covid-19&src=typed_query therefore I will use `raw_query = q=%40albertheijn%20covid-19`."
   ]
  },
  {
   "cell_type": "code",
   "execution_count": 18,
   "metadata": {},
   "outputs": [],
   "source": [
    "search_result = api.GetSearch(raw_query='q=%40albertheijn%20covid-19')\n",
    "search_result = [ _.AsDict() for _ in search_result]"
   ]
  },
  {
   "cell_type": "code",
   "execution_count": 21,
   "metadata": {},
   "outputs": [
    {
     "name": "stdout",
     "output_type": "stream",
     "text": [
      "Result of the results with the last 7 days: 3\n"
     ]
    }
   ],
   "source": [
    "print('Result of the results with the last 7 days:', len(search_result))"
   ]
  },
  {
   "cell_type": "markdown",
   "metadata": {},
   "source": [
    "The results from `GetSearch` are limited to 7 days. In the last 7 days we got 3 Tweets that mentioned @albertheijn and covid-19. Details of the most recent is shown below:"
   ]
  },
  {
   "cell_type": "code",
   "execution_count": 22,
   "metadata": {},
   "outputs": [
    {
     "data": {
      "text/plain": [
       "{'created_at': 'Mon Jun 22 17:22:09 +0000 2020',\n",
       " 'full_text': 'Steeds meer artikelen verdwijnen uit het online assortiment bij \\u2066@albertheijn\\u2069. Ben benieuwd of er een alternatief komt. Zo niet: zit je dan met je jaarabonnement bezorgen. Wie is het haasje? Mensen die tot de risicogroep behoren mbt covid-19. https://t.co/5LDBwwfjJZ',\n",
       " 'hashtags': [],\n",
       " 'id': 1275116878566916096,\n",
       " 'id_str': '1275116878566916096',\n",
       " 'lang': 'nl',\n",
       " 'media': [{'display_url': 'pic.twitter.com/5LDBwwfjJZ',\n",
       "   'expanded_url': 'https://twitter.com/Belleblabla/status/1275116878566916096/photo/1',\n",
       "   'id': 1275116874578243589,\n",
       "   'media_url': 'http://pbs.twimg.com/media/EbIgCqRXsAUMyw-.jpg',\n",
       "   'media_url_https': 'https://pbs.twimg.com/media/EbIgCqRXsAUMyw-.jpg',\n",
       "   'sizes': {'thumb': {'w': 150, 'h': 150, 'resize': 'crop'},\n",
       "    'small': {'w': 680, 'h': 163, 'resize': 'fit'},\n",
       "    'medium': {'w': 1063, 'h': 255, 'resize': 'fit'},\n",
       "    'large': {'w': 1063, 'h': 255, 'resize': 'fit'}},\n",
       "   'type': 'photo',\n",
       "   'url': 'https://t.co/5LDBwwfjJZ'}],\n",
       " 'source': '<a href=\"http://twitter.com/#!/download/ipad\" rel=\"nofollow\">Twitter for iPad</a>',\n",
       " 'urls': [],\n",
       " 'user': {'created_at': 'Sat Apr 18 10:39:39 +0000 2009',\n",
       "  'description': \"WARNING! Posts may contain irony. Discontinue reading if you're experiencing elevated blood pressure. Bikepacking, Sims F./WoW, SvdJ, O365, Gen. X.\",\n",
       "  'favourites_count': 4234,\n",
       "  'followers_count': 632,\n",
       "  'friends_count': 344,\n",
       "  'id': 32850416,\n",
       "  'id_str': '32850416',\n",
       "  'listed_count': 35,\n",
       "  'location': 'Azeroth',\n",
       "  'name': 'Belle P. te A.',\n",
       "  'profile_background_color': '1A1B1F',\n",
       "  'profile_background_image_url': 'http://abs.twimg.com/images/themes/theme9/bg.gif',\n",
       "  'profile_background_image_url_https': 'https://abs.twimg.com/images/themes/theme9/bg.gif',\n",
       "  'profile_banner_url': 'https://pbs.twimg.com/profile_banners/32850416/1564558139',\n",
       "  'profile_image_url': 'http://pbs.twimg.com/profile_images/1250787852641845249/8dCrByJO_normal.jpg',\n",
       "  'profile_image_url_https': 'https://pbs.twimg.com/profile_images/1250787852641845249/8dCrByJO_normal.jpg',\n",
       "  'profile_link_color': 'CC0000',\n",
       "  'profile_sidebar_border_color': 'FFFFFF',\n",
       "  'profile_sidebar_fill_color': '252429',\n",
       "  'profile_text_color': '666666',\n",
       "  'profile_use_background_image': True,\n",
       "  'screen_name': 'Belleblabla',\n",
       "  'statuses_count': 33076,\n",
       "  'url': 'https://t.co/W5DahlBOAc'},\n",
       " 'user_mentions': [{'id': 279015870,\n",
       "   'id_str': '279015870',\n",
       "   'name': 'Albert Heijn',\n",
       "   'screen_name': 'albertheijn'}]}"
      ]
     },
     "execution_count": 22,
     "metadata": {},
     "output_type": "execute_result"
    }
   ],
   "source": [
    "search_result[0]"
   ]
  },
  {
   "cell_type": "markdown",
   "metadata": {},
   "source": [
    "When retrieving Tweets from user timeline Twitter API limites us to 200 Tweets at a time, and from search to 100 tweets. This is the parameter `count` from both methods, `GetUserTimeline` and `GetSearch`.\n",
    "\n",
    "Another constraint that we need to deal with is that the Twitter API is rate limited, meaning Twitter puts restrictions on how much data you can take at a time. More details about it [here](https://developer.twitter.com/en/docs/basics/rate-limiting#:~:text=Rate%20limiting%20of%20the%20standard,per%20window%20per%20access%20token.).\n",
    "\n",
    "Because I want to retrieve much more than 200 Tweets (if possible) I'll write a class with two methods.\n",
    "\n",
    "Class `TweetMiner` contains two methods: \n",
    "\n",
    "* `mine_user_tweets` which mine user's tweets making use of [GetUserTimeline](https://developer.twitter.com/en/docs/tweets/timelines/api-reference/get-statuses-user_timeline)\n",
    "\n",
    "* `search_tweets` which mine tweets using [GetSearch](https://developer.twitter.com/en/docs/tweets/search/api-reference/get-search-tweets)\n",
    "\n",
    "Details about both uses will be show respectively, in sections:\n",
    "\n",
    "[Getting twitter by user](#Getting-twitter-by-user)\n",
    "\n",
    "[Applying GetSearch to search for a defined query](#Applying-GetSearch-to-search-for-a-defined-query)\n"
   ]
  },
  {
   "cell_type": "code",
   "execution_count": 51,
   "metadata": {
    "ExecuteTime": {
     "end_time": "2019-05-06T07:34:34.325020Z",
     "start_time": "2019-05-06T07:34:34.299182Z"
    }
   },
   "outputs": [],
   "source": [
    "import datetime\n",
    "\n",
    "class TweetMiner(object):\n",
    "    \"\"\" Make possible obtaining tweets using twitter user id (mine_user_tweets) or performing a standard Twitter \n",
    "    API search (search_tweets)\"\"\"\n",
    "\n",
    "    \n",
    "    def __init__(self, api, result_limit = 20, max_pages = 40):\n",
    "        \"\"\"result_limit = count that can take max 200 (mine_user_tweets) and max 100 (search_tweets)\"\"\"\n",
    "        \n",
    "        self.api = api        \n",
    "        self.result_limit = result_limit\n",
    "        self.max_pages = max_pages\n",
    "        \n",
    "\n",
    "    def mine_user_tweets(self, user, mine_retweets=False):\n",
    "        \"\"\" Mine tweets of user = screen_name or user_id\"\"\"\n",
    "\n",
    "        data           =  []\n",
    "        last_tweet_id  =  False\n",
    "        page           =  1\n",
    "        \n",
    "        while page <= self.max_pages:\n",
    "            \n",
    "            if last_tweet_id:\n",
    "                statuses   =   self.api.GetUserTimeline(screen_name=user, count=self.result_limit, max_id=last_tweet_id - 1, \n",
    "                                                        include_rts=mine_retweets)\n",
    "                statuses = [ _.AsDict() for _ in statuses]\n",
    "            else:\n",
    "                statuses   =   self.api.GetUserTimeline(screen_name=user, count=self.result_limit, \n",
    "                                                        include_rts=mine_retweets)\n",
    "                statuses = [_.AsDict() for _ in statuses]\n",
    "                \n",
    "            for item in statuses:\n",
    "                # Using try except here.\n",
    "                # When retweets = 0 we get an error (GetUserTimeline fails to create a key, 'retweet_count')\n",
    "                try:\n",
    "                    mined = {\n",
    "                        'mined_at':         datetime.datetime.now(),\n",
    "                        'created_at':       item['created_at'],\n",
    "                        'tweet_id':         item['id'],\n",
    "                        'tweet_id_str':     item['id_str'],\n",
    "                        'screen_name':      item['user']['screen_name'],\n",
    "                        'favorite_count':   item['favorite_count'],\n",
    "                        'text':             item['full_text'],\n",
    "                        'source':           item['source'],\n",
    "                        'hashtags':         item['hashtags'],\n",
    "                        'urls':             item['urls'],\n",
    "                        'language':         item['lang'],\n",
    "                        'retweet_count':    item['retweet_count'],\n",
    "                        #user info\n",
    "                        'user_favourites_count': item['user']['favourites_count'],\n",
    "                        'followers_count':  item['user']['followers_count'],\n",
    "                        'friends_count':    item['user']['friends_count']\n",
    "                    }\n",
    "            \n",
    "                \n",
    "                except:\n",
    "                    mined = {\n",
    "                        'mined_at':         datetime.datetime.now(),\n",
    "                        'created_at':       item['created_at'],\n",
    "                        'tweet_id':         item['id'],\n",
    "                        'tweet_id_str':     item['id_str'],\n",
    "                        'screen_name':      item['user']['screen_name'],\n",
    "#                         'favorite_count':   item['favorite_count'],\n",
    "                        'text':             item['full_text'],\n",
    "                        'source':           item['source'],\n",
    "                        'hashtags':         item['hashtags'],\n",
    "                        'urls':             item['urls'],\n",
    "                        'language':         item['lang'],\n",
    "                        'retweet_count':    0,\n",
    "                        # user info\n",
    "                        'user_favourites_count': item['user']['favourites_count'],\n",
    "                        'followers_count':  item['user']['followers_count'],\n",
    "                        'friends_count':    item['user']['friends_count']\n",
    "                        }\n",
    "                \n",
    "                last_tweet_id = item['id']\n",
    "                data.append(mined)\n",
    "                \n",
    "            page += 1\n",
    "            \n",
    "        return data\n",
    "    \n",
    "    def search_tweets(max_pages = 20, count = 20, raw_query = None, result_type = 'mixed'):\n",
    "        \"\"\" Search tweets \"\"\"\n",
    "\n",
    "        data           =  []\n",
    "        last_tweet_id  =  False\n",
    "        page           =  1\n",
    "        \n",
    "        while page <= max_pages:\n",
    "            \n",
    "            if last_tweet_id:\n",
    "                statuses = api.GetSearch(raw_query=raw_query, count = count, result_type=result_type, \n",
    "                                         max_id=last_tweet_id - 1)\n",
    "                statuses = [ _.AsDict() for _ in statuses]\n",
    "            else:\n",
    "                statuses = api.GetSearch(raw_query=raw_query, count = count, result_type=result_type)\n",
    "                statuses = [_.AsDict() for _ in statuses]\n",
    "                \n",
    "            for item in statuses:\n",
    "                # Using try except here.\n",
    "                try:\n",
    "                    mined = {\n",
    "                        'mined_at':                datetime.datetime.now(),\n",
    "                        'created_at':              item['created_at'],\n",
    "                        'tweet_id':                item['id'],\n",
    "                        'tweet_id_str':            item['id_str'],\n",
    "                        'in_reply_to_screen_name': item['in_reply_to_screen_name'],\n",
    "                        'in_reply_to_status_id':   item['in_reply_to_status_id'],\n",
    "                        'in_reply_to_user_id':     item['in_reply_to_user_id'],\n",
    "                        'language':                item['lang'],\n",
    "                        'text':                    item['full_text'],\n",
    "                        'hashtags':                item['hashtags'],\n",
    "                        'source':                  item['source'],\n",
    "                       # info about user\n",
    "                        'user_id':                 item['user']['id'],\n",
    "                        'user_screen_name':        item['user']['screen_name'],\n",
    "                        'user_location':           item['user']['location'],\n",
    "                        'user_favourites_count':   item['user']['favourites_count'],\n",
    "                        'followers_count':         item['user']['followers_count'],\n",
    "                        'friends_count':           item['user']['friends_count']\n",
    "                    }\n",
    "                    \n",
    "                except:\n",
    "                    mined = {\n",
    "                        'mined_at':                datetime.datetime.now(),\n",
    "                        'created_at':              item['created_at'],\n",
    "                        'tweet_id':                item['id'],\n",
    "                        'tweet_id_str':            item['id_str'],\n",
    "#                         'in_reply_to_screen_name': item['in_reply_to_screen_name'],\n",
    "#                         'in_reply_to_status_id':   item['in_reply_to_status_id'],\n",
    "#                         'in_reply_to_user_id':     item['in_reply_to_user_id'],\n",
    "                        'language':                item['lang'],\n",
    "                        'text':                    item['full_text'],\n",
    "                        'hashtags':                item['hashtags'],\n",
    "                        'source':                  item['source'],\n",
    "                       # info about user\n",
    "                        'user_id':                 item['user']['id'],\n",
    "                        'user_screen_name':        item['user']['screen_name'],\n",
    "                        'user_location':           item['user']['location'],\n",
    "#                         'user_favourites_count':   item['user']['favourites_count'],\n",
    "                        'followers_count':         item['user']['followers_count'],\n",
    "                        'friends_count':           item['user']['friends_count']\n",
    "                    }\n",
    "                                            \n",
    "                \n",
    "                last_tweet_id = item['id']\n",
    "                data.append(mined)\n",
    "                \n",
    "            page += 1\n",
    "            \n",
    "        return data"
   ]
  },
  {
   "cell_type": "code",
   "execution_count": 6,
   "metadata": {
    "ExecuteTime": {
     "end_time": "2019-05-06T07:34:34.346271Z",
     "start_time": "2019-05-06T07:34:34.330962Z"
    }
   },
   "outputs": [],
   "source": [
    "def process_and_save(df, file_name, mine_user_twitter=1):\n",
    "    \"\"\" Save retrieved tweets in csv file.\n",
    "    \n",
    "    Input:\n",
    "    \n",
    "    df : dataframe of tweets'data\n",
    "    file_name: name with which the csv will be saved (without extension)\n",
    "    mine_user_twitter: Indicates if df came contains tweets from a twitter user (mine_user_twitter=1), i.e., it was \n",
    "    obtained using GetUserTimeline since the information obtained from this method is different from an API search \n",
    "    from GetSearch. Therefore, when using GetSearch (mine_user_twitter=0).\n",
    "    \n",
    "    \"\"\"\n",
    "    \n",
    "    TodaysDate = time.strftime(\"%Y-%m-%d-%H-%M\")\n",
    "\n",
    "    \n",
    "    # Create columns 'year', 'month', 'day', 'hour', 'min' from 'created_at'\n",
    "    df['created_at'] = pd.to_datetime(df['created_at'])\n",
    "        \n",
    "    df['year'] = df['created_at'].dt.year \n",
    "    df['month'] = df['created_at'].dt.month \n",
    "    df['day'] = df['created_at'].dt.day \n",
    "    df['hour'] = df['created_at'].dt.hour \n",
    "    df['minute'] = df['created_at'].dt.minute\n",
    "    df['day_of_week'] = df['created_at'].dt.weekday\n",
    "    \n",
    "    if mine_user_twitter:\n",
    "    \n",
    "        df = df[['mined_at', 'created_at', 'year', 'month', 'day','day_of_week', \n",
    "             'hour', 'minute', 'screen_name', 'tweet_id', 'tweet_id_str',  'retweet_count', 'favorite_count', 'source', 'language', 'user_favourites_count', \n",
    "             'followers_count','friends_count','text']]\n",
    "    else:\n",
    "        df = df[['mined_at','created_at', 'year', 'month', 'day','day_of_week', \n",
    "                 'hour', 'minute', 'tweet_id', 'tweet_id_str', 'in_reply_to_screen_name','in_reply_to_status_id',\n",
    "                 'in_reply_to_user_id', 'hashtags','source','language', 'screen_name','user_tweet_id','user_tweet_id_str','user_favourites_count','followers_count',\n",
    "                 'friends_count', 'text']]\n",
    "        \n",
    "    df.sort_values(by='created_at',inplace = True)\n",
    "    \n",
    "    # the normal use of drop_duplicates raise typeerror unhashable type 'list' so I needed to adapt using str\n",
    "    # as pointed out in https://stackoverflow.com/questions/43855462/pandas-drop-duplicates-method-not-working?rq=1\n",
    "    \n",
    "    df = df.loc[df.astype(str).drop_duplicates(subset=['created_at','tweet_id','text']).index]\n",
    "    df.reset_index(drop = True, inplace = True)\n",
    "    \n",
    "    \n",
    "    df.to_csv(\"../data/tweets/\"+file_name+\"_\"+TodaysDate+\".csv\", index = False)\n",
    "    \n",
    "    return df\n",
    "    \n",
    "    "
   ]
  },
  {
   "cell_type": "markdown",
   "metadata": {},
   "source": [
    "Now that we have our class to retrieve Tweets and our function to save the result in .csv let's collect data.\n",
    "\n",
    "The goal of this project is to check the sentiment of users towards the (online) supermarkets , i.e., Jumbo Supermarkten, AH, and Picnic, especially after COVID-19 entered our lives. The first two are supermarkets chains that also provide online grocery shopping while the last one is exclusively online supermarket.\n",
    "\n",
    "Everything changed since the first case of corona virus in The Netherlands (February 27th) and the way of shopping groceries suffered important changes, in particular, considering the sudden and significant increase the number of users that opted for online grocery shopping. Supermarkets were not ready for such an explosion on demand, some adapted faster than others. Specially, `Picnic` that has the sole focus on online shopping.\n",
    "\n",
    "Some were completely not available to receive order while with orders the consumer should consider a planning of about 2 weeks until being able to receive his/her order. I have my own experiences but I want to access the sentiment of consumers via tweets messages over these 3 providers. In special, I want to focus in this period were COVID-19 is present.\n",
    "\n",
    "The idea is to get twitters covering the period from the 1st case until today both for info retrieved by user (`GetUserTimeline`) and by query (`GetSearch`).\n",
    "\n",
    "We need, however, to consider some limitations.\n",
    "First, it is difficult to have control on how far in the past we can go when retrieving user timeline data (using `TweetMiner. mine_user_tweets()`. So, we will play mainly with parameters `result_limit`, i.e., count and `max_pages`.\n",
    "\n",
    "Second, when performing search with API it is only possible to access Tweets of the last 7 days (more details [here](https://developer.twitter.com/en/docs/tweets/search/overview/standard)). So unfortunately, when performing queries, we will be limited and we will not be able to go back months ago.\n",
    "\n",
    "## Getting twitter by user\n",
    "\n",
    "To start we will obtain tweets for `picnic`, `JumboSupermarkt`, and `albertheijn`.\n",
    "\n",
    "### @picnic"
   ]
  },
  {
   "cell_type": "code",
   "execution_count": 11,
   "metadata": {},
   "outputs": [],
   "source": [
    "# Result limit == count parameter from our GetUserTimeline() it can take max 200\n",
    "# More pages more back in time you can go\n",
    "miner = TweetMiner(api, result_limit=200, max_pages = 20)\n",
    "picnic = miner.mine_user_tweets(user=\"picnic\")\n",
    "df_picnic = process_and_save(pd.DataFrame(picnic), \"picnic\")"
   ]
  },
  {
   "cell_type": "code",
   "execution_count": 12,
   "metadata": {},
   "outputs": [
    {
     "data": {
      "text/html": [
       "<div>\n",
       "<style scoped>\n",
       "    .dataframe tbody tr th:only-of-type {\n",
       "        vertical-align: middle;\n",
       "    }\n",
       "\n",
       "    .dataframe tbody tr th {\n",
       "        vertical-align: top;\n",
       "    }\n",
       "\n",
       "    .dataframe thead th {\n",
       "        text-align: right;\n",
       "    }\n",
       "</style>\n",
       "<table border=\"1\" class=\"dataframe\">\n",
       "  <thead>\n",
       "    <tr style=\"text-align: right;\">\n",
       "      <th></th>\n",
       "      <th>mined_at</th>\n",
       "      <th>created_at</th>\n",
       "      <th>year</th>\n",
       "      <th>month</th>\n",
       "      <th>day</th>\n",
       "      <th>day_of_week</th>\n",
       "      <th>hour</th>\n",
       "      <th>minute</th>\n",
       "      <th>screen_name</th>\n",
       "      <th>tweet_id</th>\n",
       "      <th>tweet_id_str</th>\n",
       "      <th>retweet_count</th>\n",
       "      <th>favorite_count</th>\n",
       "      <th>source</th>\n",
       "      <th>language</th>\n",
       "      <th>user_favourites_count</th>\n",
       "      <th>followers_count</th>\n",
       "      <th>friends_count</th>\n",
       "      <th>text</th>\n",
       "    </tr>\n",
       "  </thead>\n",
       "  <tbody>\n",
       "    <tr>\n",
       "      <th>3216</th>\n",
       "      <td>2020-06-22 14:52:46.219903</td>\n",
       "      <td>2020-06-21 20:36:45+00:00</td>\n",
       "      <td>2020</td>\n",
       "      <td>6</td>\n",
       "      <td>21</td>\n",
       "      <td>6</td>\n",
       "      <td>20</td>\n",
       "      <td>36</td>\n",
       "      <td>picnic</td>\n",
       "      <td>1274803466255433728</td>\n",
       "      <td>1274803466255433728</td>\n",
       "      <td>0</td>\n",
       "      <td>NaN</td>\n",
       "      <td>&lt;a href=\"https://mobile.twitter.com\" rel=\"nofo...</td>\n",
       "      <td>nl</td>\n",
       "      <td>3885</td>\n",
       "      <td>4844</td>\n",
       "      <td>5</td>\n",
       "      <td>@joopjr Het klopt dat het tijdelijk niet lever...</td>\n",
       "    </tr>\n",
       "    <tr>\n",
       "      <th>3217</th>\n",
       "      <td>2020-06-22 14:52:46.219903</td>\n",
       "      <td>2020-06-22 07:18:27+00:00</td>\n",
       "      <td>2020</td>\n",
       "      <td>6</td>\n",
       "      <td>22</td>\n",
       "      <td>0</td>\n",
       "      <td>7</td>\n",
       "      <td>18</td>\n",
       "      <td>picnic</td>\n",
       "      <td>1274964953615806464</td>\n",
       "      <td>1274964953615806464</td>\n",
       "      <td>0</td>\n",
       "      <td>NaN</td>\n",
       "      <td>&lt;a href=\"https://mobile.twitter.com\" rel=\"nofo...</td>\n",
       "      <td>nl</td>\n",
       "      <td>3885</td>\n",
       "      <td>4844</td>\n",
       "      <td>5</td>\n",
       "      <td>@joopjr Zeker! Het gaat hier om een tijdelijke...</td>\n",
       "    </tr>\n",
       "    <tr>\n",
       "      <th>3218</th>\n",
       "      <td>2020-06-22 14:52:46.219903</td>\n",
       "      <td>2020-06-22 07:19:16+00:00</td>\n",
       "      <td>2020</td>\n",
       "      <td>6</td>\n",
       "      <td>22</td>\n",
       "      <td>0</td>\n",
       "      <td>7</td>\n",
       "      <td>19</td>\n",
       "      <td>picnic</td>\n",
       "      <td>1274965159514161152</td>\n",
       "      <td>1274965159514161152</td>\n",
       "      <td>0</td>\n",
       "      <td>NaN</td>\n",
       "      <td>&lt;a href=\"https://mobile.twitter.com\" rel=\"nofo...</td>\n",
       "      <td>nl</td>\n",
       "      <td>3885</td>\n",
       "      <td>4844</td>\n",
       "      <td>5</td>\n",
       "      <td>@LauriettedR Dankjewel Lauriëtte, ik ga er met...</td>\n",
       "    </tr>\n",
       "    <tr>\n",
       "      <th>3219</th>\n",
       "      <td>2020-06-22 14:52:46.219903</td>\n",
       "      <td>2020-06-22 09:28:32+00:00</td>\n",
       "      <td>2020</td>\n",
       "      <td>6</td>\n",
       "      <td>22</td>\n",
       "      <td>0</td>\n",
       "      <td>9</td>\n",
       "      <td>28</td>\n",
       "      <td>picnic</td>\n",
       "      <td>1274997691056037892</td>\n",
       "      <td>1274997691056037892</td>\n",
       "      <td>0</td>\n",
       "      <td>NaN</td>\n",
       "      <td>&lt;a href=\"https://mobile.twitter.com\" rel=\"nofo...</td>\n",
       "      <td>en</td>\n",
       "      <td>3885</td>\n",
       "      <td>4844</td>\n",
       "      <td>5</td>\n",
       "      <td>@peachchocobo ☺️ ^Wesley https://t.co/IV9JhSAQG0</td>\n",
       "    </tr>\n",
       "    <tr>\n",
       "      <th>3220</th>\n",
       "      <td>2020-06-22 14:52:46.219903</td>\n",
       "      <td>2020-06-22 09:39:23+00:00</td>\n",
       "      <td>2020</td>\n",
       "      <td>6</td>\n",
       "      <td>22</td>\n",
       "      <td>0</td>\n",
       "      <td>9</td>\n",
       "      <td>39</td>\n",
       "      <td>picnic</td>\n",
       "      <td>1275000421883527169</td>\n",
       "      <td>1275000421883527169</td>\n",
       "      <td>0</td>\n",
       "      <td>NaN</td>\n",
       "      <td>&lt;a href=\"https://mobile.twitter.com\" rel=\"nofo...</td>\n",
       "      <td>nl</td>\n",
       "      <td>3885</td>\n",
       "      <td>4844</td>\n",
       "      <td>5</td>\n",
       "      <td>@peachchocobo Dankjewel voor het mooie complim...</td>\n",
       "    </tr>\n",
       "  </tbody>\n",
       "</table>\n",
       "</div>"
      ],
      "text/plain": [
       "                       mined_at                created_at  year  month  day  \\\n",
       "3216 2020-06-22 14:52:46.219903 2020-06-21 20:36:45+00:00  2020      6   21   \n",
       "3217 2020-06-22 14:52:46.219903 2020-06-22 07:18:27+00:00  2020      6   22   \n",
       "3218 2020-06-22 14:52:46.219903 2020-06-22 07:19:16+00:00  2020      6   22   \n",
       "3219 2020-06-22 14:52:46.219903 2020-06-22 09:28:32+00:00  2020      6   22   \n",
       "3220 2020-06-22 14:52:46.219903 2020-06-22 09:39:23+00:00  2020      6   22   \n",
       "\n",
       "      day_of_week  hour  minute screen_name             tweet_id  \\\n",
       "3216            6    20      36      picnic  1274803466255433728   \n",
       "3217            0     7      18      picnic  1274964953615806464   \n",
       "3218            0     7      19      picnic  1274965159514161152   \n",
       "3219            0     9      28      picnic  1274997691056037892   \n",
       "3220            0     9      39      picnic  1275000421883527169   \n",
       "\n",
       "             tweet_id_str  retweet_count  favorite_count  \\\n",
       "3216  1274803466255433728              0             NaN   \n",
       "3217  1274964953615806464              0             NaN   \n",
       "3218  1274965159514161152              0             NaN   \n",
       "3219  1274997691056037892              0             NaN   \n",
       "3220  1275000421883527169              0             NaN   \n",
       "\n",
       "                                                 source language  \\\n",
       "3216  <a href=\"https://mobile.twitter.com\" rel=\"nofo...       nl   \n",
       "3217  <a href=\"https://mobile.twitter.com\" rel=\"nofo...       nl   \n",
       "3218  <a href=\"https://mobile.twitter.com\" rel=\"nofo...       nl   \n",
       "3219  <a href=\"https://mobile.twitter.com\" rel=\"nofo...       en   \n",
       "3220  <a href=\"https://mobile.twitter.com\" rel=\"nofo...       nl   \n",
       "\n",
       "      user_favourites_count  followers_count  friends_count  \\\n",
       "3216                   3885             4844              5   \n",
       "3217                   3885             4844              5   \n",
       "3218                   3885             4844              5   \n",
       "3219                   3885             4844              5   \n",
       "3220                   3885             4844              5   \n",
       "\n",
       "                                                   text  \n",
       "3216  @joopjr Het klopt dat het tijdelijk niet lever...  \n",
       "3217  @joopjr Zeker! Het gaat hier om een tijdelijke...  \n",
       "3218  @LauriettedR Dankjewel Lauriëtte, ik ga er met...  \n",
       "3219   @peachchocobo ☺️ ^Wesley https://t.co/IV9JhSAQG0  \n",
       "3220  @peachchocobo Dankjewel voor het mooie complim...  "
      ]
     },
     "execution_count": 12,
     "metadata": {},
     "output_type": "execute_result"
    }
   ],
   "source": [
    "df_picnic.tail()"
   ]
  },
  {
   "cell_type": "code",
   "execution_count": 13,
   "metadata": {
    "scrolled": false
   },
   "outputs": [
    {
     "name": "stdout",
     "output_type": "stream",
     "text": [
      "<class 'pandas.core.frame.DataFrame'>\n",
      "RangeIndex: 3221 entries, 0 to 3220\n",
      "Data columns (total 19 columns):\n",
      " #   Column                 Non-Null Count  Dtype              \n",
      "---  ------                 --------------  -----              \n",
      " 0   mined_at               3221 non-null   datetime64[ns]     \n",
      " 1   created_at             3221 non-null   datetime64[ns, UTC]\n",
      " 2   year                   3221 non-null   int64              \n",
      " 3   month                  3221 non-null   int64              \n",
      " 4   day                    3221 non-null   int64              \n",
      " 5   day_of_week            3221 non-null   int64              \n",
      " 6   hour                   3221 non-null   int64              \n",
      " 7   minute                 3221 non-null   int64              \n",
      " 8   screen_name            3221 non-null   object             \n",
      " 9   tweet_id               3221 non-null   int64              \n",
      " 10  tweet_id_str           3221 non-null   object             \n",
      " 11  retweet_count          3221 non-null   int64              \n",
      " 12  favorite_count         49 non-null     float64            \n",
      " 13  source                 3221 non-null   object             \n",
      " 14  language               3221 non-null   object             \n",
      " 15  user_favourites_count  3221 non-null   int64              \n",
      " 16  followers_count        3221 non-null   int64              \n",
      " 17  friends_count          3221 non-null   int64              \n",
      " 18  text                   3221 non-null   object             \n",
      "dtypes: datetime64[ns, UTC](1), datetime64[ns](1), float64(1), int64(11), object(5)\n",
      "memory usage: 478.2+ KB\n"
     ]
    }
   ],
   "source": [
    "df_picnic.info()"
   ]
  },
  {
   "cell_type": "code",
   "execution_count": 14,
   "metadata": {},
   "outputs": [
    {
     "data": {
      "text/plain": [
       "(Timestamp('2018-12-07 15:06:19+0000', tz='UTC'),\n",
       " Timestamp('2020-06-22 09:39:23+0000', tz='UTC'))"
      ]
     },
     "execution_count": 14,
     "metadata": {},
     "output_type": "execute_result"
    }
   ],
   "source": [
    "min(df_picnic.created_at),max(df_picnic.created_at)"
   ]
  },
  {
   "cell_type": "markdown",
   "metadata": {},
   "source": [
    "For `Picnic` we went far enough. We got data back to December 2018!\n",
    "\n",
    "After experimenting a bit, it seems that better keep `result_limit` close to its maximum 200 and try `max_pages` around 20. If there is some kind of connection error wait and try again after a while or reduce these values."
   ]
  },
  {
   "cell_type": "code",
   "execution_count": 15,
   "metadata": {
    "scrolled": true
   },
   "outputs": [
    {
     "name": "stdout",
     "output_type": "stream",
     "text": [
      "Picnic's followers 4844\n",
      "Picnic's friends 5\n"
     ]
    }
   ],
   "source": [
    "print(\"Picnic's followers\", df_picnic.loc[df_picnic.shape[0]-1,'followers_count'])\n",
    "print(\"Picnic's friends\", df_picnic.loc[df_picnic.shape[0]-1,'friends_count'])"
   ]
  },
  {
   "cell_type": "code",
   "execution_count": 16,
   "metadata": {},
   "outputs": [
    {
     "data": {
      "text/plain": [
       "nl     2922\n",
       "und     190\n",
       "en       90\n",
       "es        5\n",
       "de        4\n",
       "fr        3\n",
       "in        2\n",
       "ht        1\n",
       "it        1\n",
       "cy        1\n",
       "sv        1\n",
       "fi        1\n",
       "Name: language, dtype: int64"
      ]
     },
     "execution_count": 16,
     "metadata": {},
     "output_type": "execute_result"
    }
   ],
   "source": [
    "df_picnic['language'].value_counts()"
   ]
  },
  {
   "cell_type": "markdown",
   "metadata": {},
   "source": [
    "### @JumboSupermarkt"
   ]
  },
  {
   "cell_type": "code",
   "execution_count": 19,
   "metadata": {
    "scrolled": false
   },
   "outputs": [],
   "source": [
    "# Result limit == count parameter from our GetUserTimeline() it can take max 200\n",
    "# More pages more back in time you can go\n",
    "miner = TweetMiner(api, result_limit=200, max_pages = 20)\n",
    "JumboSupermarkt = miner.mine_user_tweets(user=\"JumboSupermarkt\")\n",
    "\n",
    "df_JumboSupermarkt = process_and_save(pd.DataFrame(JumboSupermarkt), \"JumboSupermarkt\")"
   ]
  },
  {
   "cell_type": "code",
   "execution_count": 20,
   "metadata": {},
   "outputs": [
    {
     "name": "stdout",
     "output_type": "stream",
     "text": [
      "<class 'pandas.core.frame.DataFrame'>\n",
      "RangeIndex: 3232 entries, 0 to 3231\n",
      "Data columns (total 19 columns):\n",
      " #   Column                 Non-Null Count  Dtype              \n",
      "---  ------                 --------------  -----              \n",
      " 0   mined_at               3232 non-null   datetime64[ns]     \n",
      " 1   created_at             3232 non-null   datetime64[ns, UTC]\n",
      " 2   year                   3232 non-null   int64              \n",
      " 3   month                  3232 non-null   int64              \n",
      " 4   day                    3232 non-null   int64              \n",
      " 5   day_of_week            3232 non-null   int64              \n",
      " 6   hour                   3232 non-null   int64              \n",
      " 7   minute                 3232 non-null   int64              \n",
      " 8   screen_name            3232 non-null   object             \n",
      " 9   tweet_id               3232 non-null   int64              \n",
      " 10  tweet_id_str           3232 non-null   object             \n",
      " 11  retweet_count          3232 non-null   int64              \n",
      " 12  favorite_count         13 non-null     float64            \n",
      " 13  source                 3232 non-null   object             \n",
      " 14  language               3232 non-null   object             \n",
      " 15  user_favourites_count  3232 non-null   int64              \n",
      " 16  followers_count        3232 non-null   int64              \n",
      " 17  friends_count          3232 non-null   int64              \n",
      " 18  text                   3232 non-null   object             \n",
      "dtypes: datetime64[ns, UTC](1), datetime64[ns](1), float64(1), int64(11), object(5)\n",
      "memory usage: 479.9+ KB\n"
     ]
    }
   ],
   "source": [
    "df_JumboSupermarkt.info()"
   ]
  },
  {
   "cell_type": "code",
   "execution_count": 21,
   "metadata": {},
   "outputs": [
    {
     "data": {
      "text/plain": [
       "(Timestamp('2020-03-07 20:15:43+0000', tz='UTC'),\n",
       " Timestamp('2020-06-22 11:03:38+0000', tz='UTC'))"
      ]
     },
     "execution_count": 21,
     "metadata": {},
     "output_type": "execute_result"
    }
   ],
   "source": [
    "min(df_JumboSupermarkt.created_at),max(df_JumboSupermarkt.created_at)"
   ]
  },
  {
   "cell_type": "code",
   "execution_count": 22,
   "metadata": {
    "scrolled": false
   },
   "outputs": [],
   "source": [
    "# Result limit == count parameter from our GetUserTimeline() it can take max 200\n",
    "# More pages more back in time you can go\n",
    "miner = TweetMiner(api, result_limit=200, max_pages = 25)\n",
    "JumboSupermarkt = miner.mine_user_tweets(user=\"JumboSupermarkt\")\n",
    "df_JumboSupermarkt = process_and_save(pd.DataFrame(JumboSupermarkt), \"JumboSupermarkt\")\n"
   ]
  },
  {
   "cell_type": "code",
   "execution_count": 23,
   "metadata": {},
   "outputs": [
    {
     "data": {
      "text/plain": [
       "(Timestamp('2020-03-07 20:15:43+0000', tz='UTC'),\n",
       " Timestamp('2020-06-22 11:03:38+0000', tz='UTC'))"
      ]
     },
     "execution_count": 23,
     "metadata": {},
     "output_type": "execute_result"
    }
   ],
   "source": [
    "min(df_JumboSupermarkt.created_at),max(df_JumboSupermarkt.created_at)"
   ]
  },
  {
   "cell_type": "markdown",
   "metadata": {},
   "source": [
    "Changing parameters does not seem to help here and we could only retrieve data from March 6th, 2020 until now for Jumbo."
   ]
  },
  {
   "cell_type": "code",
   "execution_count": 24,
   "metadata": {
    "scrolled": true
   },
   "outputs": [
    {
     "name": "stdout",
     "output_type": "stream",
     "text": [
      "Jumbo's followers 16209\n",
      "Jumbo's friends 1711\n"
     ]
    }
   ],
   "source": [
    "print(\"Jumbo's followers\", df_JumboSupermarkt.loc[df_JumboSupermarkt.shape[0]-1,'followers_count'])\n",
    "print(\"Jumbo's friends\", df_JumboSupermarkt.loc[df_JumboSupermarkt.shape[0]-1,'friends_count'])"
   ]
  },
  {
   "cell_type": "code",
   "execution_count": 25,
   "metadata": {},
   "outputs": [
    {
     "data": {
      "text/plain": [
       "nl     3132\n",
       "en       68\n",
       "und      25\n",
       "in        3\n",
       "de        2\n",
       "da        1\n",
       "tl        1\n",
       "Name: language, dtype: int64"
      ]
     },
     "execution_count": 25,
     "metadata": {},
     "output_type": "execute_result"
    }
   ],
   "source": [
    "df_JumboSupermarkt['language'].value_counts()"
   ]
  },
  {
   "cell_type": "markdown",
   "metadata": {},
   "source": [
    "### @albertheijn"
   ]
  },
  {
   "cell_type": "code",
   "execution_count": 26,
   "metadata": {},
   "outputs": [],
   "source": [
    "# Result limit == count parameter from our GetUserTimeline() it can take max 200\n",
    "# More pages more back in time you can go\n",
    "miner = TweetMiner(api, result_limit=200, max_pages = 20)\n",
    "albertheijn = miner.mine_user_tweets(user=\"albertheijn\")\n",
    "df_albertheijn = process_and_save(pd.DataFrame(albertheijn), \"albertheijn\")\n"
   ]
  },
  {
   "cell_type": "code",
   "execution_count": 27,
   "metadata": {},
   "outputs": [
    {
     "name": "stdout",
     "output_type": "stream",
     "text": [
      "<class 'pandas.core.frame.DataFrame'>\n",
      "RangeIndex: 3217 entries, 0 to 3216\n",
      "Data columns (total 19 columns):\n",
      " #   Column                 Non-Null Count  Dtype              \n",
      "---  ------                 --------------  -----              \n",
      " 0   mined_at               3217 non-null   datetime64[ns]     \n",
      " 1   created_at             3217 non-null   datetime64[ns, UTC]\n",
      " 2   year                   3217 non-null   int64              \n",
      " 3   month                  3217 non-null   int64              \n",
      " 4   day                    3217 non-null   int64              \n",
      " 5   day_of_week            3217 non-null   int64              \n",
      " 6   hour                   3217 non-null   int64              \n",
      " 7   minute                 3217 non-null   int64              \n",
      " 8   screen_name            3217 non-null   object             \n",
      " 9   tweet_id               3217 non-null   int64              \n",
      " 10  tweet_id_str           3217 non-null   object             \n",
      " 11  retweet_count          3217 non-null   int64              \n",
      " 12  favorite_count         25 non-null     float64            \n",
      " 13  source                 3217 non-null   object             \n",
      " 14  language               3217 non-null   object             \n",
      " 15  user_favourites_count  3217 non-null   int64              \n",
      " 16  followers_count        3217 non-null   int64              \n",
      " 17  friends_count          3217 non-null   int64              \n",
      " 18  text                   3217 non-null   object             \n",
      "dtypes: datetime64[ns, UTC](1), datetime64[ns](1), float64(1), int64(11), object(5)\n",
      "memory usage: 477.6+ KB\n"
     ]
    }
   ],
   "source": [
    "df_albertheijn.info()"
   ]
  },
  {
   "cell_type": "code",
   "execution_count": 28,
   "metadata": {},
   "outputs": [
    {
     "data": {
      "text/plain": [
       "(Timestamp('2020-04-06 16:33:02+0000', tz='UTC'),\n",
       " Timestamp('2020-06-22 11:43:16+0000', tz='UTC'))"
      ]
     },
     "execution_count": 28,
     "metadata": {},
     "output_type": "execute_result"
    }
   ],
   "source": [
    "min(df_albertheijn.created_at),max(df_albertheijn.created_at)"
   ]
  },
  {
   "cell_type": "code",
   "execution_count": 29,
   "metadata": {},
   "outputs": [],
   "source": [
    "# Result limit == count parameter from our GetUserTimeline() it can take max 200\n",
    "# More pages more back in time you can go\n",
    "miner = TweetMiner(api, result_limit=200, max_pages = 100)\n",
    "albertheijn = miner.mine_user_tweets(user=\"albertheijn\")\n",
    "df_albertheijn = process_and_save(pd.DataFrame(albertheijn), \"albertheijn\")\n"
   ]
  },
  {
   "cell_type": "code",
   "execution_count": 30,
   "metadata": {},
   "outputs": [
    {
     "data": {
      "text/plain": [
       "(Timestamp('2020-04-06 16:33:02+0000', tz='UTC'),\n",
       " Timestamp('2020-06-22 11:43:16+0000', tz='UTC'))"
      ]
     },
     "execution_count": 30,
     "metadata": {},
     "output_type": "execute_result"
    }
   ],
   "source": [
    "min(df_albertheijn.created_at),max(df_albertheijn.created_at)"
   ]
  },
  {
   "cell_type": "code",
   "execution_count": 31,
   "metadata": {},
   "outputs": [
    {
     "name": "stdout",
     "output_type": "stream",
     "text": [
      "<class 'pandas.core.frame.DataFrame'>\n",
      "RangeIndex: 3217 entries, 0 to 3216\n",
      "Data columns (total 19 columns):\n",
      " #   Column                 Non-Null Count  Dtype              \n",
      "---  ------                 --------------  -----              \n",
      " 0   mined_at               3217 non-null   datetime64[ns]     \n",
      " 1   created_at             3217 non-null   datetime64[ns, UTC]\n",
      " 2   year                   3217 non-null   int64              \n",
      " 3   month                  3217 non-null   int64              \n",
      " 4   day                    3217 non-null   int64              \n",
      " 5   day_of_week            3217 non-null   int64              \n",
      " 6   hour                   3217 non-null   int64              \n",
      " 7   minute                 3217 non-null   int64              \n",
      " 8   screen_name            3217 non-null   object             \n",
      " 9   tweet_id               3217 non-null   int64              \n",
      " 10  tweet_id_str           3217 non-null   object             \n",
      " 11  retweet_count          3217 non-null   int64              \n",
      " 12  favorite_count         25 non-null     float64            \n",
      " 13  source                 3217 non-null   object             \n",
      " 14  language               3217 non-null   object             \n",
      " 15  user_favourites_count  3217 non-null   int64              \n",
      " 16  followers_count        3217 non-null   int64              \n",
      " 17  friends_count          3217 non-null   int64              \n",
      " 18  text                   3217 non-null   object             \n",
      "dtypes: datetime64[ns, UTC](1), datetime64[ns](1), float64(1), int64(11), object(5)\n",
      "memory usage: 477.6+ KB\n"
     ]
    }
   ],
   "source": [
    "df_albertheijn.info()"
   ]
  },
  {
   "cell_type": "markdown",
   "metadata": {},
   "source": [
    "Again the changing parameters didn't work. For `AH` we only succeeded in getting back to April 6th, 2020."
   ]
  },
  {
   "cell_type": "code",
   "execution_count": 32,
   "metadata": {
    "scrolled": true
   },
   "outputs": [
    {
     "name": "stdout",
     "output_type": "stream",
     "text": [
      "AH's followers 45532\n",
      "AH's friends 6\n"
     ]
    }
   ],
   "source": [
    "print(\"AH's followers\", df_albertheijn.loc[df_albertheijn.shape[0]-1,'followers_count'])\n",
    "print(\"AH's friends\", df_albertheijn.loc[df_albertheijn.shape[0]-1,'friends_count'])"
   ]
  },
  {
   "cell_type": "code",
   "execution_count": 33,
   "metadata": {},
   "outputs": [
    {
     "data": {
      "text/plain": [
       "nl     3111\n",
       "en       74\n",
       "und       6\n",
       "et        5\n",
       "fr        5\n",
       "tr        4\n",
       "da        2\n",
       "in        2\n",
       "fi        2\n",
       "ht        1\n",
       "de        1\n",
       "is        1\n",
       "pl        1\n",
       "es        1\n",
       "sv        1\n",
       "Name: language, dtype: int64"
      ]
     },
     "execution_count": 33,
     "metadata": {},
     "output_type": "execute_result"
    }
   ],
   "source": [
    "df_albertheijn['language'].value_counts()"
   ]
  },
  {
   "cell_type": "markdown",
   "metadata": {},
   "source": [
    "## Applying GetSearch to search for a defined query\n",
    "\n",
    "\n",
    "Twitter’s search parameters are a bit complex, to perform a particular search, you can consult Twitter’s documentation at https://dev.twitter.com/rest/public/search.\n",
    "\n",
    "An easier way is to make use of [Twitter’s Advanced Search](toolhttps://twitter.com/search-advanced), and then use the part of search URL after the \"?\" to use `raw_query`, removing the `&src=typd` portion.\n",
    "\n",
    "In this section we will perform some queries to allow us to compare `Picnic`, `Jumbo`, and `AH`. In particular, my main goal is to include also `COVID-19`. But since we are in June and things seem to be now much more in control than few months ago, I'm not sure if I'll be able to retrieve enough Tweets using these key words.\n",
    "\n",
    "In addition, the results obtained from Twitter API searches against a sampling of recent Tweets published in the past 7 days (more details [here](https://developer.twitter.com/en/docs/tweets/search/overview/standard)). So, the results you see in the website when using `Twitter’s Advanced Search` will not per se be in the result of the API search.\n",
    "\n",
    "\n"
   ]
  },
  {
   "cell_type": "markdown",
   "metadata": {},
   "source": [
    "### Query_01:\n",
    "\n",
    "`All these words`: picnic, jumbo, ah, covid\n",
    "\n",
    "`Dates:`\n",
    "\n",
    "    From: February - 25 -2020\n",
    "    To:   June - 21 -2020\n",
    "\n",
    "**Result:** `https://twitter.com/search?q=picnic%2C%20jumbo%2C%20ah%2C%20covid%20until%3A2020-06-21%20since%3A2020-02-25&src=typed_query`"
   ]
  },
  {
   "cell_type": "code",
   "execution_count": 35,
   "metadata": {},
   "outputs": [
    {
     "data": {
      "text/plain": [
       "0"
      ]
     },
     "execution_count": 35,
     "metadata": {},
     "output_type": "execute_result"
    }
   ],
   "source": [
    "query_01 = 'q=picnic%2C%20jumbo%2C%20ah%2C%20covid%20until%3A2020-06-21%20since%3A2020-02-25'\n",
    "result = TweetMiner.search_tweets(raw_query = query_01)\n",
    "len(result)"
   ]
  },
  {
   "cell_type": "markdown",
   "metadata": {},
   "source": [
    "As expected, since the 2 Tweets there are from March and therefore are not catch by the API."
   ]
  },
  {
   "cell_type": "markdown",
   "metadata": {},
   "source": [
    "### Query_02:\n",
    "\n",
    "So let's make a query without `covid`.\n",
    "\n",
    "`All these words`: picnic, jumbo, ah\n",
    "\n",
    "**Result:** `https://twitter.com/search?q=picnic%2C%20jumbo%2C%20ah&src=typed_query`"
   ]
  },
  {
   "cell_type": "code",
   "execution_count": 36,
   "metadata": {},
   "outputs": [
    {
     "data": {
      "text/plain": [
       "80"
      ]
     },
     "execution_count": 36,
     "metadata": {},
     "output_type": "execute_result"
    }
   ],
   "source": [
    "query_02 = 'q=picnic%2C%20jumbo%2C%20ah'\n",
    "result_02 = TweetMiner.search_tweets(max_pages = 20, count = 100, raw_query = query_02)\n",
    "len(result_02)"
   ]
  },
  {
   "cell_type": "code",
   "execution_count": 37,
   "metadata": {},
   "outputs": [
    {
     "data": {
      "text/plain": [
       "{'mined_at': datetime.datetime(2020, 6, 22, 15, 14, 55, 440399),\n",
       " 'created_at': 'Thu Jun 18 15:03:16 +0000 2020',\n",
       " 'tweet_id': 1273632376950849537,\n",
       " 'tweet_id_str': '1273632376950849537',\n",
       " 'language': 'nl',\n",
       " 'text': 'Half juni en nog steeds worden boodschappen bezorgd bij meerdere huizen in de straat door AH, Jumbo, Picnic. Benieuwd: is dat blijvend of gaan mensen toch weer zelf naar de winkel over een tijdje? Onze boodschappen werden al langer bezorgd, wegens geen biowinkel hier @Korenmaat',\n",
       " 'hashtags': [],\n",
       " 'source': '<a href=\"http://twitter.com/download/android\" rel=\"nofollow\">Twitter for Android</a>',\n",
       " 'screen_name': 'martiendas',\n",
       " 'user_tweet_id': 111582731,\n",
       " 'user_tweet_id_str': '111582731',\n",
       " 'user_favourites_count': 10988,\n",
       " 'followers_count': 4646,\n",
       " 'friends_count': 5115}"
      ]
     },
     "execution_count": 37,
     "metadata": {},
     "output_type": "execute_result"
    }
   ],
   "source": [
    "result_02[0]"
   ]
  },
  {
   "cell_type": "code",
   "execution_count": 38,
   "metadata": {
    "scrolled": true
   },
   "outputs": [
    {
     "data": {
      "text/html": [
       "<div>\n",
       "<style scoped>\n",
       "    .dataframe tbody tr th:only-of-type {\n",
       "        vertical-align: middle;\n",
       "    }\n",
       "\n",
       "    .dataframe tbody tr th {\n",
       "        vertical-align: top;\n",
       "    }\n",
       "\n",
       "    .dataframe thead th {\n",
       "        text-align: right;\n",
       "    }\n",
       "</style>\n",
       "<table border=\"1\" class=\"dataframe\">\n",
       "  <thead>\n",
       "    <tr style=\"text-align: right;\">\n",
       "      <th></th>\n",
       "      <th>mined_at</th>\n",
       "      <th>created_at</th>\n",
       "      <th>year</th>\n",
       "      <th>month</th>\n",
       "      <th>day</th>\n",
       "      <th>day_of_week</th>\n",
       "      <th>hour</th>\n",
       "      <th>minute</th>\n",
       "      <th>tweet_id</th>\n",
       "      <th>tweet_id_str</th>\n",
       "      <th>...</th>\n",
       "      <th>hashtags</th>\n",
       "      <th>source</th>\n",
       "      <th>language</th>\n",
       "      <th>screen_name</th>\n",
       "      <th>user_tweet_id</th>\n",
       "      <th>user_tweet_id_str</th>\n",
       "      <th>user_favourites_count</th>\n",
       "      <th>followers_count</th>\n",
       "      <th>friends_count</th>\n",
       "      <th>text</th>\n",
       "    </tr>\n",
       "  </thead>\n",
       "  <tbody>\n",
       "    <tr>\n",
       "      <th>0</th>\n",
       "      <td>2020-06-22 15:14:57.317786</td>\n",
       "      <td>2020-06-18 11:50:31+00:00</td>\n",
       "      <td>2020</td>\n",
       "      <td>6</td>\n",
       "      <td>18</td>\n",
       "      <td>3</td>\n",
       "      <td>11</td>\n",
       "      <td>50</td>\n",
       "      <td>1273583869753724930</td>\n",
       "      <td>1273583869753724930</td>\n",
       "      <td>...</td>\n",
       "      <td>[]</td>\n",
       "      <td>&lt;a href=\"https://mobile.twitter.com\" rel=\"nofo...</td>\n",
       "      <td>nl</td>\n",
       "      <td>GHengeveld</td>\n",
       "      <td>20709019</td>\n",
       "      <td>20709019</td>\n",
       "      <td>889</td>\n",
       "      <td>1485</td>\n",
       "      <td>1750</td>\n",
       "      <td>@jelleprins @picnic @JumboSupermarkt @alberthe...</td>\n",
       "    </tr>\n",
       "    <tr>\n",
       "      <th>1</th>\n",
       "      <td>2020-06-22 15:14:59.345086</td>\n",
       "      <td>2020-06-18 11:56:42+00:00</td>\n",
       "      <td>2020</td>\n",
       "      <td>6</td>\n",
       "      <td>18</td>\n",
       "      <td>3</td>\n",
       "      <td>11</td>\n",
       "      <td>56</td>\n",
       "      <td>1273585426268409859</td>\n",
       "      <td>1273585426268409859</td>\n",
       "      <td>...</td>\n",
       "      <td>[]</td>\n",
       "      <td>&lt;a href=\"http://twitter.com/download/iphone\" r...</td>\n",
       "      <td>nl</td>\n",
       "      <td>jelleprins</td>\n",
       "      <td>16546619</td>\n",
       "      <td>16546619</td>\n",
       "      <td>4419</td>\n",
       "      <td>10511</td>\n",
       "      <td>1063</td>\n",
       "      <td>@Oli4K @picnic @JumboSupermarkt @albertheijn L...</td>\n",
       "    </tr>\n",
       "    <tr>\n",
       "      <th>2</th>\n",
       "      <td>2020-06-22 15:14:58.109173</td>\n",
       "      <td>2020-06-18 14:00:01+00:00</td>\n",
       "      <td>2020</td>\n",
       "      <td>6</td>\n",
       "      <td>18</td>\n",
       "      <td>3</td>\n",
       "      <td>14</td>\n",
       "      <td>0</td>\n",
       "      <td>1273616458459705347</td>\n",
       "      <td>1273616458459705347</td>\n",
       "      <td>...</td>\n",
       "      <td>[]</td>\n",
       "      <td>&lt;a href=\"https://about.twitter.com/products/tw...</td>\n",
       "      <td>nl</td>\n",
       "      <td>agfnl</td>\n",
       "      <td>164631799</td>\n",
       "      <td>164631799</td>\n",
       "      <td>84</td>\n",
       "      <td>8530</td>\n",
       "      <td>2129</td>\n",
       "      <td>\"Trendbreuk: Jumbo al 3 weken duurder in AGF d...</td>\n",
       "    </tr>\n",
       "    <tr>\n",
       "      <th>3</th>\n",
       "      <td>2020-06-22 15:14:58.942206</td>\n",
       "      <td>2020-06-18 15:03:16+00:00</td>\n",
       "      <td>2020</td>\n",
       "      <td>6</td>\n",
       "      <td>18</td>\n",
       "      <td>3</td>\n",
       "      <td>15</td>\n",
       "      <td>3</td>\n",
       "      <td>1273632376950849537</td>\n",
       "      <td>1273632376950849537</td>\n",
       "      <td>...</td>\n",
       "      <td>[]</td>\n",
       "      <td>&lt;a href=\"http://twitter.com/download/android\" ...</td>\n",
       "      <td>nl</td>\n",
       "      <td>martiendas</td>\n",
       "      <td>111582731</td>\n",
       "      <td>111582731</td>\n",
       "      <td>10988</td>\n",
       "      <td>4646</td>\n",
       "      <td>5115</td>\n",
       "      <td>Half juni en nog steeds worden boodschappen be...</td>\n",
       "    </tr>\n",
       "  </tbody>\n",
       "</table>\n",
       "<p>4 rows × 23 columns</p>\n",
       "</div>"
      ],
      "text/plain": [
       "                    mined_at                created_at  year  month  day  \\\n",
       "0 2020-06-22 15:14:57.317786 2020-06-18 11:50:31+00:00  2020      6   18   \n",
       "1 2020-06-22 15:14:59.345086 2020-06-18 11:56:42+00:00  2020      6   18   \n",
       "2 2020-06-22 15:14:58.109173 2020-06-18 14:00:01+00:00  2020      6   18   \n",
       "3 2020-06-22 15:14:58.942206 2020-06-18 15:03:16+00:00  2020      6   18   \n",
       "\n",
       "   day_of_week  hour  minute             tweet_id         tweet_id_str  ...  \\\n",
       "0            3    11      50  1273583869753724930  1273583869753724930  ...   \n",
       "1            3    11      56  1273585426268409859  1273585426268409859  ...   \n",
       "2            3    14       0  1273616458459705347  1273616458459705347  ...   \n",
       "3            3    15       3  1273632376950849537  1273632376950849537  ...   \n",
       "\n",
       "  hashtags                                             source  language  \\\n",
       "0       []  <a href=\"https://mobile.twitter.com\" rel=\"nofo...        nl   \n",
       "1       []  <a href=\"http://twitter.com/download/iphone\" r...        nl   \n",
       "2       []  <a href=\"https://about.twitter.com/products/tw...        nl   \n",
       "3       []  <a href=\"http://twitter.com/download/android\" ...        nl   \n",
       "\n",
       "  screen_name user_tweet_id user_tweet_id_str user_favourites_count  \\\n",
       "0  GHengeveld      20709019          20709019                   889   \n",
       "1  jelleprins      16546619          16546619                  4419   \n",
       "2       agfnl     164631799         164631799                    84   \n",
       "3  martiendas     111582731         111582731                 10988   \n",
       "\n",
       "   followers_count friends_count  \\\n",
       "0             1485          1750   \n",
       "1            10511          1063   \n",
       "2             8530          2129   \n",
       "3             4646          5115   \n",
       "\n",
       "                                                text  \n",
       "0  @jelleprins @picnic @JumboSupermarkt @alberthe...  \n",
       "1  @Oli4K @picnic @JumboSupermarkt @albertheijn L...  \n",
       "2  \"Trendbreuk: Jumbo al 3 weken duurder in AGF d...  \n",
       "3  Half juni en nog steeds worden boodschappen be...  \n",
       "\n",
       "[4 rows x 23 columns]"
      ]
     },
     "execution_count": 38,
     "metadata": {},
     "output_type": "execute_result"
    }
   ],
   "source": [
    "df_query_02 = process_and_save(pd.DataFrame(result_02),\"query_02\",mine_user_twitter=0)\n",
    "df_query_02.head()"
   ]
  },
  {
   "cell_type": "code",
   "execution_count": 39,
   "metadata": {},
   "outputs": [
    {
     "name": "stdout",
     "output_type": "stream",
     "text": [
      "<class 'pandas.core.frame.DataFrame'>\n",
      "RangeIndex: 4 entries, 0 to 3\n",
      "Data columns (total 23 columns):\n",
      " #   Column                   Non-Null Count  Dtype              \n",
      "---  ------                   --------------  -----              \n",
      " 0   mined_at                 4 non-null      datetime64[ns]     \n",
      " 1   created_at               4 non-null      datetime64[ns, UTC]\n",
      " 2   year                     4 non-null      int64              \n",
      " 3   month                    4 non-null      int64              \n",
      " 4   day                      4 non-null      int64              \n",
      " 5   day_of_week              4 non-null      int64              \n",
      " 6   hour                     4 non-null      int64              \n",
      " 7   minute                   4 non-null      int64              \n",
      " 8   tweet_id                 4 non-null      int64              \n",
      " 9   tweet_id_str             4 non-null      object             \n",
      " 10  in_reply_to_screen_name  2 non-null      object             \n",
      " 11  in_reply_to_status_id    2 non-null      float64            \n",
      " 12  in_reply_to_user_id      2 non-null      float64            \n",
      " 13  hashtags                 4 non-null      object             \n",
      " 14  source                   4 non-null      object             \n",
      " 15  language                 4 non-null      object             \n",
      " 16  screen_name              4 non-null      object             \n",
      " 17  user_tweet_id            4 non-null      int64              \n",
      " 18  user_tweet_id_str        4 non-null      object             \n",
      " 19  user_favourites_count    4 non-null      int64              \n",
      " 20  followers_count          4 non-null      int64              \n",
      " 21  friends_count            4 non-null      int64              \n",
      " 22  text                     4 non-null      object             \n",
      "dtypes: datetime64[ns, UTC](1), datetime64[ns](1), float64(2), int64(11), object(8)\n",
      "memory usage: 864.0+ bytes\n"
     ]
    }
   ],
   "source": [
    "df_query_02.info()"
   ]
  },
  {
   "cell_type": "markdown",
   "metadata": {},
   "source": [
    "In the case of queries we have much less results than in the case of user timeline so it was necessary to add `drop_duplicates` to function `process_and_save` to remove repeated rows.\n",
    "\n",
    "Notice that `result_02` showed to exist 80 tweets when in fact after removing duplicates we have only 4."
   ]
  },
  {
   "cell_type": "code",
   "execution_count": 41,
   "metadata": {},
   "outputs": [
    {
     "data": {
      "text/plain": [
       "(Timestamp('2020-06-18 11:50:31+0000', tz='UTC'),\n",
       " Timestamp('2020-06-18 15:03:16+0000', tz='UTC'))"
      ]
     },
     "execution_count": 41,
     "metadata": {},
     "output_type": "execute_result"
    }
   ],
   "source": [
    "min(df_query_02['created_at']),max(df_query_02['created_at'])"
   ]
  },
  {
   "cell_type": "code",
   "execution_count": 68,
   "metadata": {},
   "outputs": [
    {
     "data": {
      "text/plain": [
       "array(['@jelleprins @picnic @JumboSupermarkt @albertheijn Geen ervaring met die van Jumbo of AH, maar die van Picnic is so gebruiksvriendelijk dat mijn zoontje van 3 de boodschappen doet.',\n",
       "       '@Oli4K @picnic @JumboSupermarkt @albertheijn Lijkt er op dat Jumbo &amp; AH erg naar website &amp; elkaar hebben gekeken, terwijl Picnic echt mobile first &amp; vanuit niks is gestart.',\n",
       "       '\"Trendbreuk: Jumbo al 3 weken duurder in AGF dan AH, Picnic volgt\"\\nhttps://t.co/mVfpqWNoT7 https://t.co/vPVSFN5S49',\n",
       "       'Half juni en nog steeds worden boodschappen bezorgd bij meerdere huizen in de straat door AH, Jumbo, Picnic. Benieuwd: is dat blijvend of gaan mensen toch weer zelf naar de winkel over een tijdje? Onze boodschappen werden al langer bezorgd, wegens geen biowinkel hier @Korenmaat'],\n",
       "      dtype=object)"
      ]
     },
     "execution_count": 68,
     "metadata": {},
     "output_type": "execute_result"
    }
   ],
   "source": [
    "df_query_02['text'].values"
   ]
  },
  {
   "cell_type": "markdown",
   "metadata": {},
   "source": [
    "### Query_03:\n",
    "\n",
    "Now I'll add `albertheijn` to the last query because sometimes there are expressions like `ahhhhh` and this is not what we are looking for.\n",
    "\n",
    "`All these words`: picnic, jumbo, ah, albertheijn\n",
    "\n",
    "**Result:** `https://twitter.com/search?q=picnic%2C%20jumbo%2C%20ah%2C%20albertheijn&src=typed_query`"
   ]
  },
  {
   "cell_type": "code",
   "execution_count": 43,
   "metadata": {},
   "outputs": [
    {
     "data": {
      "text/plain": [
       "40"
      ]
     },
     "execution_count": 43,
     "metadata": {},
     "output_type": "execute_result"
    }
   ],
   "source": [
    "query_03 = 'q=picnic%2C%20jumbo%2C%20ah%2C%20albertheijn'\n",
    "result_03 = TweetMiner.search_tweets(max_pages = 20, raw_query = query_03)\n",
    "len(result_03)"
   ]
  },
  {
   "cell_type": "code",
   "execution_count": 44,
   "metadata": {},
   "outputs": [
    {
     "data": {
      "text/plain": [
       "{'mined_at': datetime.datetime(2020, 6, 22, 15, 23, 0, 883355),\n",
       " 'created_at': 'Thu Jun 18 11:56:42 +0000 2020',\n",
       " 'tweet_id': 1273585426268409859,\n",
       " 'tweet_id_str': '1273585426268409859',\n",
       " 'in_reply_to_screen_name': 'Oli4K',\n",
       " 'in_reply_to_status_id': 1273584231336288257,\n",
       " 'in_reply_to_user_id': 6091182,\n",
       " 'language': 'nl',\n",
       " 'text': '@Oli4K @picnic @JumboSupermarkt @albertheijn Lijkt er op dat Jumbo &amp; AH erg naar website &amp; elkaar hebben gekeken, terwijl Picnic echt mobile first &amp; vanuit niks is gestart.',\n",
       " 'hashtags': [],\n",
       " 'source': '<a href=\"http://twitter.com/download/iphone\" rel=\"nofollow\">Twitter for iPhone</a>',\n",
       " 'screen_name': 'jelleprins',\n",
       " 'user_tweet_id': 16546619,\n",
       " 'user_tweet_id_str': '16546619',\n",
       " 'user_favourites_count': 4419,\n",
       " 'followers_count': 10511,\n",
       " 'friends_count': 1063}"
      ]
     },
     "execution_count": 44,
     "metadata": {},
     "output_type": "execute_result"
    }
   ],
   "source": [
    "result_03[0]"
   ]
  },
  {
   "cell_type": "code",
   "execution_count": 45,
   "metadata": {
    "scrolled": true
   },
   "outputs": [
    {
     "data": {
      "text/html": [
       "<div>\n",
       "<style scoped>\n",
       "    .dataframe tbody tr th:only-of-type {\n",
       "        vertical-align: middle;\n",
       "    }\n",
       "\n",
       "    .dataframe tbody tr th {\n",
       "        vertical-align: top;\n",
       "    }\n",
       "\n",
       "    .dataframe thead th {\n",
       "        text-align: right;\n",
       "    }\n",
       "</style>\n",
       "<table border=\"1\" class=\"dataframe\">\n",
       "  <thead>\n",
       "    <tr style=\"text-align: right;\">\n",
       "      <th></th>\n",
       "      <th>mined_at</th>\n",
       "      <th>created_at</th>\n",
       "      <th>year</th>\n",
       "      <th>month</th>\n",
       "      <th>day</th>\n",
       "      <th>day_of_week</th>\n",
       "      <th>hour</th>\n",
       "      <th>minute</th>\n",
       "      <th>tweet_id</th>\n",
       "      <th>tweet_id_str</th>\n",
       "      <th>...</th>\n",
       "      <th>hashtags</th>\n",
       "      <th>source</th>\n",
       "      <th>language</th>\n",
       "      <th>screen_name</th>\n",
       "      <th>user_tweet_id</th>\n",
       "      <th>user_tweet_id_str</th>\n",
       "      <th>user_favourites_count</th>\n",
       "      <th>followers_count</th>\n",
       "      <th>friends_count</th>\n",
       "      <th>text</th>\n",
       "    </tr>\n",
       "  </thead>\n",
       "  <tbody>\n",
       "    <tr>\n",
       "      <th>0</th>\n",
       "      <td>2020-06-22 15:23:02.906515</td>\n",
       "      <td>2020-06-18 11:50:31+00:00</td>\n",
       "      <td>2020</td>\n",
       "      <td>6</td>\n",
       "      <td>18</td>\n",
       "      <td>3</td>\n",
       "      <td>11</td>\n",
       "      <td>50</td>\n",
       "      <td>1273583869753724930</td>\n",
       "      <td>1273583869753724930</td>\n",
       "      <td>...</td>\n",
       "      <td>[]</td>\n",
       "      <td>&lt;a href=\"https://mobile.twitter.com\" rel=\"nofo...</td>\n",
       "      <td>nl</td>\n",
       "      <td>GHengeveld</td>\n",
       "      <td>20709019</td>\n",
       "      <td>20709019</td>\n",
       "      <td>889</td>\n",
       "      <td>1485</td>\n",
       "      <td>1750</td>\n",
       "      <td>@jelleprins @picnic @JumboSupermarkt @alberthe...</td>\n",
       "    </tr>\n",
       "    <tr>\n",
       "      <th>1</th>\n",
       "      <td>2020-06-22 15:23:02.471327</td>\n",
       "      <td>2020-06-18 11:56:42+00:00</td>\n",
       "      <td>2020</td>\n",
       "      <td>6</td>\n",
       "      <td>18</td>\n",
       "      <td>3</td>\n",
       "      <td>11</td>\n",
       "      <td>56</td>\n",
       "      <td>1273585426268409859</td>\n",
       "      <td>1273585426268409859</td>\n",
       "      <td>...</td>\n",
       "      <td>[]</td>\n",
       "      <td>&lt;a href=\"http://twitter.com/download/iphone\" r...</td>\n",
       "      <td>nl</td>\n",
       "      <td>jelleprins</td>\n",
       "      <td>16546619</td>\n",
       "      <td>16546619</td>\n",
       "      <td>4419</td>\n",
       "      <td>10511</td>\n",
       "      <td>1063</td>\n",
       "      <td>@Oli4K @picnic @JumboSupermarkt @albertheijn L...</td>\n",
       "    </tr>\n",
       "  </tbody>\n",
       "</table>\n",
       "<p>2 rows × 23 columns</p>\n",
       "</div>"
      ],
      "text/plain": [
       "                    mined_at                created_at  year  month  day  \\\n",
       "0 2020-06-22 15:23:02.906515 2020-06-18 11:50:31+00:00  2020      6   18   \n",
       "1 2020-06-22 15:23:02.471327 2020-06-18 11:56:42+00:00  2020      6   18   \n",
       "\n",
       "   day_of_week  hour  minute             tweet_id         tweet_id_str  ...  \\\n",
       "0            3    11      50  1273583869753724930  1273583869753724930  ...   \n",
       "1            3    11      56  1273585426268409859  1273585426268409859  ...   \n",
       "\n",
       "  hashtags                                             source  language  \\\n",
       "0       []  <a href=\"https://mobile.twitter.com\" rel=\"nofo...        nl   \n",
       "1       []  <a href=\"http://twitter.com/download/iphone\" r...        nl   \n",
       "\n",
       "  screen_name user_tweet_id user_tweet_id_str user_favourites_count  \\\n",
       "0  GHengeveld      20709019          20709019                   889   \n",
       "1  jelleprins      16546619          16546619                  4419   \n",
       "\n",
       "   followers_count friends_count  \\\n",
       "0             1485          1750   \n",
       "1            10511          1063   \n",
       "\n",
       "                                                text  \n",
       "0  @jelleprins @picnic @JumboSupermarkt @alberthe...  \n",
       "1  @Oli4K @picnic @JumboSupermarkt @albertheijn L...  \n",
       "\n",
       "[2 rows x 23 columns]"
      ]
     },
     "execution_count": 45,
     "metadata": {},
     "output_type": "execute_result"
    }
   ],
   "source": [
    "df_query_03 = process_and_save(pd.DataFrame(result_03),\"query_03\",mine_user_twitter=0)\n",
    "df_query_03.head()"
   ]
  },
  {
   "cell_type": "code",
   "execution_count": 46,
   "metadata": {},
   "outputs": [
    {
     "name": "stdout",
     "output_type": "stream",
     "text": [
      "<class 'pandas.core.frame.DataFrame'>\n",
      "RangeIndex: 2 entries, 0 to 1\n",
      "Data columns (total 23 columns):\n",
      " #   Column                   Non-Null Count  Dtype              \n",
      "---  ------                   --------------  -----              \n",
      " 0   mined_at                 2 non-null      datetime64[ns]     \n",
      " 1   created_at               2 non-null      datetime64[ns, UTC]\n",
      " 2   year                     2 non-null      int64              \n",
      " 3   month                    2 non-null      int64              \n",
      " 4   day                      2 non-null      int64              \n",
      " 5   day_of_week              2 non-null      int64              \n",
      " 6   hour                     2 non-null      int64              \n",
      " 7   minute                   2 non-null      int64              \n",
      " 8   tweet_id                 2 non-null      int64              \n",
      " 9   tweet_id_str             2 non-null      object             \n",
      " 10  in_reply_to_screen_name  2 non-null      object             \n",
      " 11  in_reply_to_status_id    2 non-null      int64              \n",
      " 12  in_reply_to_user_id      2 non-null      int64              \n",
      " 13  hashtags                 2 non-null      object             \n",
      " 14  source                   2 non-null      object             \n",
      " 15  language                 2 non-null      object             \n",
      " 16  screen_name              2 non-null      object             \n",
      " 17  user_tweet_id            2 non-null      int64              \n",
      " 18  user_tweet_id_str        2 non-null      object             \n",
      " 19  user_favourites_count    2 non-null      int64              \n",
      " 20  followers_count          2 non-null      int64              \n",
      " 21  friends_count            2 non-null      int64              \n",
      " 22  text                     2 non-null      object             \n",
      "dtypes: datetime64[ns, UTC](1), datetime64[ns](1), int64(13), object(8)\n",
      "memory usage: 496.0+ bytes\n"
     ]
    }
   ],
   "source": [
    "df_query_03.info()"
   ]
  },
  {
   "cell_type": "code",
   "execution_count": 47,
   "metadata": {},
   "outputs": [
    {
     "data": {
      "text/plain": [
       "(Timestamp('2020-06-18 11:50:31+0000', tz='UTC'),\n",
       " Timestamp('2020-06-18 11:56:42+0000', tz='UTC'))"
      ]
     },
     "execution_count": 47,
     "metadata": {},
     "output_type": "execute_result"
    }
   ],
   "source": [
    "min(df_query_03['created_at']),max(df_query_03['created_at'])"
   ]
  },
  {
   "cell_type": "markdown",
   "metadata": {},
   "source": [
    "### Query_04:\n",
    "\n",
    "`All these words`: picnic covid\n",
    "\n",
    "**Result:** `https://twitter.com/search?q=picnic%20covid&src=typed_query`"
   ]
  },
  {
   "cell_type": "code",
   "execution_count": 52,
   "metadata": {},
   "outputs": [
    {
     "data": {
      "text/plain": [
       "300"
      ]
     },
     "execution_count": 52,
     "metadata": {},
     "output_type": "execute_result"
    }
   ],
   "source": [
    "query_04 = 'q=picnic%20covid'\n",
    "result_04 = TweetMiner.search_tweets(max_pages = 20, raw_query = query_04)\n",
    "len(result_04)"
   ]
  },
  {
   "cell_type": "code",
   "execution_count": 53,
   "metadata": {},
   "outputs": [
    {
     "data": {
      "text/plain": [
       "{'mined_at': datetime.datetime(2020, 6, 22, 15, 28, 28, 650354),\n",
       " 'created_at': 'Mon Jun 22 12:20:59 +0000 2020',\n",
       " 'tweet_id': 1275041091134210049,\n",
       " 'tweet_id_str': '1275041091134210049',\n",
       " 'language': 'en',\n",
       " 'text': 'RT @pune_pulse: #Pune Avoid picnic spots to curb Covid-19 spread: Pune cops - https://t.co/i4LTskL4P4',\n",
       " 'hashtags': [{'text': 'Pune'}],\n",
       " 'source': '<a href=\"http://twitter.com/download/android\" rel=\"nofollow\">Twitter for Android</a>',\n",
       " 'screen_name': 'robs25',\n",
       " 'user_tweet_id': 100519017,\n",
       " 'user_tweet_id_str': '100519017',\n",
       " 'followers_count': 103,\n",
       " 'friends_count': 259}"
      ]
     },
     "execution_count": 53,
     "metadata": {},
     "output_type": "execute_result"
    }
   ],
   "source": [
    "result_04[0]"
   ]
  },
  {
   "cell_type": "code",
   "execution_count": 54,
   "metadata": {
    "scrolled": true
   },
   "outputs": [
    {
     "data": {
      "text/html": [
       "<div>\n",
       "<style scoped>\n",
       "    .dataframe tbody tr th:only-of-type {\n",
       "        vertical-align: middle;\n",
       "    }\n",
       "\n",
       "    .dataframe tbody tr th {\n",
       "        vertical-align: top;\n",
       "    }\n",
       "\n",
       "    .dataframe thead th {\n",
       "        text-align: right;\n",
       "    }\n",
       "</style>\n",
       "<table border=\"1\" class=\"dataframe\">\n",
       "  <thead>\n",
       "    <tr style=\"text-align: right;\">\n",
       "      <th></th>\n",
       "      <th>mined_at</th>\n",
       "      <th>created_at</th>\n",
       "      <th>year</th>\n",
       "      <th>month</th>\n",
       "      <th>day</th>\n",
       "      <th>day_of_week</th>\n",
       "      <th>hour</th>\n",
       "      <th>minute</th>\n",
       "      <th>tweet_id</th>\n",
       "      <th>tweet_id_str</th>\n",
       "      <th>...</th>\n",
       "      <th>hashtags</th>\n",
       "      <th>source</th>\n",
       "      <th>language</th>\n",
       "      <th>screen_name</th>\n",
       "      <th>user_tweet_id</th>\n",
       "      <th>user_tweet_id_str</th>\n",
       "      <th>user_favourites_count</th>\n",
       "      <th>followers_count</th>\n",
       "      <th>friends_count</th>\n",
       "      <th>text</th>\n",
       "    </tr>\n",
       "  </thead>\n",
       "  <tbody>\n",
       "    <tr>\n",
       "      <th>0</th>\n",
       "      <td>2020-06-22 15:28:31.546323</td>\n",
       "      <td>2020-06-22 03:27:49+00:00</td>\n",
       "      <td>2020</td>\n",
       "      <td>6</td>\n",
       "      <td>22</td>\n",
       "      <td>0</td>\n",
       "      <td>3</td>\n",
       "      <td>27</td>\n",
       "      <td>1274906915143692288</td>\n",
       "      <td>1274906915143692288</td>\n",
       "      <td>...</td>\n",
       "      <td>[{'text': 'suspro'}, {'text': 'vegan'}]</td>\n",
       "      <td>&lt;a href=\"http://twitter.com/download/iphone\" r...</td>\n",
       "      <td>en</td>\n",
       "      <td>SusproFoods</td>\n",
       "      <td>869774415923261440</td>\n",
       "      <td>869774415923261440</td>\n",
       "      <td>NaN</td>\n",
       "      <td>207</td>\n",
       "      <td>324</td>\n",
       "      <td>Perfect timing for COVID-19 to die down a bit ...</td>\n",
       "    </tr>\n",
       "    <tr>\n",
       "      <th>1</th>\n",
       "      <td>2020-06-22 15:28:34.730877</td>\n",
       "      <td>2020-06-22 03:30:50+00:00</td>\n",
       "      <td>2020</td>\n",
       "      <td>6</td>\n",
       "      <td>22</td>\n",
       "      <td>0</td>\n",
       "      <td>3</td>\n",
       "      <td>30</td>\n",
       "      <td>1274907672333221889</td>\n",
       "      <td>1274907672333221889</td>\n",
       "      <td>...</td>\n",
       "      <td>[]</td>\n",
       "      <td>&lt;a href=\"https://www.qureet.com\" rel=\"nofollow...</td>\n",
       "      <td>en</td>\n",
       "      <td>LohasTopStories</td>\n",
       "      <td>3332182334</td>\n",
       "      <td>3332182334</td>\n",
       "      <td>NaN</td>\n",
       "      <td>8341</td>\n",
       "      <td>1493</td>\n",
       "      <td>RT @SusproFoods: Perfect timing for COVID-19 t...</td>\n",
       "    </tr>\n",
       "    <tr>\n",
       "      <th>2</th>\n",
       "      <td>2020-06-22 15:28:32.511010</td>\n",
       "      <td>2020-06-22 04:34:12+00:00</td>\n",
       "      <td>2020</td>\n",
       "      <td>6</td>\n",
       "      <td>22</td>\n",
       "      <td>0</td>\n",
       "      <td>4</td>\n",
       "      <td>34</td>\n",
       "      <td>1274923618498207744</td>\n",
       "      <td>1274923618498207744</td>\n",
       "      <td>...</td>\n",
       "      <td>[]</td>\n",
       "      <td>&lt;a href=\"http://twitter.com/download/iphone\" r...</td>\n",
       "      <td>es</td>\n",
       "      <td>ramirez_f23</td>\n",
       "      <td>1584172249</td>\n",
       "      <td>1584172249</td>\n",
       "      <td>NaN</td>\n",
       "      <td>1378</td>\n",
       "      <td>580</td>\n",
       "      <td>Yo cuando no fui a Picnic porque estaba ahorra...</td>\n",
       "    </tr>\n",
       "    <tr>\n",
       "      <th>3</th>\n",
       "      <td>2020-06-22 15:28:33.439709</td>\n",
       "      <td>2020-06-22 05:53:41+00:00</td>\n",
       "      <td>2020</td>\n",
       "      <td>6</td>\n",
       "      <td>22</td>\n",
       "      <td>0</td>\n",
       "      <td>5</td>\n",
       "      <td>53</td>\n",
       "      <td>1274943622836744192</td>\n",
       "      <td>1274943622836744192</td>\n",
       "      <td>...</td>\n",
       "      <td>[]</td>\n",
       "      <td>&lt;a href=\"http://twitter.com/download/iphone\" r...</td>\n",
       "      <td>en</td>\n",
       "      <td>SerenasSoapbox</td>\n",
       "      <td>15213963</td>\n",
       "      <td>15213963</td>\n",
       "      <td>44052.0</td>\n",
       "      <td>425</td>\n",
       "      <td>781</td>\n",
       "      <td>@carolduncan Yep. The ongoing health problems ...</td>\n",
       "    </tr>\n",
       "    <tr>\n",
       "      <th>4</th>\n",
       "      <td>2020-06-22 15:28:34.730877</td>\n",
       "      <td>2020-06-22 06:13:20+00:00</td>\n",
       "      <td>2020</td>\n",
       "      <td>6</td>\n",
       "      <td>22</td>\n",
       "      <td>0</td>\n",
       "      <td>6</td>\n",
       "      <td>13</td>\n",
       "      <td>1274948565530316801</td>\n",
       "      <td>1274948565530316801</td>\n",
       "      <td>...</td>\n",
       "      <td>[]</td>\n",
       "      <td>&lt;a href=\"https://mobile.twitter.com\" rel=\"nofo...</td>\n",
       "      <td>en</td>\n",
       "      <td>nessiejones22</td>\n",
       "      <td>3647429599</td>\n",
       "      <td>3647429599</td>\n",
       "      <td>NaN</td>\n",
       "      <td>591</td>\n",
       "      <td>785</td>\n",
       "      <td>During our covid world, would you use a picnic...</td>\n",
       "    </tr>\n",
       "  </tbody>\n",
       "</table>\n",
       "<p>5 rows × 23 columns</p>\n",
       "</div>"
      ],
      "text/plain": [
       "                    mined_at                created_at  year  month  day  \\\n",
       "0 2020-06-22 15:28:31.546323 2020-06-22 03:27:49+00:00  2020      6   22   \n",
       "1 2020-06-22 15:28:34.730877 2020-06-22 03:30:50+00:00  2020      6   22   \n",
       "2 2020-06-22 15:28:32.511010 2020-06-22 04:34:12+00:00  2020      6   22   \n",
       "3 2020-06-22 15:28:33.439709 2020-06-22 05:53:41+00:00  2020      6   22   \n",
       "4 2020-06-22 15:28:34.730877 2020-06-22 06:13:20+00:00  2020      6   22   \n",
       "\n",
       "   day_of_week  hour  minute             tweet_id         tweet_id_str  ...  \\\n",
       "0            0     3      27  1274906915143692288  1274906915143692288  ...   \n",
       "1            0     3      30  1274907672333221889  1274907672333221889  ...   \n",
       "2            0     4      34  1274923618498207744  1274923618498207744  ...   \n",
       "3            0     5      53  1274943622836744192  1274943622836744192  ...   \n",
       "4            0     6      13  1274948565530316801  1274948565530316801  ...   \n",
       "\n",
       "                                  hashtags  \\\n",
       "0  [{'text': 'suspro'}, {'text': 'vegan'}]   \n",
       "1                                       []   \n",
       "2                                       []   \n",
       "3                                       []   \n",
       "4                                       []   \n",
       "\n",
       "                                              source  language  \\\n",
       "0  <a href=\"http://twitter.com/download/iphone\" r...        en   \n",
       "1  <a href=\"https://www.qureet.com\" rel=\"nofollow...        en   \n",
       "2  <a href=\"http://twitter.com/download/iphone\" r...        es   \n",
       "3  <a href=\"http://twitter.com/download/iphone\" r...        en   \n",
       "4  <a href=\"https://mobile.twitter.com\" rel=\"nofo...        en   \n",
       "\n",
       "       screen_name       user_tweet_id   user_tweet_id_str  \\\n",
       "0      SusproFoods  869774415923261440  869774415923261440   \n",
       "1  LohasTopStories          3332182334          3332182334   \n",
       "2      ramirez_f23          1584172249          1584172249   \n",
       "3   SerenasSoapbox            15213963            15213963   \n",
       "4    nessiejones22          3647429599          3647429599   \n",
       "\n",
       "  user_favourites_count  followers_count friends_count  \\\n",
       "0                   NaN              207           324   \n",
       "1                   NaN             8341          1493   \n",
       "2                   NaN             1378           580   \n",
       "3               44052.0              425           781   \n",
       "4                   NaN              591           785   \n",
       "\n",
       "                                                text  \n",
       "0  Perfect timing for COVID-19 to die down a bit ...  \n",
       "1  RT @SusproFoods: Perfect timing for COVID-19 t...  \n",
       "2  Yo cuando no fui a Picnic porque estaba ahorra...  \n",
       "3  @carolduncan Yep. The ongoing health problems ...  \n",
       "4  During our covid world, would you use a picnic...  \n",
       "\n",
       "[5 rows x 23 columns]"
      ]
     },
     "execution_count": 54,
     "metadata": {},
     "output_type": "execute_result"
    }
   ],
   "source": [
    "df_query_04 = process_and_save(pd.DataFrame(result_04),\"query_04\",mine_user_twitter=0)\n",
    "df_query_04.head()"
   ]
  },
  {
   "cell_type": "code",
   "execution_count": 55,
   "metadata": {},
   "outputs": [
    {
     "name": "stdout",
     "output_type": "stream",
     "text": [
      "<class 'pandas.core.frame.DataFrame'>\n",
      "RangeIndex: 15 entries, 0 to 14\n",
      "Data columns (total 23 columns):\n",
      " #   Column                   Non-Null Count  Dtype              \n",
      "---  ------                   --------------  -----              \n",
      " 0   mined_at                 15 non-null     datetime64[ns]     \n",
      " 1   created_at               15 non-null     datetime64[ns, UTC]\n",
      " 2   year                     15 non-null     int64              \n",
      " 3   month                    15 non-null     int64              \n",
      " 4   day                      15 non-null     int64              \n",
      " 5   day_of_week              15 non-null     int64              \n",
      " 6   hour                     15 non-null     int64              \n",
      " 7   minute                   15 non-null     int64              \n",
      " 8   tweet_id                 15 non-null     int64              \n",
      " 9   tweet_id_str             15 non-null     object             \n",
      " 10  in_reply_to_screen_name  2 non-null      object             \n",
      " 11  in_reply_to_status_id    2 non-null      float64            \n",
      " 12  in_reply_to_user_id      2 non-null      float64            \n",
      " 13  hashtags                 15 non-null     object             \n",
      " 14  source                   15 non-null     object             \n",
      " 15  language                 15 non-null     object             \n",
      " 16  screen_name              15 non-null     object             \n",
      " 17  user_tweet_id            15 non-null     int64              \n",
      " 18  user_tweet_id_str        15 non-null     object             \n",
      " 19  user_favourites_count    2 non-null      float64            \n",
      " 20  followers_count          15 non-null     int64              \n",
      " 21  friends_count            15 non-null     int64              \n",
      " 22  text                     15 non-null     object             \n",
      "dtypes: datetime64[ns, UTC](1), datetime64[ns](1), float64(3), int64(10), object(8)\n",
      "memory usage: 2.8+ KB\n"
     ]
    }
   ],
   "source": [
    "df_query_04.info()"
   ]
  },
  {
   "cell_type": "code",
   "execution_count": 57,
   "metadata": {},
   "outputs": [
    {
     "data": {
      "text/plain": [
       "array(['Perfect timing for COVID-19 to die down a bit as the sun starts to shine. Go out and enjoy but remember to stay socially distance. Various outdoor ideas include picnic, hiking, walking in the park, jogging, or golfing. What are some of your favourite activities? #suspro #vegan https://t.co/N1DbJSFSt4',\n",
       "       'RT @SusproFoods: Perfect timing for COVID-19 to die down a bit as the sun starts to shine. Go out and enjoy but remember to stay socially d…',\n",
       "       'Yo cuando no fui a Picnic porque estaba ahorrando para mi viaje y tampoco fui a mi viaje por el Covid: https://t.co/CTFtt3f54J',\n",
       "       '@carolduncan Yep. The ongoing health problems for those who have ‘recovered’ sound terrible. No thank you. \\n\\nI got shingles in the ear at 42. Nearly lost my hearing in one ear, damaged my balance. Live with tinnitus. Took 12 months to regain energy. Yet sounds like a picnic compared to covid',\n",
       "       'During our covid world, would you use a picnic table in a public park?',\n",
       "       'Business resilience in the time of COVID-19: The story of a picnic company, a magician and a corporate training firm https://t.co/aNzZ3pDuqk',\n",
       "       'Business resilience in the time of COVID-19: The story of a picnic company, a magician and a corporate training firm https://t.co/6w3qSjdjuq',\n",
       "       \"@Xephelias_Sama Avec le COVID c'est un peu chaud mais promis le picnic quand ce sera plus safe hein\",\n",
       "       '#Pune Avoid picnic spots to curb Covid-19 spread: Pune cops - https://t.co/i4LTskL4P4',\n",
       "       'RT @pune_pulse: #Pune Avoid picnic spots to curb Covid-19 spread: Pune cops - https://t.co/i4LTskL4P4',\n",
       "       \"Mr Buckeridge's Collective Worship during COVID-19. Join us as we enjoy some food, have a story about a picnic and ask why Jesus likened Himself to Bread! \\nhttps://t.co/PplCW3XXil\",\n",
       "       '[COVID-19 News, Skyhigh. Vip]  Inspiring stories of how small business transform their business model into digital, something that never they thought before.  -ITA-\\n\\n. \\n#entrepreneurship  #businessmodel \\nhttps://t.co/m6uCCAtzKM',\n",
       "       \"Can't wait for our cute 1,5 meters apart cause of covid picnic 💕\",\n",
       "       'My friends mum passed away from Covid and she has no idea all her childhood friends are descending to the flats we grew up in for a socially distanced picnic to cheer her up. I hate this bastard govt that it has to be this way',\n",
       "       'RT @pune_pulse: #Pune Avoid picnic spots to curb Covid-19 spread: Pune cops - https://t.co/i4LTskL4P4'],\n",
       "      dtype=object)"
      ]
     },
     "execution_count": 57,
     "metadata": {},
     "output_type": "execute_result"
    }
   ],
   "source": [
    "df_query_04['text'].values"
   ]
  },
  {
   "cell_type": "markdown",
   "metadata": {},
   "source": [
    "Well it seems that is not really the picnic we are looking for, so let's try `@picnic, covid`"
   ]
  },
  {
   "cell_type": "markdown",
   "metadata": {},
   "source": [
    "### Query_04B:\n",
    "\n",
    "`All these words`: @picnic covid\n",
    "\n",
    "**Result:** `https://twitter.com/search?q=%40picnic%20covid&src=typed_query`"
   ]
  },
  {
   "cell_type": "code",
   "execution_count": 59,
   "metadata": {},
   "outputs": [
    {
     "data": {
      "text/plain": [
       "0"
      ]
     },
     "execution_count": 59,
     "metadata": {},
     "output_type": "execute_result"
    }
   ],
   "source": [
    "query_04B = 'q=%40picnic%20covid'\n",
    "result_04B = TweetMiner.search_tweets(max_pages = 20, raw_query = query_04B)\n",
    "len(result_04B)"
   ]
  },
  {
   "cell_type": "markdown",
   "metadata": {},
   "source": [
    "The webpage shows the most recent result from April so the API didn't catch tweets here. So no results for this query unfortunately."
   ]
  },
  {
   "cell_type": "markdown",
   "metadata": {},
   "source": [
    "### Query_05:\n",
    "\n",
    "`All these words`: JumboSupermarkt covid\n",
    "\n",
    "**Result:** `https://twitter.com/search?q=JumboSupermarkt%20covid&src=typed_query`"
   ]
  },
  {
   "cell_type": "code",
   "execution_count": 60,
   "metadata": {},
   "outputs": [
    {
     "data": {
      "text/plain": [
       "40"
      ]
     },
     "execution_count": 60,
     "metadata": {},
     "output_type": "execute_result"
    }
   ],
   "source": [
    "query_05 = 'q=JumboSupermarkt%20covid'\n",
    "result_05 = TweetMiner.search_tweets(max_pages = 20, raw_query = query_05)\n",
    "len(result_05)"
   ]
  },
  {
   "cell_type": "code",
   "execution_count": 61,
   "metadata": {},
   "outputs": [
    {
     "data": {
      "text/plain": [
       "{'mined_at': datetime.datetime(2020, 6, 22, 15, 39, 17, 660221),\n",
       " 'created_at': 'Sun Jun 21 09:33:32 +0000 2020',\n",
       " 'tweet_id': 1274636561704005632,\n",
       " 'tweet_id_str': '1274636561704005632',\n",
       " 'in_reply_to_screen_name': 'deAZfan',\n",
       " 'in_reply_to_status_id': 1274396337396690944,\n",
       " 'in_reply_to_user_id': 23193959,\n",
       " 'language': 'nl',\n",
       " 'text': \"@deAZfan De 'Vierde wachtende' regel geldt tijdelijk niet i.v.m. de situatie rondom Covid-19. We blijven uiteraard wel ons uiterste best doen alle klanten zo vlot mogelijk te helpen. 🙂 ^LL\",\n",
       " 'hashtags': [],\n",
       " 'source': '<a href=\"https://mobile.twitter.com\" rel=\"nofollow\">Twitter Web App</a>',\n",
       " 'screen_name': 'JumboSupermarkt',\n",
       " 'user_tweet_id': 2797822974,\n",
       " 'user_tweet_id_str': '2797822974',\n",
       " 'user_favourites_count': 3764,\n",
       " 'followers_count': 16212,\n",
       " 'friends_count': 1711}"
      ]
     },
     "execution_count": 61,
     "metadata": {},
     "output_type": "execute_result"
    }
   ],
   "source": [
    "result_05[0]"
   ]
  },
  {
   "cell_type": "code",
   "execution_count": 62,
   "metadata": {
    "scrolled": true
   },
   "outputs": [
    {
     "data": {
      "text/html": [
       "<div>\n",
       "<style scoped>\n",
       "    .dataframe tbody tr th:only-of-type {\n",
       "        vertical-align: middle;\n",
       "    }\n",
       "\n",
       "    .dataframe tbody tr th {\n",
       "        vertical-align: top;\n",
       "    }\n",
       "\n",
       "    .dataframe thead th {\n",
       "        text-align: right;\n",
       "    }\n",
       "</style>\n",
       "<table border=\"1\" class=\"dataframe\">\n",
       "  <thead>\n",
       "    <tr style=\"text-align: right;\">\n",
       "      <th></th>\n",
       "      <th>mined_at</th>\n",
       "      <th>created_at</th>\n",
       "      <th>year</th>\n",
       "      <th>month</th>\n",
       "      <th>day</th>\n",
       "      <th>day_of_week</th>\n",
       "      <th>hour</th>\n",
       "      <th>minute</th>\n",
       "      <th>tweet_id</th>\n",
       "      <th>tweet_id_str</th>\n",
       "      <th>...</th>\n",
       "      <th>hashtags</th>\n",
       "      <th>source</th>\n",
       "      <th>language</th>\n",
       "      <th>screen_name</th>\n",
       "      <th>user_tweet_id</th>\n",
       "      <th>user_tweet_id_str</th>\n",
       "      <th>user_favourites_count</th>\n",
       "      <th>followers_count</th>\n",
       "      <th>friends_count</th>\n",
       "      <th>text</th>\n",
       "    </tr>\n",
       "  </thead>\n",
       "  <tbody>\n",
       "    <tr>\n",
       "      <th>0</th>\n",
       "      <td>2020-06-22 15:39:19.984488</td>\n",
       "      <td>2020-06-20 17:25:49+00:00</td>\n",
       "      <td>2020</td>\n",
       "      <td>6</td>\n",
       "      <td>20</td>\n",
       "      <td>5</td>\n",
       "      <td>17</td>\n",
       "      <td>25</td>\n",
       "      <td>1274393028183162881</td>\n",
       "      <td>1274393028183162881</td>\n",
       "      <td>...</td>\n",
       "      <td>[{'text': 'Utrecht'}, {'text': 'merelstraat'},...</td>\n",
       "      <td>&lt;a href=\"http://twitter.com/download/android\" ...</td>\n",
       "      <td>nl</td>\n",
       "      <td>milieuzone</td>\n",
       "      <td>3567511941</td>\n",
       "      <td>3567511941</td>\n",
       "      <td>NaN</td>\n",
       "      <td>171</td>\n",
       "      <td>75</td>\n",
       "      <td>Complimenten aan @JumboSupermarkt #Utrecht #me...</td>\n",
       "    </tr>\n",
       "    <tr>\n",
       "      <th>1</th>\n",
       "      <td>2020-06-22 15:39:19.507553</td>\n",
       "      <td>2020-06-21 09:33:32+00:00</td>\n",
       "      <td>2020</td>\n",
       "      <td>6</td>\n",
       "      <td>21</td>\n",
       "      <td>6</td>\n",
       "      <td>9</td>\n",
       "      <td>33</td>\n",
       "      <td>1274636561704005632</td>\n",
       "      <td>1274636561704005632</td>\n",
       "      <td>...</td>\n",
       "      <td>[]</td>\n",
       "      <td>&lt;a href=\"https://mobile.twitter.com\" rel=\"nofo...</td>\n",
       "      <td>nl</td>\n",
       "      <td>JumboSupermarkt</td>\n",
       "      <td>2797822974</td>\n",
       "      <td>2797822974</td>\n",
       "      <td>3764.0</td>\n",
       "      <td>16212</td>\n",
       "      <td>1711</td>\n",
       "      <td>@deAZfan De 'Vierde wachtende' regel geldt tij...</td>\n",
       "    </tr>\n",
       "  </tbody>\n",
       "</table>\n",
       "<p>2 rows × 23 columns</p>\n",
       "</div>"
      ],
      "text/plain": [
       "                    mined_at                created_at  year  month  day  \\\n",
       "0 2020-06-22 15:39:19.984488 2020-06-20 17:25:49+00:00  2020      6   20   \n",
       "1 2020-06-22 15:39:19.507553 2020-06-21 09:33:32+00:00  2020      6   21   \n",
       "\n",
       "   day_of_week  hour  minute             tweet_id         tweet_id_str  ...  \\\n",
       "0            5    17      25  1274393028183162881  1274393028183162881  ...   \n",
       "1            6     9      33  1274636561704005632  1274636561704005632  ...   \n",
       "\n",
       "                                            hashtags  \\\n",
       "0  [{'text': 'Utrecht'}, {'text': 'merelstraat'},...   \n",
       "1                                                 []   \n",
       "\n",
       "                                              source  language  \\\n",
       "0  <a href=\"http://twitter.com/download/android\" ...        nl   \n",
       "1  <a href=\"https://mobile.twitter.com\" rel=\"nofo...        nl   \n",
       "\n",
       "       screen_name user_tweet_id user_tweet_id_str user_favourites_count  \\\n",
       "0       milieuzone    3567511941        3567511941                   NaN   \n",
       "1  JumboSupermarkt    2797822974        2797822974                3764.0   \n",
       "\n",
       "   followers_count friends_count  \\\n",
       "0              171            75   \n",
       "1            16212          1711   \n",
       "\n",
       "                                                text  \n",
       "0  Complimenten aan @JumboSupermarkt #Utrecht #me...  \n",
       "1  @deAZfan De 'Vierde wachtende' regel geldt tij...  \n",
       "\n",
       "[2 rows x 23 columns]"
      ]
     },
     "execution_count": 62,
     "metadata": {},
     "output_type": "execute_result"
    }
   ],
   "source": [
    "df_query_05 = process_and_save(pd.DataFrame(result_05),\"query_05\",mine_user_twitter=0)\n",
    "df_query_05.head()"
   ]
  },
  {
   "cell_type": "code",
   "execution_count": 63,
   "metadata": {},
   "outputs": [
    {
     "name": "stdout",
     "output_type": "stream",
     "text": [
      "<class 'pandas.core.frame.DataFrame'>\n",
      "RangeIndex: 2 entries, 0 to 1\n",
      "Data columns (total 23 columns):\n",
      " #   Column                   Non-Null Count  Dtype              \n",
      "---  ------                   --------------  -----              \n",
      " 0   mined_at                 2 non-null      datetime64[ns]     \n",
      " 1   created_at               2 non-null      datetime64[ns, UTC]\n",
      " 2   year                     2 non-null      int64              \n",
      " 3   month                    2 non-null      int64              \n",
      " 4   day                      2 non-null      int64              \n",
      " 5   day_of_week              2 non-null      int64              \n",
      " 6   hour                     2 non-null      int64              \n",
      " 7   minute                   2 non-null      int64              \n",
      " 8   tweet_id                 2 non-null      int64              \n",
      " 9   tweet_id_str             2 non-null      object             \n",
      " 10  in_reply_to_screen_name  1 non-null      object             \n",
      " 11  in_reply_to_status_id    1 non-null      float64            \n",
      " 12  in_reply_to_user_id      1 non-null      float64            \n",
      " 13  hashtags                 2 non-null      object             \n",
      " 14  source                   2 non-null      object             \n",
      " 15  language                 2 non-null      object             \n",
      " 16  screen_name              2 non-null      object             \n",
      " 17  user_tweet_id            2 non-null      int64              \n",
      " 18  user_tweet_id_str        2 non-null      object             \n",
      " 19  user_favourites_count    1 non-null      float64            \n",
      " 20  followers_count          2 non-null      int64              \n",
      " 21  friends_count            2 non-null      int64              \n",
      " 22  text                     2 non-null      object             \n",
      "dtypes: datetime64[ns, UTC](1), datetime64[ns](1), float64(3), int64(10), object(8)\n",
      "memory usage: 496.0+ bytes\n"
     ]
    }
   ],
   "source": [
    "df_query_05.info()"
   ]
  },
  {
   "cell_type": "markdown",
   "metadata": {},
   "source": [
    "### Query_06:\n",
    "\n",
    "`All these words`: albertheijn covid ah\n",
    "\n",
    "**Result:** `https://twitter.com/search?q=albertheijn%20covid&src=typed_query`"
   ]
  },
  {
   "cell_type": "code",
   "execution_count": 64,
   "metadata": {},
   "outputs": [
    {
     "data": {
      "text/plain": [
       "140"
      ]
     },
     "execution_count": 64,
     "metadata": {},
     "output_type": "execute_result"
    }
   ],
   "source": [
    "query_06 = 'q=albertheijn%20covid'\n",
    "result_06 = TweetMiner.search_tweets(max_pages = 20, raw_query = query_06)\n",
    "len(result_06)"
   ]
  },
  {
   "cell_type": "code",
   "execution_count": 65,
   "metadata": {},
   "outputs": [
    {
     "data": {
      "text/plain": [
       "{'mined_at': datetime.datetime(2020, 6, 22, 15, 40, 19, 348835),\n",
       " 'created_at': 'Mon Jun 22 10:17:30 +0000 2020',\n",
       " 'tweet_id': 1275010013401165825,\n",
       " 'tweet_id_str': '1275010013401165825',\n",
       " 'language': 'en',\n",
       " 'text': 'Do Masks Really Protect Against Covid? https://t.co/y0LHaB0UpO\\nvia @YouTube \\n\\n@ContainmentNU @RIVM @MarkRutte @CSSD_GovNL @albertheijn @jumbonl @ExpaticaNL @DutchNewsNL @dutchdailynews',\n",
       " 'hashtags': [],\n",
       " 'source': '<a href=\"https://mobile.twitter.com\" rel=\"nofollow\">Twitter Web App</a>',\n",
       " 'screen_name': 'Roxann_Minerals',\n",
       " 'user_tweet_id': 726089858607894529,\n",
       " 'user_tweet_id_str': '726089858607894529',\n",
       " 'followers_count': 1818,\n",
       " 'friends_count': 4999}"
      ]
     },
     "execution_count": 65,
     "metadata": {},
     "output_type": "execute_result"
    }
   ],
   "source": [
    "result_06[0]"
   ]
  },
  {
   "cell_type": "code",
   "execution_count": 66,
   "metadata": {
    "scrolled": true
   },
   "outputs": [
    {
     "data": {
      "text/html": [
       "<div>\n",
       "<style scoped>\n",
       "    .dataframe tbody tr th:only-of-type {\n",
       "        vertical-align: middle;\n",
       "    }\n",
       "\n",
       "    .dataframe tbody tr th {\n",
       "        vertical-align: top;\n",
       "    }\n",
       "\n",
       "    .dataframe thead th {\n",
       "        text-align: right;\n",
       "    }\n",
       "</style>\n",
       "<table border=\"1\" class=\"dataframe\">\n",
       "  <thead>\n",
       "    <tr style=\"text-align: right;\">\n",
       "      <th></th>\n",
       "      <th>mined_at</th>\n",
       "      <th>created_at</th>\n",
       "      <th>year</th>\n",
       "      <th>month</th>\n",
       "      <th>day</th>\n",
       "      <th>day_of_week</th>\n",
       "      <th>hour</th>\n",
       "      <th>minute</th>\n",
       "      <th>tweet_id</th>\n",
       "      <th>tweet_id_str</th>\n",
       "      <th>...</th>\n",
       "      <th>hashtags</th>\n",
       "      <th>source</th>\n",
       "      <th>language</th>\n",
       "      <th>screen_name</th>\n",
       "      <th>user_tweet_id</th>\n",
       "      <th>user_tweet_id_str</th>\n",
       "      <th>user_favourites_count</th>\n",
       "      <th>followers_count</th>\n",
       "      <th>friends_count</th>\n",
       "      <th>text</th>\n",
       "    </tr>\n",
       "  </thead>\n",
       "  <tbody>\n",
       "    <tr>\n",
       "      <th>0</th>\n",
       "      <td>2020-06-22 15:40:21.915583</td>\n",
       "      <td>2020-06-14 18:37:37+00:00</td>\n",
       "      <td>2020</td>\n",
       "      <td>6</td>\n",
       "      <td>14</td>\n",
       "      <td>6</td>\n",
       "      <td>18</td>\n",
       "      <td>37</td>\n",
       "      <td>1272236769145208833</td>\n",
       "      <td>1272236769145208833</td>\n",
       "      <td>...</td>\n",
       "      <td>[]</td>\n",
       "      <td>&lt;a href=\"https://mobile.twitter.com\" rel=\"nofo...</td>\n",
       "      <td>en</td>\n",
       "      <td>vai3333</td>\n",
       "      <td>207973622</td>\n",
       "      <td>207973622</td>\n",
       "      <td>NaN</td>\n",
       "      <td>7182</td>\n",
       "      <td>5301</td>\n",
       "      <td>RT @AnimalStill: There comes a moment you find...</td>\n",
       "    </tr>\n",
       "    <tr>\n",
       "      <th>1</th>\n",
       "      <td>2020-06-22 15:40:21.646966</td>\n",
       "      <td>2020-06-18 09:59:31+00:00</td>\n",
       "      <td>2020</td>\n",
       "      <td>6</td>\n",
       "      <td>18</td>\n",
       "      <td>3</td>\n",
       "      <td>9</td>\n",
       "      <td>59</td>\n",
       "      <td>1273555936356061186</td>\n",
       "      <td>1273555936356061186</td>\n",
       "      <td>...</td>\n",
       "      <td>[{'text': 'Covid_19'}]</td>\n",
       "      <td>&lt;a href=\"https://mobile.twitter.com\" rel=\"nofo...</td>\n",
       "      <td>nl</td>\n",
       "      <td>ChristienJanson</td>\n",
       "      <td>40452837</td>\n",
       "      <td>40452837</td>\n",
       "      <td>NaN</td>\n",
       "      <td>592</td>\n",
       "      <td>1100</td>\n",
       "      <td>Goh @albertheijn Almere Lavendelplantsoen, gee...</td>\n",
       "    </tr>\n",
       "    <tr>\n",
       "      <th>2</th>\n",
       "      <td>2020-06-22 15:40:21.646966</td>\n",
       "      <td>2020-06-18 17:10:57+00:00</td>\n",
       "      <td>2020</td>\n",
       "      <td>6</td>\n",
       "      <td>18</td>\n",
       "      <td>3</td>\n",
       "      <td>17</td>\n",
       "      <td>10</td>\n",
       "      <td>1273664510591733762</td>\n",
       "      <td>1273664510591733762</td>\n",
       "      <td>...</td>\n",
       "      <td>[{'text': 'Retail'}, {'text': 'Innovatie'}, {'...</td>\n",
       "      <td>&lt;a href=\"http://www.linkedin.com/\" rel=\"nofoll...</td>\n",
       "      <td>und</td>\n",
       "      <td>buisman_pro</td>\n",
       "      <td>756432448561487872</td>\n",
       "      <td>756432448561487872</td>\n",
       "      <td>NaN</td>\n",
       "      <td>165</td>\n",
       "      <td>1321</td>\n",
       "      <td>#Retail #Innovatie #Covid_19 😷 #AlbertHeijn #C...</td>\n",
       "    </tr>\n",
       "    <tr>\n",
       "      <th>3</th>\n",
       "      <td>2020-06-22 15:40:19.348835</td>\n",
       "      <td>2020-06-19 20:43:35+00:00</td>\n",
       "      <td>2020</td>\n",
       "      <td>6</td>\n",
       "      <td>19</td>\n",
       "      <td>4</td>\n",
       "      <td>20</td>\n",
       "      <td>43</td>\n",
       "      <td>1274080408028753920</td>\n",
       "      <td>1274080408028753920</td>\n",
       "      <td>...</td>\n",
       "      <td>[{'text': 'WillemAlexander'}, {'text': 'veroni...</td>\n",
       "      <td>&lt;a href=\"http://twitter.com/download/iphone\" r...</td>\n",
       "      <td>nl</td>\n",
       "      <td>wendersinke</td>\n",
       "      <td>381493231</td>\n",
       "      <td>381493231</td>\n",
       "      <td>NaN</td>\n",
       "      <td>606</td>\n",
       "      <td>519</td>\n",
       "      <td>Iedereen heeft wel iets te zeggen, maar soms n...</td>\n",
       "    </tr>\n",
       "    <tr>\n",
       "      <th>4</th>\n",
       "      <td>2020-06-22 15:40:20.110558</td>\n",
       "      <td>2020-06-20 06:14:39+00:00</td>\n",
       "      <td>2020</td>\n",
       "      <td>6</td>\n",
       "      <td>20</td>\n",
       "      <td>5</td>\n",
       "      <td>6</td>\n",
       "      <td>14</td>\n",
       "      <td>1274224124836089857</td>\n",
       "      <td>1274224124836089857</td>\n",
       "      <td>...</td>\n",
       "      <td>[{'text': 'Jumbo'}]</td>\n",
       "      <td>&lt;a href=\"https://mobile.twitter.com\" rel=\"nofo...</td>\n",
       "      <td>en</td>\n",
       "      <td>JeannetteWezen1</td>\n",
       "      <td>1235877748163383296</td>\n",
       "      <td>1235877748163383296</td>\n",
       "      <td>7290.0</td>\n",
       "      <td>180</td>\n",
       "      <td>165</td>\n",
       "      <td>@marutza_mh @albertheijn #Jumbo is selling bre...</td>\n",
       "    </tr>\n",
       "  </tbody>\n",
       "</table>\n",
       "<p>5 rows × 23 columns</p>\n",
       "</div>"
      ],
      "text/plain": [
       "                    mined_at                created_at  year  month  day  \\\n",
       "0 2020-06-22 15:40:21.915583 2020-06-14 18:37:37+00:00  2020      6   14   \n",
       "1 2020-06-22 15:40:21.646966 2020-06-18 09:59:31+00:00  2020      6   18   \n",
       "2 2020-06-22 15:40:21.646966 2020-06-18 17:10:57+00:00  2020      6   18   \n",
       "3 2020-06-22 15:40:19.348835 2020-06-19 20:43:35+00:00  2020      6   19   \n",
       "4 2020-06-22 15:40:20.110558 2020-06-20 06:14:39+00:00  2020      6   20   \n",
       "\n",
       "   day_of_week  hour  minute             tweet_id         tweet_id_str  ...  \\\n",
       "0            6    18      37  1272236769145208833  1272236769145208833  ...   \n",
       "1            3     9      59  1273555936356061186  1273555936356061186  ...   \n",
       "2            3    17      10  1273664510591733762  1273664510591733762  ...   \n",
       "3            4    20      43  1274080408028753920  1274080408028753920  ...   \n",
       "4            5     6      14  1274224124836089857  1274224124836089857  ...   \n",
       "\n",
       "                                            hashtags  \\\n",
       "0                                                 []   \n",
       "1                             [{'text': 'Covid_19'}]   \n",
       "2  [{'text': 'Retail'}, {'text': 'Innovatie'}, {'...   \n",
       "3  [{'text': 'WillemAlexander'}, {'text': 'veroni...   \n",
       "4                                [{'text': 'Jumbo'}]   \n",
       "\n",
       "                                              source  language  \\\n",
       "0  <a href=\"https://mobile.twitter.com\" rel=\"nofo...        en   \n",
       "1  <a href=\"https://mobile.twitter.com\" rel=\"nofo...        nl   \n",
       "2  <a href=\"http://www.linkedin.com/\" rel=\"nofoll...       und   \n",
       "3  <a href=\"http://twitter.com/download/iphone\" r...        nl   \n",
       "4  <a href=\"https://mobile.twitter.com\" rel=\"nofo...        en   \n",
       "\n",
       "       screen_name        user_tweet_id    user_tweet_id_str  \\\n",
       "0          vai3333            207973622            207973622   \n",
       "1  ChristienJanson             40452837             40452837   \n",
       "2      buisman_pro   756432448561487872   756432448561487872   \n",
       "3      wendersinke            381493231            381493231   \n",
       "4  JeannetteWezen1  1235877748163383296  1235877748163383296   \n",
       "\n",
       "  user_favourites_count  followers_count friends_count  \\\n",
       "0                   NaN             7182          5301   \n",
       "1                   NaN              592          1100   \n",
       "2                   NaN              165          1321   \n",
       "3                   NaN              606           519   \n",
       "4                7290.0              180           165   \n",
       "\n",
       "                                                text  \n",
       "0  RT @AnimalStill: There comes a moment you find...  \n",
       "1  Goh @albertheijn Almere Lavendelplantsoen, gee...  \n",
       "2  #Retail #Innovatie #Covid_19 😷 #AlbertHeijn #C...  \n",
       "3  Iedereen heeft wel iets te zeggen, maar soms n...  \n",
       "4  @marutza_mh @albertheijn #Jumbo is selling bre...  \n",
       "\n",
       "[5 rows x 23 columns]"
      ]
     },
     "execution_count": 66,
     "metadata": {},
     "output_type": "execute_result"
    }
   ],
   "source": [
    "df_query_06 = process_and_save(pd.DataFrame(result_06),\"query_06\",mine_user_twitter=0)\n",
    "df_query_06.head()"
   ]
  },
  {
   "cell_type": "code",
   "execution_count": 67,
   "metadata": {},
   "outputs": [
    {
     "name": "stdout",
     "output_type": "stream",
     "text": [
      "<class 'pandas.core.frame.DataFrame'>\n",
      "RangeIndex: 7 entries, 0 to 6\n",
      "Data columns (total 23 columns):\n",
      " #   Column                   Non-Null Count  Dtype              \n",
      "---  ------                   --------------  -----              \n",
      " 0   mined_at                 7 non-null      datetime64[ns]     \n",
      " 1   created_at               7 non-null      datetime64[ns, UTC]\n",
      " 2   year                     7 non-null      int64              \n",
      " 3   month                    7 non-null      int64              \n",
      " 4   day                      7 non-null      int64              \n",
      " 5   day_of_week              7 non-null      int64              \n",
      " 6   hour                     7 non-null      int64              \n",
      " 7   minute                   7 non-null      int64              \n",
      " 8   tweet_id                 7 non-null      int64              \n",
      " 9   tweet_id_str             7 non-null      object             \n",
      " 10  in_reply_to_screen_name  1 non-null      object             \n",
      " 11  in_reply_to_status_id    1 non-null      float64            \n",
      " 12  in_reply_to_user_id      1 non-null      float64            \n",
      " 13  hashtags                 7 non-null      object             \n",
      " 14  source                   7 non-null      object             \n",
      " 15  language                 7 non-null      object             \n",
      " 16  screen_name              7 non-null      object             \n",
      " 17  user_tweet_id            7 non-null      int64              \n",
      " 18  user_tweet_id_str        7 non-null      object             \n",
      " 19  user_favourites_count    1 non-null      float64            \n",
      " 20  followers_count          7 non-null      int64              \n",
      " 21  friends_count            7 non-null      int64              \n",
      " 22  text                     7 non-null      object             \n",
      "dtypes: datetime64[ns, UTC](1), datetime64[ns](1), float64(3), int64(10), object(8)\n",
      "memory usage: 1.4+ KB\n"
     ]
    }
   ],
   "source": [
    "df_query_06.info()"
   ]
  },
  {
   "cell_type": "markdown",
   "metadata": {},
   "source": [
    "# Conclusions\n",
    "\n",
    "* When retrieving data from Twitter timelines of @picnic, @JumboSupermarkten, and @albertijn we succeeded in going back respectively to data from 7th December 2018, 7th March, and 6th April 2020. Therefore, we will not be able to cover all COVID-19 period from the beginning (27th February 2020) for all 3 (online) supermarkets. In terms, of comparison we probably need to consider the constraints and consider the period covered by AH.\n",
    "\n",
    "* Making search using queries via API query is trick and limited. For instances, picnic can be seen as *`an occasion when you have an informal meal of sandwiches, etc. outside, or the food itself`*[[definition Cambridge dictionary](https://dictionary.cambridge.org/dictionary/english/picnic)] which is not exactly what we want to analyze here. The other problem is that we can only reach the past 7 days from the day we apply the query. So, if we want to have enough data to analyze we need to apply the query for some weeks.\n",
    "\n",
    "Following, we will go deeper in the data collect here and perform some EDA and sentiment analysis. Next challenge: Sentiment analysis in Dutch since the great majority of the tweets are in Dutch as expected."
   ]
  },
  {
   "cell_type": "code",
   "execution_count": null,
   "metadata": {},
   "outputs": [],
   "source": []
  }
 ],
 "metadata": {
  "hide_input": false,
  "kernelspec": {
   "display_name": "Python 3",
   "language": "python",
   "name": "python3"
  },
  "language_info": {
   "codemirror_mode": {
    "name": "ipython",
    "version": 3
   },
   "file_extension": ".py",
   "mimetype": "text/x-python",
   "name": "python",
   "nbconvert_exporter": "python",
   "pygments_lexer": "ipython3",
   "version": "3.6.7"
  },
  "toc": {
   "base_numbering": 1,
   "nav_menu": {},
   "number_sections": true,
   "sideBar": true,
   "skip_h1_title": false,
   "title_cell": "Table of Contents",
   "title_sidebar": "Contents",
   "toc_cell": true,
   "toc_position": {
    "height": "calc(100% - 180px)",
    "left": "10px",
    "top": "150px",
    "width": "307.2px"
   },
   "toc_section_display": true,
   "toc_window_display": true
  },
  "varInspector": {
   "cols": {
    "lenName": 16,
    "lenType": 16,
    "lenVar": 40
   },
   "kernels_config": {
    "python": {
     "delete_cmd_postfix": "",
     "delete_cmd_prefix": "del ",
     "library": "var_list.py",
     "varRefreshCmd": "print(var_dic_list())"
    },
    "r": {
     "delete_cmd_postfix": ") ",
     "delete_cmd_prefix": "rm(",
     "library": "var_list.r",
     "varRefreshCmd": "cat(var_dic_list()) "
    }
   },
   "types_to_exclude": [
    "module",
    "function",
    "builtin_function_or_method",
    "instance",
    "_Feature"
   ],
   "window_display": false
  }
 },
 "nbformat": 4,
 "nbformat_minor": 2
}
