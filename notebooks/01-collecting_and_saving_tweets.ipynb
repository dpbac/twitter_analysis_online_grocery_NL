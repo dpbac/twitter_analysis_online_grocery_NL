{
 "cells": [
  {
   "cell_type": "markdown",
   "metadata": {
    "toc": true
   },
   "source": [
    "<h1>Table of Contents<span class=\"tocSkip\"></span></h1>\n",
    "<div class=\"toc\"><ul class=\"toc-item\"><li><span><a href=\"#Introduction\" data-toc-modified-id=\"Introduction-1\"><span class=\"toc-item-num\">1&nbsp;&nbsp;</span>Introduction</a></span></li><li><span><a href=\"#Load-packages\" data-toc-modified-id=\"Load-packages-2\"><span class=\"toc-item-num\">2&nbsp;&nbsp;</span>Load packages</a></span></li><li><span><a href=\"#Seeting-up-twitter-authentication\" data-toc-modified-id=\"Seeting-up-twitter-authentication-3\"><span class=\"toc-item-num\">3&nbsp;&nbsp;</span>Seeting up twitter authentication</a></span></li><li><span><a href=\"#Getting-some-Tweets\" data-toc-modified-id=\"Getting-some-Tweets-4\"><span class=\"toc-item-num\">4&nbsp;&nbsp;</span>Getting some Tweets</a></span><ul class=\"toc-item\"><li><span><a href=\"#Getting-twitter-by-user\" data-toc-modified-id=\"Getting-twitter-by-user-4.1\"><span class=\"toc-item-num\">4.1&nbsp;&nbsp;</span>Getting twitter by user</a></span><ul class=\"toc-item\"><li><span><a href=\"#@picnic\" data-toc-modified-id=\"@picnic-4.1.1\"><span class=\"toc-item-num\">4.1.1&nbsp;&nbsp;</span>@picnic</a></span></li><li><span><a href=\"#@JumboSupermarkt\" data-toc-modified-id=\"@JumboSupermarkt-4.1.2\"><span class=\"toc-item-num\">4.1.2&nbsp;&nbsp;</span>@JumboSupermarkt</a></span></li><li><span><a href=\"#@albertheijn\" data-toc-modified-id=\"@albertheijn-4.1.3\"><span class=\"toc-item-num\">4.1.3&nbsp;&nbsp;</span>@albertheijn</a></span></li></ul></li><li><span><a href=\"#Applying-GetSearch-to-search-for-a-defined-query\" data-toc-modified-id=\"Applying-GetSearch-to-search-for-a-defined-query-4.2\"><span class=\"toc-item-num\">4.2&nbsp;&nbsp;</span>Applying GetSearch to search for a defined query</a></span><ul class=\"toc-item\"><li><span><a href=\"#Query_01:\" data-toc-modified-id=\"Query_01:-4.2.1\"><span class=\"toc-item-num\">4.2.1&nbsp;&nbsp;</span>Query_01:</a></span></li><li><span><a href=\"#Query_02:\" data-toc-modified-id=\"Query_02:-4.2.2\"><span class=\"toc-item-num\">4.2.2&nbsp;&nbsp;</span>Query_02:</a></span></li><li><span><a href=\"#Query_03:\" data-toc-modified-id=\"Query_03:-4.2.3\"><span class=\"toc-item-num\">4.2.3&nbsp;&nbsp;</span>Query_03:</a></span></li><li><span><a href=\"#Query_04:\" data-toc-modified-id=\"Query_04:-4.2.4\"><span class=\"toc-item-num\">4.2.4&nbsp;&nbsp;</span>Query_04:</a></span></li><li><span><a href=\"#Query_04B:\" data-toc-modified-id=\"Query_04B:-4.2.5\"><span class=\"toc-item-num\">4.2.5&nbsp;&nbsp;</span>Query_04B:</a></span></li><li><span><a href=\"#Query_05:\" data-toc-modified-id=\"Query_05:-4.2.6\"><span class=\"toc-item-num\">4.2.6&nbsp;&nbsp;</span>Query_05:</a></span></li><li><span><a href=\"#Query_06:\" data-toc-modified-id=\"Query_06:-4.2.7\"><span class=\"toc-item-num\">4.2.7&nbsp;&nbsp;</span>Query_06:</a></span></li></ul></li></ul></li><li><span><a href=\"#Conclusions\" data-toc-modified-id=\"Conclusions-5\"><span class=\"toc-item-num\">5&nbsp;&nbsp;</span>Conclusions</a></span></li></ul></div>"
   ]
  },
  {
   "cell_type": "markdown",
   "metadata": {},
   "source": [
    "# Introduction\n",
    "\n",
    "The main goal of this project is to analyze Twitter data related to three of the biggest (online) supermarkets in the Netherlands and their customers in the period of the corona crisis. The main focus is sentiment analysis, but we will perform also other analysis on the data collected.\n",
    "\n",
    "The data will be collected via Twitter API. Therefore, we will try to cover as much as possible of the period of the corona crisis considering the limitations imposed by the API.\n",
    "\n",
    "In this notebook will be:\n",
    "\n",
    "1. Collection tweets from the user timeline (`GetUserTimeline`)\n",
    "2. Collecting tweets using queries (`GetSearch`)\n",
    "3. Selection which information from the data retrieved will be kept\n",
    "4. Saving collected data in .csv file"
   ]
  },
  {
   "cell_type": "markdown",
   "metadata": {},
   "source": [
    "# Load packages\n"
   ]
  },
  {
   "cell_type": "markdown",
   "metadata": {},
   "source": [
    "**Attention**: `private_twitter_credentials.py` contains my Twitter credentials. Insert your Twitter credentials in `twitter_credentials.py`\n",
    "and replace `private_twitter_credentials` by `twitter_credentials` in this notebook.\n"
   ]
  },
  {
   "cell_type": "code",
   "execution_count": 1,
   "metadata": {},
   "outputs": [],
   "source": [
    "import private_twitter_credentials\n",
    "import twitter\n",
    "import datetime\n",
    "import pandas as pd\n",
    "import time\n",
    "\n",
    "TodaysDate = time.strftime(\"%Y-%m-%d-%H-%M\")"
   ]
  },
  {
   "cell_type": "markdown",
   "metadata": {},
   "source": [
    "# Seeting up twitter authentication\n",
    "\n",
    "I'll be using [`python-twitter`](https://python-twitter.readthedocs.io/en/latest/index.html) a python wrapper around the Twitter API."
   ]
  },
  {
   "cell_type": "code",
   "execution_count": 2,
   "metadata": {},
   "outputs": [],
   "source": [
    "consumer_key = private_twitter_credentials.consumer_key\n",
    "consumer_secret = private_twitter_credentials.consumer_secret\n",
    "access_token = private_twitter_credentials.access_token\n",
    "access_token_secret = private_twitter_credentials.access_token_secret\n",
    "\n",
    "api = twitter.Api(\n",
    "    consumer_key         =   consumer_key,\n",
    "    consumer_secret      =   consumer_secret,\n",
    "    access_token_key     =   access_token,\n",
    "    access_token_secret  =   access_token_secret,\n",
    "    tweet_mode = 'extended' # to ensure that we get the full text of the users' original tweets\n",
    ")"
   ]
  },
  {
   "cell_type": "markdown",
   "metadata": {},
   "source": [
    "# Getting some Tweets\n",
    "\n",
    "In this project we want to :\n",
    "\n",
    "* Access user timeline Tweets, i.e., apply `GetUserTimeline` method on object `api` created in last section\n",
    "* Access Tweets resulting from some query, i.e., apply `GetSearch` method on `api`.\n",
    "\n",
    "Consider we want to get some Tweets from `Picnic`, one of the Twitter's user will be considering in this project. The account’s Twitter handle of `Picnic` is `@picnic` and we will be using the argument `screen_name` as the handle without `@`."
   ]
  },
  {
   "cell_type": "code",
   "execution_count": 3,
   "metadata": {},
   "outputs": [],
   "source": [
    "# we will use for now `screen_name` and `count`. Count has limit of 200, i.e., we can only retrieve 200 tweets per call\n",
    "tweets_picnic = api.GetUserTimeline(screen_name='picnic', count = 200)\n",
    "\n",
    "# see all available info in a dictionary\n",
    "\n",
    "tweets_picnic = [ _.AsDict() for _ in tweets_picnic]"
   ]
  },
  {
   "cell_type": "markdown",
   "metadata": {},
   "source": [
    "Check the 1st one"
   ]
  },
  {
   "cell_type": "code",
   "execution_count": 4,
   "metadata": {},
   "outputs": [
    {
     "data": {
      "text/plain": [
       "{'created_at': 'Wed Jun 24 14:34:45 +0000 2020',\n",
       " 'full_text': '@RuudVeHa Ik stuur je even een privébericht zodat ik je hier meer over kan vertellen Ruud! ^Mylène',\n",
       " 'hashtags': [],\n",
       " 'id': 1275799526717247493,\n",
       " 'id_str': '1275799526717247493',\n",
       " 'in_reply_to_screen_name': 'RuudVeHa',\n",
       " 'in_reply_to_status_id': 1275787048209678336,\n",
       " 'in_reply_to_user_id': 2870481582,\n",
       " 'lang': 'nl',\n",
       " 'source': '<a href=\"https://mobile.twitter.com\" rel=\"nofollow\">Twitter Web App</a>',\n",
       " 'urls': [],\n",
       " 'user': {'created_at': 'Tue Dec 02 13:21:56 +0000 2014',\n",
       "  'description': 'Online supermarket Picnic delivers groceries free to your door with a 100% electric fleet, making online grocery shopping affordable for everyone',\n",
       "  'favourites_count': 3885,\n",
       "  'followers_count': 4842,\n",
       "  'friends_count': 5,\n",
       "  'id': 2902300475,\n",
       "  'id_str': '2902300475',\n",
       "  'listed_count': 26,\n",
       "  'name': 'Picnic',\n",
       "  'profile_background_color': '000000',\n",
       "  'profile_background_image_url': 'http://abs.twimg.com/images/themes/theme1/bg.png',\n",
       "  'profile_background_image_url_https': 'https://abs.twimg.com/images/themes/theme1/bg.png',\n",
       "  'profile_banner_url': 'https://pbs.twimg.com/profile_banners/2902300475/1452533616',\n",
       "  'profile_image_url': 'http://pbs.twimg.com/profile_images/990125237948813312/m7Ew9VUQ_normal.jpg',\n",
       "  'profile_image_url_https': 'https://pbs.twimg.com/profile_images/990125237948813312/m7Ew9VUQ_normal.jpg',\n",
       "  'profile_link_color': 'EC1D25',\n",
       "  'profile_sidebar_border_color': '000000',\n",
       "  'profile_sidebar_fill_color': '000000',\n",
       "  'profile_text_color': '000000',\n",
       "  'screen_name': 'picnic',\n",
       "  'statuses_count': 6867,\n",
       "  'url': 'https://t.co/ItjPo57xHu'},\n",
       " 'user_mentions': [{'id': 2870481582,\n",
       "   'id_str': '2870481582',\n",
       "   'name': 'Ruud van Hees  \\uf8ff 🏳️\\u200d🌈',\n",
       "   'screen_name': 'RuudVeHa'}]}"
      ]
     },
     "execution_count": 4,
     "metadata": {},
     "output_type": "execute_result"
    }
   ],
   "source": [
    "tweets_picnic[0]"
   ]
  },
  {
   "cell_type": "markdown",
   "metadata": {},
   "source": [
    "Let's say that you want to search Tweets that mention AH and COVID-19. In thi case you use the method `GetSearch` using your query as argument. \n",
    "\n",
    "The easiest way to have the query right is going to [Twitter’s Advanced Search](https://twitter.com/search-advanced) and typing what you want to know. Then using as your `raw_query` the part of search URL after the \"?\" to use `raw_query`, removing the `&src=typd` portion.\n",
    "\n",
    "Let's try it out."
   ]
  },
  {
   "cell_type": "code",
   "execution_count": 5,
   "metadata": {},
   "outputs": [
    {
     "data": {
      "text/html": [
       "<img src =\"../images/search.JPG\", width=400, height=200>\n"
      ],
      "text/plain": [
       "<IPython.core.display.HTML object>"
      ]
     },
     "metadata": {},
     "output_type": "display_data"
    }
   ],
   "source": [
    "%%html\n",
    "<img src =\"../images/search.JPG\", width=400, height=200>"
   ]
  },
  {
   "cell_type": "markdown",
   "metadata": {},
   "source": [
    "The url obtained was https://twitter.com/search?q=%40albertheijn%20covid-19&src=typed_query therefore I will use `raw_query = q=%40albertheijn%20covid-19`."
   ]
  },
  {
   "cell_type": "code",
   "execution_count": 6,
   "metadata": {},
   "outputs": [],
   "source": [
    "search_result = api.GetSearch(raw_query='q=%40albertheijn%20covid-19')\n",
    "search_result = [ _.AsDict() for _ in search_result]"
   ]
  },
  {
   "cell_type": "code",
   "execution_count": 7,
   "metadata": {},
   "outputs": [
    {
     "name": "stdout",
     "output_type": "stream",
     "text": [
      "Result of the results with the last 7 days: 3\n"
     ]
    }
   ],
   "source": [
    "print('Result of the results with the last 7 days:', len(search_result))"
   ]
  },
  {
   "cell_type": "markdown",
   "metadata": {},
   "source": [
    "The results from `GetSearch` are limited to 7 days. In the last 7 days we got 3 Tweets that mentioned @albertheijn and covid-19. Details of the most recent is shown below:"
   ]
  },
  {
   "cell_type": "code",
   "execution_count": 8,
   "metadata": {},
   "outputs": [
    {
     "data": {
      "text/plain": [
       "{'created_at': 'Mon Jun 22 17:22:09 +0000 2020',\n",
       " 'full_text': 'Steeds meer artikelen verdwijnen uit het online assortiment bij \\u2066@albertheijn\\u2069. Ben benieuwd of er een alternatief komt. Zo niet: zit je dan met je jaarabonnement bezorgen. Wie is het haasje? Mensen die tot de risicogroep behoren mbt covid-19. https://t.co/5LDBwwfjJZ',\n",
       " 'hashtags': [],\n",
       " 'id': 1275116878566916096,\n",
       " 'id_str': '1275116878566916096',\n",
       " 'lang': 'nl',\n",
       " 'media': [{'display_url': 'pic.twitter.com/5LDBwwfjJZ',\n",
       "   'expanded_url': 'https://twitter.com/Belleblabla/status/1275116878566916096/photo/1',\n",
       "   'id': 1275116874578243589,\n",
       "   'media_url': 'http://pbs.twimg.com/media/EbIgCqRXsAUMyw-.jpg',\n",
       "   'media_url_https': 'https://pbs.twimg.com/media/EbIgCqRXsAUMyw-.jpg',\n",
       "   'sizes': {'thumb': {'w': 150, 'h': 150, 'resize': 'crop'},\n",
       "    'small': {'w': 680, 'h': 163, 'resize': 'fit'},\n",
       "    'medium': {'w': 1063, 'h': 255, 'resize': 'fit'},\n",
       "    'large': {'w': 1063, 'h': 255, 'resize': 'fit'}},\n",
       "   'type': 'photo',\n",
       "   'url': 'https://t.co/5LDBwwfjJZ'}],\n",
       " 'source': '<a href=\"http://twitter.com/#!/download/ipad\" rel=\"nofollow\">Twitter for iPad</a>',\n",
       " 'urls': [],\n",
       " 'user': {'created_at': 'Sat Apr 18 10:39:39 +0000 2009',\n",
       "  'description': \"WARNING! Posts may contain irony. Discontinue reading if you're experiencing elevated blood pressure. Bikepacking, Sims F./WoW, SvdJ, O365, Gen. X.\",\n",
       "  'favourites_count': 4234,\n",
       "  'followers_count': 632,\n",
       "  'friends_count': 344,\n",
       "  'id': 32850416,\n",
       "  'id_str': '32850416',\n",
       "  'listed_count': 35,\n",
       "  'location': 'Azeroth',\n",
       "  'name': 'Belle P. te A.',\n",
       "  'profile_background_color': '1A1B1F',\n",
       "  'profile_background_image_url': 'http://abs.twimg.com/images/themes/theme9/bg.gif',\n",
       "  'profile_background_image_url_https': 'https://abs.twimg.com/images/themes/theme9/bg.gif',\n",
       "  'profile_banner_url': 'https://pbs.twimg.com/profile_banners/32850416/1564558139',\n",
       "  'profile_image_url': 'http://pbs.twimg.com/profile_images/1250787852641845249/8dCrByJO_normal.jpg',\n",
       "  'profile_image_url_https': 'https://pbs.twimg.com/profile_images/1250787852641845249/8dCrByJO_normal.jpg',\n",
       "  'profile_link_color': 'CC0000',\n",
       "  'profile_sidebar_border_color': 'FFFFFF',\n",
       "  'profile_sidebar_fill_color': '252429',\n",
       "  'profile_text_color': '666666',\n",
       "  'profile_use_background_image': True,\n",
       "  'screen_name': 'Belleblabla',\n",
       "  'statuses_count': 33076,\n",
       "  'url': 'https://t.co/W5DahlBOAc'},\n",
       " 'user_mentions': [{'id': 279015870,\n",
       "   'id_str': '279015870',\n",
       "   'name': 'Albert Heijn',\n",
       "   'screen_name': 'albertheijn'}]}"
      ]
     },
     "execution_count": 8,
     "metadata": {},
     "output_type": "execute_result"
    }
   ],
   "source": [
    "search_result[0]"
   ]
  },
  {
   "cell_type": "markdown",
   "metadata": {},
   "source": [
    "When retrieving Tweets from user timeline Twitter API limites us to 200 Tweets at a time, and from search to 100 tweets. This is the parameter `count` from both methods, `GetUserTimeline` and `GetSearch`.\n",
    "\n",
    "Another constraint that we need to deal with is that the Twitter API is rate limited, meaning Twitter puts restrictions on how much data you can take at a time. More details about it [here](https://developer.twitter.com/en/docs/basics/rate-limiting#:~:text=Rate%20limiting%20of%20the%20standard,per%20window%20per%20access%20token.).\n",
    "\n",
    "Because I want to retrieve much more than 200 Tweets (if possible) I'll write a class with two methods.\n",
    "\n",
    "Class `TweetMiner` contains two methods: \n",
    "\n",
    "* `mine_user_tweets` which mine user's tweets making use of [GetUserTimeline](https://developer.twitter.com/en/docs/tweets/timelines/api-reference/get-statuses-user_timeline)\n",
    "\n",
    "* `search_tweets` which mine tweets using [GetSearch](https://developer.twitter.com/en/docs/tweets/search/api-reference/get-search-tweets)\n",
    "\n",
    "Details about both uses will be show respectively, in sections:\n",
    "\n",
    "- [Getting twitter by user](#Getting-twitter-by-user)\n",
    "\n",
    "- [Applying GetSearch to search for a defined query](#Applying-GetSearch-to-search-for-a-defined-query)\n",
    "\n",
    "\n",
    "Notice that in this class I'm also selecting which information from the Tweets I want to keep in a from of a dictionary. I'm almost collecting everything. Probably for the purpose I have in mind now I'll not be using all this but it was my choice to keep what I kept. Feel free to adapt it.\n",
    "\n",
    "Next, you find a function where I use the list of dictionaries obtained from apply my `TweetMiner`, organize it a bit and save the result in a .csv file"
   ]
  },
  {
   "cell_type": "code",
   "execution_count": 35,
   "metadata": {
    "ExecuteTime": {
     "end_time": "2019-05-06T07:34:34.325020Z",
     "start_time": "2019-05-06T07:34:34.299182Z"
    }
   },
   "outputs": [],
   "source": [
    "import datetime\n",
    "\n",
    "class TweetMiner(object):\n",
    "    \"\"\" Make possible obtaining tweets using twitter user id (mine_user_tweets) or performing a standard Twitter \n",
    "    API search (search_tweets)\"\"\"\n",
    "\n",
    "    \n",
    "    def __init__(self, api, result_limit = 20, max_pages = 40):\n",
    "        \"\"\"result_limit = count that can take max 200 (mine_user_tweets) and max 100 (search_tweets)\"\"\"\n",
    "        \n",
    "        self.api = api        \n",
    "        self.result_limit = result_limit\n",
    "        self.max_pages = max_pages\n",
    "        \n",
    "\n",
    "    def mine_user_tweets(self, user, mine_retweets=False):\n",
    "        \"\"\" Mine tweets of user = screen_name or user_id\"\"\"\n",
    "\n",
    "        data           =  []\n",
    "        last_tweet_id  =  False\n",
    "        page           =  1\n",
    "        \n",
    "        while page <= self.max_pages:\n",
    "            \n",
    "            if last_tweet_id:\n",
    "                statuses   =   self.api.GetUserTimeline(screen_name=user, count=self.result_limit, max_id=last_tweet_id - 1, \n",
    "                                                        include_rts=mine_retweets)\n",
    "                statuses = [ _.AsDict() for _ in statuses]\n",
    "            else:\n",
    "                statuses   =   self.api.GetUserTimeline(screen_name=user, count=self.result_limit, \n",
    "                                                        include_rts=mine_retweets)\n",
    "                statuses = [_.AsDict() for _ in statuses]\n",
    "                \n",
    "            for item in statuses:\n",
    "                # Using try except here.\n",
    "                # When retweets = 0 we get an error (GetUserTimeline fails to create a key, 'retweet_count')\n",
    "                try:\n",
    "                    mined = {\n",
    "                        'mined_at':         datetime.datetime.now(),\n",
    "                        'created_at':       item['created_at'],\n",
    "                        'tweet_id':         item['id'],\n",
    "                        'tweet_id_str':     item['id_str'],\n",
    "                        'screen_name':      item['user']['screen_name'],\n",
    "                        'favorite_count':   item['favorite_count'],\n",
    "                        'text':             item['full_text'],\n",
    "                        'source':           item['source'],\n",
    "                        'hashtags':         item['hashtags'],\n",
    "                        'urls':             item['urls'],\n",
    "                        'language':         item['lang'],\n",
    "                        'retweet_count':    item['retweet_count'],\n",
    "                        #user info\n",
    "                        'user_favourites_count': item['user']['favourites_count'],\n",
    "                        'followers_count':  item['user']['followers_count'],\n",
    "                        'friends_count':    item['user']['friends_count']\n",
    "                    }\n",
    "            \n",
    "                \n",
    "                except:\n",
    "                    mined = {\n",
    "                        'mined_at':         datetime.datetime.now(),\n",
    "                        'created_at':       item['created_at'],\n",
    "                        'tweet_id':         item['id'],\n",
    "                        'tweet_id_str':     item['id_str'],\n",
    "                        'screen_name':      item['user']['screen_name'],\n",
    "#                         'favorite_count':   item['favorite_count'],\n",
    "                        'text':             item['full_text'],\n",
    "                        'source':           item['source'],\n",
    "                        'hashtags':         item['hashtags'],\n",
    "                        'urls':             item['urls'],\n",
    "                        'language':         item['lang'],\n",
    "                        'retweet_count':    0,\n",
    "                        # user info\n",
    "                        'user_favourites_count': item['user']['favourites_count'],\n",
    "                        'followers_count':  item['user']['followers_count'],\n",
    "                        'friends_count':    item['user']['friends_count']\n",
    "                        }\n",
    "                \n",
    "                last_tweet_id = item['id']\n",
    "                data.append(mined)\n",
    "                \n",
    "            page += 1\n",
    "            \n",
    "        return data\n",
    "    \n",
    "    def search_tweets(max_pages = 20, count = 20, raw_query = None, result_type = 'mixed'):\n",
    "        \"\"\" Search tweets \"\"\"\n",
    "\n",
    "        data           =  []\n",
    "        last_tweet_id  =  False\n",
    "        page           =  1\n",
    "        \n",
    "        while page <= max_pages:\n",
    "            \n",
    "            if last_tweet_id:\n",
    "                statuses = api.GetSearch(raw_query=raw_query, count = count, result_type=result_type, \n",
    "                                         max_id=last_tweet_id - 1)\n",
    "                statuses = [ _.AsDict() for _ in statuses]\n",
    "            else:\n",
    "                statuses = api.GetSearch(raw_query=raw_query, count = count, result_type=result_type)\n",
    "                statuses = [_.AsDict() for _ in statuses]\n",
    "                \n",
    "            for item in statuses:\n",
    "                # Using try except here.\n",
    "                try:\n",
    "                    mined = {\n",
    "                        'mined_at':                datetime.datetime.now(),\n",
    "                        'created_at':              item['created_at'],\n",
    "                        'tweet_id':                item['id'],\n",
    "                        'tweet_id_str':            item['id_str'],\n",
    "                        'in_reply_to_screen_name': item['in_reply_to_screen_name'],\n",
    "                        'in_reply_to_status_id':   item['in_reply_to_status_id'],\n",
    "                        'in_reply_to_user_id':     item['in_reply_to_user_id'],\n",
    "                        'language':                item['lang'],\n",
    "                        'text':                    item['full_text'],\n",
    "                        'hashtags':                item['hashtags'],\n",
    "                        'source':                  item['source'],\n",
    "                       # info about user\n",
    "                        'user_id':                 item['user']['id'],\n",
    "                        'user_screen_name':        item['user']['screen_name'],\n",
    "                        'user_location':           item['user']['location'],\n",
    "                        'user_favourites_count':   item['user']['favourites_count'],\n",
    "                        'followers_count':         item['user']['followers_count'],\n",
    "                        'friends_count':           item['user']['friends_count']\n",
    "                    }\n",
    "                    \n",
    "                except:\n",
    "                    mined = {\n",
    "                        'mined_at':                datetime.datetime.now(),\n",
    "                        'created_at':              item['created_at'],\n",
    "                        'tweet_id':                item['id'],\n",
    "                        'tweet_id_str':            item['id_str'],\n",
    "#                         'in_reply_to_screen_name': item['in_reply_to_screen_name'],\n",
    "#                         'in_reply_to_status_id':   item['in_reply_to_status_id'],\n",
    "#                         'in_reply_to_user_id':     item['in_reply_to_user_id'],\n",
    "                        'language':                item['lang'],\n",
    "                        'text':                    item['full_text'],\n",
    "                        'hashtags':                item['hashtags'],\n",
    "                        'source':                  item['source'],\n",
    "                       # info about user\n",
    "                        'user_id':                 item['user']['id'],\n",
    "                        'user_screen_name':        item['user']['screen_name'],\n",
    "#                        'user_location':           item['user']['location'],\n",
    "#                         'user_favourites_count':   item['user']['favourites_count'],\n",
    "                        'followers_count':         item['user']['followers_count'],\n",
    "                        'friends_count':           item['user']['friends_count']\n",
    "                    }\n",
    "                                            \n",
    "                \n",
    "                last_tweet_id = item['id']\n",
    "                data.append(mined)\n",
    "                \n",
    "            page += 1\n",
    "            \n",
    "        return data"
   ]
  },
  {
   "cell_type": "code",
   "execution_count": 36,
   "metadata": {
    "ExecuteTime": {
     "end_time": "2019-05-06T07:34:34.346271Z",
     "start_time": "2019-05-06T07:34:34.330962Z"
    }
   },
   "outputs": [],
   "source": [
    "def process_and_save(df, file_name, mine_user_twitter=1):\n",
    "    \"\"\" Save retrieved tweets in csv file.\n",
    "    \n",
    "    Input:\n",
    "    \n",
    "    df : dataframe of tweets'data\n",
    "    file_name: name with which the csv will be saved (without extension)\n",
    "    mine_user_twitter: Indicates if df came contains tweets from a twitter user (mine_user_twitter=1), i.e., it was \n",
    "    obtained using GetUserTimeline since the information obtained from this method is different from an API search \n",
    "    from GetSearch. Therefore, when using GetSearch (mine_user_twitter=0).\n",
    "    \n",
    "    \"\"\"\n",
    "    \n",
    "    TodaysDate = time.strftime(\"%Y-%m-%d-%H-%M\")\n",
    "\n",
    "    \n",
    "    # Create columns 'year', 'month', 'day', 'hour', 'min' from 'created_at'\n",
    "    df['created_at'] = pd.to_datetime(df['created_at'])\n",
    "        \n",
    "    df['year'] = df['created_at'].dt.year \n",
    "    df['month'] = df['created_at'].dt.month \n",
    "    df['day'] = df['created_at'].dt.day \n",
    "    df['hour'] = df['created_at'].dt.hour \n",
    "    df['minute'] = df['created_at'].dt.minute\n",
    "    df['day_of_week'] = df['created_at'].dt.weekday\n",
    "    \n",
    "    if mine_user_twitter:\n",
    "    \n",
    "        df = df[['mined_at', 'created_at', 'year', 'month', 'day','day_of_week', 'hour', 'minute', 'screen_name', \n",
    "                 'tweet_id', 'tweet_id_str',  'retweet_count', 'favorite_count', 'source','hashtags', 'urls', 'language', \n",
    "                 'user_favourites_count', 'followers_count','friends_count','text']]\n",
    "    else:\n",
    "        df = df[['mined_at','created_at', 'year', 'month', 'day','day_of_week','hour', 'minute', 'tweet_id', 'tweet_id_str', \n",
    "                 'in_reply_to_screen_name','in_reply_to_status_id','in_reply_to_user_id', 'hashtags','source','language', \n",
    "                 'user_screen_name','user_id','user_location','user_favourites_count','followers_count','friends_count', \n",
    "                 'text']]\n",
    "        \n",
    "    df.sort_values(by='created_at',inplace = True)\n",
    "    \n",
    "    # the normal use of drop_duplicates raise typeerror unhashable type 'list' so I needed to adapt using str\n",
    "    # as pointed out in https://stackoverflow.com/questions/43855462/pandas-drop-duplicates-method-not-working?rq=1\n",
    "    \n",
    "    df = df.loc[df.astype(str).drop_duplicates(subset=['created_at','tweet_id','text']).index]\n",
    "    df.reset_index(drop = True, inplace = True)\n",
    "    \n",
    "    \n",
    "    df.to_csv(\"../data/tweets/\"+file_name+\"_\"+TodaysDate+\".csv\", index = False)\n",
    "    \n",
    "    return df\n",
    "    \n",
    "    "
   ]
  },
  {
   "cell_type": "markdown",
   "metadata": {},
   "source": [
    "Now that we have our class to retrieve Tweets and our function to save the result in .csv let's collect data.\n",
    "\n",
    "The goal of this project is to check the sentiment of users towards the (online) supermarkets , i.e., Jumbo Supermarkten, AH, and Picnic, especially after COVID-19 entered our lives. The first two are supermarkets chains that also provide online grocery shopping while the last one is exclusively online supermarket.\n",
    "\n",
    "Everything changed since the first case of corona virus in The Netherlands (February 27th) and the way of shopping groceries suffered important changes, in particular, considering the sudden and significant increase the number of users that opted for online grocery shopping. Supermarkets were not ready for such an explosion on demand, some adapted faster than others. Specially, `Picnic` that has the sole focus on online shopping.\n",
    "\n",
    "Some were completely not available to receive order while with orders the consumer should consider a planning of about 2 weeks until being able to receive his/her order. I have my own experiences but I want to access the sentiment of consumers via tweets messages over these 3 providers. In special, I want to focus in this period were COVID-19 is present.\n",
    "\n",
    "The idea is to get twitters covering the period from the 1st case until today both for info retrieved by user (`GetUserTimeline`) and by query (`GetSearch`).\n",
    "\n",
    "We need, however, to consider some limitations.\n",
    "First, it is difficult to have control on how far in the past we can go when retrieving user timeline data (using `TweetMiner. mine_user_tweets()`. So, we will play mainly with parameters `result_limit`, i.e., count and `max_pages`.\n",
    "\n",
    "Second, when performing search with API it is only possible to access Tweets of the last 7 days (more details [here](https://developer.twitter.com/en/docs/tweets/search/overview/standard)). So unfortunately, when performing queries, we will be limited and we will not be able to go back months ago.\n",
    "\n",
    "## Getting twitter by user\n",
    "\n",
    "To start we will obtain tweets for `picnic`, `JumboSupermarkt`, and `albertheijn`.\n",
    "\n",
    "### @picnic"
   ]
  },
  {
   "cell_type": "code",
   "execution_count": 11,
   "metadata": {},
   "outputs": [],
   "source": [
    "# Result limit == count parameter from our GetUserTimeline() it can take max 200\n",
    "# More pages more back in time you can go\n",
    "miner = TweetMiner(api, result_limit=200, max_pages = 20)\n",
    "picnic = miner.mine_user_tweets(user=\"picnic\")\n",
    "df_picnic = process_and_save(pd.DataFrame(picnic), \"picnic\")"
   ]
  },
  {
   "cell_type": "code",
   "execution_count": 12,
   "metadata": {},
   "outputs": [
    {
     "data": {
      "text/html": [
       "<div>\n",
       "<style scoped>\n",
       "    .dataframe tbody tr th:only-of-type {\n",
       "        vertical-align: middle;\n",
       "    }\n",
       "\n",
       "    .dataframe tbody tr th {\n",
       "        vertical-align: top;\n",
       "    }\n",
       "\n",
       "    .dataframe thead th {\n",
       "        text-align: right;\n",
       "    }\n",
       "</style>\n",
       "<table border=\"1\" class=\"dataframe\">\n",
       "  <thead>\n",
       "    <tr style=\"text-align: right;\">\n",
       "      <th></th>\n",
       "      <th>mined_at</th>\n",
       "      <th>created_at</th>\n",
       "      <th>year</th>\n",
       "      <th>month</th>\n",
       "      <th>day</th>\n",
       "      <th>day_of_week</th>\n",
       "      <th>hour</th>\n",
       "      <th>minute</th>\n",
       "      <th>screen_name</th>\n",
       "      <th>tweet_id</th>\n",
       "      <th>...</th>\n",
       "      <th>retweet_count</th>\n",
       "      <th>favorite_count</th>\n",
       "      <th>source</th>\n",
       "      <th>hashtags</th>\n",
       "      <th>urls</th>\n",
       "      <th>language</th>\n",
       "      <th>user_favourites_count</th>\n",
       "      <th>followers_count</th>\n",
       "      <th>friends_count</th>\n",
       "      <th>text</th>\n",
       "    </tr>\n",
       "  </thead>\n",
       "  <tbody>\n",
       "    <tr>\n",
       "      <th>3224</th>\n",
       "      <td>2020-06-24 17:06:45.034704</td>\n",
       "      <td>2020-06-23 13:17:08+00:00</td>\n",
       "      <td>2020</td>\n",
       "      <td>6</td>\n",
       "      <td>23</td>\n",
       "      <td>1</td>\n",
       "      <td>13</td>\n",
       "      <td>17</td>\n",
       "      <td>picnic</td>\n",
       "      <td>1275417608360263680</td>\n",
       "      <td>...</td>\n",
       "      <td>0</td>\n",
       "      <td>NaN</td>\n",
       "      <td>&lt;a href=\"https://mobile.twitter.com\" rel=\"nofo...</td>\n",
       "      <td>[]</td>\n",
       "      <td>[]</td>\n",
       "      <td>nl</td>\n",
       "      <td>3885</td>\n",
       "      <td>4842</td>\n",
       "      <td>5</td>\n",
       "      <td>@Chrishuygens Er is een storing bij iDeal op h...</td>\n",
       "    </tr>\n",
       "    <tr>\n",
       "      <th>3225</th>\n",
       "      <td>2020-06-24 17:06:45.034704</td>\n",
       "      <td>2020-06-23 13:17:16+00:00</td>\n",
       "      <td>2020</td>\n",
       "      <td>6</td>\n",
       "      <td>23</td>\n",
       "      <td>1</td>\n",
       "      <td>13</td>\n",
       "      <td>17</td>\n",
       "      <td>picnic</td>\n",
       "      <td>1275417643504238598</td>\n",
       "      <td>...</td>\n",
       "      <td>0</td>\n",
       "      <td>NaN</td>\n",
       "      <td>&lt;a href=\"https://mobile.twitter.com\" rel=\"nofo...</td>\n",
       "      <td>[]</td>\n",
       "      <td>[]</td>\n",
       "      <td>nl</td>\n",
       "      <td>3885</td>\n",
       "      <td>4842</td>\n",
       "      <td>5</td>\n",
       "      <td>@birgitcloggy Er is een storing bij iDeal op h...</td>\n",
       "    </tr>\n",
       "    <tr>\n",
       "      <th>3226</th>\n",
       "      <td>2020-06-24 17:06:45.034704</td>\n",
       "      <td>2020-06-23 19:32:38+00:00</td>\n",
       "      <td>2020</td>\n",
       "      <td>6</td>\n",
       "      <td>23</td>\n",
       "      <td>1</td>\n",
       "      <td>19</td>\n",
       "      <td>32</td>\n",
       "      <td>picnic</td>\n",
       "      <td>1275512106515927044</td>\n",
       "      <td>...</td>\n",
       "      <td>0</td>\n",
       "      <td>NaN</td>\n",
       "      <td>&lt;a href=\"http://www.zendesk.com\" rel=\"nofollow...</td>\n",
       "      <td>[]</td>\n",
       "      <td>[]</td>\n",
       "      <td>nl</td>\n",
       "      <td>3885</td>\n",
       "      <td>4842</td>\n",
       "      <td>5</td>\n",
       "      <td>@seilram76 Goed dat je even een berichtje stuu...</td>\n",
       "    </tr>\n",
       "    <tr>\n",
       "      <th>3227</th>\n",
       "      <td>2020-06-24 17:06:45.034704</td>\n",
       "      <td>2020-06-24 08:12:09+00:00</td>\n",
       "      <td>2020</td>\n",
       "      <td>6</td>\n",
       "      <td>24</td>\n",
       "      <td>2</td>\n",
       "      <td>8</td>\n",
       "      <td>12</td>\n",
       "      <td>picnic</td>\n",
       "      <td>1275703244707319808</td>\n",
       "      <td>...</td>\n",
       "      <td>0</td>\n",
       "      <td>NaN</td>\n",
       "      <td>&lt;a href=\"https://mobile.twitter.com\" rel=\"nofo...</td>\n",
       "      <td>[]</td>\n",
       "      <td>[]</td>\n",
       "      <td>nl</td>\n",
       "      <td>3885</td>\n",
       "      <td>4842</td>\n",
       "      <td>5</td>\n",
       "      <td>@Wouter_Kamp Door de coronacrisis stond de wac...</td>\n",
       "    </tr>\n",
       "    <tr>\n",
       "      <th>3228</th>\n",
       "      <td>2020-06-24 17:06:45.034704</td>\n",
       "      <td>2020-06-24 14:34:45+00:00</td>\n",
       "      <td>2020</td>\n",
       "      <td>6</td>\n",
       "      <td>24</td>\n",
       "      <td>2</td>\n",
       "      <td>14</td>\n",
       "      <td>34</td>\n",
       "      <td>picnic</td>\n",
       "      <td>1275799526717247493</td>\n",
       "      <td>...</td>\n",
       "      <td>0</td>\n",
       "      <td>NaN</td>\n",
       "      <td>&lt;a href=\"https://mobile.twitter.com\" rel=\"nofo...</td>\n",
       "      <td>[]</td>\n",
       "      <td>[]</td>\n",
       "      <td>nl</td>\n",
       "      <td>3885</td>\n",
       "      <td>4842</td>\n",
       "      <td>5</td>\n",
       "      <td>@RuudVeHa Ik stuur je even een privébericht zo...</td>\n",
       "    </tr>\n",
       "  </tbody>\n",
       "</table>\n",
       "<p>5 rows × 21 columns</p>\n",
       "</div>"
      ],
      "text/plain": [
       "                       mined_at                created_at  year  month  day  \\\n",
       "3224 2020-06-24 17:06:45.034704 2020-06-23 13:17:08+00:00  2020      6   23   \n",
       "3225 2020-06-24 17:06:45.034704 2020-06-23 13:17:16+00:00  2020      6   23   \n",
       "3226 2020-06-24 17:06:45.034704 2020-06-23 19:32:38+00:00  2020      6   23   \n",
       "3227 2020-06-24 17:06:45.034704 2020-06-24 08:12:09+00:00  2020      6   24   \n",
       "3228 2020-06-24 17:06:45.034704 2020-06-24 14:34:45+00:00  2020      6   24   \n",
       "\n",
       "      day_of_week  hour  minute screen_name             tweet_id  ...  \\\n",
       "3224            1    13      17      picnic  1275417608360263680  ...   \n",
       "3225            1    13      17      picnic  1275417643504238598  ...   \n",
       "3226            1    19      32      picnic  1275512106515927044  ...   \n",
       "3227            2     8      12      picnic  1275703244707319808  ...   \n",
       "3228            2    14      34      picnic  1275799526717247493  ...   \n",
       "\n",
       "     retweet_count  favorite_count  \\\n",
       "3224             0             NaN   \n",
       "3225             0             NaN   \n",
       "3226             0             NaN   \n",
       "3227             0             NaN   \n",
       "3228             0             NaN   \n",
       "\n",
       "                                                 source hashtags urls  \\\n",
       "3224  <a href=\"https://mobile.twitter.com\" rel=\"nofo...       []   []   \n",
       "3225  <a href=\"https://mobile.twitter.com\" rel=\"nofo...       []   []   \n",
       "3226  <a href=\"http://www.zendesk.com\" rel=\"nofollow...       []   []   \n",
       "3227  <a href=\"https://mobile.twitter.com\" rel=\"nofo...       []   []   \n",
       "3228  <a href=\"https://mobile.twitter.com\" rel=\"nofo...       []   []   \n",
       "\n",
       "     language user_favourites_count  followers_count  friends_count  \\\n",
       "3224       nl                  3885             4842              5   \n",
       "3225       nl                  3885             4842              5   \n",
       "3226       nl                  3885             4842              5   \n",
       "3227       nl                  3885             4842              5   \n",
       "3228       nl                  3885             4842              5   \n",
       "\n",
       "                                                   text  \n",
       "3224  @Chrishuygens Er is een storing bij iDeal op h...  \n",
       "3225  @birgitcloggy Er is een storing bij iDeal op h...  \n",
       "3226  @seilram76 Goed dat je even een berichtje stuu...  \n",
       "3227  @Wouter_Kamp Door de coronacrisis stond de wac...  \n",
       "3228  @RuudVeHa Ik stuur je even een privébericht zo...  \n",
       "\n",
       "[5 rows x 21 columns]"
      ]
     },
     "execution_count": 12,
     "metadata": {},
     "output_type": "execute_result"
    }
   ],
   "source": [
    "df_picnic.tail()"
   ]
  },
  {
   "cell_type": "code",
   "execution_count": 13,
   "metadata": {
    "scrolled": false
   },
   "outputs": [
    {
     "name": "stdout",
     "output_type": "stream",
     "text": [
      "<class 'pandas.core.frame.DataFrame'>\n",
      "RangeIndex: 3229 entries, 0 to 3228\n",
      "Data columns (total 21 columns):\n",
      " #   Column                 Non-Null Count  Dtype              \n",
      "---  ------                 --------------  -----              \n",
      " 0   mined_at               3229 non-null   datetime64[ns]     \n",
      " 1   created_at             3229 non-null   datetime64[ns, UTC]\n",
      " 2   year                   3229 non-null   int64              \n",
      " 3   month                  3229 non-null   int64              \n",
      " 4   day                    3229 non-null   int64              \n",
      " 5   day_of_week            3229 non-null   int64              \n",
      " 6   hour                   3229 non-null   int64              \n",
      " 7   minute                 3229 non-null   int64              \n",
      " 8   screen_name            3229 non-null   object             \n",
      " 9   tweet_id               3229 non-null   int64              \n",
      " 10  tweet_id_str           3229 non-null   object             \n",
      " 11  retweet_count          3229 non-null   int64              \n",
      " 12  favorite_count         49 non-null     float64            \n",
      " 13  source                 3229 non-null   object             \n",
      " 14  hashtags               3229 non-null   object             \n",
      " 15  urls                   3229 non-null   object             \n",
      " 16  language               3229 non-null   object             \n",
      " 17  user_favourites_count  3229 non-null   int64              \n",
      " 18  followers_count        3229 non-null   int64              \n",
      " 19  friends_count          3229 non-null   int64              \n",
      " 20  text                   3229 non-null   object             \n",
      "dtypes: datetime64[ns, UTC](1), datetime64[ns](1), float64(1), int64(11), object(7)\n",
      "memory usage: 529.9+ KB\n"
     ]
    }
   ],
   "source": [
    "df_picnic.info()"
   ]
  },
  {
   "cell_type": "code",
   "execution_count": 14,
   "metadata": {},
   "outputs": [
    {
     "data": {
      "text/plain": [
       "(Timestamp('2018-12-07 15:06:19+0000', tz='UTC'),\n",
       " Timestamp('2020-06-24 14:34:45+0000', tz='UTC'))"
      ]
     },
     "execution_count": 14,
     "metadata": {},
     "output_type": "execute_result"
    }
   ],
   "source": [
    "min(df_picnic.created_at),max(df_picnic.created_at)"
   ]
  },
  {
   "cell_type": "markdown",
   "metadata": {},
   "source": [
    "For `Picnic` we went far enough. We got data back to December 2018!\n",
    "\n",
    "After experimenting a bit, it seems that better keep `result_limit` close to its maximum 200 and try `max_pages` around 20. If there is some kind of connection error wait and try again after a while or reduce these values."
   ]
  },
  {
   "cell_type": "code",
   "execution_count": 15,
   "metadata": {
    "scrolled": true
   },
   "outputs": [
    {
     "name": "stdout",
     "output_type": "stream",
     "text": [
      "Picnic's followers 4842\n",
      "Picnic's friends 5\n"
     ]
    }
   ],
   "source": [
    "print(\"Picnic's followers\", df_picnic.loc[df_picnic.shape[0]-1,'followers_count'])\n",
    "print(\"Picnic's friends\", df_picnic.loc[df_picnic.shape[0]-1,'friends_count'])"
   ]
  },
  {
   "cell_type": "code",
   "execution_count": 16,
   "metadata": {},
   "outputs": [
    {
     "data": {
      "text/plain": [
       "nl     2930\n",
       "und     190\n",
       "en       90\n",
       "es        5\n",
       "de        4\n",
       "fr        3\n",
       "in        2\n",
       "sv        1\n",
       "fi        1\n",
       "it        1\n",
       "ht        1\n",
       "cy        1\n",
       "Name: language, dtype: int64"
      ]
     },
     "execution_count": 16,
     "metadata": {},
     "output_type": "execute_result"
    }
   ],
   "source": [
    "df_picnic['language'].value_counts()"
   ]
  },
  {
   "cell_type": "markdown",
   "metadata": {},
   "source": [
    "### @JumboSupermarkt"
   ]
  },
  {
   "cell_type": "code",
   "execution_count": 17,
   "metadata": {
    "scrolled": false
   },
   "outputs": [],
   "source": [
    "# Result limit == count parameter from our GetUserTimeline() it can take max 200\n",
    "# More pages more back in time you can go\n",
    "miner = TweetMiner(api, result_limit=200, max_pages = 20)\n",
    "JumboSupermarkt = miner.mine_user_tweets(user=\"JumboSupermarkt\")\n",
    "\n",
    "df_JumboSupermarkt = process_and_save(pd.DataFrame(JumboSupermarkt), \"JumboSupermarkt\")"
   ]
  },
  {
   "cell_type": "code",
   "execution_count": 18,
   "metadata": {},
   "outputs": [
    {
     "name": "stdout",
     "output_type": "stream",
     "text": [
      "<class 'pandas.core.frame.DataFrame'>\n",
      "RangeIndex: 3238 entries, 0 to 3237\n",
      "Data columns (total 21 columns):\n",
      " #   Column                 Non-Null Count  Dtype              \n",
      "---  ------                 --------------  -----              \n",
      " 0   mined_at               3238 non-null   datetime64[ns]     \n",
      " 1   created_at             3238 non-null   datetime64[ns, UTC]\n",
      " 2   year                   3238 non-null   int64              \n",
      " 3   month                  3238 non-null   int64              \n",
      " 4   day                    3238 non-null   int64              \n",
      " 5   day_of_week            3238 non-null   int64              \n",
      " 6   hour                   3238 non-null   int64              \n",
      " 7   minute                 3238 non-null   int64              \n",
      " 8   screen_name            3238 non-null   object             \n",
      " 9   tweet_id               3238 non-null   int64              \n",
      " 10  tweet_id_str           3238 non-null   object             \n",
      " 11  retweet_count          3238 non-null   int64              \n",
      " 12  favorite_count         15 non-null     float64            \n",
      " 13  source                 3238 non-null   object             \n",
      " 14  hashtags               3238 non-null   object             \n",
      " 15  urls                   3238 non-null   object             \n",
      " 16  language               3238 non-null   object             \n",
      " 17  user_favourites_count  3238 non-null   int64              \n",
      " 18  followers_count        3238 non-null   int64              \n",
      " 19  friends_count          3238 non-null   int64              \n",
      " 20  text                   3238 non-null   object             \n",
      "dtypes: datetime64[ns, UTC](1), datetime64[ns](1), float64(1), int64(11), object(7)\n",
      "memory usage: 531.4+ KB\n"
     ]
    }
   ],
   "source": [
    "df_JumboSupermarkt.info()"
   ]
  },
  {
   "cell_type": "code",
   "execution_count": 19,
   "metadata": {},
   "outputs": [
    {
     "data": {
      "text/plain": [
       "(Timestamp('2020-03-10 07:06:47+0000', tz='UTC'),\n",
       " Timestamp('2020-06-24 13:56:42+0000', tz='UTC'))"
      ]
     },
     "execution_count": 19,
     "metadata": {},
     "output_type": "execute_result"
    }
   ],
   "source": [
    "min(df_JumboSupermarkt.created_at),max(df_JumboSupermarkt.created_at)"
   ]
  },
  {
   "cell_type": "code",
   "execution_count": 20,
   "metadata": {
    "scrolled": false
   },
   "outputs": [],
   "source": [
    "# Result limit == count parameter from our GetUserTimeline() it can take max 200\n",
    "# More pages more back in time you can go\n",
    "miner = TweetMiner(api, result_limit=200, max_pages = 25)\n",
    "JumboSupermarkt = miner.mine_user_tweets(user=\"JumboSupermarkt\")\n",
    "df_JumboSupermarkt = process_and_save(pd.DataFrame(JumboSupermarkt), \"JumboSupermarkt\")\n"
   ]
  },
  {
   "cell_type": "code",
   "execution_count": 21,
   "metadata": {},
   "outputs": [
    {
     "data": {
      "text/plain": [
       "(Timestamp('2020-03-10 07:06:47+0000', tz='UTC'),\n",
       " Timestamp('2020-06-24 13:56:42+0000', tz='UTC'))"
      ]
     },
     "execution_count": 21,
     "metadata": {},
     "output_type": "execute_result"
    }
   ],
   "source": [
    "min(df_JumboSupermarkt.created_at),max(df_JumboSupermarkt.created_at)"
   ]
  },
  {
   "cell_type": "markdown",
   "metadata": {},
   "source": [
    "Changing parameters does not seem to help here and we could only retrieve data from March 10th, 2020 until now for Jumbo."
   ]
  },
  {
   "cell_type": "code",
   "execution_count": 22,
   "metadata": {
    "scrolled": true
   },
   "outputs": [
    {
     "name": "stdout",
     "output_type": "stream",
     "text": [
      "Jumbo's followers 16208\n",
      "Jumbo's friends 1710\n"
     ]
    }
   ],
   "source": [
    "print(\"Jumbo's followers\", df_JumboSupermarkt.loc[df_JumboSupermarkt.shape[0]-1,'followers_count'])\n",
    "print(\"Jumbo's friends\", df_JumboSupermarkt.loc[df_JumboSupermarkt.shape[0]-1,'friends_count'])"
   ]
  },
  {
   "cell_type": "code",
   "execution_count": 23,
   "metadata": {},
   "outputs": [
    {
     "data": {
      "text/plain": [
       "nl     3134\n",
       "en       70\n",
       "und      25\n",
       "in        4\n",
       "da        2\n",
       "de        2\n",
       "tl        1\n",
       "Name: language, dtype: int64"
      ]
     },
     "execution_count": 23,
     "metadata": {},
     "output_type": "execute_result"
    }
   ],
   "source": [
    "df_JumboSupermarkt['language'].value_counts()"
   ]
  },
  {
   "cell_type": "markdown",
   "metadata": {},
   "source": [
    "### @albertheijn"
   ]
  },
  {
   "cell_type": "code",
   "execution_count": 24,
   "metadata": {},
   "outputs": [],
   "source": [
    "# Result limit == count parameter from our GetUserTimeline() it can take max 200\n",
    "# More pages more back in time you can go\n",
    "miner = TweetMiner(api, result_limit=200, max_pages = 20)\n",
    "albertheijn = miner.mine_user_tweets(user=\"albertheijn\")\n",
    "df_albertheijn = process_and_save(pd.DataFrame(albertheijn), \"albertheijn\")\n"
   ]
  },
  {
   "cell_type": "code",
   "execution_count": 25,
   "metadata": {},
   "outputs": [
    {
     "name": "stdout",
     "output_type": "stream",
     "text": [
      "<class 'pandas.core.frame.DataFrame'>\n",
      "RangeIndex: 3227 entries, 0 to 3226\n",
      "Data columns (total 21 columns):\n",
      " #   Column                 Non-Null Count  Dtype              \n",
      "---  ------                 --------------  -----              \n",
      " 0   mined_at               3227 non-null   datetime64[ns]     \n",
      " 1   created_at             3227 non-null   datetime64[ns, UTC]\n",
      " 2   year                   3227 non-null   int64              \n",
      " 3   month                  3227 non-null   int64              \n",
      " 4   day                    3227 non-null   int64              \n",
      " 5   day_of_week            3227 non-null   int64              \n",
      " 6   hour                   3227 non-null   int64              \n",
      " 7   minute                 3227 non-null   int64              \n",
      " 8   screen_name            3227 non-null   object             \n",
      " 9   tweet_id               3227 non-null   int64              \n",
      " 10  tweet_id_str           3227 non-null   object             \n",
      " 11  retweet_count          3227 non-null   int64              \n",
      " 12  favorite_count         26 non-null     float64            \n",
      " 13  source                 3227 non-null   object             \n",
      " 14  hashtags               3227 non-null   object             \n",
      " 15  urls                   3227 non-null   object             \n",
      " 16  language               3227 non-null   object             \n",
      " 17  user_favourites_count  3227 non-null   int64              \n",
      " 18  followers_count        3227 non-null   int64              \n",
      " 19  friends_count          3227 non-null   int64              \n",
      " 20  text                   3227 non-null   object             \n",
      "dtypes: datetime64[ns, UTC](1), datetime64[ns](1), float64(1), int64(11), object(7)\n",
      "memory usage: 529.6+ KB\n"
     ]
    }
   ],
   "source": [
    "df_albertheijn.info()"
   ]
  },
  {
   "cell_type": "code",
   "execution_count": 26,
   "metadata": {},
   "outputs": [
    {
     "data": {
      "text/plain": [
       "(Timestamp('2020-04-08 08:47:29+0000', tz='UTC'),\n",
       " Timestamp('2020-06-24 15:06:54+0000', tz='UTC'))"
      ]
     },
     "execution_count": 26,
     "metadata": {},
     "output_type": "execute_result"
    }
   ],
   "source": [
    "min(df_albertheijn.created_at),max(df_albertheijn.created_at)"
   ]
  },
  {
   "cell_type": "code",
   "execution_count": 27,
   "metadata": {},
   "outputs": [],
   "source": [
    "# Result limit == count parameter from our GetUserTimeline() it can take max 200\n",
    "# More pages more back in time you can go\n",
    "miner = TweetMiner(api, result_limit=200, max_pages = 100)\n",
    "albertheijn = miner.mine_user_tweets(user=\"albertheijn\")\n",
    "df_albertheijn = process_and_save(pd.DataFrame(albertheijn), \"albertheijn\")\n"
   ]
  },
  {
   "cell_type": "code",
   "execution_count": 28,
   "metadata": {},
   "outputs": [
    {
     "data": {
      "text/plain": [
       "(Timestamp('2020-04-08 08:47:29+0000', tz='UTC'),\n",
       " Timestamp('2020-06-24 15:06:54+0000', tz='UTC'))"
      ]
     },
     "execution_count": 28,
     "metadata": {},
     "output_type": "execute_result"
    }
   ],
   "source": [
    "min(df_albertheijn.created_at),max(df_albertheijn.created_at)"
   ]
  },
  {
   "cell_type": "code",
   "execution_count": 29,
   "metadata": {},
   "outputs": [
    {
     "name": "stdout",
     "output_type": "stream",
     "text": [
      "<class 'pandas.core.frame.DataFrame'>\n",
      "RangeIndex: 3227 entries, 0 to 3226\n",
      "Data columns (total 21 columns):\n",
      " #   Column                 Non-Null Count  Dtype              \n",
      "---  ------                 --------------  -----              \n",
      " 0   mined_at               3227 non-null   datetime64[ns]     \n",
      " 1   created_at             3227 non-null   datetime64[ns, UTC]\n",
      " 2   year                   3227 non-null   int64              \n",
      " 3   month                  3227 non-null   int64              \n",
      " 4   day                    3227 non-null   int64              \n",
      " 5   day_of_week            3227 non-null   int64              \n",
      " 6   hour                   3227 non-null   int64              \n",
      " 7   minute                 3227 non-null   int64              \n",
      " 8   screen_name            3227 non-null   object             \n",
      " 9   tweet_id               3227 non-null   int64              \n",
      " 10  tweet_id_str           3227 non-null   object             \n",
      " 11  retweet_count          3227 non-null   int64              \n",
      " 12  favorite_count         26 non-null     float64            \n",
      " 13  source                 3227 non-null   object             \n",
      " 14  hashtags               3227 non-null   object             \n",
      " 15  urls                   3227 non-null   object             \n",
      " 16  language               3227 non-null   object             \n",
      " 17  user_favourites_count  3227 non-null   int64              \n",
      " 18  followers_count        3227 non-null   int64              \n",
      " 19  friends_count          3227 non-null   int64              \n",
      " 20  text                   3227 non-null   object             \n",
      "dtypes: datetime64[ns, UTC](1), datetime64[ns](1), float64(1), int64(11), object(7)\n",
      "memory usage: 529.6+ KB\n"
     ]
    }
   ],
   "source": [
    "df_albertheijn.info()"
   ]
  },
  {
   "cell_type": "markdown",
   "metadata": {},
   "source": [
    "Again the changing parameters didn't work. For `AH` we only succeeded in getting back to April 8th, 2020."
   ]
  },
  {
   "cell_type": "code",
   "execution_count": 30,
   "metadata": {
    "scrolled": true
   },
   "outputs": [
    {
     "name": "stdout",
     "output_type": "stream",
     "text": [
      "AH's followers 45540\n",
      "AH's friends 6\n"
     ]
    }
   ],
   "source": [
    "print(\"AH's followers\", df_albertheijn.loc[df_albertheijn.shape[0]-1,'followers_count'])\n",
    "print(\"AH's friends\", df_albertheijn.loc[df_albertheijn.shape[0]-1,'friends_count'])"
   ]
  },
  {
   "cell_type": "code",
   "execution_count": 31,
   "metadata": {},
   "outputs": [
    {
     "data": {
      "text/plain": [
       "nl     3122\n",
       "en       75\n",
       "und       6\n",
       "fr        5\n",
       "tr        4\n",
       "et        3\n",
       "in        2\n",
       "da        2\n",
       "pl        1\n",
       "sv        1\n",
       "es        1\n",
       "fi        1\n",
       "is        1\n",
       "ht        1\n",
       "de        1\n",
       "cy        1\n",
       "Name: language, dtype: int64"
      ]
     },
     "execution_count": 31,
     "metadata": {},
     "output_type": "execute_result"
    }
   ],
   "source": [
    "df_albertheijn['language'].value_counts()"
   ]
  },
  {
   "cell_type": "markdown",
   "metadata": {},
   "source": [
    "## Applying GetSearch to search for a defined query\n",
    "\n",
    "\n",
    "Twitter’s search parameters are a bit complex, to perform a particular search, you can consult Twitter’s documentation at https://dev.twitter.com/rest/public/search.\n",
    "\n",
    "An easier way is to make use of [Twitter’s Advanced Search](toolhttps://twitter.com/search-advanced), and then use the part of search URL after the \"?\" to use `raw_query`, removing the `&src=typd` portion.\n",
    "\n",
    "In this section we will perform some queries to allow us to compare `Picnic`, `Jumbo`, and `AH`. In particular, my main goal is to include also `COVID-19`. But since we are in June and things seem to be now much more in control than few months ago, I'm not sure if I'll be able to retrieve enough Tweets using these key words.\n",
    "\n",
    "In addition, the results obtained from Twitter API searches against a sampling of recent Tweets published in the past 7 days (more details [here](https://developer.twitter.com/en/docs/tweets/search/overview/standard)). So, the results you see in the website when using `Twitter’s Advanced Search` will not per se be in the result of the API search.\n",
    "\n",
    "\n"
   ]
  },
  {
   "cell_type": "markdown",
   "metadata": {},
   "source": [
    "### Query_01:\n",
    "\n",
    "`All these words`: picnic, jumbo, ah, covid\n",
    "\n",
    "`Dates:`\n",
    "\n",
    "    From: February - 25 -2020\n",
    "    To:   June - 21 -2020\n",
    "\n",
    "**Result:** `https://twitter.com/search?q=picnic%2C%20jumbo%2C%20ah%2C%20covid%20until%3A2020-06-21%20since%3A2020-02-25&src=typed_query`"
   ]
  },
  {
   "cell_type": "code",
   "execution_count": 32,
   "metadata": {},
   "outputs": [
    {
     "data": {
      "text/plain": [
       "0"
      ]
     },
     "execution_count": 32,
     "metadata": {},
     "output_type": "execute_result"
    }
   ],
   "source": [
    "query_01 = 'q=picnic%2C%20jumbo%2C%20ah%2C%20covid%20until%3A2020-06-21%20since%3A2020-02-25'\n",
    "result = TweetMiner.search_tweets(raw_query = query_01)\n",
    "len(result)"
   ]
  },
  {
   "cell_type": "markdown",
   "metadata": {},
   "source": [
    "As expected, since the 2 Tweets there are from March and therefore are not catch by the API."
   ]
  },
  {
   "cell_type": "markdown",
   "metadata": {},
   "source": [
    "### Query_02:\n",
    "\n",
    "So let's make a query without `covid`.\n",
    "\n",
    "`All these words`: picnic, jumbo, ah\n",
    "\n",
    "**Result:** `https://twitter.com/search?q=picnic%2C%20jumbo%2C%20ah&src=typed_query`"
   ]
  },
  {
   "cell_type": "code",
   "execution_count": 37,
   "metadata": {},
   "outputs": [
    {
     "data": {
      "text/plain": [
       "80"
      ]
     },
     "execution_count": 37,
     "metadata": {},
     "output_type": "execute_result"
    }
   ],
   "source": [
    "query_02 = 'q=picnic%2C%20jumbo%2C%20ah'\n",
    "result_02 = TweetMiner.search_tweets(max_pages = 20, count = 100, raw_query = query_02)\n",
    "len(result_02)"
   ]
  },
  {
   "cell_type": "code",
   "execution_count": 38,
   "metadata": {},
   "outputs": [
    {
     "data": {
      "text/plain": [
       "{'mined_at': datetime.datetime(2020, 6, 24, 17, 15, 25, 807873),\n",
       " 'created_at': 'Thu Jun 18 15:03:16 +0000 2020',\n",
       " 'tweet_id': 1273632376950849537,\n",
       " 'tweet_id_str': '1273632376950849537',\n",
       " 'language': 'nl',\n",
       " 'text': 'Half juni en nog steeds worden boodschappen bezorgd bij meerdere huizen in de straat door AH, Jumbo, Picnic. Benieuwd: is dat blijvend of gaan mensen toch weer zelf naar de winkel over een tijdje? Onze boodschappen werden al langer bezorgd, wegens geen biowinkel hier @Korenmaat',\n",
       " 'hashtags': [],\n",
       " 'source': '<a href=\"http://twitter.com/download/android\" rel=\"nofollow\">Twitter for Android</a>',\n",
       " 'user_id': 111582731,\n",
       " 'user_screen_name': 'martiendas',\n",
       " 'followers_count': 4645,\n",
       " 'friends_count': 5108}"
      ]
     },
     "execution_count": 38,
     "metadata": {},
     "output_type": "execute_result"
    }
   ],
   "source": [
    "result_02[0]"
   ]
  },
  {
   "cell_type": "code",
   "execution_count": 39,
   "metadata": {
    "scrolled": true
   },
   "outputs": [
    {
     "data": {
      "text/html": [
       "<div>\n",
       "<style scoped>\n",
       "    .dataframe tbody tr th:only-of-type {\n",
       "        vertical-align: middle;\n",
       "    }\n",
       "\n",
       "    .dataframe tbody tr th {\n",
       "        vertical-align: top;\n",
       "    }\n",
       "\n",
       "    .dataframe thead th {\n",
       "        text-align: right;\n",
       "    }\n",
       "</style>\n",
       "<table border=\"1\" class=\"dataframe\">\n",
       "  <thead>\n",
       "    <tr style=\"text-align: right;\">\n",
       "      <th></th>\n",
       "      <th>mined_at</th>\n",
       "      <th>created_at</th>\n",
       "      <th>year</th>\n",
       "      <th>month</th>\n",
       "      <th>day</th>\n",
       "      <th>day_of_week</th>\n",
       "      <th>hour</th>\n",
       "      <th>minute</th>\n",
       "      <th>tweet_id</th>\n",
       "      <th>tweet_id_str</th>\n",
       "      <th>...</th>\n",
       "      <th>hashtags</th>\n",
       "      <th>source</th>\n",
       "      <th>language</th>\n",
       "      <th>user_screen_name</th>\n",
       "      <th>user_id</th>\n",
       "      <th>user_location</th>\n",
       "      <th>user_favourites_count</th>\n",
       "      <th>followers_count</th>\n",
       "      <th>friends_count</th>\n",
       "      <th>text</th>\n",
       "    </tr>\n",
       "  </thead>\n",
       "  <tbody>\n",
       "    <tr>\n",
       "      <th>0</th>\n",
       "      <td>2020-06-24 17:15:27.659258</td>\n",
       "      <td>2020-06-18 11:50:31+00:00</td>\n",
       "      <td>2020</td>\n",
       "      <td>6</td>\n",
       "      <td>18</td>\n",
       "      <td>3</td>\n",
       "      <td>11</td>\n",
       "      <td>50</td>\n",
       "      <td>1273583869753724930</td>\n",
       "      <td>1273583869753724930</td>\n",
       "      <td>...</td>\n",
       "      <td>[]</td>\n",
       "      <td>&lt;a href=\"https://mobile.twitter.com\" rel=\"nofo...</td>\n",
       "      <td>nl</td>\n",
       "      <td>GHengeveld</td>\n",
       "      <td>20709019</td>\n",
       "      <td>Amersfoort, Nederland</td>\n",
       "      <td>891.0</td>\n",
       "      <td>1485</td>\n",
       "      <td>1750</td>\n",
       "      <td>@jelleprins @picnic @JumboSupermarkt @alberthe...</td>\n",
       "    </tr>\n",
       "    <tr>\n",
       "      <th>1</th>\n",
       "      <td>2020-06-24 17:15:29.661533</td>\n",
       "      <td>2020-06-18 11:56:42+00:00</td>\n",
       "      <td>2020</td>\n",
       "      <td>6</td>\n",
       "      <td>18</td>\n",
       "      <td>3</td>\n",
       "      <td>11</td>\n",
       "      <td>56</td>\n",
       "      <td>1273585426268409859</td>\n",
       "      <td>1273585426268409859</td>\n",
       "      <td>...</td>\n",
       "      <td>[]</td>\n",
       "      <td>&lt;a href=\"http://twitter.com/download/iphone\" r...</td>\n",
       "      <td>nl</td>\n",
       "      <td>jelleprins</td>\n",
       "      <td>16546619</td>\n",
       "      <td>NaN</td>\n",
       "      <td>NaN</td>\n",
       "      <td>10510</td>\n",
       "      <td>1066</td>\n",
       "      <td>@Oli4K @picnic @JumboSupermarkt @albertheijn L...</td>\n",
       "    </tr>\n",
       "    <tr>\n",
       "      <th>2</th>\n",
       "      <td>2020-06-24 17:15:28.534556</td>\n",
       "      <td>2020-06-18 14:00:01+00:00</td>\n",
       "      <td>2020</td>\n",
       "      <td>6</td>\n",
       "      <td>18</td>\n",
       "      <td>3</td>\n",
       "      <td>14</td>\n",
       "      <td>0</td>\n",
       "      <td>1273616458459705347</td>\n",
       "      <td>1273616458459705347</td>\n",
       "      <td>...</td>\n",
       "      <td>[]</td>\n",
       "      <td>&lt;a href=\"https://about.twitter.com/products/tw...</td>\n",
       "      <td>nl</td>\n",
       "      <td>agfnl</td>\n",
       "      <td>164631799</td>\n",
       "      <td>NaN</td>\n",
       "      <td>NaN</td>\n",
       "      <td>8535</td>\n",
       "      <td>2130</td>\n",
       "      <td>\"Trendbreuk: Jumbo al 3 weken duurder in AGF d...</td>\n",
       "    </tr>\n",
       "    <tr>\n",
       "      <th>3</th>\n",
       "      <td>2020-06-24 17:15:29.251031</td>\n",
       "      <td>2020-06-18 15:03:16+00:00</td>\n",
       "      <td>2020</td>\n",
       "      <td>6</td>\n",
       "      <td>18</td>\n",
       "      <td>3</td>\n",
       "      <td>15</td>\n",
       "      <td>3</td>\n",
       "      <td>1273632376950849537</td>\n",
       "      <td>1273632376950849537</td>\n",
       "      <td>...</td>\n",
       "      <td>[]</td>\n",
       "      <td>&lt;a href=\"http://twitter.com/download/android\" ...</td>\n",
       "      <td>nl</td>\n",
       "      <td>martiendas</td>\n",
       "      <td>111582731</td>\n",
       "      <td>NaN</td>\n",
       "      <td>NaN</td>\n",
       "      <td>4645</td>\n",
       "      <td>5108</td>\n",
       "      <td>Half juni en nog steeds worden boodschappen be...</td>\n",
       "    </tr>\n",
       "  </tbody>\n",
       "</table>\n",
       "<p>4 rows × 23 columns</p>\n",
       "</div>"
      ],
      "text/plain": [
       "                    mined_at                created_at  year  month  day  \\\n",
       "0 2020-06-24 17:15:27.659258 2020-06-18 11:50:31+00:00  2020      6   18   \n",
       "1 2020-06-24 17:15:29.661533 2020-06-18 11:56:42+00:00  2020      6   18   \n",
       "2 2020-06-24 17:15:28.534556 2020-06-18 14:00:01+00:00  2020      6   18   \n",
       "3 2020-06-24 17:15:29.251031 2020-06-18 15:03:16+00:00  2020      6   18   \n",
       "\n",
       "   day_of_week  hour  minute             tweet_id         tweet_id_str  ...  \\\n",
       "0            3    11      50  1273583869753724930  1273583869753724930  ...   \n",
       "1            3    11      56  1273585426268409859  1273585426268409859  ...   \n",
       "2            3    14       0  1273616458459705347  1273616458459705347  ...   \n",
       "3            3    15       3  1273632376950849537  1273632376950849537  ...   \n",
       "\n",
       "  hashtags                                             source  language  \\\n",
       "0       []  <a href=\"https://mobile.twitter.com\" rel=\"nofo...        nl   \n",
       "1       []  <a href=\"http://twitter.com/download/iphone\" r...        nl   \n",
       "2       []  <a href=\"https://about.twitter.com/products/tw...        nl   \n",
       "3       []  <a href=\"http://twitter.com/download/android\" ...        nl   \n",
       "\n",
       "  user_screen_name    user_id          user_location user_favourites_count  \\\n",
       "0       GHengeveld   20709019  Amersfoort, Nederland                 891.0   \n",
       "1       jelleprins   16546619                    NaN                   NaN   \n",
       "2            agfnl  164631799                    NaN                   NaN   \n",
       "3       martiendas  111582731                    NaN                   NaN   \n",
       "\n",
       "   followers_count friends_count  \\\n",
       "0             1485          1750   \n",
       "1            10510          1066   \n",
       "2             8535          2130   \n",
       "3             4645          5108   \n",
       "\n",
       "                                                text  \n",
       "0  @jelleprins @picnic @JumboSupermarkt @alberthe...  \n",
       "1  @Oli4K @picnic @JumboSupermarkt @albertheijn L...  \n",
       "2  \"Trendbreuk: Jumbo al 3 weken duurder in AGF d...  \n",
       "3  Half juni en nog steeds worden boodschappen be...  \n",
       "\n",
       "[4 rows x 23 columns]"
      ]
     },
     "execution_count": 39,
     "metadata": {},
     "output_type": "execute_result"
    }
   ],
   "source": [
    "df_query_02 = process_and_save(pd.DataFrame(result_02),\"query_02\",mine_user_twitter=0)\n",
    "df_query_02.head()"
   ]
  },
  {
   "cell_type": "code",
   "execution_count": 40,
   "metadata": {},
   "outputs": [
    {
     "name": "stdout",
     "output_type": "stream",
     "text": [
      "<class 'pandas.core.frame.DataFrame'>\n",
      "RangeIndex: 4 entries, 0 to 3\n",
      "Data columns (total 23 columns):\n",
      " #   Column                   Non-Null Count  Dtype              \n",
      "---  ------                   --------------  -----              \n",
      " 0   mined_at                 4 non-null      datetime64[ns]     \n",
      " 1   created_at               4 non-null      datetime64[ns, UTC]\n",
      " 2   year                     4 non-null      int64              \n",
      " 3   month                    4 non-null      int64              \n",
      " 4   day                      4 non-null      int64              \n",
      " 5   day_of_week              4 non-null      int64              \n",
      " 6   hour                     4 non-null      int64              \n",
      " 7   minute                   4 non-null      int64              \n",
      " 8   tweet_id                 4 non-null      int64              \n",
      " 9   tweet_id_str             4 non-null      object             \n",
      " 10  in_reply_to_screen_name  1 non-null      object             \n",
      " 11  in_reply_to_status_id    1 non-null      float64            \n",
      " 12  in_reply_to_user_id      1 non-null      float64            \n",
      " 13  hashtags                 4 non-null      object             \n",
      " 14  source                   4 non-null      object             \n",
      " 15  language                 4 non-null      object             \n",
      " 16  user_screen_name         4 non-null      object             \n",
      " 17  user_id                  4 non-null      int64              \n",
      " 18  user_location            1 non-null      object             \n",
      " 19  user_favourites_count    1 non-null      float64            \n",
      " 20  followers_count          4 non-null      int64              \n",
      " 21  friends_count            4 non-null      int64              \n",
      " 22  text                     4 non-null      object             \n",
      "dtypes: datetime64[ns, UTC](1), datetime64[ns](1), float64(3), int64(10), object(8)\n",
      "memory usage: 864.0+ bytes\n"
     ]
    }
   ],
   "source": [
    "df_query_02.info()"
   ]
  },
  {
   "cell_type": "markdown",
   "metadata": {},
   "source": [
    "In the case of queries we have much less results than in the case of user timeline so it was necessary to add `drop_duplicates` to function `process_and_save` to remove repeated rows.\n",
    "\n",
    "Notice that `result_02` showed to exist 80 tweets when in fact after removing duplicates we have only 4."
   ]
  },
  {
   "cell_type": "code",
   "execution_count": 41,
   "metadata": {},
   "outputs": [
    {
     "data": {
      "text/plain": [
       "(Timestamp('2020-06-18 11:50:31+0000', tz='UTC'),\n",
       " Timestamp('2020-06-18 15:03:16+0000', tz='UTC'))"
      ]
     },
     "execution_count": 41,
     "metadata": {},
     "output_type": "execute_result"
    }
   ],
   "source": [
    "min(df_query_02['created_at']),max(df_query_02['created_at'])"
   ]
  },
  {
   "cell_type": "code",
   "execution_count": 42,
   "metadata": {},
   "outputs": [
    {
     "data": {
      "text/plain": [
       "array(['@jelleprins @picnic @JumboSupermarkt @albertheijn Geen ervaring met die van Jumbo of AH, maar die van Picnic is so gebruiksvriendelijk dat mijn zoontje van 3 de boodschappen doet.',\n",
       "       '@Oli4K @picnic @JumboSupermarkt @albertheijn Lijkt er op dat Jumbo &amp; AH erg naar website &amp; elkaar hebben gekeken, terwijl Picnic echt mobile first &amp; vanuit niks is gestart.',\n",
       "       '\"Trendbreuk: Jumbo al 3 weken duurder in AGF dan AH, Picnic volgt\"\\nhttps://t.co/mVfpqWNoT7 https://t.co/vPVSFN5S49',\n",
       "       'Half juni en nog steeds worden boodschappen bezorgd bij meerdere huizen in de straat door AH, Jumbo, Picnic. Benieuwd: is dat blijvend of gaan mensen toch weer zelf naar de winkel over een tijdje? Onze boodschappen werden al langer bezorgd, wegens geen biowinkel hier @Korenmaat'],\n",
       "      dtype=object)"
      ]
     },
     "execution_count": 42,
     "metadata": {},
     "output_type": "execute_result"
    }
   ],
   "source": [
    "df_query_02['text'].values"
   ]
  },
  {
   "cell_type": "markdown",
   "metadata": {},
   "source": [
    "### Query_03:\n",
    "\n",
    "Now I'll add `albertheijn` to the last query because sometimes there are expressions like `ahhhhh` and this is not what we are looking for.\n",
    "\n",
    "`All these words`: picnic, jumbo, ah, albertheijn\n",
    "\n",
    "**Result:** `https://twitter.com/search?q=picnic%2C%20jumbo%2C%20ah%2C%20albertheijn&src=typed_query`"
   ]
  },
  {
   "cell_type": "code",
   "execution_count": 43,
   "metadata": {},
   "outputs": [
    {
     "data": {
      "text/plain": [
       "40"
      ]
     },
     "execution_count": 43,
     "metadata": {},
     "output_type": "execute_result"
    }
   ],
   "source": [
    "query_03 = 'q=picnic%2C%20jumbo%2C%20ah%2C%20albertheijn'\n",
    "result_03 = TweetMiner.search_tweets(max_pages = 20, raw_query = query_03)\n",
    "len(result_03)"
   ]
  },
  {
   "cell_type": "code",
   "execution_count": 44,
   "metadata": {},
   "outputs": [
    {
     "data": {
      "text/plain": [
       "{'mined_at': datetime.datetime(2020, 6, 24, 17, 16, 4, 26977),\n",
       " 'created_at': 'Thu Jun 18 11:56:42 +0000 2020',\n",
       " 'tweet_id': 1273585426268409859,\n",
       " 'tweet_id_str': '1273585426268409859',\n",
       " 'language': 'nl',\n",
       " 'text': '@Oli4K @picnic @JumboSupermarkt @albertheijn Lijkt er op dat Jumbo &amp; AH erg naar website &amp; elkaar hebben gekeken, terwijl Picnic echt mobile first &amp; vanuit niks is gestart.',\n",
       " 'hashtags': [],\n",
       " 'source': '<a href=\"http://twitter.com/download/iphone\" rel=\"nofollow\">Twitter for iPhone</a>',\n",
       " 'user_id': 16546619,\n",
       " 'user_screen_name': 'jelleprins',\n",
       " 'followers_count': 10510,\n",
       " 'friends_count': 1066}"
      ]
     },
     "execution_count": 44,
     "metadata": {},
     "output_type": "execute_result"
    }
   ],
   "source": [
    "result_03[0]"
   ]
  },
  {
   "cell_type": "code",
   "execution_count": 45,
   "metadata": {
    "scrolled": true
   },
   "outputs": [
    {
     "data": {
      "text/html": [
       "<div>\n",
       "<style scoped>\n",
       "    .dataframe tbody tr th:only-of-type {\n",
       "        vertical-align: middle;\n",
       "    }\n",
       "\n",
       "    .dataframe tbody tr th {\n",
       "        vertical-align: top;\n",
       "    }\n",
       "\n",
       "    .dataframe thead th {\n",
       "        text-align: right;\n",
       "    }\n",
       "</style>\n",
       "<table border=\"1\" class=\"dataframe\">\n",
       "  <thead>\n",
       "    <tr style=\"text-align: right;\">\n",
       "      <th></th>\n",
       "      <th>mined_at</th>\n",
       "      <th>created_at</th>\n",
       "      <th>year</th>\n",
       "      <th>month</th>\n",
       "      <th>day</th>\n",
       "      <th>day_of_week</th>\n",
       "      <th>hour</th>\n",
       "      <th>minute</th>\n",
       "      <th>tweet_id</th>\n",
       "      <th>tweet_id_str</th>\n",
       "      <th>...</th>\n",
       "      <th>hashtags</th>\n",
       "      <th>source</th>\n",
       "      <th>language</th>\n",
       "      <th>user_screen_name</th>\n",
       "      <th>user_id</th>\n",
       "      <th>user_location</th>\n",
       "      <th>user_favourites_count</th>\n",
       "      <th>followers_count</th>\n",
       "      <th>friends_count</th>\n",
       "      <th>text</th>\n",
       "    </tr>\n",
       "  </thead>\n",
       "  <tbody>\n",
       "    <tr>\n",
       "      <th>0</th>\n",
       "      <td>2020-06-24 17:16:05.725407</td>\n",
       "      <td>2020-06-18 11:50:31+00:00</td>\n",
       "      <td>2020</td>\n",
       "      <td>6</td>\n",
       "      <td>18</td>\n",
       "      <td>3</td>\n",
       "      <td>11</td>\n",
       "      <td>50</td>\n",
       "      <td>1273583869753724930</td>\n",
       "      <td>1273583869753724930</td>\n",
       "      <td>...</td>\n",
       "      <td>[]</td>\n",
       "      <td>&lt;a href=\"https://mobile.twitter.com\" rel=\"nofo...</td>\n",
       "      <td>nl</td>\n",
       "      <td>GHengeveld</td>\n",
       "      <td>20709019</td>\n",
       "      <td>Amersfoort, Nederland</td>\n",
       "      <td>891.0</td>\n",
       "      <td>1485</td>\n",
       "      <td>1750</td>\n",
       "      <td>@jelleprins @picnic @JumboSupermarkt @alberthe...</td>\n",
       "    </tr>\n",
       "    <tr>\n",
       "      <th>1</th>\n",
       "      <td>2020-06-24 17:16:05.328164</td>\n",
       "      <td>2020-06-18 11:56:42+00:00</td>\n",
       "      <td>2020</td>\n",
       "      <td>6</td>\n",
       "      <td>18</td>\n",
       "      <td>3</td>\n",
       "      <td>11</td>\n",
       "      <td>56</td>\n",
       "      <td>1273585426268409859</td>\n",
       "      <td>1273585426268409859</td>\n",
       "      <td>...</td>\n",
       "      <td>[]</td>\n",
       "      <td>&lt;a href=\"http://twitter.com/download/iphone\" r...</td>\n",
       "      <td>nl</td>\n",
       "      <td>jelleprins</td>\n",
       "      <td>16546619</td>\n",
       "      <td>NaN</td>\n",
       "      <td>NaN</td>\n",
       "      <td>10510</td>\n",
       "      <td>1066</td>\n",
       "      <td>@Oli4K @picnic @JumboSupermarkt @albertheijn L...</td>\n",
       "    </tr>\n",
       "  </tbody>\n",
       "</table>\n",
       "<p>2 rows × 23 columns</p>\n",
       "</div>"
      ],
      "text/plain": [
       "                    mined_at                created_at  year  month  day  \\\n",
       "0 2020-06-24 17:16:05.725407 2020-06-18 11:50:31+00:00  2020      6   18   \n",
       "1 2020-06-24 17:16:05.328164 2020-06-18 11:56:42+00:00  2020      6   18   \n",
       "\n",
       "   day_of_week  hour  minute             tweet_id         tweet_id_str  ...  \\\n",
       "0            3    11      50  1273583869753724930  1273583869753724930  ...   \n",
       "1            3    11      56  1273585426268409859  1273585426268409859  ...   \n",
       "\n",
       "  hashtags                                             source  language  \\\n",
       "0       []  <a href=\"https://mobile.twitter.com\" rel=\"nofo...        nl   \n",
       "1       []  <a href=\"http://twitter.com/download/iphone\" r...        nl   \n",
       "\n",
       "  user_screen_name   user_id          user_location user_favourites_count  \\\n",
       "0       GHengeveld  20709019  Amersfoort, Nederland                 891.0   \n",
       "1       jelleprins  16546619                    NaN                   NaN   \n",
       "\n",
       "   followers_count friends_count  \\\n",
       "0             1485          1750   \n",
       "1            10510          1066   \n",
       "\n",
       "                                                text  \n",
       "0  @jelleprins @picnic @JumboSupermarkt @alberthe...  \n",
       "1  @Oli4K @picnic @JumboSupermarkt @albertheijn L...  \n",
       "\n",
       "[2 rows x 23 columns]"
      ]
     },
     "execution_count": 45,
     "metadata": {},
     "output_type": "execute_result"
    }
   ],
   "source": [
    "df_query_03 = process_and_save(pd.DataFrame(result_03),\"query_03\",mine_user_twitter=0)\n",
    "df_query_03.head()"
   ]
  },
  {
   "cell_type": "code",
   "execution_count": 46,
   "metadata": {},
   "outputs": [
    {
     "name": "stdout",
     "output_type": "stream",
     "text": [
      "<class 'pandas.core.frame.DataFrame'>\n",
      "RangeIndex: 2 entries, 0 to 1\n",
      "Data columns (total 23 columns):\n",
      " #   Column                   Non-Null Count  Dtype              \n",
      "---  ------                   --------------  -----              \n",
      " 0   mined_at                 2 non-null      datetime64[ns]     \n",
      " 1   created_at               2 non-null      datetime64[ns, UTC]\n",
      " 2   year                     2 non-null      int64              \n",
      " 3   month                    2 non-null      int64              \n",
      " 4   day                      2 non-null      int64              \n",
      " 5   day_of_week              2 non-null      int64              \n",
      " 6   hour                     2 non-null      int64              \n",
      " 7   minute                   2 non-null      int64              \n",
      " 8   tweet_id                 2 non-null      int64              \n",
      " 9   tweet_id_str             2 non-null      object             \n",
      " 10  in_reply_to_screen_name  1 non-null      object             \n",
      " 11  in_reply_to_status_id    1 non-null      float64            \n",
      " 12  in_reply_to_user_id      1 non-null      float64            \n",
      " 13  hashtags                 2 non-null      object             \n",
      " 14  source                   2 non-null      object             \n",
      " 15  language                 2 non-null      object             \n",
      " 16  user_screen_name         2 non-null      object             \n",
      " 17  user_id                  2 non-null      int64              \n",
      " 18  user_location            1 non-null      object             \n",
      " 19  user_favourites_count    1 non-null      float64            \n",
      " 20  followers_count          2 non-null      int64              \n",
      " 21  friends_count            2 non-null      int64              \n",
      " 22  text                     2 non-null      object             \n",
      "dtypes: datetime64[ns, UTC](1), datetime64[ns](1), float64(3), int64(10), object(8)\n",
      "memory usage: 496.0+ bytes\n"
     ]
    }
   ],
   "source": [
    "df_query_03.info()"
   ]
  },
  {
   "cell_type": "code",
   "execution_count": 47,
   "metadata": {},
   "outputs": [
    {
     "data": {
      "text/plain": [
       "(Timestamp('2020-06-18 11:50:31+0000', tz='UTC'),\n",
       " Timestamp('2020-06-18 11:56:42+0000', tz='UTC'))"
      ]
     },
     "execution_count": 47,
     "metadata": {},
     "output_type": "execute_result"
    }
   ],
   "source": [
    "min(df_query_03['created_at']),max(df_query_03['created_at'])"
   ]
  },
  {
   "cell_type": "markdown",
   "metadata": {},
   "source": [
    "### Query_04:\n",
    "\n",
    "`All these words`: picnic covid\n",
    "\n",
    "**Result:** `https://twitter.com/search?q=picnic%20covid&src=typed_query`"
   ]
  },
  {
   "cell_type": "code",
   "execution_count": 48,
   "metadata": {},
   "outputs": [
    {
     "data": {
      "text/plain": [
       "300"
      ]
     },
     "execution_count": 48,
     "metadata": {},
     "output_type": "execute_result"
    }
   ],
   "source": [
    "query_04 = 'q=picnic%20covid'\n",
    "result_04 = TweetMiner.search_tweets(max_pages = 20, raw_query = query_04)\n",
    "len(result_04)"
   ]
  },
  {
   "cell_type": "code",
   "execution_count": 49,
   "metadata": {},
   "outputs": [
    {
     "data": {
      "text/plain": [
       "{'mined_at': datetime.datetime(2020, 6, 24, 17, 16, 7, 946584),\n",
       " 'created_at': 'Wed Jun 24 15:03:00 +0000 2020',\n",
       " 'tweet_id': 1275806639749242880,\n",
       " 'tweet_id_str': '1275806639749242880',\n",
       " 'language': 'en',\n",
       " 'text': 'A New Photographic Series Makes the Most of Lockdown Props https://t.co/ObIKvePeup',\n",
       " 'hashtags': [],\n",
       " 'source': '<a href=\"https://buffer.com\" rel=\"nofollow\">Buffer</a>',\n",
       " 'user_id': 3438250311,\n",
       " 'user_screen_name': 'squatterant',\n",
       " 'followers_count': 10434,\n",
       " 'friends_count': 6450}"
      ]
     },
     "execution_count": 49,
     "metadata": {},
     "output_type": "execute_result"
    }
   ],
   "source": [
    "result_04[0]"
   ]
  },
  {
   "cell_type": "code",
   "execution_count": 50,
   "metadata": {
    "scrolled": true
   },
   "outputs": [
    {
     "data": {
      "text/html": [
       "<div>\n",
       "<style scoped>\n",
       "    .dataframe tbody tr th:only-of-type {\n",
       "        vertical-align: middle;\n",
       "    }\n",
       "\n",
       "    .dataframe tbody tr th {\n",
       "        vertical-align: top;\n",
       "    }\n",
       "\n",
       "    .dataframe thead th {\n",
       "        text-align: right;\n",
       "    }\n",
       "</style>\n",
       "<table border=\"1\" class=\"dataframe\">\n",
       "  <thead>\n",
       "    <tr style=\"text-align: right;\">\n",
       "      <th></th>\n",
       "      <th>mined_at</th>\n",
       "      <th>created_at</th>\n",
       "      <th>year</th>\n",
       "      <th>month</th>\n",
       "      <th>day</th>\n",
       "      <th>day_of_week</th>\n",
       "      <th>hour</th>\n",
       "      <th>minute</th>\n",
       "      <th>tweet_id</th>\n",
       "      <th>tweet_id_str</th>\n",
       "      <th>...</th>\n",
       "      <th>hashtags</th>\n",
       "      <th>source</th>\n",
       "      <th>language</th>\n",
       "      <th>user_screen_name</th>\n",
       "      <th>user_id</th>\n",
       "      <th>user_location</th>\n",
       "      <th>user_favourites_count</th>\n",
       "      <th>followers_count</th>\n",
       "      <th>friends_count</th>\n",
       "      <th>text</th>\n",
       "    </tr>\n",
       "  </thead>\n",
       "  <tbody>\n",
       "    <tr>\n",
       "      <th>0</th>\n",
       "      <td>2020-06-24 17:16:10.649508</td>\n",
       "      <td>2020-06-24 02:30:50+00:00</td>\n",
       "      <td>2020</td>\n",
       "      <td>6</td>\n",
       "      <td>24</td>\n",
       "      <td>2</td>\n",
       "      <td>2</td>\n",
       "      <td>30</td>\n",
       "      <td>1275617351044644866</td>\n",
       "      <td>1275617351044644866</td>\n",
       "      <td>...</td>\n",
       "      <td>[]</td>\n",
       "      <td>&lt;a href=\"http://twitter.com/download/iphone\" r...</td>\n",
       "      <td>en</td>\n",
       "      <td>saidTCeleste</td>\n",
       "      <td>1251661483668377606</td>\n",
       "      <td>NaN</td>\n",
       "      <td>NaN</td>\n",
       "      <td>45</td>\n",
       "      <td>537</td>\n",
       "      <td>Sitting her planning my birthday picnic and re...</td>\n",
       "    </tr>\n",
       "    <tr>\n",
       "      <th>1</th>\n",
       "      <td>2020-06-24 17:16:13.136173</td>\n",
       "      <td>2020-06-24 03:12:11+00:00</td>\n",
       "      <td>2020</td>\n",
       "      <td>6</td>\n",
       "      <td>24</td>\n",
       "      <td>2</td>\n",
       "      <td>3</td>\n",
       "      <td>12</td>\n",
       "      <td>1275627754130563075</td>\n",
       "      <td>1275627754130563075</td>\n",
       "      <td>...</td>\n",
       "      <td>[]</td>\n",
       "      <td>&lt;a href=\"http://twitter.com/download/iphone\" r...</td>\n",
       "      <td>en</td>\n",
       "      <td>ce1esteee</td>\n",
       "      <td>2733877696</td>\n",
       "      <td>NaN</td>\n",
       "      <td>NaN</td>\n",
       "      <td>614</td>\n",
       "      <td>659</td>\n",
       "      <td>i jus wanna know who said i couldn’t adopt a d...</td>\n",
       "    </tr>\n",
       "    <tr>\n",
       "      <th>2</th>\n",
       "      <td>2020-06-24 17:16:11.430794</td>\n",
       "      <td>2020-06-24 04:20:25+00:00</td>\n",
       "      <td>2020</td>\n",
       "      <td>6</td>\n",
       "      <td>24</td>\n",
       "      <td>2</td>\n",
       "      <td>4</td>\n",
       "      <td>20</td>\n",
       "      <td>1275644926664019969</td>\n",
       "      <td>1275644926664019969</td>\n",
       "      <td>...</td>\n",
       "      <td>[]</td>\n",
       "      <td>&lt;a href=\"http://twitter.com/download/iphone\" r...</td>\n",
       "      <td>en</td>\n",
       "      <td>SeanLikeConnery</td>\n",
       "      <td>995656730309808129</td>\n",
       "      <td>NaN</td>\n",
       "      <td>NaN</td>\n",
       "      <td>118</td>\n",
       "      <td>753</td>\n",
       "      <td>RT @ChrisMWilliams: Just wanted to let my radi...</td>\n",
       "    </tr>\n",
       "    <tr>\n",
       "      <th>3</th>\n",
       "      <td>2020-06-24 17:16:12.171422</td>\n",
       "      <td>2020-06-24 04:38:55+00:00</td>\n",
       "      <td>2020</td>\n",
       "      <td>6</td>\n",
       "      <td>24</td>\n",
       "      <td>2</td>\n",
       "      <td>4</td>\n",
       "      <td>38</td>\n",
       "      <td>1275649581141934081</td>\n",
       "      <td>1275649581141934081</td>\n",
       "      <td>...</td>\n",
       "      <td>[]</td>\n",
       "      <td>&lt;a href=\"https://mobile.twitter.com\" rel=\"nofo...</td>\n",
       "      <td>en</td>\n",
       "      <td>TakenByTC</td>\n",
       "      <td>76281701</td>\n",
       "      <td>NaN</td>\n",
       "      <td>NaN</td>\n",
       "      <td>450</td>\n",
       "      <td>379</td>\n",
       "      <td>@difusella @ClayneCrawford @CCF_Birmingham I c...</td>\n",
       "    </tr>\n",
       "    <tr>\n",
       "      <th>4</th>\n",
       "      <td>2020-06-24 17:16:13.136173</td>\n",
       "      <td>2020-06-24 06:24:15+00:00</td>\n",
       "      <td>2020</td>\n",
       "      <td>6</td>\n",
       "      <td>24</td>\n",
       "      <td>2</td>\n",
       "      <td>6</td>\n",
       "      <td>24</td>\n",
       "      <td>1275676090686746624</td>\n",
       "      <td>1275676090686746624</td>\n",
       "      <td>...</td>\n",
       "      <td>[]</td>\n",
       "      <td>&lt;a href=\"https://mobile.twitter.com\" rel=\"nofo...</td>\n",
       "      <td>en</td>\n",
       "      <td>picnic_crasher</td>\n",
       "      <td>18290294</td>\n",
       "      <td>NaN</td>\n",
       "      <td>NaN</td>\n",
       "      <td>119</td>\n",
       "      <td>1315</td>\n",
       "      <td>RT @yc: It’s really hitting right now me how m...</td>\n",
       "    </tr>\n",
       "  </tbody>\n",
       "</table>\n",
       "<p>5 rows × 23 columns</p>\n",
       "</div>"
      ],
      "text/plain": [
       "                    mined_at                created_at  year  month  day  \\\n",
       "0 2020-06-24 17:16:10.649508 2020-06-24 02:30:50+00:00  2020      6   24   \n",
       "1 2020-06-24 17:16:13.136173 2020-06-24 03:12:11+00:00  2020      6   24   \n",
       "2 2020-06-24 17:16:11.430794 2020-06-24 04:20:25+00:00  2020      6   24   \n",
       "3 2020-06-24 17:16:12.171422 2020-06-24 04:38:55+00:00  2020      6   24   \n",
       "4 2020-06-24 17:16:13.136173 2020-06-24 06:24:15+00:00  2020      6   24   \n",
       "\n",
       "   day_of_week  hour  minute             tweet_id         tweet_id_str  ...  \\\n",
       "0            2     2      30  1275617351044644866  1275617351044644866  ...   \n",
       "1            2     3      12  1275627754130563075  1275627754130563075  ...   \n",
       "2            2     4      20  1275644926664019969  1275644926664019969  ...   \n",
       "3            2     4      38  1275649581141934081  1275649581141934081  ...   \n",
       "4            2     6      24  1275676090686746624  1275676090686746624  ...   \n",
       "\n",
       "  hashtags                                             source  language  \\\n",
       "0       []  <a href=\"http://twitter.com/download/iphone\" r...        en   \n",
       "1       []  <a href=\"http://twitter.com/download/iphone\" r...        en   \n",
       "2       []  <a href=\"http://twitter.com/download/iphone\" r...        en   \n",
       "3       []  <a href=\"https://mobile.twitter.com\" rel=\"nofo...        en   \n",
       "4       []  <a href=\"https://mobile.twitter.com\" rel=\"nofo...        en   \n",
       "\n",
       "  user_screen_name              user_id user_location user_favourites_count  \\\n",
       "0     saidTCeleste  1251661483668377606           NaN                   NaN   \n",
       "1        ce1esteee           2733877696           NaN                   NaN   \n",
       "2  SeanLikeConnery   995656730309808129           NaN                   NaN   \n",
       "3        TakenByTC             76281701           NaN                   NaN   \n",
       "4   picnic_crasher             18290294           NaN                   NaN   \n",
       "\n",
       "   followers_count friends_count  \\\n",
       "0               45           537   \n",
       "1              614           659   \n",
       "2              118           753   \n",
       "3              450           379   \n",
       "4              119          1315   \n",
       "\n",
       "                                                text  \n",
       "0  Sitting her planning my birthday picnic and re...  \n",
       "1  i jus wanna know who said i couldn’t adopt a d...  \n",
       "2  RT @ChrisMWilliams: Just wanted to let my radi...  \n",
       "3  @difusella @ClayneCrawford @CCF_Birmingham I c...  \n",
       "4  RT @yc: It’s really hitting right now me how m...  \n",
       "\n",
       "[5 rows x 23 columns]"
      ]
     },
     "execution_count": 50,
     "metadata": {},
     "output_type": "execute_result"
    }
   ],
   "source": [
    "df_query_04 = process_and_save(pd.DataFrame(result_04),\"query_04\",mine_user_twitter=0)\n",
    "df_query_04.head()"
   ]
  },
  {
   "cell_type": "code",
   "execution_count": 51,
   "metadata": {},
   "outputs": [
    {
     "name": "stdout",
     "output_type": "stream",
     "text": [
      "<class 'pandas.core.frame.DataFrame'>\n",
      "RangeIndex: 15 entries, 0 to 14\n",
      "Data columns (total 23 columns):\n",
      " #   Column                   Non-Null Count  Dtype              \n",
      "---  ------                   --------------  -----              \n",
      " 0   mined_at                 15 non-null     datetime64[ns]     \n",
      " 1   created_at               15 non-null     datetime64[ns, UTC]\n",
      " 2   year                     15 non-null     int64              \n",
      " 3   month                    15 non-null     int64              \n",
      " 4   day                      15 non-null     int64              \n",
      " 5   day_of_week              15 non-null     int64              \n",
      " 6   hour                     15 non-null     int64              \n",
      " 7   minute                   15 non-null     int64              \n",
      " 8   tweet_id                 15 non-null     int64              \n",
      " 9   tweet_id_str             15 non-null     object             \n",
      " 10  in_reply_to_screen_name  3 non-null      object             \n",
      " 11  in_reply_to_status_id    3 non-null      float64            \n",
      " 12  in_reply_to_user_id      3 non-null      float64            \n",
      " 13  hashtags                 15 non-null     object             \n",
      " 14  source                   15 non-null     object             \n",
      " 15  language                 15 non-null     object             \n",
      " 16  user_screen_name         15 non-null     object             \n",
      " 17  user_id                  15 non-null     int64              \n",
      " 18  user_location            3 non-null      object             \n",
      " 19  user_favourites_count    3 non-null      float64            \n",
      " 20  followers_count          15 non-null     int64              \n",
      " 21  friends_count            15 non-null     int64              \n",
      " 22  text                     15 non-null     object             \n",
      "dtypes: datetime64[ns, UTC](1), datetime64[ns](1), float64(3), int64(10), object(8)\n",
      "memory usage: 2.8+ KB\n"
     ]
    }
   ],
   "source": [
    "df_query_04.info()"
   ]
  },
  {
   "cell_type": "code",
   "execution_count": 52,
   "metadata": {},
   "outputs": [
    {
     "data": {
      "text/plain": [
       "array(['Sitting her planning my birthday picnic and realizing that all of my best guy friends moved back home because of Covid 🤧😩😩😩',\n",
       "       'i jus wanna know who said i couldn’t adopt a dog this year at the picnic bc it’s canceled due to covid lmao',\n",
       "       'RT @ChrisMWilliams: Just wanted to let my radio &amp; CF audience/Twitter family know that I have tested positive for COVID-19. This is no picn…',\n",
       "       \"@difusella @ClayneCrawford @CCF_Birmingham I can understand. With Covid-19 still going on, I can't imagine traveling out of the country this year. You're going to have so much fun next year at the picnic and that's great you can make it a longer trip. 😊💕\",\n",
       "       'RT @yc: It’s really hitting right now me how many people have fucking died of COVID, of lack of healthcare, of violence, of racism, and on…',\n",
       "       'Woman Crush Wednesday!\\n\\n#timeout #picnic #pic #art #africa #black #culture #explore #eventmanagement #design #goodvibes #healthylifestyle #happiness💕 #xoxo #jumping #instagram #laughter #love #covid_19 #people… https://t.co/BMJuGIDXDq',\n",
       "       '@difusella @ClayneCrawford @CCF_Birmingham I don’t blame you Di. COVID-19 is still going strong and I personally wouldn’t take the risk of traveling or being in a crowd of people at this time. Hopefully next year will go much more smoothly and y’all can have a great time at the picnic. 🐷',\n",
       "       'RT @BJP4Bengal: While Modi government is burning the midnight oil to contain the Covid pandemic in India, TMC workers in Bengal hold picnic…',\n",
       "       'RT @ChrisMWilliams: Just wanted to let my radio &amp; CF audience/Twitter family know that I have tested positive for COVID-19. This is no picn…',\n",
       "       '@G_Squared39 @NotKallyn I hope this has answered all of your questions in a satisfactory manner. I need some sleep as I am going on a picnic with a friend, and a boat ride with my mom (with proper COVID-19 safety, of course.) You have a great morning, and if you have further questions DM me. God bless!',\n",
       "       '@SilverDraws Sat outside there with my dinner last night - loved this picnic bench for bringing people together (post Covid, of course!) https://t.co/tTzOnBDrDg',\n",
       "       'Ooh this picnic is making us hungry 😋\\U0001f96a\\n📸 by our_journey_covid_19 \\nhttps://t.co/rqtJtCRMik https://t.co/0bJM0qcayK',\n",
       "       \"RT @NortheastTech: COVID canceled our end-of-year picnic, but it can't stop us from recognizing our outstanding employees on social media!…\",\n",
       "       'Imal na kaayog post na picnic akong ig-agaw na naas gawas kay wa na silay covid PINAS ANUNA',\n",
       "       'A New Photographic Series Makes the Most of Lockdown Props https://t.co/ObIKvePeup'],\n",
       "      dtype=object)"
      ]
     },
     "execution_count": 52,
     "metadata": {},
     "output_type": "execute_result"
    }
   ],
   "source": [
    "df_query_04['text'].values"
   ]
  },
  {
   "cell_type": "markdown",
   "metadata": {},
   "source": [
    "Well it seems that is not really the picnic we are looking for, so let's try `@picnic, covid`"
   ]
  },
  {
   "cell_type": "markdown",
   "metadata": {},
   "source": [
    "### Query_04B:\n",
    "\n",
    "`All these words`: @picnic covid\n",
    "\n",
    "**Result:** `https://twitter.com/search?q=%40picnic%20covid&src=typed_query`"
   ]
  },
  {
   "cell_type": "code",
   "execution_count": 53,
   "metadata": {},
   "outputs": [
    {
     "data": {
      "text/plain": [
       "0"
      ]
     },
     "execution_count": 53,
     "metadata": {},
     "output_type": "execute_result"
    }
   ],
   "source": [
    "query_04B = 'q=%40picnic%20covid'\n",
    "result_04B = TweetMiner.search_tweets(max_pages = 20, raw_query = query_04B)\n",
    "len(result_04B)"
   ]
  },
  {
   "cell_type": "markdown",
   "metadata": {},
   "source": [
    "The webpage shows the most recent result from April so the API didn't catch tweets here. So no results for this query unfortunately."
   ]
  },
  {
   "cell_type": "markdown",
   "metadata": {},
   "source": [
    "### Query_05:\n",
    "\n",
    "`All these words`: JumboSupermarkt covid\n",
    "\n",
    "**Result:** `https://twitter.com/search?q=JumboSupermarkt%20covid&src=typed_query`"
   ]
  },
  {
   "cell_type": "code",
   "execution_count": 54,
   "metadata": {},
   "outputs": [
    {
     "data": {
      "text/plain": [
       "80"
      ]
     },
     "execution_count": 54,
     "metadata": {},
     "output_type": "execute_result"
    }
   ],
   "source": [
    "query_05 = 'q=JumboSupermarkt%20covid'\n",
    "result_05 = TweetMiner.search_tweets(max_pages = 20, raw_query = query_05)\n",
    "len(result_05)"
   ]
  },
  {
   "cell_type": "code",
   "execution_count": 55,
   "metadata": {},
   "outputs": [
    {
     "data": {
      "text/plain": [
       "{'mined_at': datetime.datetime(2020, 6, 24, 17, 16, 16, 767294),\n",
       " 'created_at': 'Wed Jun 24 08:38:38 +0000 2020',\n",
       " 'tweet_id': 1275709910286827520,\n",
       " 'tweet_id_str': '1275709910286827520',\n",
       " 'language': 'nl',\n",
       " 'text': 'Hallo @JumboSupermarkt, ik weet dat iedere cent telt maar sinds wanneer is het policy om handgels/sprays (die &gt;70% alcohol moeten bevatten om effectief te zijn) bij de ingang van jullie supermarkten te vervangen door laffe chloorsopjes? Waar? Nou o.a. in #Rotterdam #COVID__19 #',\n",
       " 'hashtags': [{'text': 'Rotterdam'}, {'text': 'COVID__19'}],\n",
       " 'source': '<a href=\"http://twitter.com/download/android\" rel=\"nofollow\">Twitter for Android</a>',\n",
       " 'user_id': 1088012905650491392,\n",
       " 'user_screen_name': 'GeeJeeAn',\n",
       " 'followers_count': 60,\n",
       " 'friends_count': 126}"
      ]
     },
     "execution_count": 55,
     "metadata": {},
     "output_type": "execute_result"
    }
   ],
   "source": [
    "result_05[0]"
   ]
  },
  {
   "cell_type": "code",
   "execution_count": 56,
   "metadata": {
    "scrolled": true
   },
   "outputs": [
    {
     "data": {
      "text/html": [
       "<div>\n",
       "<style scoped>\n",
       "    .dataframe tbody tr th:only-of-type {\n",
       "        vertical-align: middle;\n",
       "    }\n",
       "\n",
       "    .dataframe tbody tr th {\n",
       "        vertical-align: top;\n",
       "    }\n",
       "\n",
       "    .dataframe thead th {\n",
       "        text-align: right;\n",
       "    }\n",
       "</style>\n",
       "<table border=\"1\" class=\"dataframe\">\n",
       "  <thead>\n",
       "    <tr style=\"text-align: right;\">\n",
       "      <th></th>\n",
       "      <th>mined_at</th>\n",
       "      <th>created_at</th>\n",
       "      <th>year</th>\n",
       "      <th>month</th>\n",
       "      <th>day</th>\n",
       "      <th>day_of_week</th>\n",
       "      <th>hour</th>\n",
       "      <th>minute</th>\n",
       "      <th>tweet_id</th>\n",
       "      <th>tweet_id_str</th>\n",
       "      <th>...</th>\n",
       "      <th>hashtags</th>\n",
       "      <th>source</th>\n",
       "      <th>language</th>\n",
       "      <th>user_screen_name</th>\n",
       "      <th>user_id</th>\n",
       "      <th>user_location</th>\n",
       "      <th>user_favourites_count</th>\n",
       "      <th>followers_count</th>\n",
       "      <th>friends_count</th>\n",
       "      <th>text</th>\n",
       "    </tr>\n",
       "  </thead>\n",
       "  <tbody>\n",
       "    <tr>\n",
       "      <th>0</th>\n",
       "      <td>2020-06-24 17:16:18.558470</td>\n",
       "      <td>2020-06-20 17:25:49+00:00</td>\n",
       "      <td>2020</td>\n",
       "      <td>6</td>\n",
       "      <td>20</td>\n",
       "      <td>5</td>\n",
       "      <td>17</td>\n",
       "      <td>25</td>\n",
       "      <td>1274393028183162881</td>\n",
       "      <td>1274393028183162881</td>\n",
       "      <td>...</td>\n",
       "      <td>[{'text': 'Utrecht'}, {'text': 'merelstraat'},...</td>\n",
       "      <td>&lt;a href=\"http://twitter.com/download/android\" ...</td>\n",
       "      <td>nl</td>\n",
       "      <td>milieuzone</td>\n",
       "      <td>3567511941</td>\n",
       "      <td>NaN</td>\n",
       "      <td>NaN</td>\n",
       "      <td>171</td>\n",
       "      <td>75</td>\n",
       "      <td>Complimenten aan @JumboSupermarkt #Utrecht #me...</td>\n",
       "    </tr>\n",
       "    <tr>\n",
       "      <th>1</th>\n",
       "      <td>2020-06-24 17:16:20.566996</td>\n",
       "      <td>2020-06-21 09:33:32+00:00</td>\n",
       "      <td>2020</td>\n",
       "      <td>6</td>\n",
       "      <td>21</td>\n",
       "      <td>6</td>\n",
       "      <td>9</td>\n",
       "      <td>33</td>\n",
       "      <td>1274636561704005632</td>\n",
       "      <td>1274636561704005632</td>\n",
       "      <td>...</td>\n",
       "      <td>[]</td>\n",
       "      <td>&lt;a href=\"https://mobile.twitter.com\" rel=\"nofo...</td>\n",
       "      <td>nl</td>\n",
       "      <td>JumboSupermarkt</td>\n",
       "      <td>2797822974</td>\n",
       "      <td>Veghel, Nederland</td>\n",
       "      <td>3767.0</td>\n",
       "      <td>16208</td>\n",
       "      <td>1710</td>\n",
       "      <td>@deAZfan De 'Vierde wachtende' regel geldt tij...</td>\n",
       "    </tr>\n",
       "    <tr>\n",
       "      <th>2</th>\n",
       "      <td>2020-06-24 17:16:19.427127</td>\n",
       "      <td>2020-06-22 15:14:49+00:00</td>\n",
       "      <td>2020</td>\n",
       "      <td>6</td>\n",
       "      <td>22</td>\n",
       "      <td>0</td>\n",
       "      <td>15</td>\n",
       "      <td>14</td>\n",
       "      <td>1275084834914918407</td>\n",
       "      <td>1275084834914918407</td>\n",
       "      <td>...</td>\n",
       "      <td>[]</td>\n",
       "      <td>&lt;a href=\"http://twitter.com/download/android\" ...</td>\n",
       "      <td>nl</td>\n",
       "      <td>milieuzone</td>\n",
       "      <td>3567511941</td>\n",
       "      <td>Utrecht, The Netherlands</td>\n",
       "      <td>858.0</td>\n",
       "      <td>171</td>\n",
       "      <td>75</td>\n",
       "      <td>@UtrechtseSjoerd @GemeenteUtrecht @JumboSuperm...</td>\n",
       "    </tr>\n",
       "    <tr>\n",
       "      <th>3</th>\n",
       "      <td>2020-06-24 17:16:20.207921</td>\n",
       "      <td>2020-06-24 08:38:38+00:00</td>\n",
       "      <td>2020</td>\n",
       "      <td>6</td>\n",
       "      <td>24</td>\n",
       "      <td>2</td>\n",
       "      <td>8</td>\n",
       "      <td>38</td>\n",
       "      <td>1275709910286827520</td>\n",
       "      <td>1275709910286827520</td>\n",
       "      <td>...</td>\n",
       "      <td>[{'text': 'Rotterdam'}, {'text': 'COVID__19'}]</td>\n",
       "      <td>&lt;a href=\"http://twitter.com/download/android\" ...</td>\n",
       "      <td>nl</td>\n",
       "      <td>GeeJeeAn</td>\n",
       "      <td>1088012905650491392</td>\n",
       "      <td>NaN</td>\n",
       "      <td>NaN</td>\n",
       "      <td>60</td>\n",
       "      <td>126</td>\n",
       "      <td>Hallo @JumboSupermarkt, ik weet dat iedere cen...</td>\n",
       "    </tr>\n",
       "  </tbody>\n",
       "</table>\n",
       "<p>4 rows × 23 columns</p>\n",
       "</div>"
      ],
      "text/plain": [
       "                    mined_at                created_at  year  month  day  \\\n",
       "0 2020-06-24 17:16:18.558470 2020-06-20 17:25:49+00:00  2020      6   20   \n",
       "1 2020-06-24 17:16:20.566996 2020-06-21 09:33:32+00:00  2020      6   21   \n",
       "2 2020-06-24 17:16:19.427127 2020-06-22 15:14:49+00:00  2020      6   22   \n",
       "3 2020-06-24 17:16:20.207921 2020-06-24 08:38:38+00:00  2020      6   24   \n",
       "\n",
       "   day_of_week  hour  minute             tweet_id         tweet_id_str  ...  \\\n",
       "0            5    17      25  1274393028183162881  1274393028183162881  ...   \n",
       "1            6     9      33  1274636561704005632  1274636561704005632  ...   \n",
       "2            0    15      14  1275084834914918407  1275084834914918407  ...   \n",
       "3            2     8      38  1275709910286827520  1275709910286827520  ...   \n",
       "\n",
       "                                            hashtags  \\\n",
       "0  [{'text': 'Utrecht'}, {'text': 'merelstraat'},...   \n",
       "1                                                 []   \n",
       "2                                                 []   \n",
       "3     [{'text': 'Rotterdam'}, {'text': 'COVID__19'}]   \n",
       "\n",
       "                                              source  language  \\\n",
       "0  <a href=\"http://twitter.com/download/android\" ...        nl   \n",
       "1  <a href=\"https://mobile.twitter.com\" rel=\"nofo...        nl   \n",
       "2  <a href=\"http://twitter.com/download/android\" ...        nl   \n",
       "3  <a href=\"http://twitter.com/download/android\" ...        nl   \n",
       "\n",
       "  user_screen_name              user_id             user_location  \\\n",
       "0       milieuzone           3567511941                       NaN   \n",
       "1  JumboSupermarkt           2797822974         Veghel, Nederland   \n",
       "2       milieuzone           3567511941  Utrecht, The Netherlands   \n",
       "3         GeeJeeAn  1088012905650491392                       NaN   \n",
       "\n",
       "  user_favourites_count  followers_count friends_count  \\\n",
       "0                   NaN              171            75   \n",
       "1                3767.0            16208          1710   \n",
       "2                 858.0              171            75   \n",
       "3                   NaN               60           126   \n",
       "\n",
       "                                                text  \n",
       "0  Complimenten aan @JumboSupermarkt #Utrecht #me...  \n",
       "1  @deAZfan De 'Vierde wachtende' regel geldt tij...  \n",
       "2  @UtrechtseSjoerd @GemeenteUtrecht @JumboSuperm...  \n",
       "3  Hallo @JumboSupermarkt, ik weet dat iedere cen...  \n",
       "\n",
       "[4 rows x 23 columns]"
      ]
     },
     "execution_count": 56,
     "metadata": {},
     "output_type": "execute_result"
    }
   ],
   "source": [
    "df_query_05 = process_and_save(pd.DataFrame(result_05),\"query_05\",mine_user_twitter=0)\n",
    "df_query_05.head()"
   ]
  },
  {
   "cell_type": "code",
   "execution_count": 57,
   "metadata": {},
   "outputs": [
    {
     "name": "stdout",
     "output_type": "stream",
     "text": [
      "<class 'pandas.core.frame.DataFrame'>\n",
      "RangeIndex: 4 entries, 0 to 3\n",
      "Data columns (total 23 columns):\n",
      " #   Column                   Non-Null Count  Dtype              \n",
      "---  ------                   --------------  -----              \n",
      " 0   mined_at                 4 non-null      datetime64[ns]     \n",
      " 1   created_at               4 non-null      datetime64[ns, UTC]\n",
      " 2   year                     4 non-null      int64              \n",
      " 3   month                    4 non-null      int64              \n",
      " 4   day                      4 non-null      int64              \n",
      " 5   day_of_week              4 non-null      int64              \n",
      " 6   hour                     4 non-null      int64              \n",
      " 7   minute                   4 non-null      int64              \n",
      " 8   tweet_id                 4 non-null      int64              \n",
      " 9   tweet_id_str             4 non-null      object             \n",
      " 10  in_reply_to_screen_name  2 non-null      object             \n",
      " 11  in_reply_to_status_id    2 non-null      float64            \n",
      " 12  in_reply_to_user_id      2 non-null      float64            \n",
      " 13  hashtags                 4 non-null      object             \n",
      " 14  source                   4 non-null      object             \n",
      " 15  language                 4 non-null      object             \n",
      " 16  user_screen_name         4 non-null      object             \n",
      " 17  user_id                  4 non-null      int64              \n",
      " 18  user_location            2 non-null      object             \n",
      " 19  user_favourites_count    2 non-null      float64            \n",
      " 20  followers_count          4 non-null      int64              \n",
      " 21  friends_count            4 non-null      int64              \n",
      " 22  text                     4 non-null      object             \n",
      "dtypes: datetime64[ns, UTC](1), datetime64[ns](1), float64(3), int64(10), object(8)\n",
      "memory usage: 864.0+ bytes\n"
     ]
    }
   ],
   "source": [
    "df_query_05.info()"
   ]
  },
  {
   "cell_type": "markdown",
   "metadata": {},
   "source": [
    "### Query_06:\n",
    "\n",
    "`All these words`: albertheijn covid ah\n",
    "\n",
    "**Result:** `https://twitter.com/search?q=albertheijn%20covid&src=typed_query`"
   ]
  },
  {
   "cell_type": "code",
   "execution_count": 58,
   "metadata": {},
   "outputs": [
    {
     "data": {
      "text/plain": [
       "160"
      ]
     },
     "execution_count": 58,
     "metadata": {},
     "output_type": "execute_result"
    }
   ],
   "source": [
    "query_06 = 'q=albertheijn%20covid'\n",
    "result_06 = TweetMiner.search_tweets(max_pages = 20, raw_query = query_06)\n",
    "len(result_06)"
   ]
  },
  {
   "cell_type": "code",
   "execution_count": 59,
   "metadata": {},
   "outputs": [
    {
     "data": {
      "text/plain": [
       "{'mined_at': datetime.datetime(2020, 6, 24, 17, 16, 20, 923592),\n",
       " 'created_at': 'Wed Jun 24 11:39:37 +0000 2020',\n",
       " 'tweet_id': 1275755454648520704,\n",
       " 'tweet_id_str': '1275755454648520704',\n",
       " 'language': 'nl',\n",
       " 'text': 'Nog een avonddienst en dan 2 weken vakantie. Ben nog nooit zo toegeweest aan vakantie. 3 Maanden politieagent spelen en zelfs nu luisteren de mensen nog niet! Neem een winkelwagen, kom alleen om boodschappen. Hoe moeilijk is het? #COVID__19  #Albertheijn',\n",
       " 'hashtags': [{'text': 'COVID__19'}, {'text': 'Albertheijn'}],\n",
       " 'source': '<a href=\"http://twitter.com/download/android\" rel=\"nofollow\">Twitter for Android</a>',\n",
       " 'user_id': 212649116,\n",
       " 'user_screen_name': 'AnjaFijnaut',\n",
       " 'followers_count': 42,\n",
       " 'friends_count': 100}"
      ]
     },
     "execution_count": 59,
     "metadata": {},
     "output_type": "execute_result"
    }
   ],
   "source": [
    "result_06[0]"
   ]
  },
  {
   "cell_type": "code",
   "execution_count": 60,
   "metadata": {
    "scrolled": false
   },
   "outputs": [
    {
     "data": {
      "text/html": [
       "<div>\n",
       "<style scoped>\n",
       "    .dataframe tbody tr th:only-of-type {\n",
       "        vertical-align: middle;\n",
       "    }\n",
       "\n",
       "    .dataframe tbody tr th {\n",
       "        vertical-align: top;\n",
       "    }\n",
       "\n",
       "    .dataframe thead th {\n",
       "        text-align: right;\n",
       "    }\n",
       "</style>\n",
       "<table border=\"1\" class=\"dataframe\">\n",
       "  <thead>\n",
       "    <tr style=\"text-align: right;\">\n",
       "      <th></th>\n",
       "      <th>mined_at</th>\n",
       "      <th>created_at</th>\n",
       "      <th>year</th>\n",
       "      <th>month</th>\n",
       "      <th>day</th>\n",
       "      <th>day_of_week</th>\n",
       "      <th>hour</th>\n",
       "      <th>minute</th>\n",
       "      <th>tweet_id</th>\n",
       "      <th>tweet_id_str</th>\n",
       "      <th>...</th>\n",
       "      <th>hashtags</th>\n",
       "      <th>source</th>\n",
       "      <th>language</th>\n",
       "      <th>user_screen_name</th>\n",
       "      <th>user_id</th>\n",
       "      <th>user_location</th>\n",
       "      <th>user_favourites_count</th>\n",
       "      <th>followers_count</th>\n",
       "      <th>friends_count</th>\n",
       "      <th>text</th>\n",
       "    </tr>\n",
       "  </thead>\n",
       "  <tbody>\n",
       "    <tr>\n",
       "      <th>0</th>\n",
       "      <td>2020-06-24 17:16:22.823956</td>\n",
       "      <td>2020-06-18 09:59:31+00:00</td>\n",
       "      <td>2020</td>\n",
       "      <td>6</td>\n",
       "      <td>18</td>\n",
       "      <td>3</td>\n",
       "      <td>9</td>\n",
       "      <td>59</td>\n",
       "      <td>1273555936356061186</td>\n",
       "      <td>1273555936356061186</td>\n",
       "      <td>...</td>\n",
       "      <td>[{'text': 'Covid_19'}]</td>\n",
       "      <td>&lt;a href=\"https://mobile.twitter.com\" rel=\"nofo...</td>\n",
       "      <td>nl</td>\n",
       "      <td>ChristienJanson</td>\n",
       "      <td>40452837</td>\n",
       "      <td>NaN</td>\n",
       "      <td>NaN</td>\n",
       "      <td>590</td>\n",
       "      <td>1105</td>\n",
       "      <td>Goh @albertheijn Almere Lavendelplantsoen, gee...</td>\n",
       "    </tr>\n",
       "    <tr>\n",
       "      <th>1</th>\n",
       "      <td>2020-06-24 17:16:24.992432</td>\n",
       "      <td>2020-06-18 17:10:57+00:00</td>\n",
       "      <td>2020</td>\n",
       "      <td>6</td>\n",
       "      <td>18</td>\n",
       "      <td>3</td>\n",
       "      <td>17</td>\n",
       "      <td>10</td>\n",
       "      <td>1273664510591733762</td>\n",
       "      <td>1273664510591733762</td>\n",
       "      <td>...</td>\n",
       "      <td>[{'text': 'Retail'}, {'text': 'Innovatie'}, {'...</td>\n",
       "      <td>&lt;a href=\"http://www.linkedin.com/\" rel=\"nofoll...</td>\n",
       "      <td>und</td>\n",
       "      <td>buisman_pro</td>\n",
       "      <td>756432448561487872</td>\n",
       "      <td>NaN</td>\n",
       "      <td>NaN</td>\n",
       "      <td>165</td>\n",
       "      <td>1321</td>\n",
       "      <td>#Retail #Innovatie #Covid_19 😷 #AlbertHeijn #C...</td>\n",
       "    </tr>\n",
       "    <tr>\n",
       "      <th>2</th>\n",
       "      <td>2020-06-24 17:16:22.823956</td>\n",
       "      <td>2020-06-19 20:43:35+00:00</td>\n",
       "      <td>2020</td>\n",
       "      <td>6</td>\n",
       "      <td>19</td>\n",
       "      <td>4</td>\n",
       "      <td>20</td>\n",
       "      <td>43</td>\n",
       "      <td>1274080408028753920</td>\n",
       "      <td>1274080408028753920</td>\n",
       "      <td>...</td>\n",
       "      <td>[{'text': 'WillemAlexander'}, {'text': 'veroni...</td>\n",
       "      <td>&lt;a href=\"http://twitter.com/download/iphone\" r...</td>\n",
       "      <td>nl</td>\n",
       "      <td>wendersinke</td>\n",
       "      <td>381493231</td>\n",
       "      <td>NaN</td>\n",
       "      <td>NaN</td>\n",
       "      <td>606</td>\n",
       "      <td>519</td>\n",
       "      <td>Iedereen heeft wel iets te zeggen, maar soms n...</td>\n",
       "    </tr>\n",
       "    <tr>\n",
       "      <th>3</th>\n",
       "      <td>2020-06-24 17:16:23.045414</td>\n",
       "      <td>2020-06-20 06:14:39+00:00</td>\n",
       "      <td>2020</td>\n",
       "      <td>6</td>\n",
       "      <td>20</td>\n",
       "      <td>5</td>\n",
       "      <td>6</td>\n",
       "      <td>14</td>\n",
       "      <td>1274224124836089857</td>\n",
       "      <td>1274224124836089857</td>\n",
       "      <td>...</td>\n",
       "      <td>[{'text': 'Jumbo'}]</td>\n",
       "      <td>&lt;a href=\"https://mobile.twitter.com\" rel=\"nofo...</td>\n",
       "      <td>en</td>\n",
       "      <td>JeannetteWezen1</td>\n",
       "      <td>1235877748163383296</td>\n",
       "      <td>NaN</td>\n",
       "      <td>NaN</td>\n",
       "      <td>193</td>\n",
       "      <td>176</td>\n",
       "      <td>@marutza_mh @albertheijn #Jumbo is selling bre...</td>\n",
       "    </tr>\n",
       "    <tr>\n",
       "      <th>4</th>\n",
       "      <td>2020-06-24 17:16:24.809824</td>\n",
       "      <td>2020-06-20 17:25:49+00:00</td>\n",
       "      <td>2020</td>\n",
       "      <td>6</td>\n",
       "      <td>20</td>\n",
       "      <td>5</td>\n",
       "      <td>17</td>\n",
       "      <td>25</td>\n",
       "      <td>1274393028183162881</td>\n",
       "      <td>1274393028183162881</td>\n",
       "      <td>...</td>\n",
       "      <td>[{'text': 'Utrecht'}, {'text': 'merelstraat'},...</td>\n",
       "      <td>&lt;a href=\"http://twitter.com/download/android\" ...</td>\n",
       "      <td>nl</td>\n",
       "      <td>milieuzone</td>\n",
       "      <td>3567511941</td>\n",
       "      <td>NaN</td>\n",
       "      <td>NaN</td>\n",
       "      <td>171</td>\n",
       "      <td>75</td>\n",
       "      <td>Complimenten aan @JumboSupermarkt #Utrecht #me...</td>\n",
       "    </tr>\n",
       "  </tbody>\n",
       "</table>\n",
       "<p>5 rows × 23 columns</p>\n",
       "</div>"
      ],
      "text/plain": [
       "                    mined_at                created_at  year  month  day  \\\n",
       "0 2020-06-24 17:16:22.823956 2020-06-18 09:59:31+00:00  2020      6   18   \n",
       "1 2020-06-24 17:16:24.992432 2020-06-18 17:10:57+00:00  2020      6   18   \n",
       "2 2020-06-24 17:16:22.823956 2020-06-19 20:43:35+00:00  2020      6   19   \n",
       "3 2020-06-24 17:16:23.045414 2020-06-20 06:14:39+00:00  2020      6   20   \n",
       "4 2020-06-24 17:16:24.809824 2020-06-20 17:25:49+00:00  2020      6   20   \n",
       "\n",
       "   day_of_week  hour  minute             tweet_id         tweet_id_str  ...  \\\n",
       "0            3     9      59  1273555936356061186  1273555936356061186  ...   \n",
       "1            3    17      10  1273664510591733762  1273664510591733762  ...   \n",
       "2            4    20      43  1274080408028753920  1274080408028753920  ...   \n",
       "3            5     6      14  1274224124836089857  1274224124836089857  ...   \n",
       "4            5    17      25  1274393028183162881  1274393028183162881  ...   \n",
       "\n",
       "                                            hashtags  \\\n",
       "0                             [{'text': 'Covid_19'}]   \n",
       "1  [{'text': 'Retail'}, {'text': 'Innovatie'}, {'...   \n",
       "2  [{'text': 'WillemAlexander'}, {'text': 'veroni...   \n",
       "3                                [{'text': 'Jumbo'}]   \n",
       "4  [{'text': 'Utrecht'}, {'text': 'merelstraat'},...   \n",
       "\n",
       "                                              source  language  \\\n",
       "0  <a href=\"https://mobile.twitter.com\" rel=\"nofo...        nl   \n",
       "1  <a href=\"http://www.linkedin.com/\" rel=\"nofoll...       und   \n",
       "2  <a href=\"http://twitter.com/download/iphone\" r...        nl   \n",
       "3  <a href=\"https://mobile.twitter.com\" rel=\"nofo...        en   \n",
       "4  <a href=\"http://twitter.com/download/android\" ...        nl   \n",
       "\n",
       "  user_screen_name              user_id user_location user_favourites_count  \\\n",
       "0  ChristienJanson             40452837           NaN                   NaN   \n",
       "1      buisman_pro   756432448561487872           NaN                   NaN   \n",
       "2      wendersinke            381493231           NaN                   NaN   \n",
       "3  JeannetteWezen1  1235877748163383296           NaN                   NaN   \n",
       "4       milieuzone           3567511941           NaN                   NaN   \n",
       "\n",
       "   followers_count friends_count  \\\n",
       "0              590          1105   \n",
       "1              165          1321   \n",
       "2              606           519   \n",
       "3              193           176   \n",
       "4              171            75   \n",
       "\n",
       "                                                text  \n",
       "0  Goh @albertheijn Almere Lavendelplantsoen, gee...  \n",
       "1  #Retail #Innovatie #Covid_19 😷 #AlbertHeijn #C...  \n",
       "2  Iedereen heeft wel iets te zeggen, maar soms n...  \n",
       "3  @marutza_mh @albertheijn #Jumbo is selling bre...  \n",
       "4  Complimenten aan @JumboSupermarkt #Utrecht #me...  \n",
       "\n",
       "[5 rows x 23 columns]"
      ]
     },
     "execution_count": 60,
     "metadata": {},
     "output_type": "execute_result"
    }
   ],
   "source": [
    "df_query_06 = process_and_save(pd.DataFrame(result_06),\"query_06\",mine_user_twitter=0)\n",
    "df_query_06.head()"
   ]
  },
  {
   "cell_type": "code",
   "execution_count": 61,
   "metadata": {},
   "outputs": [
    {
     "name": "stdout",
     "output_type": "stream",
     "text": [
      "<class 'pandas.core.frame.DataFrame'>\n",
      "RangeIndex: 8 entries, 0 to 7\n",
      "Data columns (total 23 columns):\n",
      " #   Column                   Non-Null Count  Dtype              \n",
      "---  ------                   --------------  -----              \n",
      " 0   mined_at                 8 non-null      datetime64[ns]     \n",
      " 1   created_at               8 non-null      datetime64[ns, UTC]\n",
      " 2   year                     8 non-null      int64              \n",
      " 3   month                    8 non-null      int64              \n",
      " 4   day                      8 non-null      int64              \n",
      " 5   day_of_week              8 non-null      int64              \n",
      " 6   hour                     8 non-null      int64              \n",
      " 7   minute                   8 non-null      int64              \n",
      " 8   tweet_id                 8 non-null      int64              \n",
      " 9   tweet_id_str             8 non-null      object             \n",
      " 10  in_reply_to_screen_name  1 non-null      object             \n",
      " 11  in_reply_to_status_id    1 non-null      float64            \n",
      " 12  in_reply_to_user_id      1 non-null      float64            \n",
      " 13  hashtags                 8 non-null      object             \n",
      " 14  source                   8 non-null      object             \n",
      " 15  language                 8 non-null      object             \n",
      " 16  user_screen_name         8 non-null      object             \n",
      " 17  user_id                  8 non-null      int64              \n",
      " 18  user_location            1 non-null      object             \n",
      " 19  user_favourites_count    1 non-null      float64            \n",
      " 20  followers_count          8 non-null      int64              \n",
      " 21  friends_count            8 non-null      int64              \n",
      " 22  text                     8 non-null      object             \n",
      "dtypes: datetime64[ns, UTC](1), datetime64[ns](1), float64(3), int64(10), object(8)\n",
      "memory usage: 1.6+ KB\n"
     ]
    }
   ],
   "source": [
    "df_query_06.info()"
   ]
  },
  {
   "cell_type": "markdown",
   "metadata": {},
   "source": [
    "# Conclusions\n",
    "\n",
    "* When retrieving data from Twitter timelines of @picnic, @JumboSupermarkten, and @albertijn we succeeded in going back respectively to data from 7th December 2018, 7th March, and 6th April 2020. Therefore, we will not be able to cover all COVID-19 period from the beginning (27th February 2020) for all 3 (online) supermarkets. In terms, of comparison we probably need to consider the constraints and consider the period covered by AH.\n",
    "\n",
    "* Making search using queries via API query is trick and limited. For instances, picnic can be seen as *`an occasion when you have an informal meal of sandwiches, etc. outside, or the food itself`*[[definition Cambridge dictionary](https://dictionary.cambridge.org/dictionary/english/picnic)] which is not exactly what we want to analyze here. The other problem is that we can only reach the past 7 days from the day we apply the query. So, if we want to have enough data to analyze we need to apply the query for some weeks.\n",
    "\n",
    "Following, we will go deeper in the data collect here and perform some EDA and sentiment analysis. Next challenge: Sentiment analysis in Dutch since the great majority of the tweets are in Dutch as expected."
   ]
  }
 ],
 "metadata": {
  "hide_input": false,
  "kernelspec": {
   "display_name": "Python 3",
   "language": "python",
   "name": "python3"
  },
  "language_info": {
   "codemirror_mode": {
    "name": "ipython",
    "version": 3
   },
   "file_extension": ".py",
   "mimetype": "text/x-python",
   "name": "python",
   "nbconvert_exporter": "python",
   "pygments_lexer": "ipython3",
   "version": "3.6.7"
  },
  "toc": {
   "base_numbering": 1,
   "nav_menu": {},
   "number_sections": true,
   "sideBar": true,
   "skip_h1_title": false,
   "title_cell": "Table of Contents",
   "title_sidebar": "Contents",
   "toc_cell": true,
   "toc_position": {
    "height": "calc(100% - 180px)",
    "left": "10px",
    "top": "150px",
    "width": "307.2px"
   },
   "toc_section_display": true,
   "toc_window_display": true
  },
  "varInspector": {
   "cols": {
    "lenName": 16,
    "lenType": 16,
    "lenVar": 40
   },
   "kernels_config": {
    "python": {
     "delete_cmd_postfix": "",
     "delete_cmd_prefix": "del ",
     "library": "var_list.py",
     "varRefreshCmd": "print(var_dic_list())"
    },
    "r": {
     "delete_cmd_postfix": ") ",
     "delete_cmd_prefix": "rm(",
     "library": "var_list.r",
     "varRefreshCmd": "cat(var_dic_list()) "
    }
   },
   "types_to_exclude": [
    "module",
    "function",
    "builtin_function_or_method",
    "instance",
    "_Feature"
   ],
   "window_display": false
  }
 },
 "nbformat": 4,
 "nbformat_minor": 2
}
