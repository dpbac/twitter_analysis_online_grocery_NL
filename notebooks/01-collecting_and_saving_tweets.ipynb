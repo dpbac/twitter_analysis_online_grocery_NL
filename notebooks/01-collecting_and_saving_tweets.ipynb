{
 "cells": [
  {
   "cell_type": "markdown",
   "metadata": {},
   "source": [
    "# Load packages"
   ]
  },
  {
   "cell_type": "code",
   "execution_count": 1,
   "metadata": {},
   "outputs": [],
   "source": [
    "# 'private_twitter_credentials' contains my Twitter credentials. Replace by 'twitter_credentials' with your credentials\n",
    "import private_twitter_credentials\n",
    "import twitter\n",
    "import datetime\n",
    "import pandas as pd\n",
    "import time\n",
    "\n",
    "TodaysDate = time.strftime(\"%Y-%m-%d-%H-%M\")"
   ]
  },
  {
   "cell_type": "markdown",
   "metadata": {},
   "source": [
    "# Seeting up twitter authentication"
   ]
  },
  {
   "cell_type": "code",
   "execution_count": 2,
   "metadata": {},
   "outputs": [],
   "source": [
    "consumer_key = private_twitter_credentials.consumer_key\n",
    "consumer_secret = private_twitter_credentials.consumer_secret\n",
    "access_token = private_twitter_credentials.access_token\n",
    "access_token_secret = private_twitter_credentials.access_token_secret\n",
    "\n",
    "api = twitter.Api(\n",
    "    consumer_key         =   consumer_key,\n",
    "    consumer_secret      =   consumer_secret,\n",
    "    access_token_key     =   access_token,\n",
    "    access_token_secret  =   access_token_secret,\n",
    "    tweet_mode = 'extended'\n",
    ")"
   ]
  },
  {
   "cell_type": "markdown",
   "metadata": {},
   "source": [
    "# Functions\n",
    "\n",
    "Class `TweetMiner` class contains two methods: \n",
    "\n",
    "* `mine_user_tweets` which mine user's tweets making use of [Get user_timeline](https://developer.twitter.com/en/docs/tweets/timelines/api-reference/get-statuses-user_timeline)\n",
    "\n",
    "* `search_tweets` which mine tweets using [GetSearch](https://developer.twitter.com/en/docs/tweets/search/api-reference/get-search-tweets)\n",
    "\n",
    "`search_tweets` gives you possibility to perform queries. You can for instances perform a search at Twitter and copy what comes after `q` in your browser.\n",
    "\n",
    "For example, if I search `@picnic @JumboSupermarkt @albertheijn covid-19` the query used as argument in `search_tweets` is `q=%40picnic%20%40JumboSupermarkt%20%40albertheijn%20covid-19&src=typed_query`. \n"
   ]
  },
  {
   "cell_type": "code",
   "execution_count": 22,
   "metadata": {
    "ExecuteTime": {
     "end_time": "2019-05-06T07:34:34.325020Z",
     "start_time": "2019-05-06T07:34:34.299182Z"
    }
   },
   "outputs": [],
   "source": [
    "import datetime\n",
    "\n",
    "class TweetMiner(object):\n",
    "    \"\"\" Make possible obtaining tweets using twitter user id (mine_user_tweets) or performing a standard Twitter \n",
    "    API search\"\"\"\n",
    "\n",
    "    \n",
    "    def __init__(self, api, result_limit = 20, max_pages = 40):\n",
    "        \"\"\"result_limit = count that can take max 200 (mine_user_tweets) and max 100 (search_tweets)\"\"\"\n",
    "        \n",
    "        self.api = api        \n",
    "        self.result_limit = result_limit\n",
    "        self.max_pages = max_pages\n",
    "        \n",
    "\n",
    "    def mine_user_tweets(self, user, mine_retweets=False):\n",
    "        \"\"\" Mine tweets of user = screen_name or user_id\"\"\"\n",
    "\n",
    "        data           =  []\n",
    "        last_tweet_id  =  False\n",
    "        page           =  1\n",
    "        \n",
    "        while page <= self.max_pages:\n",
    "            \n",
    "            if last_tweet_id:\n",
    "                statuses   =   self.api.GetUserTimeline(screen_name=user, count=self.result_limit, max_id=last_tweet_id - 1, \n",
    "                                                        include_rts=mine_retweets)\n",
    "                statuses = [ _.AsDict() for _ in statuses]\n",
    "            else:\n",
    "                statuses   =   self.api.GetUserTimeline(screen_name=user, count=self.result_limit, \n",
    "                                                        include_rts=mine_retweets)\n",
    "                statuses = [_.AsDict() for _ in statuses]\n",
    "                \n",
    "            for item in statuses:\n",
    "                # Using try except here.\n",
    "                # When retweets = 0 we get an error (GetUserTimeline fails to create a key, 'retweet_count')\n",
    "                try:\n",
    "                    mined = {\n",
    "                        'mined_at':         datetime.datetime.now(),\n",
    "                        'created_at':       item['created_at'],\n",
    "                        'tweet_id':         item['id'],\n",
    "                        'tweet_id_str':     item['id_str'],\n",
    "                        'screen_name':      item['user']['screen_name'],\n",
    "                        'favorite_count':   item['favorite_count'],\n",
    "                        'text':             item['full_text'],\n",
    "                        'source':           item['source'],\n",
    "                        'language':         item['lang'],\n",
    "                        'retweet_count':    item['retweet_count'],\n",
    "                        #user info\n",
    "                        'user_favourites_count': item['user']['favourites_count'],\n",
    "                        'followers_count':  item['user']['followers_count'],\n",
    "                        'friends_count':    item['user']['friends_count']\n",
    "                    }\n",
    "            \n",
    "                \n",
    "                except:\n",
    "                    mined = {\n",
    "                        'mined_at':         datetime.datetime.now(),\n",
    "                        'created_at':       item['created_at'],\n",
    "                        'tweet_id':         item['id'],\n",
    "                        'tweet_id_str':     item['id_str'],\n",
    "                        'screen_name':      item['user']['screen_name'],\n",
    "#                         'favorite_count':   item['favorite_count'],\n",
    "                        'text':             item['full_text'],\n",
    "                        'source':           item['source'],\n",
    "                        'language':         item['lang'],\n",
    "                        'retweet_count':    0,\n",
    "                        # user info\n",
    "                        'user_favourites_count': item['user']['favourites_count'],\n",
    "                        'followers_count':  item['user']['followers_count'],\n",
    "                        'friends_count':    item['user']['friends_count']\n",
    "                        }\n",
    "                \n",
    "                last_tweet_id = item['id']\n",
    "                data.append(mined)\n",
    "                \n",
    "            page += 1\n",
    "            \n",
    "        return data\n",
    "    \n",
    "    def search_tweets(max_pages = 20, count = 20, raw_query = None, result_type = 'mixed'):\n",
    "        \"\"\" Search tweets \"\"\"\n",
    "\n",
    "        data           =  []\n",
    "        last_tweet_id  =  False\n",
    "        page           =  1\n",
    "        \n",
    "        while page <= max_pages:\n",
    "            \n",
    "            if last_tweet_id:\n",
    "                statuses = api.GetSearch(raw_query=raw_query, count = count, result_type=result_type, \n",
    "                                         max_id=last_tweet_id - 1)\n",
    "                statuses = [ _.AsDict() for _ in statuses]\n",
    "            else:\n",
    "                statuses = api.GetSearch(raw_query=raw_query, count = count, result_type=result_type)\n",
    "                statuses = [_.AsDict() for _ in statuses]\n",
    "                \n",
    "            for item in statuses:\n",
    "                # Using try except here.\n",
    "                # When retweets = 0 we get an error (GetUserTimeline fails to create a key, 'retweet_count')\n",
    "                try:\n",
    "                    mined = {\n",
    "                        'mined_at':                datetime.datetime.now(),\n",
    "                        'created_at':              item['created_at'],\n",
    "                        'tweet_id':                item['id'],\n",
    "                        'tweet_id_str':            item['id_str'],\n",
    "                        'in_reply_to_screen_name': item['in_reply_to_screen_name'],\n",
    "                        'in_reply_to_status_id':   item['in_reply_to_status_id'],\n",
    "                        'in_reply_to_user_id':     item['in_reply_to_user_id'],\n",
    "                        'language':                item['lang'],\n",
    "                        'text':                    item['full_text'],\n",
    "                        'hashtags':                item['hashtags'],\n",
    "                        'source':                  item['source'],\n",
    "                       # info about user\n",
    "                        'screen_name':             item['user']['screen_name'],\n",
    "                        'user_tweet_id':           item['user']['id'],\n",
    "                        'user_tweet_id_str':       item['user']['id_str'],\n",
    "                        'user_favourites_count':   item['user']['favourites_count'],\n",
    "                        'followers_count':         item['user']['followers_count'],\n",
    "                        'friends_count':           item['user']['friends_count']\n",
    "                    }\n",
    "                    \n",
    "                except:\n",
    "                    mined = {\n",
    "                        'mined_at':                datetime.datetime.now(),\n",
    "                        'created_at':              item['created_at'],\n",
    "                        'tweet_id':                item['id'],\n",
    "                        'tweet_id_str':            item['id_str'],\n",
    "#                         'in_reply_to_screen_name': item['in_reply_to_screen_name'],\n",
    "#                         'in_reply_to_status_id':   item['in_reply_to_status_id'],\n",
    "#                         'in_reply_to_user_id':     item['in_reply_to_user_id'],\n",
    "                        'language':                item['lang'],\n",
    "                        'text':                    item['full_text'],\n",
    "                        'hashtags':                item['hashtags'],\n",
    "                        'source':                  item['source'],\n",
    "                       # info about user\n",
    "                        'screen_name':             item['user']['screen_name'],\n",
    "                        'user_tweet_id':           item['user']['id'],\n",
    "                        'user_tweet_id_str':       item['user']['id_str'],\n",
    "                        'user_favourites_count':   item['user']['favourites_count'],\n",
    "                        'followers_count':         item['user']['followers_count'],\n",
    "                        'friends_count':           item['user']['friends_count']\n",
    "                    }\n",
    "                                            \n",
    "                \n",
    "                last_tweet_id = item['id']\n",
    "                data.append(mined)\n",
    "                \n",
    "            page += 1\n",
    "            \n",
    "        return data"
   ]
  },
  {
   "cell_type": "code",
   "execution_count": 19,
   "metadata": {
    "ExecuteTime": {
     "end_time": "2019-05-06T07:34:34.346271Z",
     "start_time": "2019-05-06T07:34:34.330962Z"
    }
   },
   "outputs": [],
   "source": [
    "def processing_and_saving(df, file_name, mine_user_twitter=1):\n",
    "    \"\"\" Save retrieved tweets in csv file.\n",
    "    \n",
    "    Input:\n",
    "    \n",
    "    df : dataframe of tweets'data\n",
    "    file_name: name with which the csv will be saved (without extension)\n",
    "    mine_user_twitter: Indicates if df came contains tweets from a twitter user, i.e., was obtained using \n",
    "    GetUserTimeline since the information obtained from this method is different from an API search from GetSearch\n",
    "    \n",
    "    \"\"\"\n",
    "    \n",
    "    TodaysDate = time.strftime(\"%Y-%m-%d-%H-%M\")\n",
    "\n",
    "    \n",
    "    # Create columns 'year', 'month', 'day', 'hour', 'min' from 'created_at'\n",
    "    df['created_at'] = pd.to_datetime(df['created_at'])\n",
    "        \n",
    "    df['year'] = df['created_at'].dt.year \n",
    "    df['month'] = df['created_at'].dt.month \n",
    "    df['day'] = df['created_at'].dt.day \n",
    "    df['hour'] = df['created_at'].dt.hour \n",
    "    df['minute'] = df['created_at'].dt.minute\n",
    "    df['day_of_week'] = df['created_at'].dt.weekday\n",
    "    \n",
    "    if mine_user_twitter:\n",
    "    \n",
    "        df = df[['mined_at', 'screen_name', 'tweet_id', 'tweet_id_str', 'created_at', 'year', 'month', 'day','day_of_week', \n",
    "             'hour', 'minute', 'retweet_count', 'favorite_count', 'source', 'language', 'user_favourites_count', \n",
    "             'followers_count','friends_count','text']]\n",
    "    else:\n",
    "        df = df[['mined_at', 'tweet_id', 'tweet_id_str', 'in_reply_to_screen_name','in_reply_to_status_id',\n",
    "                 'in_reply_to_user_id', 'hashtags','source','language', 'created_at', 'year', 'month', 'day','day_of_week', \n",
    "                 'hour', 'minute','screen_name','user_tweet_id','user_tweet_id_str','user_favourites_count','followers_count',\n",
    "                 'friends_count', 'text']]\n",
    "        \n",
    "    df.sort_values(by='created_at',inplace = True)\n",
    "    df.reset_index(drop = True, inplace = True)\n",
    "    \n",
    "    \n",
    "    df.to_csv(\"../data/tweets/\"+file_name+\"_\"+TodaysDate+\".csv\", index = False)\n",
    "    \n",
    "    return df\n",
    "    \n",
    "    "
   ]
  },
  {
   "cell_type": "markdown",
   "metadata": {},
   "source": [
    "# Retrieving twitter data\n",
    "\n",
    "The goal of this project is to check the sentiment of users towards the main providers of online grocery shopping, i.e., Jumbo Supermarkten, AH, and Picnic.\n",
    "\n",
    "Everything changed since the first case of corona virus in The Netherlands (February 27th) and the way of shopping groceries suffered important change with a jump in number of users that opted for online grocery shopping. Supermarkts were not ready for such a explosion of demand, some adapted faster than others. Specially, `Picnic` that has the sole focus on online shopping.\n",
    "\n",
    "I have my own experiences but I want to via tweets messages over these 3 providers of online grocery shopping get the sentiment of the users in this 'special' moments faced by both consumers and providers.\n",
    "\n",
    "The idea is to get twitters covering the period from the 1st case until today both for info retrieved by user (`GetUserTimeline`) and by query (`GetSearch`).\n",
    "\n",
    "Although, it is not possible to have control over the period covered by the search, we will play with parameters and go as far as possible.\n",
    "\n",
    "## Getting twitter by user\n",
    "\n",
    "To start we will obtain tweets for `picnic`, `JumboSupermarkt`, and `albertheijn` which are the tweet screen name of the 3 providers of online grocery shopping.\n"
   ]
  },
  {
   "cell_type": "markdown",
   "metadata": {},
   "source": [
    "### Picnic"
   ]
  },
  {
   "cell_type": "code",
   "execution_count": 23,
   "metadata": {},
   "outputs": [],
   "source": [
    "# Result limit == count parameter from our GetUserTimeline() it can take max 200\n",
    "# More pages more back in time you can go\n",
    "miner = TweetMiner(api, result_limit=20, max_pages = 100)\n",
    "picnic = miner.mine_user_tweets(user=\"picnic\")\n",
    "df_picnic = processing_and_saving(pd.DataFrame(picnic), \"picnic\")"
   ]
  },
  {
   "cell_type": "code",
   "execution_count": 38,
   "metadata": {},
   "outputs": [
    {
     "data": {
      "text/html": [
       "<div>\n",
       "<style scoped>\n",
       "    .dataframe tbody tr th:only-of-type {\n",
       "        vertical-align: middle;\n",
       "    }\n",
       "\n",
       "    .dataframe tbody tr th {\n",
       "        vertical-align: top;\n",
       "    }\n",
       "\n",
       "    .dataframe thead th {\n",
       "        text-align: right;\n",
       "    }\n",
       "</style>\n",
       "<table border=\"1\" class=\"dataframe\">\n",
       "  <thead>\n",
       "    <tr style=\"text-align: right;\">\n",
       "      <th></th>\n",
       "      <th>mined_at</th>\n",
       "      <th>screen_name</th>\n",
       "      <th>tweet_id</th>\n",
       "      <th>tweet_id_str</th>\n",
       "      <th>created_at</th>\n",
       "      <th>year</th>\n",
       "      <th>month</th>\n",
       "      <th>day</th>\n",
       "      <th>day_of_week</th>\n",
       "      <th>hour</th>\n",
       "      <th>minute</th>\n",
       "      <th>retweet_count</th>\n",
       "      <th>favorite_count</th>\n",
       "      <th>source</th>\n",
       "      <th>language</th>\n",
       "      <th>user_favourites_count</th>\n",
       "      <th>followers_count</th>\n",
       "      <th>friends_count</th>\n",
       "      <th>text</th>\n",
       "    </tr>\n",
       "  </thead>\n",
       "  <tbody>\n",
       "    <tr>\n",
       "      <th>1990</th>\n",
       "      <td>2020-06-21 00:29:23.693529</td>\n",
       "      <td>picnic</td>\n",
       "      <td>1273662862096060417</td>\n",
       "      <td>1273662862096060417</td>\n",
       "      <td>2020-06-18 17:04:24+00:00</td>\n",
       "      <td>2020</td>\n",
       "      <td>6</td>\n",
       "      <td>18</td>\n",
       "      <td>3</td>\n",
       "      <td>17</td>\n",
       "      <td>4</td>\n",
       "      <td>0</td>\n",
       "      <td>NaN</td>\n",
       "      <td>&lt;a href=\"http://www.zendesk.com\" rel=\"nofollow...</td>\n",
       "      <td>nl</td>\n",
       "      <td>3881</td>\n",
       "      <td>4844</td>\n",
       "      <td>5</td>\n",
       "      <td>@rolandweyers Ah, dat is inderdaad een dode mu...</td>\n",
       "    </tr>\n",
       "    <tr>\n",
       "      <th>1991</th>\n",
       "      <td>2020-06-21 00:29:23.693529</td>\n",
       "      <td>picnic</td>\n",
       "      <td>1273918233834393602</td>\n",
       "      <td>1273918233834393602</td>\n",
       "      <td>2020-06-19 09:59:09+00:00</td>\n",
       "      <td>2020</td>\n",
       "      <td>6</td>\n",
       "      <td>19</td>\n",
       "      <td>4</td>\n",
       "      <td>9</td>\n",
       "      <td>59</td>\n",
       "      <td>0</td>\n",
       "      <td>NaN</td>\n",
       "      <td>&lt;a href=\"https://mobile.twitter.com\" rel=\"nofo...</td>\n",
       "      <td>nl</td>\n",
       "      <td>3881</td>\n",
       "      <td>4844</td>\n",
       "      <td>5</td>\n",
       "      <td>@MiriamVermeulen Wat fijn dat je al 100 plekke...</td>\n",
       "    </tr>\n",
       "    <tr>\n",
       "      <th>1992</th>\n",
       "      <td>2020-06-21 00:29:23.693529</td>\n",
       "      <td>picnic</td>\n",
       "      <td>1273920800064757760</td>\n",
       "      <td>1273920800064757760</td>\n",
       "      <td>2020-06-19 10:09:21+00:00</td>\n",
       "      <td>2020</td>\n",
       "      <td>6</td>\n",
       "      <td>19</td>\n",
       "      <td>4</td>\n",
       "      <td>10</td>\n",
       "      <td>9</td>\n",
       "      <td>0</td>\n",
       "      <td>NaN</td>\n",
       "      <td>&lt;a href=\"https://mobile.twitter.com\" rel=\"nofo...</td>\n",
       "      <td>nl</td>\n",
       "      <td>3881</td>\n",
       "      <td>4844</td>\n",
       "      <td>5</td>\n",
       "      <td>@MrsVlamingo De Presto maaltijden variëren af ...</td>\n",
       "    </tr>\n",
       "    <tr>\n",
       "      <th>1993</th>\n",
       "      <td>2020-06-21 00:29:23.693529</td>\n",
       "      <td>picnic</td>\n",
       "      <td>1274275880756482049</td>\n",
       "      <td>1274275880756482049</td>\n",
       "      <td>2020-06-20 09:40:19+00:00</td>\n",
       "      <td>2020</td>\n",
       "      <td>6</td>\n",
       "      <td>20</td>\n",
       "      <td>5</td>\n",
       "      <td>9</td>\n",
       "      <td>40</td>\n",
       "      <td>0</td>\n",
       "      <td>NaN</td>\n",
       "      <td>&lt;a href=\"http://www.zendesk.com\" rel=\"nofollow...</td>\n",
       "      <td>nl</td>\n",
       "      <td>3881</td>\n",
       "      <td>4844</td>\n",
       "      <td>5</td>\n",
       "      <td>@Mr_Widewood Goedemorgen! Goed dat je dit even...</td>\n",
       "    </tr>\n",
       "    <tr>\n",
       "      <th>1994</th>\n",
       "      <td>2020-06-21 00:29:23.693529</td>\n",
       "      <td>picnic</td>\n",
       "      <td>1274431035896467466</td>\n",
       "      <td>1274431035896467466</td>\n",
       "      <td>2020-06-20 19:56:51+00:00</td>\n",
       "      <td>2020</td>\n",
       "      <td>6</td>\n",
       "      <td>20</td>\n",
       "      <td>5</td>\n",
       "      <td>19</td>\n",
       "      <td>56</td>\n",
       "      <td>0</td>\n",
       "      <td>NaN</td>\n",
       "      <td>&lt;a href=\"https://mobile.twitter.com\" rel=\"nofo...</td>\n",
       "      <td>es</td>\n",
       "      <td>3881</td>\n",
       "      <td>4844</td>\n",
       "      <td>5</td>\n",
       "      <td>@dbenshachar ^Lino https://t.co/XK06YZyXVh</td>\n",
       "    </tr>\n",
       "  </tbody>\n",
       "</table>\n",
       "</div>"
      ],
      "text/plain": [
       "                       mined_at screen_name             tweet_id  \\\n",
       "1990 2020-06-21 00:29:23.693529      picnic  1273662862096060417   \n",
       "1991 2020-06-21 00:29:23.693529      picnic  1273918233834393602   \n",
       "1992 2020-06-21 00:29:23.693529      picnic  1273920800064757760   \n",
       "1993 2020-06-21 00:29:23.693529      picnic  1274275880756482049   \n",
       "1994 2020-06-21 00:29:23.693529      picnic  1274431035896467466   \n",
       "\n",
       "             tweet_id_str                created_at  year  month  day  \\\n",
       "1990  1273662862096060417 2020-06-18 17:04:24+00:00  2020      6   18   \n",
       "1991  1273918233834393602 2020-06-19 09:59:09+00:00  2020      6   19   \n",
       "1992  1273920800064757760 2020-06-19 10:09:21+00:00  2020      6   19   \n",
       "1993  1274275880756482049 2020-06-20 09:40:19+00:00  2020      6   20   \n",
       "1994  1274431035896467466 2020-06-20 19:56:51+00:00  2020      6   20   \n",
       "\n",
       "      day_of_week  hour  minute  retweet_count  favorite_count  \\\n",
       "1990            3    17       4              0             NaN   \n",
       "1991            4     9      59              0             NaN   \n",
       "1992            4    10       9              0             NaN   \n",
       "1993            5     9      40              0             NaN   \n",
       "1994            5    19      56              0             NaN   \n",
       "\n",
       "                                                 source language  \\\n",
       "1990  <a href=\"http://www.zendesk.com\" rel=\"nofollow...       nl   \n",
       "1991  <a href=\"https://mobile.twitter.com\" rel=\"nofo...       nl   \n",
       "1992  <a href=\"https://mobile.twitter.com\" rel=\"nofo...       nl   \n",
       "1993  <a href=\"http://www.zendesk.com\" rel=\"nofollow...       nl   \n",
       "1994  <a href=\"https://mobile.twitter.com\" rel=\"nofo...       es   \n",
       "\n",
       "      user_favourites_count  followers_count  friends_count  \\\n",
       "1990                   3881             4844              5   \n",
       "1991                   3881             4844              5   \n",
       "1992                   3881             4844              5   \n",
       "1993                   3881             4844              5   \n",
       "1994                   3881             4844              5   \n",
       "\n",
       "                                                   text  \n",
       "1990  @rolandweyers Ah, dat is inderdaad een dode mu...  \n",
       "1991  @MiriamVermeulen Wat fijn dat je al 100 plekke...  \n",
       "1992  @MrsVlamingo De Presto maaltijden variëren af ...  \n",
       "1993  @Mr_Widewood Goedemorgen! Goed dat je dit even...  \n",
       "1994         @dbenshachar ^Lino https://t.co/XK06YZyXVh  "
      ]
     },
     "execution_count": 38,
     "metadata": {},
     "output_type": "execute_result"
    }
   ],
   "source": [
    "df_picnic.tail()"
   ]
  },
  {
   "cell_type": "code",
   "execution_count": 24,
   "metadata": {
    "scrolled": false
   },
   "outputs": [
    {
     "name": "stdout",
     "output_type": "stream",
     "text": [
      "<class 'pandas.core.frame.DataFrame'>\n",
      "RangeIndex: 1995 entries, 0 to 1994\n",
      "Data columns (total 19 columns):\n",
      " #   Column                 Non-Null Count  Dtype              \n",
      "---  ------                 --------------  -----              \n",
      " 0   mined_at               1995 non-null   datetime64[ns]     \n",
      " 1   screen_name            1995 non-null   object             \n",
      " 2   tweet_id               1995 non-null   int64              \n",
      " 3   tweet_id_str           1995 non-null   object             \n",
      " 4   created_at             1995 non-null   datetime64[ns, UTC]\n",
      " 5   year                   1995 non-null   int64              \n",
      " 6   month                  1995 non-null   int64              \n",
      " 7   day                    1995 non-null   int64              \n",
      " 8   day_of_week            1995 non-null   int64              \n",
      " 9   hour                   1995 non-null   int64              \n",
      " 10  minute                 1995 non-null   int64              \n",
      " 11  retweet_count          1995 non-null   int64              \n",
      " 12  favorite_count         28 non-null     float64            \n",
      " 13  source                 1995 non-null   object             \n",
      " 14  language               1995 non-null   object             \n",
      " 15  user_favourites_count  1995 non-null   int64              \n",
      " 16  followers_count        1995 non-null   int64              \n",
      " 17  friends_count          1995 non-null   int64              \n",
      " 18  text                   1995 non-null   object             \n",
      "dtypes: datetime64[ns, UTC](1), datetime64[ns](1), float64(1), int64(11), object(5)\n",
      "memory usage: 296.3+ KB\n"
     ]
    }
   ],
   "source": [
    "df_picnic.info()"
   ]
  },
  {
   "cell_type": "code",
   "execution_count": 25,
   "metadata": {},
   "outputs": [
    {
     "data": {
      "text/plain": [
       "(Timestamp('2019-07-13 18:42:42+0000', tz='UTC'),\n",
       " Timestamp('2020-06-20 19:56:51+0000', tz='UTC'))"
      ]
     },
     "execution_count": 25,
     "metadata": {},
     "output_type": "execute_result"
    }
   ],
   "source": [
    "min(df_picnic.created_at),max(df_picnic.created_at)"
   ]
  },
  {
   "cell_type": "markdown",
   "metadata": {},
   "source": [
    "For `Picnic` we went far enough. We got data back to July 2019!"
   ]
  },
  {
   "cell_type": "code",
   "execution_count": 54,
   "metadata": {
    "scrolled": true
   },
   "outputs": [
    {
     "name": "stdout",
     "output_type": "stream",
     "text": [
      "Picnic's followers 4844\n",
      "Picnic's friends 5\n"
     ]
    }
   ],
   "source": [
    "print(\"Picnic's followers\", df_picnic.loc[df_picnic.shape[0]-1,'followers_count'])\n",
    "print(\"Picnic's friends\", df_picnic.loc[df_picnic.shape[0]-1,'friends_count'])"
   ]
  },
  {
   "cell_type": "code",
   "execution_count": 62,
   "metadata": {},
   "outputs": [
    {
     "data": {
      "text/plain": [
       "nl     1780\n",
       "und     145\n",
       "en       53\n",
       "es        5\n",
       "de        3\n",
       "in        2\n",
       "fr        2\n",
       "it        1\n",
       "ht        1\n",
       "cy        1\n",
       "sv        1\n",
       "fi        1\n",
       "Name: language, dtype: int64"
      ]
     },
     "execution_count": 62,
     "metadata": {},
     "output_type": "execute_result"
    }
   ],
   "source": [
    "df_picnic['language'].value_counts()"
   ]
  },
  {
   "cell_type": "markdown",
   "metadata": {},
   "source": [
    "### JumboSupermarkt"
   ]
  },
  {
   "cell_type": "code",
   "execution_count": 26,
   "metadata": {
    "scrolled": false
   },
   "outputs": [],
   "source": [
    "# Result limit == count parameter from our GetUserTimeline() it can take max 200\n",
    "# More pages more back in time you can go\n",
    "miner = TweetMiner(api, result_limit=20, max_pages = 200)\n",
    "JumboSupermarkt = miner.mine_user_tweets(user=\"JumboSupermarkt\")\n",
    "df_JumboSupermarkt = processing_and_saving(pd.DataFrame(JumboSupermarkt), \"JumboSupermarkt\")\n"
   ]
  },
  {
   "cell_type": "code",
   "execution_count": 27,
   "metadata": {},
   "outputs": [
    {
     "name": "stdout",
     "output_type": "stream",
     "text": [
      "<class 'pandas.core.frame.DataFrame'>\n",
      "RangeIndex: 3221 entries, 0 to 3220\n",
      "Data columns (total 19 columns):\n",
      " #   Column                 Non-Null Count  Dtype              \n",
      "---  ------                 --------------  -----              \n",
      " 0   mined_at               3221 non-null   datetime64[ns]     \n",
      " 1   screen_name            3221 non-null   object             \n",
      " 2   tweet_id               3221 non-null   int64              \n",
      " 3   tweet_id_str           3221 non-null   object             \n",
      " 4   created_at             3221 non-null   datetime64[ns, UTC]\n",
      " 5   year                   3221 non-null   int64              \n",
      " 6   month                  3221 non-null   int64              \n",
      " 7   day                    3221 non-null   int64              \n",
      " 8   day_of_week            3221 non-null   int64              \n",
      " 9   hour                   3221 non-null   int64              \n",
      " 10  minute                 3221 non-null   int64              \n",
      " 11  retweet_count          3221 non-null   int64              \n",
      " 12  favorite_count         13 non-null     float64            \n",
      " 13  source                 3221 non-null   object             \n",
      " 14  language               3221 non-null   object             \n",
      " 15  user_favourites_count  3221 non-null   int64              \n",
      " 16  followers_count        3221 non-null   int64              \n",
      " 17  friends_count          3221 non-null   int64              \n",
      " 18  text                   3221 non-null   object             \n",
      "dtypes: datetime64[ns, UTC](1), datetime64[ns](1), float64(1), int64(11), object(5)\n",
      "memory usage: 478.2+ KB\n"
     ]
    }
   ],
   "source": [
    "df_JumboSupermarkt.info()"
   ]
  },
  {
   "cell_type": "code",
   "execution_count": 28,
   "metadata": {},
   "outputs": [
    {
     "data": {
      "text/plain": [
       "(Timestamp('2020-03-06 19:12:05+0000', tz='UTC'),\n",
       " Timestamp('2020-06-20 19:51:11+0000', tz='UTC'))"
      ]
     },
     "execution_count": 28,
     "metadata": {},
     "output_type": "execute_result"
    }
   ],
   "source": [
    "min(df_JumboSupermarkt.created_at),max(df_JumboSupermarkt.created_at)"
   ]
  },
  {
   "cell_type": "code",
   "execution_count": 31,
   "metadata": {
    "scrolled": false
   },
   "outputs": [],
   "source": [
    "# Result limit == count parameter from our GetUserTimeline() it can take max 200\n",
    "# More pages more back in time you can go\n",
    "miner = TweetMiner(api, result_limit=25, max_pages = 250)\n",
    "JumboSupermarkt = miner.mine_user_tweets(user=\"JumboSupermarkt\")\n",
    "df_JumboSupermarkt = processing_and_saving(pd.DataFrame(JumboSupermarkt), \"JumboSupermarkt\")\n"
   ]
  },
  {
   "cell_type": "code",
   "execution_count": 32,
   "metadata": {},
   "outputs": [
    {
     "data": {
      "text/plain": [
       "(Timestamp('2020-03-06 19:12:05+0000', tz='UTC'),\n",
       " Timestamp('2020-06-20 19:51:11+0000', tz='UTC'))"
      ]
     },
     "execution_count": 32,
     "metadata": {},
     "output_type": "execute_result"
    }
   ],
   "source": [
    "min(df_JumboSupermarkt.created_at),max(df_JumboSupermarkt.created_at)"
   ]
  },
  {
   "cell_type": "markdown",
   "metadata": {},
   "source": [
    "Changing parameters does not seem to help here and we could only retrieve data from March 6th, 2020 until now for Jumbo."
   ]
  },
  {
   "cell_type": "code",
   "execution_count": 53,
   "metadata": {
    "scrolled": true
   },
   "outputs": [
    {
     "name": "stdout",
     "output_type": "stream",
     "text": [
      "Jumbo's followers 16211\n",
      "Jumbo's friends 1710\n"
     ]
    }
   ],
   "source": [
    "print(\"Jumbo's followers\", df_JumboSupermarkt.loc[df_JumboSupermarkt.shape[0]-1,'followers_count'])\n",
    "print(\"Jumbo's friends\", df_JumboSupermarkt.loc[df_JumboSupermarkt.shape[0]-1,'friends_count'])"
   ]
  },
  {
   "cell_type": "code",
   "execution_count": 56,
   "metadata": {},
   "outputs": [
    {
     "data": {
      "text/plain": [
       "nl     3121\n",
       "en       68\n",
       "und      25\n",
       "in        3\n",
       "de        2\n",
       "da        1\n",
       "tl        1\n",
       "Name: language, dtype: int64"
      ]
     },
     "execution_count": 56,
     "metadata": {},
     "output_type": "execute_result"
    }
   ],
   "source": [
    "df_JumboSupermarkt['language'].value_counts()"
   ]
  },
  {
   "cell_type": "markdown",
   "metadata": {},
   "source": [
    "### albertheijn"
   ]
  },
  {
   "cell_type": "code",
   "execution_count": 57,
   "metadata": {},
   "outputs": [],
   "source": [
    "# Result limit == count parameter from our GetUserTimeline() it can take max 200\n",
    "# More pages more back in time you can go\n",
    "miner = TweetMiner(api, result_limit=20, max_pages = 200)\n",
    "albertheijn = miner.mine_user_tweets(user=\"albertheijn\")\n",
    "df_albertheijn = processing_and_saving(pd.DataFrame(albertheijn), \"albertheijn\")\n"
   ]
  },
  {
   "cell_type": "code",
   "execution_count": 66,
   "metadata": {},
   "outputs": [
    {
     "name": "stdout",
     "output_type": "stream",
     "text": [
      "<class 'pandas.core.frame.DataFrame'>\n",
      "RangeIndex: 3204 entries, 0 to 3203\n",
      "Data columns (total 19 columns):\n",
      " #   Column                 Non-Null Count  Dtype              \n",
      "---  ------                 --------------  -----              \n",
      " 0   mined_at               3204 non-null   datetime64[ns]     \n",
      " 1   screen_name            3204 non-null   object             \n",
      " 2   tweet_id               3204 non-null   int64              \n",
      " 3   tweet_id_str           3204 non-null   object             \n",
      " 4   created_at             3204 non-null   datetime64[ns, UTC]\n",
      " 5   year                   3204 non-null   int64              \n",
      " 6   month                  3204 non-null   int64              \n",
      " 7   day                    3204 non-null   int64              \n",
      " 8   day_of_week            3204 non-null   int64              \n",
      " 9   hour                   3204 non-null   int64              \n",
      " 10  minute                 3204 non-null   int64              \n",
      " 11  retweet_count          3204 non-null   int64              \n",
      " 12  favorite_count         24 non-null     float64            \n",
      " 13  source                 3204 non-null   object             \n",
      " 14  language               3204 non-null   object             \n",
      " 15  user_favourites_count  3204 non-null   int64              \n",
      " 16  followers_count        3204 non-null   int64              \n",
      " 17  friends_count          3204 non-null   int64              \n",
      " 18  text                   3204 non-null   object             \n",
      "dtypes: datetime64[ns, UTC](1), datetime64[ns](1), float64(1), int64(11), object(5)\n",
      "memory usage: 475.7+ KB\n"
     ]
    }
   ],
   "source": [
    "df_albertheijn.info()"
   ]
  },
  {
   "cell_type": "code",
   "execution_count": 67,
   "metadata": {},
   "outputs": [
    {
     "data": {
      "text/plain": [
       "(Timestamp('2020-04-03 15:35:47+0000', tz='UTC'),\n",
       " Timestamp('2020-06-20 18:18:50+0000', tz='UTC'))"
      ]
     },
     "execution_count": 67,
     "metadata": {},
     "output_type": "execute_result"
    }
   ],
   "source": [
    "min(df_albertheijn.created_at),max(df_albertheijn.created_at)"
   ]
  },
  {
   "cell_type": "code",
   "execution_count": 68,
   "metadata": {},
   "outputs": [],
   "source": [
    "# Result limit == count parameter from our GetUserTimeline() it can take max 200\n",
    "# More pages more back in time you can go\n",
    "miner = TweetMiner(api, result_limit=20, max_pages = 300)\n",
    "albertheijn = miner.mine_user_tweets(user=\"albertheijn\")\n",
    "df_albertheijn = processing_and_saving(pd.DataFrame(albertheijn), \"albertheijn\")\n"
   ]
  },
  {
   "cell_type": "code",
   "execution_count": 69,
   "metadata": {},
   "outputs": [
    {
     "data": {
      "text/plain": [
       "(Timestamp('2020-04-03 15:35:47+0000', tz='UTC'),\n",
       " Timestamp('2020-06-20 18:18:50+0000', tz='UTC'))"
      ]
     },
     "execution_count": 69,
     "metadata": {},
     "output_type": "execute_result"
    }
   ],
   "source": [
    "min(df_albertheijn.created_at),max(df_albertheijn.created_at)"
   ]
  },
  {
   "cell_type": "markdown",
   "metadata": {},
   "source": [
    "Again the changing parameters didn't work. For `AH` we only succeeded in getting back to April 3th, 2020."
   ]
  },
  {
   "cell_type": "code",
   "execution_count": 70,
   "metadata": {
    "scrolled": true
   },
   "outputs": [
    {
     "name": "stdout",
     "output_type": "stream",
     "text": [
      "AH's followers 16211\n",
      "AH's friends 1710\n"
     ]
    }
   ],
   "source": [
    "print(\"AH's followers\", df_JumboSupermarkt.loc[df_albertheijn.shape[0]-1,'followers_count'])\n",
    "print(\"AH's friends\", df_JumboSupermarkt.loc[df_albertheijn.shape[0]-1,'friends_count'])"
   ]
  },
  {
   "cell_type": "code",
   "execution_count": 71,
   "metadata": {},
   "outputs": [
    {
     "data": {
      "text/plain": [
       "nl     3096\n",
       "en       74\n",
       "und       7\n",
       "et        5\n",
       "fr        5\n",
       "tr        4\n",
       "fi        3\n",
       "in        2\n",
       "da        2\n",
       "pl        1\n",
       "de        1\n",
       "is        1\n",
       "ht        1\n",
       "sv        1\n",
       "es        1\n",
       "Name: language, dtype: int64"
      ]
     },
     "execution_count": 71,
     "metadata": {},
     "output_type": "execute_result"
    }
   ],
   "source": [
    "df_albertheijn['language'].value_counts()"
   ]
  },
  {
   "cell_type": "markdown",
   "metadata": {},
   "source": [
    "## A little EDA"
   ]
  },
  {
   "cell_type": "code",
   "execution_count": 72,
   "metadata": {},
   "outputs": [
    {
     "data": {
      "text/html": [
       "<div>\n",
       "<style scoped>\n",
       "    .dataframe tbody tr th:only-of-type {\n",
       "        vertical-align: middle;\n",
       "    }\n",
       "\n",
       "    .dataframe tbody tr th {\n",
       "        vertical-align: top;\n",
       "    }\n",
       "\n",
       "    .dataframe thead th {\n",
       "        text-align: right;\n",
       "    }\n",
       "</style>\n",
       "<table border=\"1\" class=\"dataframe\">\n",
       "  <thead>\n",
       "    <tr style=\"text-align: right;\">\n",
       "      <th></th>\n",
       "      <th>mined_at</th>\n",
       "      <th>screen_name</th>\n",
       "      <th>tweet_id</th>\n",
       "      <th>tweet_id_str</th>\n",
       "      <th>created_at</th>\n",
       "      <th>year</th>\n",
       "      <th>month</th>\n",
       "      <th>day</th>\n",
       "      <th>day_of_week</th>\n",
       "      <th>hour</th>\n",
       "      <th>minute</th>\n",
       "      <th>retweet_count</th>\n",
       "      <th>favorite_count</th>\n",
       "      <th>source</th>\n",
       "      <th>language</th>\n",
       "      <th>user_favourites_count</th>\n",
       "      <th>followers_count</th>\n",
       "      <th>friends_count</th>\n",
       "      <th>text</th>\n",
       "    </tr>\n",
       "  </thead>\n",
       "  <tbody>\n",
       "    <tr>\n",
       "      <th>0</th>\n",
       "      <td>2020-06-21 00:29:45.875729</td>\n",
       "      <td>picnic</td>\n",
       "      <td>1150113338153742337</td>\n",
       "      <td>1150113338153742337</td>\n",
       "      <td>2019-07-13 18:42:42+00:00</td>\n",
       "      <td>2019</td>\n",
       "      <td>7</td>\n",
       "      <td>13</td>\n",
       "      <td>5</td>\n",
       "      <td>18</td>\n",
       "      <td>42</td>\n",
       "      <td>0</td>\n",
       "      <td>NaN</td>\n",
       "      <td>&lt;a href=\"http://twitter.com\" rel=\"nofollow\"&gt;Tw...</td>\n",
       "      <td>nl</td>\n",
       "      <td>3881</td>\n",
       "      <td>4844</td>\n",
       "      <td>5</td>\n",
       "      <td>@mgrhendriks1984 Hier, Martijn! https://t.co/J...</td>\n",
       "    </tr>\n",
       "    <tr>\n",
       "      <th>1</th>\n",
       "      <td>2020-06-21 00:29:45.875729</td>\n",
       "      <td>picnic</td>\n",
       "      <td>1150125973951700992</td>\n",
       "      <td>1150125973951700992</td>\n",
       "      <td>2019-07-13 19:32:55+00:00</td>\n",
       "      <td>2019</td>\n",
       "      <td>7</td>\n",
       "      <td>13</td>\n",
       "      <td>5</td>\n",
       "      <td>19</td>\n",
       "      <td>32</td>\n",
       "      <td>0</td>\n",
       "      <td>NaN</td>\n",
       "      <td>&lt;a href=\"http://twitter.com\" rel=\"nofollow\"&gt;Tw...</td>\n",
       "      <td>en</td>\n",
       "      <td>3881</td>\n",
       "      <td>4844</td>\n",
       "      <td>5</td>\n",
       "      <td>@xarinatan Nice to hear this Alex! We are glad...</td>\n",
       "    </tr>\n",
       "    <tr>\n",
       "      <th>2</th>\n",
       "      <td>2020-06-21 00:29:45.875729</td>\n",
       "      <td>picnic</td>\n",
       "      <td>1150341671000956928</td>\n",
       "      <td>1150341671000956928</td>\n",
       "      <td>2019-07-14 09:50:01+00:00</td>\n",
       "      <td>2019</td>\n",
       "      <td>7</td>\n",
       "      <td>14</td>\n",
       "      <td>6</td>\n",
       "      <td>9</td>\n",
       "      <td>50</td>\n",
       "      <td>0</td>\n",
       "      <td>NaN</td>\n",
       "      <td>&lt;a href=\"http://twitter.com\" rel=\"nofollow\"&gt;Tw...</td>\n",
       "      <td>nl</td>\n",
       "      <td>3881</td>\n",
       "      <td>4844</td>\n",
       "      <td>5</td>\n",
       "      <td>@remkohartman Wat een gezelligheid zeg!🥰 Hopel...</td>\n",
       "    </tr>\n",
       "    <tr>\n",
       "      <th>3</th>\n",
       "      <td>2020-06-21 00:29:45.875729</td>\n",
       "      <td>picnic</td>\n",
       "      <td>1150346698012725248</td>\n",
       "      <td>1150346698012725248</td>\n",
       "      <td>2019-07-14 10:09:59+00:00</td>\n",
       "      <td>2019</td>\n",
       "      <td>7</td>\n",
       "      <td>14</td>\n",
       "      <td>6</td>\n",
       "      <td>10</td>\n",
       "      <td>9</td>\n",
       "      <td>0</td>\n",
       "      <td>NaN</td>\n",
       "      <td>&lt;a href=\"http://twitter.com\" rel=\"nofollow\"&gt;Tw...</td>\n",
       "      <td>und</td>\n",
       "      <td>3881</td>\n",
       "      <td>4844</td>\n",
       "      <td>5</td>\n",
       "      <td>@remkohartman https://t.co/2gqMsJJAHu</td>\n",
       "    </tr>\n",
       "    <tr>\n",
       "      <th>4</th>\n",
       "      <td>2020-06-21 00:29:45.875729</td>\n",
       "      <td>picnic</td>\n",
       "      <td>1150452684107014144</td>\n",
       "      <td>1150452684107014144</td>\n",
       "      <td>2019-07-14 17:11:08+00:00</td>\n",
       "      <td>2019</td>\n",
       "      <td>7</td>\n",
       "      <td>14</td>\n",
       "      <td>6</td>\n",
       "      <td>17</td>\n",
       "      <td>11</td>\n",
       "      <td>0</td>\n",
       "      <td>NaN</td>\n",
       "      <td>&lt;a href=\"http://twitter.com\" rel=\"nofollow\"&gt;Tw...</td>\n",
       "      <td>nl</td>\n",
       "      <td>3881</td>\n",
       "      <td>4844</td>\n",
       "      <td>5</td>\n",
       "      <td>@joost_akker Ah, dat is inderdaad wat vervelen...</td>\n",
       "    </tr>\n",
       "  </tbody>\n",
       "</table>\n",
       "</div>"
      ],
      "text/plain": [
       "                    mined_at screen_name             tweet_id  \\\n",
       "0 2020-06-21 00:29:45.875729      picnic  1150113338153742337   \n",
       "1 2020-06-21 00:29:45.875729      picnic  1150125973951700992   \n",
       "2 2020-06-21 00:29:45.875729      picnic  1150341671000956928   \n",
       "3 2020-06-21 00:29:45.875729      picnic  1150346698012725248   \n",
       "4 2020-06-21 00:29:45.875729      picnic  1150452684107014144   \n",
       "\n",
       "          tweet_id_str                created_at  year  month  day  \\\n",
       "0  1150113338153742337 2019-07-13 18:42:42+00:00  2019      7   13   \n",
       "1  1150125973951700992 2019-07-13 19:32:55+00:00  2019      7   13   \n",
       "2  1150341671000956928 2019-07-14 09:50:01+00:00  2019      7   14   \n",
       "3  1150346698012725248 2019-07-14 10:09:59+00:00  2019      7   14   \n",
       "4  1150452684107014144 2019-07-14 17:11:08+00:00  2019      7   14   \n",
       "\n",
       "   day_of_week  hour  minute  retweet_count  favorite_count  \\\n",
       "0            5    18      42              0             NaN   \n",
       "1            5    19      32              0             NaN   \n",
       "2            6     9      50              0             NaN   \n",
       "3            6    10       9              0             NaN   \n",
       "4            6    17      11              0             NaN   \n",
       "\n",
       "                                              source language  \\\n",
       "0  <a href=\"http://twitter.com\" rel=\"nofollow\">Tw...       nl   \n",
       "1  <a href=\"http://twitter.com\" rel=\"nofollow\">Tw...       en   \n",
       "2  <a href=\"http://twitter.com\" rel=\"nofollow\">Tw...       nl   \n",
       "3  <a href=\"http://twitter.com\" rel=\"nofollow\">Tw...      und   \n",
       "4  <a href=\"http://twitter.com\" rel=\"nofollow\">Tw...       nl   \n",
       "\n",
       "   user_favourites_count  followers_count  friends_count  \\\n",
       "0                   3881             4844              5   \n",
       "1                   3881             4844              5   \n",
       "2                   3881             4844              5   \n",
       "3                   3881             4844              5   \n",
       "4                   3881             4844              5   \n",
       "\n",
       "                                                text  \n",
       "0  @mgrhendriks1984 Hier, Martijn! https://t.co/J...  \n",
       "1  @xarinatan Nice to hear this Alex! We are glad...  \n",
       "2  @remkohartman Wat een gezelligheid zeg!🥰 Hopel...  \n",
       "3              @remkohartman https://t.co/2gqMsJJAHu  \n",
       "4  @joost_akker Ah, dat is inderdaad wat vervelen...  "
      ]
     },
     "execution_count": 72,
     "metadata": {},
     "output_type": "execute_result"
    }
   ],
   "source": [
    "# concatenate all dataframes\n",
    "\n",
    "df_tweet_conc = pd.concat([df_picnic,df_JumboSupermarkt, df_albertheijn])\n",
    "df_tweet_conc.head()"
   ]
  },
  {
   "cell_type": "code",
   "execution_count": 74,
   "metadata": {},
   "outputs": [
    {
     "data": {
      "text/plain": [
       "True"
      ]
     },
     "execution_count": 74,
     "metadata": {},
     "output_type": "execute_result"
    }
   ],
   "source": [
    "df_tweet_conc.shape[0] == df_picnic.shape[0]+df_JumboSupermarkt.shape[0]+df_albertheijn.shape[0]"
   ]
  },
  {
   "cell_type": "markdown",
   "metadata": {},
   "source": [
    "### Number of followers and friends "
   ]
  },
  {
   "cell_type": "code",
   "execution_count": null,
   "metadata": {},
   "outputs": [],
   "source": []
  },
  {
   "cell_type": "markdown",
   "metadata": {},
   "source": [
    "### Languages of messages"
   ]
  },
  {
   "cell_type": "code",
   "execution_count": null,
   "metadata": {},
   "outputs": [],
   "source": []
  },
  {
   "cell_type": "markdown",
   "metadata": {},
   "source": [
    "# Applying GetSearch to search for a defined query\n",
    "\n",
    "As seem previously in this notebook making a search in Twitter using `@picnic @JumboSupermarkt @albertheijn covid-19` results in `q=%40picnic%20%40JumboSupermarkt%20%40albertheijn%20covid-19&src=typed_query`."
   ]
  },
  {
   "cell_type": "code",
   "execution_count": 75,
   "metadata": {},
   "outputs": [],
   "source": [
    "raw_query = \"q=%40picnic%20%40JumboSupermarkt%20%40albertheijn%20covid-19&src=typed_query\"\n",
    "search_picnic_jumbo_ah_covid = TweetMiner.search_tweets(max_pages = 15, count = 20, raw_query = raw_query, result_type = 'mixed')"
   ]
  },
  {
   "cell_type": "code",
   "execution_count": 76,
   "metadata": {},
   "outputs": [
    {
     "data": {
      "text/plain": [
       "0"
      ]
     },
     "execution_count": 76,
     "metadata": {},
     "output_type": "execute_result"
    }
   ],
   "source": [
    "len(search_picnic_jumbo_ah_covid)"
   ]
  },
  {
   "cell_type": "code",
   "execution_count": 14,
   "metadata": {
    "scrolled": true
   },
   "outputs": [
    {
     "data": {
      "text/plain": [
       "{'mined_at': datetime.datetime(2020, 6, 20, 23, 28, 8, 65310),\n",
       " 'created_at': 'Sat Jun 20 20:26:50 +0000 2020',\n",
       " 'tweet_id': 1274438583731064835,\n",
       " 'tweet_id_str': '1274438583731064835',\n",
       " 'in_reply_to_screen_name': 'secomvc',\n",
       " 'in_reply_to_status_id': 1274416731453259779,\n",
       " 'in_reply_to_user_id': 1158389772920020993,\n",
       " 'language': 'pt',\n",
       " 'text': '@secomvc @jairbolsonaro @minsaude @funaioficial @DefesaGovBr @anvisa_oficial @MinEconomia É urgente q o Ministério da Saúde cumpra sua função de liderar a crise do Corona\\nEle tem q FALAR c/ a população, unir estados e municípios p/ q juntos evitem a disseminação\\nEsse 👇 é um triste exemplo de q as pessoas NÃO podem ficar doentes AO MESMO TEMPO\\n\\nhttps://t.co/TCaK16LAEB',\n",
       " 'hashtags': [],\n",
       " 'source': '<a href=\"http://twitter.com/#!/download/ipad\" rel=\"nofollow\">Twitter for iPad</a>',\n",
       " 'screen_name': 'SandraMTRibeir1',\n",
       " 'user_tweet_id': 1101575981356236803,\n",
       " 'user_tweet_id_str': '1101575981356236803',\n",
       " 'user_favourites_count': 1455,\n",
       " 'followers_count': 20,\n",
       " 'friends_count': 342}"
      ]
     },
     "execution_count": 14,
     "metadata": {},
     "output_type": "execute_result"
    }
   ],
   "source": [
    "search_bolsonaro_covid[0]"
   ]
  },
  {
   "cell_type": "code",
   "execution_count": 15,
   "metadata": {},
   "outputs": [],
   "source": [
    "df_search_bolsonaro_corona = processing_and_saving(pd.DataFrame(search_bolsonaro_covid),\"search_bolsonaro_corona\",mine_user_twitter=0)"
   ]
  },
  {
   "cell_type": "code",
   "execution_count": 16,
   "metadata": {},
   "outputs": [
    {
     "data": {
      "text/html": [
       "<div>\n",
       "<style scoped>\n",
       "    .dataframe tbody tr th:only-of-type {\n",
       "        vertical-align: middle;\n",
       "    }\n",
       "\n",
       "    .dataframe tbody tr th {\n",
       "        vertical-align: top;\n",
       "    }\n",
       "\n",
       "    .dataframe thead th {\n",
       "        text-align: right;\n",
       "    }\n",
       "</style>\n",
       "<table border=\"1\" class=\"dataframe\">\n",
       "  <thead>\n",
       "    <tr style=\"text-align: right;\">\n",
       "      <th></th>\n",
       "      <th>mined_at</th>\n",
       "      <th>tweet_id</th>\n",
       "      <th>tweet_id_str</th>\n",
       "      <th>in_reply_to_screen_name</th>\n",
       "      <th>in_reply_to_status_id</th>\n",
       "      <th>in_reply_to_user_id</th>\n",
       "      <th>hashtags</th>\n",
       "      <th>source</th>\n",
       "      <th>language</th>\n",
       "      <th>created_at</th>\n",
       "      <th>...</th>\n",
       "      <th>day_of_week</th>\n",
       "      <th>hour</th>\n",
       "      <th>minute</th>\n",
       "      <th>screen_name</th>\n",
       "      <th>user_tweet_id</th>\n",
       "      <th>user_tweet_id_str</th>\n",
       "      <th>user_favourites_count</th>\n",
       "      <th>followers_count</th>\n",
       "      <th>friends_count</th>\n",
       "      <th>text</th>\n",
       "    </tr>\n",
       "  </thead>\n",
       "  <tbody>\n",
       "    <tr>\n",
       "      <th>220</th>\n",
       "      <td>2020-06-20 23:28:08.696027</td>\n",
       "      <td>1274438583731064835</td>\n",
       "      <td>1274438583731064835</td>\n",
       "      <td>secomvc</td>\n",
       "      <td>1.274417e+18</td>\n",
       "      <td>1.158390e+18</td>\n",
       "      <td>[]</td>\n",
       "      <td>&lt;a href=\"http://twitter.com/#!/download/ipad\" ...</td>\n",
       "      <td>pt</td>\n",
       "      <td>2020-06-20 20:26:50+00:00</td>\n",
       "      <td>...</td>\n",
       "      <td>5</td>\n",
       "      <td>20</td>\n",
       "      <td>26</td>\n",
       "      <td>SandraMTRibeir1</td>\n",
       "      <td>1101575981356236803</td>\n",
       "      <td>1101575981356236803</td>\n",
       "      <td>1455</td>\n",
       "      <td>20</td>\n",
       "      <td>342</td>\n",
       "      <td>@secomvc @jairbolsonaro @minsaude @funaioficia...</td>\n",
       "    </tr>\n",
       "    <tr>\n",
       "      <th>221</th>\n",
       "      <td>2020-06-20 23:28:11.781770</td>\n",
       "      <td>1274438583731064835</td>\n",
       "      <td>1274438583731064835</td>\n",
       "      <td>secomvc</td>\n",
       "      <td>1.274417e+18</td>\n",
       "      <td>1.158390e+18</td>\n",
       "      <td>[]</td>\n",
       "      <td>&lt;a href=\"http://twitter.com/#!/download/ipad\" ...</td>\n",
       "      <td>pt</td>\n",
       "      <td>2020-06-20 20:26:50+00:00</td>\n",
       "      <td>...</td>\n",
       "      <td>5</td>\n",
       "      <td>20</td>\n",
       "      <td>26</td>\n",
       "      <td>SandraMTRibeir1</td>\n",
       "      <td>1101575981356236803</td>\n",
       "      <td>1101575981356236803</td>\n",
       "      <td>1455</td>\n",
       "      <td>20</td>\n",
       "      <td>342</td>\n",
       "      <td>@secomvc @jairbolsonaro @minsaude @funaioficia...</td>\n",
       "    </tr>\n",
       "    <tr>\n",
       "      <th>222</th>\n",
       "      <td>2020-06-20 23:28:09.875278</td>\n",
       "      <td>1274438583731064835</td>\n",
       "      <td>1274438583731064835</td>\n",
       "      <td>secomvc</td>\n",
       "      <td>1.274417e+18</td>\n",
       "      <td>1.158390e+18</td>\n",
       "      <td>[]</td>\n",
       "      <td>&lt;a href=\"http://twitter.com/#!/download/ipad\" ...</td>\n",
       "      <td>pt</td>\n",
       "      <td>2020-06-20 20:26:50+00:00</td>\n",
       "      <td>...</td>\n",
       "      <td>5</td>\n",
       "      <td>20</td>\n",
       "      <td>26</td>\n",
       "      <td>SandraMTRibeir1</td>\n",
       "      <td>1101575981356236803</td>\n",
       "      <td>1101575981356236803</td>\n",
       "      <td>1455</td>\n",
       "      <td>20</td>\n",
       "      <td>342</td>\n",
       "      <td>@secomvc @jairbolsonaro @minsaude @funaioficia...</td>\n",
       "    </tr>\n",
       "    <tr>\n",
       "      <th>223</th>\n",
       "      <td>2020-06-20 23:28:11.514203</td>\n",
       "      <td>1274438583731064835</td>\n",
       "      <td>1274438583731064835</td>\n",
       "      <td>secomvc</td>\n",
       "      <td>1.274417e+18</td>\n",
       "      <td>1.158390e+18</td>\n",
       "      <td>[]</td>\n",
       "      <td>&lt;a href=\"http://twitter.com/#!/download/ipad\" ...</td>\n",
       "      <td>pt</td>\n",
       "      <td>2020-06-20 20:26:50+00:00</td>\n",
       "      <td>...</td>\n",
       "      <td>5</td>\n",
       "      <td>20</td>\n",
       "      <td>26</td>\n",
       "      <td>SandraMTRibeir1</td>\n",
       "      <td>1101575981356236803</td>\n",
       "      <td>1101575981356236803</td>\n",
       "      <td>1455</td>\n",
       "      <td>20</td>\n",
       "      <td>342</td>\n",
       "      <td>@secomvc @jairbolsonaro @minsaude @funaioficia...</td>\n",
       "    </tr>\n",
       "    <tr>\n",
       "      <th>224</th>\n",
       "      <td>2020-06-20 23:28:08.065310</td>\n",
       "      <td>1274438583731064835</td>\n",
       "      <td>1274438583731064835</td>\n",
       "      <td>secomvc</td>\n",
       "      <td>1.274417e+18</td>\n",
       "      <td>1.158390e+18</td>\n",
       "      <td>[]</td>\n",
       "      <td>&lt;a href=\"http://twitter.com/#!/download/ipad\" ...</td>\n",
       "      <td>pt</td>\n",
       "      <td>2020-06-20 20:26:50+00:00</td>\n",
       "      <td>...</td>\n",
       "      <td>5</td>\n",
       "      <td>20</td>\n",
       "      <td>26</td>\n",
       "      <td>SandraMTRibeir1</td>\n",
       "      <td>1101575981356236803</td>\n",
       "      <td>1101575981356236803</td>\n",
       "      <td>1455</td>\n",
       "      <td>20</td>\n",
       "      <td>342</td>\n",
       "      <td>@secomvc @jairbolsonaro @minsaude @funaioficia...</td>\n",
       "    </tr>\n",
       "  </tbody>\n",
       "</table>\n",
       "<p>5 rows × 23 columns</p>\n",
       "</div>"
      ],
      "text/plain": [
       "                      mined_at             tweet_id         tweet_id_str  \\\n",
       "220 2020-06-20 23:28:08.696027  1274438583731064835  1274438583731064835   \n",
       "221 2020-06-20 23:28:11.781770  1274438583731064835  1274438583731064835   \n",
       "222 2020-06-20 23:28:09.875278  1274438583731064835  1274438583731064835   \n",
       "223 2020-06-20 23:28:11.514203  1274438583731064835  1274438583731064835   \n",
       "224 2020-06-20 23:28:08.065310  1274438583731064835  1274438583731064835   \n",
       "\n",
       "    in_reply_to_screen_name  in_reply_to_status_id  in_reply_to_user_id  \\\n",
       "220                 secomvc           1.274417e+18         1.158390e+18   \n",
       "221                 secomvc           1.274417e+18         1.158390e+18   \n",
       "222                 secomvc           1.274417e+18         1.158390e+18   \n",
       "223                 secomvc           1.274417e+18         1.158390e+18   \n",
       "224                 secomvc           1.274417e+18         1.158390e+18   \n",
       "\n",
       "    hashtags                                             source language  \\\n",
       "220       []  <a href=\"http://twitter.com/#!/download/ipad\" ...       pt   \n",
       "221       []  <a href=\"http://twitter.com/#!/download/ipad\" ...       pt   \n",
       "222       []  <a href=\"http://twitter.com/#!/download/ipad\" ...       pt   \n",
       "223       []  <a href=\"http://twitter.com/#!/download/ipad\" ...       pt   \n",
       "224       []  <a href=\"http://twitter.com/#!/download/ipad\" ...       pt   \n",
       "\n",
       "                   created_at  ...  day_of_week  hour  minute  \\\n",
       "220 2020-06-20 20:26:50+00:00  ...            5    20      26   \n",
       "221 2020-06-20 20:26:50+00:00  ...            5    20      26   \n",
       "222 2020-06-20 20:26:50+00:00  ...            5    20      26   \n",
       "223 2020-06-20 20:26:50+00:00  ...            5    20      26   \n",
       "224 2020-06-20 20:26:50+00:00  ...            5    20      26   \n",
       "\n",
       "         screen_name        user_tweet_id    user_tweet_id_str  \\\n",
       "220  SandraMTRibeir1  1101575981356236803  1101575981356236803   \n",
       "221  SandraMTRibeir1  1101575981356236803  1101575981356236803   \n",
       "222  SandraMTRibeir1  1101575981356236803  1101575981356236803   \n",
       "223  SandraMTRibeir1  1101575981356236803  1101575981356236803   \n",
       "224  SandraMTRibeir1  1101575981356236803  1101575981356236803   \n",
       "\n",
       "    user_favourites_count  followers_count friends_count  \\\n",
       "220                  1455               20           342   \n",
       "221                  1455               20           342   \n",
       "222                  1455               20           342   \n",
       "223                  1455               20           342   \n",
       "224                  1455               20           342   \n",
       "\n",
       "                                                  text  \n",
       "220  @secomvc @jairbolsonaro @minsaude @funaioficia...  \n",
       "221  @secomvc @jairbolsonaro @minsaude @funaioficia...  \n",
       "222  @secomvc @jairbolsonaro @minsaude @funaioficia...  \n",
       "223  @secomvc @jairbolsonaro @minsaude @funaioficia...  \n",
       "224  @secomvc @jairbolsonaro @minsaude @funaioficia...  \n",
       "\n",
       "[5 rows x 23 columns]"
      ]
     },
     "execution_count": 16,
     "metadata": {},
     "output_type": "execute_result"
    }
   ],
   "source": [
    "df_search_bolsonaro_corona.tail()"
   ]
  },
  {
   "cell_type": "code",
   "execution_count": 17,
   "metadata": {},
   "outputs": [
    {
     "name": "stdout",
     "output_type": "stream",
     "text": [
      "<class 'pandas.core.frame.DataFrame'>\n",
      "RangeIndex: 225 entries, 0 to 224\n",
      "Data columns (total 23 columns):\n",
      " #   Column                   Non-Null Count  Dtype              \n",
      "---  ------                   --------------  -----              \n",
      " 0   mined_at                 225 non-null    datetime64[ns]     \n",
      " 1   tweet_id                 225 non-null    int64              \n",
      " 2   tweet_id_str             225 non-null    object             \n",
      " 3   in_reply_to_screen_name  90 non-null     object             \n",
      " 4   in_reply_to_status_id    90 non-null     float64            \n",
      " 5   in_reply_to_user_id      90 non-null     float64            \n",
      " 6   hashtags                 225 non-null    object             \n",
      " 7   source                   225 non-null    object             \n",
      " 8   language                 225 non-null    object             \n",
      " 9   created_at               225 non-null    datetime64[ns, UTC]\n",
      " 10  year                     225 non-null    int64              \n",
      " 11  month                    225 non-null    int64              \n",
      " 12  day                      225 non-null    int64              \n",
      " 13  day_of_week              225 non-null    int64              \n",
      " 14  hour                     225 non-null    int64              \n",
      " 15  minute                   225 non-null    int64              \n",
      " 16  screen_name              225 non-null    object             \n",
      " 17  user_tweet_id            225 non-null    int64              \n",
      " 18  user_tweet_id_str        225 non-null    object             \n",
      " 19  user_favourites_count    225 non-null    int64              \n",
      " 20  followers_count          225 non-null    int64              \n",
      " 21  friends_count            225 non-null    int64              \n",
      " 22  text                     225 non-null    object             \n",
      "dtypes: datetime64[ns, UTC](1), datetime64[ns](1), float64(2), int64(11), object(8)\n",
      "memory usage: 40.6+ KB\n"
     ]
    }
   ],
   "source": [
    "df_search_bolsonaro_corona.info()"
   ]
  },
  {
   "cell_type": "code",
   "execution_count": null,
   "metadata": {},
   "outputs": [],
   "source": []
  },
  {
   "cell_type": "code",
   "execution_count": null,
   "metadata": {},
   "outputs": [],
   "source": []
  },
  {
   "cell_type": "markdown",
   "metadata": {},
   "source": [
    "REFS:\n",
    "\n",
    "> https://python-twitter.readthedocs.io/en/latest/index.html\n",
    "\n",
    "> https://developer.twitter.com/en/docs\n",
    "\n",
    "Info:\n",
    "\n",
    "1st corona case in The Netherlands: 27/02/2020\n",
    "\n",
    "1st corona case in Brazil: 26/02/2020\n"
   ]
  },
  {
   "cell_type": "markdown",
   "metadata": {},
   "source": [
    "**TODO**\n",
    "\n",
    "- Check functions to see if I have all I need.\n",
    "- Generalize as much as possible\n",
    "- Order infor per date (created_at?)\n",
    "- Should I have a function also for search?\n",
    "- Retrieve info for:\n",
    "    - jairbolsonaro\n",
    "    - picnic\n",
    "    - JumboSupermarkt\n",
    "    - albertheijn\n",
    "    - evanescence\n",
    "    - WTofficial\n",
    "    \n",
    "- Include in class `TweetMiner` a function to user `GetSearch`"
   ]
  },
  {
   "cell_type": "markdown",
   "metadata": {},
   "source": [
    "Using [`python-twitter`](https://python-twitter.readthedocs.io/en/latest/getting_started.html) since I've been facing some time out problems with [`Tweepy`](http://docs.tweepy.org/en/latest/getting_started.html)."
   ]
  },
  {
   "cell_type": "code",
   "execution_count": null,
   "metadata": {
    "scrolled": true
   },
   "outputs": [],
   "source": [
    "# !pip install python-twitter"
   ]
  },
  {
   "cell_type": "markdown",
   "metadata": {},
   "source": [
    "# Load packages"
   ]
  },
  {
   "cell_type": "markdown",
   "metadata": {},
   "source": [
    "# Setting up twitter authentication"
   ]
  },
  {
   "cell_type": "markdown",
   "metadata": {},
   "source": [
    "# Functions\n",
    "\n",
    "Function `mine_user_tweets` made use of [Get user_timeline](https://developer.twitter.com/en/docs/tweets/timelines/api-reference/get-statuses-user_timeline)\n"
   ]
  },
  {
   "cell_type": "code",
   "execution_count": null,
   "metadata": {
    "ExecuteTime": {
     "end_time": "2019-05-06T07:34:34.325020Z",
     "start_time": "2019-05-06T07:34:34.299182Z"
    }
   },
   "outputs": [],
   "source": [
    "import datetime\n",
    "#TweetMiner function from Mike Roman\n",
    "\n",
    "# some modification added by me - 15/04/19\n",
    "\n",
    "class TweetMiner(object):\n",
    "\n",
    "    \n",
    "    def __init__(self, api, result_limit = 20, max_pages = 40):\n",
    "        \"\"\"result_limit = count that can take max 200\"\"\"\n",
    "        \n",
    "        self.api = api        \n",
    "        self.result_limit = result_limit\n",
    "        self.max_pages = max_pages\n",
    "        \n",
    "\n",
    "    def mine_user_tweets(self, user, mine_retweets=False):\n",
    "        \"\"\" Mine tweets of user = screen_name or user_id\"\"\"\n",
    "\n",
    "        data           =  []\n",
    "        last_tweet_id  =  False\n",
    "        page           =  1\n",
    "        \n",
    "        while page <= self.max_pages:\n",
    "            \n",
    "            if last_tweet_id:\n",
    "                statuses   =   self.api.GetUserTimeline(screen_name=user, count=self.result_limit, max_id=last_tweet_id - 1, \n",
    "                                                        include_rts=mine_retweets)\n",
    "                statuses = [ _.AsDict() for _ in statuses]\n",
    "            else:\n",
    "                statuses   =   self.api.GetUserTimeline(screen_name=user, count=self.result_limit, include_rts=mine_retweets)\n",
    "                statuses = [_.AsDict() for _ in statuses]\n",
    "                \n",
    "            for item in statuses:\n",
    "                # Using try except here.\n",
    "                # When retweets = 0 we get an error (GetUserTimeline fails to create a key, 'retweet_count')\n",
    "                try:\n",
    "                    mined = {\n",
    "                        'tweet_id':        item['id'],\n",
    "                        'handle':          item['user']['screen_name'],\n",
    "                        'retweet_count':   item['retweet_count'],\n",
    "                        'text':            item['full_text'],\n",
    "                        'mined_at':        datetime.datetime.now(),\n",
    "                        'created_at':      item['created_at'],\n",
    "                        'favorite_count':  item['favorite_count'],\n",
    "                        'tweet_id_str':    item['id_str'],\n",
    "                        'source':          item['source'],\n",
    "                        \n",
    "                    }\n",
    "                    \n",
    "            \n",
    "                \n",
    "                except:\n",
    "                        mined = {\n",
    "                        'tweet_id':        item['id'],\n",
    "                        'handle':          item['user']['screen_name'],\n",
    "                        'retweet_count':   0,\n",
    "                        'text':            item['full_text'],\n",
    "                        'mined_at':        datetime.datetime.now(),\n",
    "                        'created_at':      item['created_at'],\n",
    "#                         'favorite_count':  item['favorite_count'],\n",
    "                        'tweet_id_str':    item['id_str'],\n",
    "                        'source':          item['source'],\n",
    "                    }\n",
    "                \n",
    "                last_tweet_id = item['id']\n",
    "                data.append(mined)\n",
    "                \n",
    "            page += 1\n",
    "            \n",
    "        return data"
   ]
  },
  {
   "cell_type": "code",
   "execution_count": null,
   "metadata": {
    "ExecuteTime": {
     "end_time": "2019-05-06T07:34:34.346271Z",
     "start_time": "2019-05-06T07:34:34.330962Z"
    }
   },
   "outputs": [],
   "source": [
    "def processing_and_saving(df, file_name):\n",
    "    \n",
    "    TodaysDate = time.strftime(\"%Y-%m-%d-%H-%M\")\n",
    "\n",
    "    \n",
    "    # Create columns 'year', 'month', 'day', 'hour', 'min' from 'created_at'\n",
    "    df['created_at'] = pd.to_datetime(df['created_at'])\n",
    "        \n",
    "    df['year'] = df['created_at'].dt.year \n",
    "    df['month'] = df['created_at'].dt.month \n",
    "    df['day'] = df['created_at'].dt.day \n",
    "    df['hour'] = df['created_at'].dt.hour \n",
    "    df['minute'] = df['created_at'].dt.minute\n",
    "    df['day_of_week'] = df['created_at'].dt.weekday\n",
    "    \n",
    "    df.sort_values(by='created_at',inplace = True)\n",
    "    \n",
    "    df = df[['mined_at', 'handle','tweet_id', 'tweet_id_str','created_at', \n",
    "             'year', 'month', 'day','day_of_week', 'hour', 'minute','retweet_count', 'source', 'text']]\n",
    "    \n",
    "    df.to_csv(\"./data_tweets/\"+file_name+\"_\"+TodaysDate+\".csv\", index = False)\n",
    "    \n",
    "    return df\n",
    "    \n",
    "    "
   ]
  },
  {
   "cell_type": "markdown",
   "metadata": {},
   "source": [
    "# Getting twitter by user"
   ]
  },
  {
   "cell_type": "markdown",
   "metadata": {},
   "source": [
    "## Instantiate the class\n",
    "---\n",
    "\n",
    "Make sure you pass the keys dictionary and the api as arguments.\n",
    "\n",
    "**Check:** call the object's `mine_user_tweets()` method, providing a user to pull the tweets of."
   ]
  },
  {
   "cell_type": "code",
   "execution_count": null,
   "metadata": {
    "ExecuteTime": {
     "end_time": "2019-05-06T07:34:35.015063Z",
     "start_time": "2019-05-06T07:34:35.009990Z"
    }
   },
   "outputs": [],
   "source": [
    "# Result limit == count parameter from our GetUserTimeline() it can take max 200\n",
    "# More pages more back in time you can go\n",
    "miner = TweetMiner(api, result_limit=20, max_pages = 200)"
   ]
  },
  {
   "cell_type": "code",
   "execution_count": null,
   "metadata": {
    "scrolled": false
   },
   "outputs": [],
   "source": [
    "jairbolsonaro = miner.mine_user_tweets(user=\"jairbolsonaro\")"
   ]
  },
  {
   "cell_type": "code",
   "execution_count": null,
   "metadata": {},
   "outputs": [],
   "source": [
    "for x in range(5):\n",
    "    print(jairbolsonaro[x]['text'])\n",
    "    print('--')"
   ]
  },
  {
   "cell_type": "markdown",
   "metadata": {},
   "source": [
    "## Convert the tweet ouputs to a pandas DataFrame\n",
    "### jairbolsonaro"
   ]
  },
  {
   "cell_type": "code",
   "execution_count": null,
   "metadata": {},
   "outputs": [],
   "source": [
    "jairbolsonaro"
   ]
  },
  {
   "cell_type": "code",
   "execution_count": null,
   "metadata": {},
   "outputs": [],
   "source": [
    "df_bolsonaro = processing_and_saving(pd.DataFrame(jairbolsonaro), 'jairbolsonaro')"
   ]
  },
  {
   "cell_type": "code",
   "execution_count": null,
   "metadata": {},
   "outputs": [],
   "source": [
    "df_bolsonaro.head()"
   ]
  },
  {
   "cell_type": "code",
   "execution_count": null,
   "metadata": {},
   "outputs": [],
   "source": [
    "df_bolsonaro.info()"
   ]
  },
  {
   "cell_type": "code",
   "execution_count": null,
   "metadata": {},
   "outputs": [],
   "source": [
    "min(df_bolsonaro.created_at),max(df_bolsonaro.created_at)"
   ]
  },
  {
   "cell_type": "code",
   "execution_count": null,
   "metadata": {},
   "outputs": [],
   "source": [
    "df_bolsonaro.sort_values(by='created_at')"
   ]
  },
  {
   "cell_type": "markdown",
   "metadata": {},
   "source": [
    "### picnic"
   ]
  },
  {
   "cell_type": "code",
   "execution_count": null,
   "metadata": {},
   "outputs": [],
   "source": [
    "# Result limit == count parameter from our GetUserTimeline() it can take max 200\n",
    "# More pages more back in time you can go\n",
    "miner = TweetMiner(api, result_limit=20, max_pages = 100)\n",
    "picnic = miner.mine_user_tweets(user=\"picnic\")\n",
    "df_picnic = processing_and_saving(pd.DataFrame(picnic), \"picnic\")\n"
   ]
  },
  {
   "cell_type": "code",
   "execution_count": null,
   "metadata": {},
   "outputs": [],
   "source": [
    "df_picnic.info()"
   ]
  },
  {
   "cell_type": "code",
   "execution_count": null,
   "metadata": {},
   "outputs": [],
   "source": [
    "min(df_picnic.created_at),max(df_picnic.created_at)"
   ]
  },
  {
   "cell_type": "markdown",
   "metadata": {},
   "source": [
    "### JumboSupermarkt"
   ]
  },
  {
   "cell_type": "code",
   "execution_count": null,
   "metadata": {
    "scrolled": false
   },
   "outputs": [],
   "source": [
    "# Result limit == count parameter from our GetUserTimeline() it can take max 200\n",
    "# More pages more back in time you can go\n",
    "miner = TweetMiner(api, result_limit=20, max_pages = 200)\n",
    "JumboSupermarkt = miner.mine_user_tweets(user=\"JumboSupermarkt\")\n",
    "df_JumboSupermarkt = processing_and_saving(pd.DataFrame(JumboSupermarkt), \"JumboSupermarkt\")\n"
   ]
  },
  {
   "cell_type": "code",
   "execution_count": null,
   "metadata": {},
   "outputs": [],
   "source": [
    "df_JumboSupermarkt.info()"
   ]
  },
  {
   "cell_type": "code",
   "execution_count": null,
   "metadata": {},
   "outputs": [],
   "source": [
    "min(df_JumboSupermarkt.created_at),max(df_JumboSupermarkt.created_at)"
   ]
  },
  {
   "cell_type": "markdown",
   "metadata": {},
   "source": [
    "### albertheijn"
   ]
  },
  {
   "cell_type": "code",
   "execution_count": null,
   "metadata": {},
   "outputs": [],
   "source": [
    "# Result limit == count parameter from our GetUserTimeline() it can take max 200\n",
    "# More pages more back in time you can go\n",
    "miner = TweetMiner(api, result_limit=20, max_pages = 300)\n",
    "albertheijn = miner.mine_user_tweets(user=\"albertheijn\")\n",
    "df_albertheijn = processing_and_saving(pd.DataFrame(albertheijn), \"albertheijn\")\n"
   ]
  },
  {
   "cell_type": "code",
   "execution_count": null,
   "metadata": {},
   "outputs": [],
   "source": [
    "df_albertheijn.info()"
   ]
  },
  {
   "cell_type": "code",
   "execution_count": null,
   "metadata": {},
   "outputs": [],
   "source": [
    "min(df_albertheijn.created_at),max(df_albertheijn.created_at)"
   ]
  },
  {
   "cell_type": "markdown",
   "metadata": {},
   "source": [
    "### evanescence"
   ]
  },
  {
   "cell_type": "code",
   "execution_count": null,
   "metadata": {},
   "outputs": [],
   "source": [
    "# Result limit == count parameter from our GetUserTimeline() it can take max 200\n",
    "# More pages more back in time you can go\n",
    "miner = TweetMiner(api, result_limit=20, max_pages = 300)\n",
    "evanescence = miner.mine_user_tweets(user=\"evanescence\")\n",
    "df_evanescence = processing_and_saving(pd.DataFrame(evanescence), \"evanescence\")\n"
   ]
  },
  {
   "cell_type": "code",
   "execution_count": null,
   "metadata": {},
   "outputs": [],
   "source": [
    "df_evanescence.info()"
   ]
  },
  {
   "cell_type": "code",
   "execution_count": null,
   "metadata": {
    "scrolled": true
   },
   "outputs": [],
   "source": [
    "min(df_evanescence.created_at),max(df_evanescence.created_at)"
   ]
  },
  {
   "cell_type": "code",
   "execution_count": null,
   "metadata": {},
   "outputs": [],
   "source": [
    "df_evanescence.tail()"
   ]
  },
  {
   "cell_type": "markdown",
   "metadata": {},
   "source": [
    "### Within Temptation - WTofficial"
   ]
  },
  {
   "cell_type": "code",
   "execution_count": null,
   "metadata": {},
   "outputs": [],
   "source": [
    "# Result limit == count parameter from our GetUserTimeline() it can take max 200\n",
    "# More pages more back in time you can go\n",
    "miner = TweetMiner(api, result_limit=20, max_pages = 300)\n",
    "WTofficial = miner.mine_user_tweets(user=\"WTofficial\")\n",
    "df_WTofficial = processing_and_saving(pd.DataFrame(WTofficial), \"WTofficial\")\n"
   ]
  },
  {
   "cell_type": "code",
   "execution_count": null,
   "metadata": {},
   "outputs": [],
   "source": [
    "df_WTofficial.info()"
   ]
  },
  {
   "cell_type": "code",
   "execution_count": null,
   "metadata": {},
   "outputs": [],
   "source": [
    "min(df_WTofficial.created_at),max(df_WTofficial.created_at)"
   ]
  },
  {
   "cell_type": "markdown",
   "metadata": {},
   "source": [
    "# Experimenting with GetSearch"
   ]
  },
  {
   "cell_type": "code",
   "execution_count": null,
   "metadata": {},
   "outputs": [],
   "source": [
    "def search_tweets(max_pages = 20, count = 20, raw_query = None, result_type = 'mixed'):\n",
    "        \"\"\" Search tweets \"\"\"\n",
    "\n",
    "        data           =  []\n",
    "        last_tweet_id  =  False\n",
    "        page           =  1\n",
    "        \n",
    "        while page <= max_pages:\n",
    "            \n",
    "            if last_tweet_id:\n",
    "                statuses = api.GetSearch(raw_query=raw_query, count = count, result_type=result_type, max_id=last_tweet_id - 1)\n",
    "                statuses = [ _.AsDict() for _ in statuses]\n",
    "            else:\n",
    "                statuses = api.GetSearch(raw_query=raw_query, count = count, result_type=result_type)\n",
    "                statuses = [_.AsDict() for _ in statuses]\n",
    "                \n",
    "            for item in statuses:\n",
    "                # Using try except here.\n",
    "                # When retweets = 0 we get an error (GetUserTimeline fails to create a key, 'retweet_count')\n",
    "                try:\n",
    "                    mined = {\n",
    "                        'tweet_id':        item['id'],\n",
    "                        'handle':          item['user']['screen_name'],\n",
    "                        'retweet_count':   item['retweet_count'],\n",
    "                        'text':            item['full_text'],\n",
    "                        'mined_at':        datetime.datetime.now(),\n",
    "                        'created_at':      item['created_at'],\n",
    "                        'favorite_count':  item['favorite_count'],\n",
    "                        'tweet_id_str':    item['id_str'],\n",
    "                        'source':          item['source'],\n",
    "                        \n",
    "                    }\n",
    "                    \n",
    "            \n",
    "                \n",
    "                except:\n",
    "                        mined = {\n",
    "                        'tweet_id':        item['id'],\n",
    "                        'handle':          item['user']['screen_name'],\n",
    "                        'retweet_count':   0,\n",
    "                        'text':            item['full_text'],\n",
    "                        'mined_at':        datetime.datetime.now(),\n",
    "                        'created_at':      item['created_at'],\n",
    "#                         'favorite_count':  item['favorite_count'],\n",
    "                        'tweet_id_str':    item['id_str'],\n",
    "                        'source':          item['source'],\n",
    "                    }\n",
    "                \n",
    "                last_tweet_id = item['id']\n",
    "                data.append(mined)\n",
    "                \n",
    "            page += 1\n",
    "            \n",
    "        return data"
   ]
  },
  {
   "cell_type": "code",
   "execution_count": null,
   "metadata": {},
   "outputs": [],
   "source": [
    "raw_query=\"q=jairbolsonaro%2C%20corona%2C%20covid&src=typed_query\"\n",
    "results = search_tweets(max_pages = 15, count = 20, raw_query = raw_query, result_type = 'mixed')"
   ]
  },
  {
   "cell_type": "code",
   "execution_count": null,
   "metadata": {},
   "outputs": [],
   "source": [
    "len(results)"
   ]
  },
  {
   "cell_type": "code",
   "execution_count": null,
   "metadata": {
    "scrolled": true
   },
   "outputs": [],
   "source": [
    "results[0]"
   ]
  },
  {
   "cell_type": "code",
   "execution_count": null,
   "metadata": {},
   "outputs": [],
   "source": [
    "df_search_bolsonaro_corona = processing_and_saving(pd.DataFrame(results),\"search_bolsonaro_corona\")"
   ]
  },
  {
   "cell_type": "code",
   "execution_count": null,
   "metadata": {},
   "outputs": [],
   "source": [
    "df_search_bolsonaro_corona.tail()"
   ]
  },
  {
   "cell_type": "code",
   "execution_count": null,
   "metadata": {},
   "outputs": [],
   "source": [
    "df_search_bolsonaro_corona.info()"
   ]
  },
  {
   "cell_type": "code",
   "execution_count": null,
   "metadata": {},
   "outputs": [],
   "source": [
    "results = api.GetSearch(raw_query=\"q=picnic\", count = 100, result_type='popular')"
   ]
  },
  {
   "cell_type": "code",
   "execution_count": null,
   "metadata": {},
   "outputs": [],
   "source": [
    "results"
   ]
  },
  {
   "cell_type": "code",
   "execution_count": null,
   "metadata": {},
   "outputs": [],
   "source": [
    "raw_query = \"q=picnic%20jumbo%20ah%20delivery&src=typed_query\"\n",
    "\n",
    "picnic_ah_jumbo_search = search_tweets(max_pages = 1, count = 5, raw_query = raw_query, result_type = 'mixed')\n",
    "picnic_ah_jumbo_search"
   ]
  },
  {
   "cell_type": "code",
   "execution_count": null,
   "metadata": {},
   "outputs": [],
   "source": [
    "df_picnic_ah_jumbo_search = processing_and_saving(pd.DataFrame(picnic_ah_jumbo_search),\"picnic_ah_jumbo_search\")"
   ]
  },
  {
   "cell_type": "code",
   "execution_count": null,
   "metadata": {},
   "outputs": [],
   "source": [
    "df_picnic_ah_jumbo_search"
   ]
  },
  {
   "cell_type": "code",
   "execution_count": null,
   "metadata": {},
   "outputs": [],
   "source": []
  }
 ],
 "metadata": {
  "hide_input": false,
  "kernelspec": {
   "display_name": "Python 3",
   "language": "python",
   "name": "python3"
  },
  "language_info": {
   "codemirror_mode": {
    "name": "ipython",
    "version": 3
   },
   "file_extension": ".py",
   "mimetype": "text/x-python",
   "name": "python",
   "nbconvert_exporter": "python",
   "pygments_lexer": "ipython3",
   "version": "3.6.7"
  },
  "toc": {
   "base_numbering": 1,
   "nav_menu": {},
   "number_sections": true,
   "sideBar": true,
   "skip_h1_title": false,
   "title_cell": "Table of Contents",
   "title_sidebar": "Contents",
   "toc_cell": false,
   "toc_position": {
    "height": "calc(100% - 180px)",
    "left": "10px",
    "top": "150px",
    "width": "307.2px"
   },
   "toc_section_display": true,
   "toc_window_display": true
  },
  "varInspector": {
   "cols": {
    "lenName": 16,
    "lenType": 16,
    "lenVar": 40
   },
   "kernels_config": {
    "python": {
     "delete_cmd_postfix": "",
     "delete_cmd_prefix": "del ",
     "library": "var_list.py",
     "varRefreshCmd": "print(var_dic_list())"
    },
    "r": {
     "delete_cmd_postfix": ") ",
     "delete_cmd_prefix": "rm(",
     "library": "var_list.r",
     "varRefreshCmd": "cat(var_dic_list()) "
    }
   },
   "types_to_exclude": [
    "module",
    "function",
    "builtin_function_or_method",
    "instance",
    "_Feature"
   ],
   "window_display": false
  }
 },
 "nbformat": 4,
 "nbformat_minor": 2
}
